{
    "metadata": {
        "kernelspec": {
            "name": "python3",
            "display_name": "Python 3",
            "language": "python"
        },
        "language_info": {
            "name": "python",
            "version": "3.6.6",
            "mimetype": "text/x-python",
            "codemirror_mode": {
                "name": "ipython",
                "version": 3
            },
            "pygments_lexer": "ipython3",
            "nbconvert_exporter": "python",
            "file_extension": ".py"
        }
    },
    "nbformat_minor": 2,
    "nbformat": 4,
    "cells": [
        {
            "cell_type": "markdown",
            "source": [
                "# Set up Log Analytics\n",
                "\n",
                "You will need to set up the Notebook to use the KqlMagic package to connect to LogAnalytics. I click on the Add Packages button top right and search and install or you can"
            ],
            "metadata": {
                "azdata_cell_guid": "584c0d19-947f-4f78-adae-33fc83de0426"
            },
            "attachments": {}
        },
        {
            "cell_type": "code",
            "source": [
                "import sys\r\n",
                "!{sys.executable} -m pip install Kqlmagic --no-cache-dir --upgrade"
            ],
            "metadata": {
                "azdata_cell_guid": "c86567a6-ab58-47a9-9cbf-adad29917b96"
            },
            "outputs": [],
            "execution_count": null
        },
        {
            "cell_type": "markdown",
            "source": [
                "and check it is installed"
            ],
            "metadata": {
                "azdata_cell_guid": "cbec740d-921f-4af2-b4e8-c3990b3d83bf"
            },
            "attachments": {}
        },
        {
            "cell_type": "code",
            "source": [
                "import sys\r\n",
                "!{sys.executable} -m pip list"
            ],
            "metadata": {
                "azdata_cell_guid": "d111ae3c-d39b-4e92-a8f1-b48c2d755c75"
            },
            "outputs": [],
            "execution_count": null
        },
        {
            "cell_type": "markdown",
            "source": [
                "Then set the extension to open the web browser"
            ],
            "metadata": {
                "azdata_cell_guid": "bed77d2b-d00d-4181-8a82-6ecb895bc474"
            },
            "attachments": {}
        },
        {
            "cell_type": "code",
            "source": [
                "%config Kqlmagic.popup_interaction='webbrowser_open_at_kernel'"
            ],
            "metadata": {
                "azdata_cell_guid": "d7c17d1e-9d1a-4e74-a314-9c7442414a9b"
            },
            "outputs": [],
            "execution_count": 1
        },
        {
            "cell_type": "markdown",
            "source": [
                "Then load the extension into the Notebook"
            ],
            "metadata": {
                "azdata_cell_guid": "6f26fd62-ba65-42ab-8dcc-a53345f7282e"
            },
            "attachments": {}
        },
        {
            "cell_type": "code",
            "source": [
                "%reload_ext Kqlmagic"
            ],
            "metadata": {
                "azdata_cell_guid": "83e64780-1c96-4113-8bdf-f40daa184f23"
            },
            "outputs": [
                {
                    "data": {
                        "text/plain": "<IPython.core.display.HTML object>",
                        "text/html": "<html>\n            <head>\n            <title>Kqlmagic - banner</title>\n            <style>\n            .kql-magic-banner {\n                display: flex; \n                background-color: #d9edf7;\n            }\n            .kql-magic-banner > div {\n                margin: 10px; \n                padding: 20px; \n                color: #3a87ad; \n                font-size: 13px;\n            }\n            </style>\n            </head>\n            <body>\n                <div class='kql-magic-banner'>\n                    <div><img src='data:image/png;base64,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'></div>\n                    <div>\n                        <p>Kql Query Language, aka kql, is the query language for advanced analytics on Azure Monitor resources. The current supported data sources are \n                        Azure Data Explorer (Kusto), Log Analytics and Application Insights. To get more information execute '%kql --help \"kql\"'</p>\n                        <p>   \n                          &bull; \n                kql reference: Click on 'Help' tab > and Select 'kql reference' or execute '%kql --help \"kql\"'<br>\n                          &bull; \n                Kqlmagic configuration: execute '%config Kqlmagic'<br>\n                          &bull; \n                Kqlmagic usage: execute '%kql --usage'<br>\n                          &bull; \n                To report bug/issue: execute '%kql --bug-report'<br>                \n                        </p> \n                    </div>\n                </div>\n            </body>\n            </html>"
                    },
                    "metadata": {},
                    "output_type": "display_data"
                },
                {
                    "data": {
                        "text/plain": "<IPython.core.display.HTML object>",
                        "text/html": "<html>\n        <head>\n            \n            \n        </head>\n        <body>\n            <div><p style=' padding: 10px; color: #3a87ad; background-color: #d9edf7; border-color: #bce9f1'>Kqlmagic&nbsp;package&nbsp;is&nbsp;updated&nbsp;frequently.&nbsp;Run&nbsp;&apos;!pip&nbsp;install&nbsp;Kqlmagic&nbsp;--no-cache-dir&nbsp;--upgrade&apos;&nbsp;to&nbsp;use&nbsp;the&nbsp;latest&nbsp;version.<br>Kqlmagic&nbsp;version:&nbsp;0.1.114.post2,&nbsp;source:&nbsp;https://github.com/Microsoft/jupyter-Kqlmagic</p></div>\n        </body>\n        </html>"
                    },
                    "metadata": {},
                    "output_type": "display_data"
                },
                {
                    "data": {
                        "text/plain": "<IPython.core.display.HTML object>",
                        "text/html": "<!DOCTYPE html>\n            <html><body>\n            <div style='padding: 10px; color: #3a87ad; background-color: #d9edf7; border-color: #bce9f1'>\n            Click&nbsp;to&nbsp;find&nbsp;out&nbsp;what's&nbsp;new&nbsp;in&nbsp;Kqlmagic&nbsp;&nbsp;<a href='http://127.0.0.1:62212/webbrowser?url=http%3A//127.0.0.1%3A62212/files/.kqlmagic/temp_files/d05d7af0-ca03-4915-867c-26fab673d159/popup_what_new_history.html%3Fkernelid%3Dd05d7af0-ca03-4915-867c-26fab673d159&kernelid=d05d7af0-ca03-4915-867c-26fab673d159' style='padding: 2px 6px 2px 6px; color: #333333; background-color: #EEEEEE; border-top: 1px solid #CCCCCC; border-right: 1px solid #333333; border-bottom: 1px solid #333333; border-left: 1px solid #CCCCCC' target='popup_what_new_history'>What's New? </a>\n            </div>\n            </body></html>"
                    },
                    "metadata": {},
                    "output_type": "display_data"
                }
            ],
            "execution_count": 1
        },
        {
            "cell_type": "markdown",
            "source": [
                "You can find help"
            ],
            "metadata": {
                "azdata_cell_guid": "e14cf1eb-9466-45d4-92ec-cde6eeb98078"
            },
            "attachments": {}
        },
        {
            "cell_type": "code",
            "source": [
                "%kql --help \"help\" -popup_window"
            ],
            "metadata": {
                "azdata_cell_guid": "cc114fe8-88ab-46e4-ac4e-c7b8a289fdbf"
            },
            "outputs": [],
            "execution_count": null
        },
        {
            "cell_type": "code",
            "source": [
                "%kql --help \"LogAnalytics\""
            ],
            "metadata": {
                "azdata_cell_guid": "c3cc8989-cd33-4de1-9411-0939d418bde2"
            },
            "outputs": [],
            "execution_count": null
        },
        {
            "cell_type": "markdown",
            "source": [
                "## Make a connection to Log Analytics\n",
                "\n",
                "You will need your\n",
                "\n",
                "- tenantid \n",
                "- clientid of the App with permissions \n",
                "- Client secret for above \n",
                "- Log Analytics WorkSpace ID\n",
                "- Alias for the  log Analytics\n",
                "\n",
                "or you can use\n",
                "\n",
                "`%kql loganalytics://tenant='<tenantid>';clientid='<clientid>';clientsecret='<clientsecret>';workspace='<workspaceid>';alias='<alias>'`\n",
                "\n",
                "or you can follow [Julie Koesmarno](https://twitter.com/MsSQLGirl) example from [here](https://github.com/MsSQLGirl/jubilant-data-wizards/blob/main/Simple%20Demo/Parameterization/SQLDBLog/AzureSQLLogsAndMetricsWithLogAnalytics.ipynb) and log in from the browser with \n",
                "\n",
                "`\n",
                "%kql loganalytics://code;workspace=workspaceID;alias=\"myMonLog\"  -try-azcli-login-by-profile`"
            ],
            "metadata": {
                "azdata_cell_guid": "b63c1c4d-60ec-407b-b1bc-c631bb6b8b10"
            },
            "attachments": {}
        },
        {
            "cell_type": "code",
            "source": [
                "# Initialize variables\r\n",
                "\r\n",
                "workspaceID = ''\r\n",
                "tenant = ''\r\n",
                "clientid = ''\r\n",
                "clientsecret = ''\r\n",
                "alias = ''"
            ],
            "metadata": {
                "azdata_cell_guid": "fa2129ac-4123-4b0e-9223-3b2c4a786a48"
            },
            "outputs": [],
            "execution_count": 2
        },
        {
            "cell_type": "code",
            "source": [
                "if (workspaceID == ''):\r\n",
                "    workspaceID = input(\"Enter Log Analytics Workspace ID (guid)\")\r\n",
                "    #print(workspaceID)\r\n",
                "    print(\"workspaceID is set\")\r\n",
                "if (tenant == ''):\r\n",
                "    tenant = input(\"Enter tenant\")\r\n",
                "    #print(tenant)\r\n",
                "    print(\"tenant is set\")\r\n",
                "if (clientid == ''):\r\n",
                "    clientid = input(\"Enter clientid (guid)\")\r\n",
                "    #print(clientid)\r\n",
                "    print(\"clientid is set\")\r\n",
                "if (clientsecret == ''):\r\n",
                "    clientsecret = input(\"Enter clientsecret \")\r\n",
                "    #print(clientsecret)\r\n",
                "    print(\"clientsecret is set\")\r\n",
                "if (alias == ''):\r\n",
                "    alias = input(\"Enter alias \")\r\n",
                "    #print(alias)\r\n",
                "    print(\"alias is set\")"
            ],
            "metadata": {
                "azdata_cell_guid": "74a6ca90-93fa-4183-9c75-35bcfb5413bf"
            },
            "outputs": [
                {
                    "name": "stdout",
                    "text": "workspaceID is set\n",
                    "output_type": "stream"
                },
                {
                    "name": "stdout",
                    "text": "tenant is set\n",
                    "output_type": "stream"
                },
                {
                    "name": "stdout",
                    "text": "clientid is set\n",
                    "output_type": "stream"
                },
                {
                    "name": "stdout",
                    "text": "clientsecret is set\n",
                    "output_type": "stream"
                }
            ],
            "execution_count": 3
        },
        {
            "cell_type": "code",
            "source": [
                "%kql loganalytics://tenant=tenant;clientid=clientid;clientsecret=clientsecret;workspace=workspaceID;alias=alias"
            ],
            "metadata": {
                "azdata_cell_guid": "d2b888bb-3d1e-45b3-bbd6-33d1a29da82b"
            },
            "outputs": [
                {
                    "data": {
                        "text/plain": "<IPython.core.display.HTML object>",
                        "text/html": "<!DOCTYPE html>\n            <html><body>\n            <div style=''>\n            <a href='http://127.0.0.1:62212/webbrowser?url=http%3A//127.0.0.1%3A62212/files/.kqlmagic/temp_files/d05d7af0-ca03-4915-867c-26fab673d159/popup__loggyben_at_loganalytics_schema.html%3Fkernelid%3Dd05d7af0-ca03-4915-867c-26fab673d159&kernelid=d05d7af0-ca03-4915-867c-26fab673d159' style='padding: 2px 6px 2px 6px; color: #333333; background-color: #EEEEEE; border-top: 1px solid #CCCCCC; border-right: 1px solid #333333; border-bottom: 1px solid #333333; border-left: 1px solid #CCCCCC' target='popup__loggyben_at_loganalytics_schema'>popup schema loggyben@loganalytics</a>\n            </div>\n            </body></html>"
                    },
                    "metadata": {},
                    "output_type": "display_data"
                }
            ],
            "execution_count": 4
        },
        {
            "cell_type": "markdown",
            "source": [
                "## Query the logs\r\n",
                "\r\n",
                "Now you can run Kusto Queries against the logs\r\n",
                "\r\n",
                "### Show me Failed Logins\r\n",
                "\r\n",
                ""
            ],
            "metadata": {
                "azdata_cell_guid": "5ef13fae-0367-4cbd-9f46-740f9c8c4fd5"
            }
        },
        {
            "cell_type": "code",
            "source": [
                "%kql sqlManagedInstances_logs_CL | where Message startswith \"Logon       Login \"| sort by es_process_timestamp_t desc |project node=kubernetes_node_name_s,namespace=kubernetes_namespace_s,pod=kubernetes_pod_name_s,container=kubernetes_container_name_s,[\"message time\"]=es_process_timestamp_t,Message"
            ],
            "metadata": {
                "azdata_cell_guid": "06f2d1d2-ab60-43de-8aaf-d21bf99fd09b"
            },
            "outputs": [
                {
                    "data": {
                        "text/plain": "<IPython.core.display.HTML object>",
                        "text/html": "<html>\n        <head>\n            \n            \n        </head>\n        <body>\n            <div><p style=' padding: 10px; color: #3a87ad; background-color: #d9edf7; border-color: #bce9f1'>&nbsp;*&nbsp;loggyben@loganalytics</p></div>\n        </body>\n        </html>"
                    },
                    "metadata": {},
                    "output_type": "display_data"
                },
                {
                    "data": {
                        "text/plain": "           node namespace         pod  container              message time  \\\n0   singlebeard       arc  hyperben-0  arc-sqlmi 2021-07-29 08:05:05+00:00   \n1   singlebeard       arc  hyperben-0  arc-sqlmi 2021-07-29 08:05:01+00:00   \n2   singlebeard       arc  hyperben-0  arc-sqlmi 2021-07-29 08:04:58+00:00   \n3   singlebeard       arc  hyperben-0  arc-sqlmi 2021-07-29 08:04:56+00:00   \n4   singlebeard       arc  hyperben-0  arc-sqlmi 2021-07-29 07:55:21+00:00   \n5   singlebeard       arc  hyperben-0  arc-sqlmi 2021-07-29 07:55:17+00:00   \n6   singlebeard       arc  hyperben-0  arc-sqlmi 2021-07-29 07:55:15+00:00   \n7   singlebeard       arc  hyperben-0  arc-sqlmi 2021-07-29 07:55:15+00:00   \n8   singlebeard       arc  hyperben-0  arc-sqlmi 2021-07-28 13:00:09+00:00   \n9   singlebeard       arc  hyperben-0  arc-sqlmi 2021-07-28 12:00:09+00:00   \n10  singlebeard       arc  hyperben-0  arc-sqlmi 2021-07-28 11:58:21+00:00   \n11  singlebeard       arc  hyperben-0  arc-sqlmi 2021-07-28 11:58:17+00:00   \n12  singlebeard       arc  hyperben-0  arc-sqlmi 2021-07-28 11:58:14+00:00   \n13  singlebeard       arc  hyperben-0  arc-sqlmi 2021-07-28 11:58:13+00:00   \n14  singlebeard       arc  hyperben-0  arc-sqlmi 2021-07-28 11:58:10+00:00   \n15  singlebeard       arc  hyperben-0  arc-sqlmi 2021-07-28 11:58:08+00:00   \n16  singlebeard       arc  hyperben-0  arc-sqlmi 2021-07-28 11:58:06+00:00   \n17  singlebeard       arc  hyperben-0  arc-sqlmi 2021-07-28 11:58:04+00:00   \n18  singlebeard       arc  hyperben-0  arc-sqlmi 2021-07-28 11:58:02+00:00   \n19  singlebeard       arc  hyperben-0  arc-sqlmi 2021-07-28 11:58:00+00:00   \n20  singlebeard       arc  hyperben-0  arc-sqlmi 2021-07-28 11:57:58+00:00   \n21  singlebeard       arc  hyperben-0  arc-sqlmi 2021-07-28 11:52:09+00:00   \n22  singlebeard       arc  hyperben-0  arc-sqlmi 2021-07-28 11:52:03+00:00   \n23  singlebeard       arc  hyperben-0  arc-sqlmi 2021-07-28 11:46:49+00:00   \n24  singlebeard       arc  hyperben-0  arc-sqlmi 2021-07-28 11:46:44+00:00   \n25  singlebeard       arc  hyperben-0  arc-sqlmi 2021-07-28 11:46:42+00:00   \n26  singlebeard       arc  hyperben-0  arc-sqlmi 2021-07-28 11:46:39+00:00   \n27  singlebeard       arc  hyperben-0  arc-sqlmi 2021-07-28 11:46:38+00:00   \n28  singlebeard       arc  hyperben-0  arc-sqlmi 2021-07-28 11:34:57+00:00   \n29  singlebeard       arc  hyperben-0  arc-sqlmi 2021-07-28 11:30:21+00:00   \n30  singlebeard       arc  hyperben-0  arc-sqlmi 2021-07-28 11:30:15+00:00   \n31  singlebeard       arc  hyperben-0  arc-sqlmi 2021-07-28 11:30:15+00:00   \n32  singlebeard       arc  hyperben-0  arc-sqlmi 2021-07-28 11:30:15+00:00   \n\n                                              Message  \n0   Logon       Login failed for user 'TryingToSte...  \n1   Logon       Login failed for user 'TryingToSte...  \n2   Logon       Login failed for user 'TryingToSte...  \n3   Logon       Login failed for user 'TryingToSte...  \n4   Logon       Login failed for user 'system'. Re...  \n5   Logon       Login failed for user '##monitorin...  \n6   Logon       Login failed for user 'sa'. Reason...  \n7   Logon       Login failed for user '##miaa-agen...  \n8   Logon       Login failed for user 'TryingToSte...  \n9   Logon       Login failed for user 'TryingToSte...  \n10  Logon       Login failed for user 'TryingToSte...  \n11  Logon       Login failed for user 'TryingToSte...  \n12  Logon       Login failed for user 'TryingToSte...  \n13  Logon       Login failed for user 'TryingToSte...  \n14  Logon       Login failed for user 'TryingToSte...  \n15  Logon       Login failed for user 'TryingToSte...  \n16  Logon       Login failed for user 'TryingToSte...  \n17  Logon       Login failed for user 'TryingToSte...  \n18  Logon       Login failed for user 'TryingToSte...  \n19  Logon       Login failed for user 'TryingToSte...  \n20  Logon       Login failed for user 'TryingToSte...  \n21  Logon       Login failed for user 'TryingToSte...  \n22  Logon       Login failed for user 'TryingToSte...  \n23  Logon       Login failed for user 'TryingToSte...  \n24  Logon       Login failed for user 'TryingToSte...  \n25  Logon       Login failed for user 'TryingToSte...  \n26  Logon       Login failed for user 'TryingToSte...  \n27  Logon       Login failed for user 'TryingToSte...  \n28  Logon       Login failed for user 'TryingToSte...  \n29  Logon       Login failed for user '##monitorin...  \n30  Logon       Login failed for user 'system'. Re...  \n31  Logon       Login failed for user '##miaa-agen...  \n32  Logon       Login failed for user 'sa'. Reason...  ",
                        "text/html": "<div>\n<style scoped>\n    .dataframe tbody tr th:only-of-type {\n        vertical-align: middle;\n    }\n\n    .dataframe tbody tr th {\n        vertical-align: top;\n    }\n\n    .dataframe thead th {\n        text-align: right;\n    }\n</style>\n<table border=\"1\" class=\"dataframe\">\n  <thead>\n    <tr style=\"text-align: right;\">\n      <th></th>\n      <th>node</th>\n      <th>namespace</th>\n      <th>pod</th>\n      <th>container</th>\n      <th>message time</th>\n      <th>Message</th>\n    </tr>\n  </thead>\n  <tbody>\n    <tr>\n      <th>0</th>\n      <td>singlebeard</td>\n      <td>arc</td>\n      <td>hyperben-0</td>\n      <td>arc-sqlmi</td>\n      <td>2021-07-29 08:05:05+00:00</td>\n      <td>Logon       Login failed for user 'TryingToSte...</td>\n    </tr>\n    <tr>\n      <th>1</th>\n      <td>singlebeard</td>\n      <td>arc</td>\n      <td>hyperben-0</td>\n      <td>arc-sqlmi</td>\n      <td>2021-07-29 08:05:01+00:00</td>\n      <td>Logon       Login failed for user 'TryingToSte...</td>\n    </tr>\n    <tr>\n      <th>2</th>\n      <td>singlebeard</td>\n      <td>arc</td>\n      <td>hyperben-0</td>\n      <td>arc-sqlmi</td>\n      <td>2021-07-29 08:04:58+00:00</td>\n      <td>Logon       Login failed for user 'TryingToSte...</td>\n    </tr>\n    <tr>\n      <th>3</th>\n      <td>singlebeard</td>\n      <td>arc</td>\n      <td>hyperben-0</td>\n      <td>arc-sqlmi</td>\n      <td>2021-07-29 08:04:56+00:00</td>\n      <td>Logon       Login failed for user 'TryingToSte...</td>\n    </tr>\n    <tr>\n      <th>4</th>\n      <td>singlebeard</td>\n      <td>arc</td>\n      <td>hyperben-0</td>\n      <td>arc-sqlmi</td>\n      <td>2021-07-29 07:55:21+00:00</td>\n      <td>Logon       Login failed for user 'system'. Re...</td>\n    </tr>\n    <tr>\n      <th>5</th>\n      <td>singlebeard</td>\n      <td>arc</td>\n      <td>hyperben-0</td>\n      <td>arc-sqlmi</td>\n      <td>2021-07-29 07:55:17+00:00</td>\n      <td>Logon       Login failed for user '##monitorin...</td>\n    </tr>\n    <tr>\n      <th>6</th>\n      <td>singlebeard</td>\n      <td>arc</td>\n      <td>hyperben-0</td>\n      <td>arc-sqlmi</td>\n      <td>2021-07-29 07:55:15+00:00</td>\n      <td>Logon       Login failed for user 'sa'. Reason...</td>\n    </tr>\n    <tr>\n      <th>7</th>\n      <td>singlebeard</td>\n      <td>arc</td>\n      <td>hyperben-0</td>\n      <td>arc-sqlmi</td>\n      <td>2021-07-29 07:55:15+00:00</td>\n      <td>Logon       Login failed for user '##miaa-agen...</td>\n    </tr>\n    <tr>\n      <th>8</th>\n      <td>singlebeard</td>\n      <td>arc</td>\n      <td>hyperben-0</td>\n      <td>arc-sqlmi</td>\n      <td>2021-07-28 13:00:09+00:00</td>\n      <td>Logon       Login failed for user 'TryingToSte...</td>\n    </tr>\n    <tr>\n      <th>9</th>\n      <td>singlebeard</td>\n      <td>arc</td>\n      <td>hyperben-0</td>\n      <td>arc-sqlmi</td>\n      <td>2021-07-28 12:00:09+00:00</td>\n      <td>Logon       Login failed for user 'TryingToSte...</td>\n    </tr>\n    <tr>\n      <th>10</th>\n      <td>singlebeard</td>\n      <td>arc</td>\n      <td>hyperben-0</td>\n      <td>arc-sqlmi</td>\n      <td>2021-07-28 11:58:21+00:00</td>\n      <td>Logon       Login failed for user 'TryingToSte...</td>\n    </tr>\n    <tr>\n      <th>11</th>\n      <td>singlebeard</td>\n      <td>arc</td>\n      <td>hyperben-0</td>\n      <td>arc-sqlmi</td>\n      <td>2021-07-28 11:58:17+00:00</td>\n      <td>Logon       Login failed for user 'TryingToSte...</td>\n    </tr>\n    <tr>\n      <th>12</th>\n      <td>singlebeard</td>\n      <td>arc</td>\n      <td>hyperben-0</td>\n      <td>arc-sqlmi</td>\n      <td>2021-07-28 11:58:14+00:00</td>\n      <td>Logon       Login failed for user 'TryingToSte...</td>\n    </tr>\n    <tr>\n      <th>13</th>\n      <td>singlebeard</td>\n      <td>arc</td>\n      <td>hyperben-0</td>\n      <td>arc-sqlmi</td>\n      <td>2021-07-28 11:58:13+00:00</td>\n      <td>Logon       Login failed for user 'TryingToSte...</td>\n    </tr>\n    <tr>\n      <th>14</th>\n      <td>singlebeard</td>\n      <td>arc</td>\n      <td>hyperben-0</td>\n      <td>arc-sqlmi</td>\n      <td>2021-07-28 11:58:10+00:00</td>\n      <td>Logon       Login failed for user 'TryingToSte...</td>\n    </tr>\n    <tr>\n      <th>15</th>\n      <td>singlebeard</td>\n      <td>arc</td>\n      <td>hyperben-0</td>\n      <td>arc-sqlmi</td>\n      <td>2021-07-28 11:58:08+00:00</td>\n      <td>Logon       Login failed for user 'TryingToSte...</td>\n    </tr>\n    <tr>\n      <th>16</th>\n      <td>singlebeard</td>\n      <td>arc</td>\n      <td>hyperben-0</td>\n      <td>arc-sqlmi</td>\n      <td>2021-07-28 11:58:06+00:00</td>\n      <td>Logon       Login failed for user 'TryingToSte...</td>\n    </tr>\n    <tr>\n      <th>17</th>\n      <td>singlebeard</td>\n      <td>arc</td>\n      <td>hyperben-0</td>\n      <td>arc-sqlmi</td>\n      <td>2021-07-28 11:58:04+00:00</td>\n      <td>Logon       Login failed for user 'TryingToSte...</td>\n    </tr>\n    <tr>\n      <th>18</th>\n      <td>singlebeard</td>\n      <td>arc</td>\n      <td>hyperben-0</td>\n      <td>arc-sqlmi</td>\n      <td>2021-07-28 11:58:02+00:00</td>\n      <td>Logon       Login failed for user 'TryingToSte...</td>\n    </tr>\n    <tr>\n      <th>19</th>\n      <td>singlebeard</td>\n      <td>arc</td>\n      <td>hyperben-0</td>\n      <td>arc-sqlmi</td>\n      <td>2021-07-28 11:58:00+00:00</td>\n      <td>Logon       Login failed for user 'TryingToSte...</td>\n    </tr>\n    <tr>\n      <th>20</th>\n      <td>singlebeard</td>\n      <td>arc</td>\n      <td>hyperben-0</td>\n      <td>arc-sqlmi</td>\n      <td>2021-07-28 11:57:58+00:00</td>\n      <td>Logon       Login failed for user 'TryingToSte...</td>\n    </tr>\n    <tr>\n      <th>21</th>\n      <td>singlebeard</td>\n      <td>arc</td>\n      <td>hyperben-0</td>\n      <td>arc-sqlmi</td>\n      <td>2021-07-28 11:52:09+00:00</td>\n      <td>Logon       Login failed for user 'TryingToSte...</td>\n    </tr>\n    <tr>\n      <th>22</th>\n      <td>singlebeard</td>\n      <td>arc</td>\n      <td>hyperben-0</td>\n      <td>arc-sqlmi</td>\n      <td>2021-07-28 11:52:03+00:00</td>\n      <td>Logon       Login failed for user 'TryingToSte...</td>\n    </tr>\n    <tr>\n      <th>23</th>\n      <td>singlebeard</td>\n      <td>arc</td>\n      <td>hyperben-0</td>\n      <td>arc-sqlmi</td>\n      <td>2021-07-28 11:46:49+00:00</td>\n      <td>Logon       Login failed for user 'TryingToSte...</td>\n    </tr>\n    <tr>\n      <th>24</th>\n      <td>singlebeard</td>\n      <td>arc</td>\n      <td>hyperben-0</td>\n      <td>arc-sqlmi</td>\n      <td>2021-07-28 11:46:44+00:00</td>\n      <td>Logon       Login failed for user 'TryingToSte...</td>\n    </tr>\n    <tr>\n      <th>25</th>\n      <td>singlebeard</td>\n      <td>arc</td>\n      <td>hyperben-0</td>\n      <td>arc-sqlmi</td>\n      <td>2021-07-28 11:46:42+00:00</td>\n      <td>Logon       Login failed for user 'TryingToSte...</td>\n    </tr>\n    <tr>\n      <th>26</th>\n      <td>singlebeard</td>\n      <td>arc</td>\n      <td>hyperben-0</td>\n      <td>arc-sqlmi</td>\n      <td>2021-07-28 11:46:39+00:00</td>\n      <td>Logon       Login failed for user 'TryingToSte...</td>\n    </tr>\n    <tr>\n      <th>27</th>\n      <td>singlebeard</td>\n      <td>arc</td>\n      <td>hyperben-0</td>\n      <td>arc-sqlmi</td>\n      <td>2021-07-28 11:46:38+00:00</td>\n      <td>Logon       Login failed for user 'TryingToSte...</td>\n    </tr>\n    <tr>\n      <th>28</th>\n      <td>singlebeard</td>\n      <td>arc</td>\n      <td>hyperben-0</td>\n      <td>arc-sqlmi</td>\n      <td>2021-07-28 11:34:57+00:00</td>\n      <td>Logon       Login failed for user 'TryingToSte...</td>\n    </tr>\n    <tr>\n      <th>29</th>\n      <td>singlebeard</td>\n      <td>arc</td>\n      <td>hyperben-0</td>\n      <td>arc-sqlmi</td>\n      <td>2021-07-28 11:30:21+00:00</td>\n      <td>Logon       Login failed for user '##monitorin...</td>\n    </tr>\n    <tr>\n      <th>30</th>\n      <td>singlebeard</td>\n      <td>arc</td>\n      <td>hyperben-0</td>\n      <td>arc-sqlmi</td>\n      <td>2021-07-28 11:30:15+00:00</td>\n      <td>Logon       Login failed for user 'system'. Re...</td>\n    </tr>\n    <tr>\n      <th>31</th>\n      <td>singlebeard</td>\n      <td>arc</td>\n      <td>hyperben-0</td>\n      <td>arc-sqlmi</td>\n      <td>2021-07-28 11:30:15+00:00</td>\n      <td>Logon       Login failed for user '##miaa-agen...</td>\n    </tr>\n    <tr>\n      <th>32</th>\n      <td>singlebeard</td>\n      <td>arc</td>\n      <td>hyperben-0</td>\n      <td>arc-sqlmi</td>\n      <td>2021-07-28 11:30:15+00:00</td>\n      <td>Logon       Login failed for user 'sa'. Reason...</td>\n    </tr>\n  </tbody>\n</table>\n</div>",
                        "application/vnd.dataresource+json": {
                            "schema": {
                                "fields": [
                                    {
                                        "name": "node",
                                        "type": "string"
                                    },
                                    {
                                        "name": "namespace",
                                        "type": "string"
                                    },
                                    {
                                        "name": "pod",
                                        "type": "string"
                                    },
                                    {
                                        "name": "container",
                                        "type": "string"
                                    },
                                    {
                                        "name": "message time",
                                        "type": "datetime",
                                        "tz": "UTC"
                                    },
                                    {
                                        "name": "Message",
                                        "type": "string"
                                    }
                                ],
                                "kqmagic_version": "0.1.114.post2"
                            },
                            "data": [
                                {
                                    "node": "singlebeard",
                                    "namespace": "arc",
                                    "pod": "hyperben-0",
                                    "container": "arc-sqlmi",
                                    "message time": "2021-07-29T08:05:05.000Z",
                                    "Message": "Logon       Login failed for user 'TryingToStealYourData-1478'. Reason: Could not find a login matching the name provided. [CLIENT: 10.244.0.161]"
                                },
                                {
                                    "node": "singlebeard",
                                    "namespace": "arc",
                                    "pod": "hyperben-0",
                                    "container": "arc-sqlmi",
                                    "message time": "2021-07-29T08:05:01.000Z",
                                    "Message": "Logon       Login failed for user 'TryingToStealYourData-2189'. Reason: Could not find a login matching the name provided. [CLIENT: 10.244.0.160]"
                                },
                                {
                                    "node": "singlebeard",
                                    "namespace": "arc",
                                    "pod": "hyperben-0",
                                    "container": "arc-sqlmi",
                                    "message time": "2021-07-29T08:04:58.000Z",
                                    "Message": "Logon       Login failed for user 'TryingToStealYourData-4168'. Reason: Could not find a login matching the name provided. [CLIENT: 10.244.0.159]"
                                },
                                {
                                    "node": "singlebeard",
                                    "namespace": "arc",
                                    "pod": "hyperben-0",
                                    "container": "arc-sqlmi",
                                    "message time": "2021-07-29T08:04:56.000Z",
                                    "Message": "Logon       Login failed for user 'TryingToStealYourData-6403'. Reason: Could not find a login matching the name provided. [CLIENT: 10.244.0.158]"
                                },
                                {
                                    "node": "singlebeard",
                                    "namespace": "arc",
                                    "pod": "hyperben-0",
                                    "container": "arc-sqlmi",
                                    "message time": "2021-07-29T07:55:21.000Z",
                                    "Message": "Logon       Login failed for user 'system'. Reason: Could not find a login matching the name provided. [CLIENT: ::1]"
                                },
                                {
                                    "node": "singlebeard",
                                    "namespace": "arc",
                                    "pod": "hyperben-0",
                                    "container": "arc-sqlmi",
                                    "message time": "2021-07-29T07:55:17.000Z",
                                    "Message": "Logon       Login failed for user '##monitoring-login##'. Reason: Could not find a login matching the name provided. [CLIENT: 10.244.0.157]"
                                },
                                {
                                    "node": "singlebeard",
                                    "namespace": "arc",
                                    "pod": "hyperben-0",
                                    "container": "arc-sqlmi",
                                    "message time": "2021-07-29T07:55:15.000Z",
                                    "Message": "Logon       Login failed for user 'sa'. Reason: An error occurred while evaluating the password. [CLIENT: ::1]"
                                },
                                {
                                    "node": "singlebeard",
                                    "namespace": "arc",
                                    "pod": "hyperben-0",
                                    "container": "arc-sqlmi",
                                    "message time": "2021-07-29T07:55:15.000Z",
                                    "Message": "Logon       Login failed for user '##miaa-agent-login##'. Reason: Could not find a login matching the name provided. [CLIENT: 127.0.0.1]"
                                },
                                {
                                    "node": "singlebeard",
                                    "namespace": "arc",
                                    "pod": "hyperben-0",
                                    "container": "arc-sqlmi",
                                    "message time": "2021-07-28T13:00:09.000Z",
                                    "Message": "Logon       Login failed for user 'TryingToStealYourData-2910'. Reason: Could not find a login matching the name provided. [CLIENT: 10.244.0.58]"
                                },
                                {
                                    "node": "singlebeard",
                                    "namespace": "arc",
                                    "pod": "hyperben-0",
                                    "container": "arc-sqlmi",
                                    "message time": "2021-07-28T12:00:09.000Z",
                                    "Message": "Logon       Login failed for user 'TryingToStealYourData-3271'. Reason: Could not find a login matching the name provided. [CLIENT: 10.244.0.56]"
                                },
                                {
                                    "node": "singlebeard",
                                    "namespace": "arc",
                                    "pod": "hyperben-0",
                                    "container": "arc-sqlmi",
                                    "message time": "2021-07-28T11:58:21.000Z",
                                    "Message": "Logon       Login failed for user 'TryingToStealYourData-1630'. Reason: Could not find a login matching the name provided. [CLIENT: 10.244.0.54]"
                                },
                                {
                                    "node": "singlebeard",
                                    "namespace": "arc",
                                    "pod": "hyperben-0",
                                    "container": "arc-sqlmi",
                                    "message time": "2021-07-28T11:58:17.000Z",
                                    "Message": "Logon       Login failed for user 'TryingToStealYourData-6144'. Reason: Could not find a login matching the name provided. [CLIENT: 10.244.0.53]"
                                },
                                {
                                    "node": "singlebeard",
                                    "namespace": "arc",
                                    "pod": "hyperben-0",
                                    "container": "arc-sqlmi",
                                    "message time": "2021-07-28T11:58:14.000Z",
                                    "Message": "Logon       Login failed for user 'TryingToStealYourData-2261'. Reason: Could not find a login matching the name provided. [CLIENT: 10.244.0.52]"
                                },
                                {
                                    "node": "singlebeard",
                                    "namespace": "arc",
                                    "pod": "hyperben-0",
                                    "container": "arc-sqlmi",
                                    "message time": "2021-07-28T11:58:13.000Z",
                                    "Message": "Logon       Login failed for user 'TryingToStealYourData-2245'. Reason: Could not find a login matching the name provided. [CLIENT: 10.244.0.51]"
                                },
                                {
                                    "node": "singlebeard",
                                    "namespace": "arc",
                                    "pod": "hyperben-0",
                                    "container": "arc-sqlmi",
                                    "message time": "2021-07-28T11:58:10.000Z",
                                    "Message": "Logon       Login failed for user 'TryingToStealYourData-4757'. Reason: Could not find a login matching the name provided. [CLIENT: 10.244.0.50]"
                                },
                                {
                                    "node": "singlebeard",
                                    "namespace": "arc",
                                    "pod": "hyperben-0",
                                    "container": "arc-sqlmi",
                                    "message time": "2021-07-28T11:58:08.000Z",
                                    "Message": "Logon       Login failed for user 'TryingToStealYourData-3398'. Reason: Could not find a login matching the name provided. [CLIENT: 10.244.0.49]"
                                },
                                {
                                    "node": "singlebeard",
                                    "namespace": "arc",
                                    "pod": "hyperben-0",
                                    "container": "arc-sqlmi",
                                    "message time": "2021-07-28T11:58:06.000Z",
                                    "Message": "Logon       Login failed for user 'TryingToStealYourData-5549'. Reason: Could not find a login matching the name provided. [CLIENT: 10.244.0.48]"
                                },
                                {
                                    "node": "singlebeard",
                                    "namespace": "arc",
                                    "pod": "hyperben-0",
                                    "container": "arc-sqlmi",
                                    "message time": "2021-07-28T11:58:04.000Z",
                                    "Message": "Logon       Login failed for user 'TryingToStealYourData-5188'. Reason: Could not find a login matching the name provided. [CLIENT: 10.244.0.47]"
                                },
                                {
                                    "node": "singlebeard",
                                    "namespace": "arc",
                                    "pod": "hyperben-0",
                                    "container": "arc-sqlmi",
                                    "message time": "2021-07-28T11:58:02.000Z",
                                    "Message": "Logon       Login failed for user 'TryingToStealYourData-9486'. Reason: Could not find a login matching the name provided. [CLIENT: 10.244.0.46]"
                                },
                                {
                                    "node": "singlebeard",
                                    "namespace": "arc",
                                    "pod": "hyperben-0",
                                    "container": "arc-sqlmi",
                                    "message time": "2021-07-28T11:58:00.000Z",
                                    "Message": "Logon       Login failed for user 'TryingToStealYourData-1027'. Reason: Could not find a login matching the name provided. [CLIENT: 10.244.0.45]"
                                },
                                {
                                    "node": "singlebeard",
                                    "namespace": "arc",
                                    "pod": "hyperben-0",
                                    "container": "arc-sqlmi",
                                    "message time": "2021-07-28T11:57:58.000Z",
                                    "Message": "Logon       Login failed for user 'TryingToStealYourData-1828'. Reason: Could not find a login matching the name provided. [CLIENT: 10.244.0.44]"
                                },
                                {
                                    "node": "singlebeard",
                                    "namespace": "arc",
                                    "pod": "hyperben-0",
                                    "container": "arc-sqlmi",
                                    "message time": "2021-07-28T11:52:09.000Z",
                                    "Message": "Logon       Login failed for user 'TryingToStealYourData-9661'. Reason: Could not find a login matching the name provided. [CLIENT: 10.244.0.43]"
                                },
                                {
                                    "node": "singlebeard",
                                    "namespace": "arc",
                                    "pod": "hyperben-0",
                                    "container": "arc-sqlmi",
                                    "message time": "2021-07-28T11:52:03.000Z",
                                    "Message": "Logon       Login failed for user 'TryingToStealYourData-2869'. Reason: Could not find a login matching the name provided. [CLIENT: 10.244.0.42]"
                                },
                                {
                                    "node": "singlebeard",
                                    "namespace": "arc",
                                    "pod": "hyperben-0",
                                    "container": "arc-sqlmi",
                                    "message time": "2021-07-28T11:46:49.000Z",
                                    "Message": "Logon       Login failed for user 'TryingToStealYourData'. Reason: Could not find a login matching the name provided. [CLIENT: 10.244.0.38]"
                                },
                                {
                                    "node": "singlebeard",
                                    "namespace": "arc",
                                    "pod": "hyperben-0",
                                    "container": "arc-sqlmi",
                                    "message time": "2021-07-28T11:46:44.000Z",
                                    "Message": "Logon       Login failed for user 'TryingToStealYourData'. Reason: Could not find a login matching the name provided. [CLIENT: 10.244.0.37]"
                                },
                                {
                                    "node": "singlebeard",
                                    "namespace": "arc",
                                    "pod": "hyperben-0",
                                    "container": "arc-sqlmi",
                                    "message time": "2021-07-28T11:46:42.000Z",
                                    "Message": "Logon       Login failed for user 'TryingToStealYourData'. Reason: Could not find a login matching the name provided. [CLIENT: 10.244.0.36]"
                                },
                                {
                                    "node": "singlebeard",
                                    "namespace": "arc",
                                    "pod": "hyperben-0",
                                    "container": "arc-sqlmi",
                                    "message time": "2021-07-28T11:46:39.000Z",
                                    "Message": "Logon       Login failed for user 'TryingToStealYourData'. Reason: Could not find a login matching the name provided. [CLIENT: 10.244.0.35]"
                                },
                                {
                                    "node": "singlebeard",
                                    "namespace": "arc",
                                    "pod": "hyperben-0",
                                    "container": "arc-sqlmi",
                                    "message time": "2021-07-28T11:46:38.000Z",
                                    "Message": "Logon       Login failed for user 'TryingToStealYourData'. Reason: Could not find a login matching the name provided. [CLIENT: 10.244.0.34]"
                                },
                                {
                                    "node": "singlebeard",
                                    "namespace": "arc",
                                    "pod": "hyperben-0",
                                    "container": "arc-sqlmi",
                                    "message time": "2021-07-28T11:34:57.000Z",
                                    "Message": "Logon       Login failed for user 'TryingToStealYourData'. Reason: Could not find a login matching the name provided. [CLIENT: 10.244.0.26]"
                                },
                                {
                                    "node": "singlebeard",
                                    "namespace": "arc",
                                    "pod": "hyperben-0",
                                    "container": "arc-sqlmi",
                                    "message time": "2021-07-28T11:30:21.000Z",
                                    "Message": "Logon       Login failed for user '##monitoring-login##'. Reason: Could not find a login matching the name provided. [CLIENT: 10.244.0.24]"
                                },
                                {
                                    "node": "singlebeard",
                                    "namespace": "arc",
                                    "pod": "hyperben-0",
                                    "container": "arc-sqlmi",
                                    "message time": "2021-07-28T11:30:15.000Z",
                                    "Message": "Logon       Login failed for user 'system'. Reason: Could not find a login matching the name provided. [CLIENT: ::1]"
                                },
                                {
                                    "node": "singlebeard",
                                    "namespace": "arc",
                                    "pod": "hyperben-0",
                                    "container": "arc-sqlmi",
                                    "message time": "2021-07-28T11:30:15.000Z",
                                    "Message": "Logon       Login failed for user '##miaa-agent-login##'. Reason: Could not find a login matching the name provided. [CLIENT: 127.0.0.1]"
                                },
                                {
                                    "node": "singlebeard",
                                    "namespace": "arc",
                                    "pod": "hyperben-0",
                                    "container": "arc-sqlmi",
                                    "message time": "2021-07-28T11:30:15.000Z",
                                    "Message": "Logon       Login failed for user 'sa'. Reason: An error occurred while evaluating the password. [CLIENT: ::1]"
                                }
                            ]
                        }
                    },
                    "metadata": {},
                    "output_type": "display_data"
                },
                {
                    "data": {
                        "text/plain": "<IPython.core.display.HTML object>",
                        "text/html": "<html>\n        <head>\n            \n            \n        </head>\n        <body>\n            <div><p style=' padding: 10px; color: #3a87ad; background-color: #d9edf7; border-color: #bce9f1'>Done&nbsp;(00:01.298):&nbsp;33&nbsp;records</p></div>\n        </body>\n        </html>"
                    },
                    "metadata": {},
                    "output_type": "display_data"
                },
                {
                    "data": {
                        "text/plain": "[{'node': 'singlebeard', 'namespace': 'arc', 'pod': 'hyperben-0', 'container': 'arc-sqlmi', 'message time': datetime.datetime(2021, 7, 29, 8, 5, 5, tzinfo=tzutc()), 'Message': \"Logon       Login failed for user 'TryingToStealYourData-1478'. Reason: Could not find a login matching the name provided. [CLIENT: 10.244.0.161]\"},\n {'node': 'singlebeard', 'namespace': 'arc', 'pod': 'hyperben-0', 'container': 'arc-sqlmi', 'message time': datetime.datetime(2021, 7, 29, 8, 5, 1, tzinfo=tzutc()), 'Message': \"Logon       Login failed for user 'TryingToStealYourData-2189'. Reason: Could not find a login matching the name provided. [CLIENT: 10.244.0.160]\"},\n {'node': 'singlebeard', 'namespace': 'arc', 'pod': 'hyperben-0', 'container': 'arc-sqlmi', 'message time': datetime.datetime(2021, 7, 29, 8, 4, 58, tzinfo=tzutc()), 'Message': \"Logon       Login failed for user 'TryingToStealYourData-4168'. Reason: Could not find a login matching the name provided. [CLIENT: 10.244.0.159]\"},\n {'node': 'singlebeard', 'namespace': 'arc', 'pod': 'hyperben-0', 'container': 'arc-sqlmi', 'message time': datetime.datetime(2021, 7, 29, 8, 4, 56, tzinfo=tzutc()), 'Message': \"Logon       Login failed for user 'TryingToStealYourData-6403'. Reason: Could not find a login matching the name provided. [CLIENT: 10.244.0.158]\"},\n {'node': 'singlebeard', 'namespace': 'arc', 'pod': 'hyperben-0', 'container': 'arc-sqlmi', 'message time': datetime.datetime(2021, 7, 29, 7, 55, 21, tzinfo=tzutc()), 'Message': \"Logon       Login failed for user 'system'. Reason: Could not find a login matching the name provided. [CLIENT: ::1]\"},\n {'node': 'singlebeard', 'namespace': 'arc', 'pod': 'hyperben-0', 'container': 'arc-sqlmi', 'message time': datetime.datetime(2021, 7, 29, 7, 55, 17, tzinfo=tzutc()), 'Message': \"Logon       Login failed for user '##monitoring-login##'. Reason: Could not find a login matching the name provided. [CLIENT: 10.244.0.157]\"},\n {'node': 'singlebeard', 'namespace': 'arc', 'pod': 'hyperben-0', 'container': 'arc-sqlmi', 'message time': datetime.datetime(2021, 7, 29, 7, 55, 15, tzinfo=tzutc()), 'Message': \"Logon       Login failed for user 'sa'. Reason: An error occurred while evaluating the password. [CLIENT: ::1]\"},\n {'node': 'singlebeard', 'namespace': 'arc', 'pod': 'hyperben-0', 'container': 'arc-sqlmi', 'message time': datetime.datetime(2021, 7, 29, 7, 55, 15, tzinfo=tzutc()), 'Message': \"Logon       Login failed for user '##miaa-agent-login##'. Reason: Could not find a login matching the name provided. [CLIENT: 127.0.0.1]\"},\n {'node': 'singlebeard', 'namespace': 'arc', 'pod': 'hyperben-0', 'container': 'arc-sqlmi', 'message time': datetime.datetime(2021, 7, 28, 13, 0, 9, tzinfo=tzutc()), 'Message': \"Logon       Login failed for user 'TryingToStealYourData-2910'. Reason: Could not find a login matching the name provided. [CLIENT: 10.244.0.58]\"},\n {'node': 'singlebeard', 'namespace': 'arc', 'pod': 'hyperben-0', 'container': 'arc-sqlmi', 'message time': datetime.datetime(2021, 7, 28, 12, 0, 9, tzinfo=tzutc()), 'Message': \"Logon       Login failed for user 'TryingToStealYourData-3271'. Reason: Could not find a login matching the name provided. [CLIENT: 10.244.0.56]\"},\n {'node': 'singlebeard', 'namespace': 'arc', 'pod': 'hyperben-0', 'container': 'arc-sqlmi', 'message time': datetime.datetime(2021, 7, 28, 11, 58, 21, tzinfo=tzutc()), 'Message': \"Logon       Login failed for user 'TryingToStealYourData-1630'. Reason: Could not find a login matching the name provided. [CLIENT: 10.244.0.54]\"},\n {'node': 'singlebeard', 'namespace': 'arc', 'pod': 'hyperben-0', 'container': 'arc-sqlmi', 'message time': datetime.datetime(2021, 7, 28, 11, 58, 17, tzinfo=tzutc()), 'Message': \"Logon       Login failed for user 'TryingToStealYourData-6144'. Reason: Could not find a login matching the name provided. [CLIENT: 10.244.0.53]\"},\n {'node': 'singlebeard', 'namespace': 'arc', 'pod': 'hyperben-0', 'container': 'arc-sqlmi', 'message time': datetime.datetime(2021, 7, 28, 11, 58, 14, tzinfo=tzutc()), 'Message': \"Logon       Login failed for user 'TryingToStealYourData-2261'. Reason: Could not find a login matching the name provided. [CLIENT: 10.244.0.52]\"},\n {'node': 'singlebeard', 'namespace': 'arc', 'pod': 'hyperben-0', 'container': 'arc-sqlmi', 'message time': datetime.datetime(2021, 7, 28, 11, 58, 13, tzinfo=tzutc()), 'Message': \"Logon       Login failed for user 'TryingToStealYourData-2245'. Reason: Could not find a login matching the name provided. [CLIENT: 10.244.0.51]\"},\n {'node': 'singlebeard', 'namespace': 'arc', 'pod': 'hyperben-0', 'container': 'arc-sqlmi', 'message time': datetime.datetime(2021, 7, 28, 11, 58, 10, tzinfo=tzutc()), 'Message': \"Logon       Login failed for user 'TryingToStealYourData-4757'. Reason: Could not find a login matching the name provided. [CLIENT: 10.244.0.50]\"},\n {'node': 'singlebeard', 'namespace': 'arc', 'pod': 'hyperben-0', 'container': 'arc-sqlmi', 'message time': datetime.datetime(2021, 7, 28, 11, 58, 8, tzinfo=tzutc()), 'Message': \"Logon       Login failed for user 'TryingToStealYourData-3398'. Reason: Could not find a login matching the name provided. [CLIENT: 10.244.0.49]\"},\n {'node': 'singlebeard', 'namespace': 'arc', 'pod': 'hyperben-0', 'container': 'arc-sqlmi', 'message time': datetime.datetime(2021, 7, 28, 11, 58, 6, tzinfo=tzutc()), 'Message': \"Logon       Login failed for user 'TryingToStealYourData-5549'. Reason: Could not find a login matching the name provided. [CLIENT: 10.244.0.48]\"},\n {'node': 'singlebeard', 'namespace': 'arc', 'pod': 'hyperben-0', 'container': 'arc-sqlmi', 'message time': datetime.datetime(2021, 7, 28, 11, 58, 4, tzinfo=tzutc()), 'Message': \"Logon       Login failed for user 'TryingToStealYourData-5188'. Reason: Could not find a login matching the name provided. [CLIENT: 10.244.0.47]\"},\n {'node': 'singlebeard', 'namespace': 'arc', 'pod': 'hyperben-0', 'container': 'arc-sqlmi', 'message time': datetime.datetime(2021, 7, 28, 11, 58, 2, tzinfo=tzutc()), 'Message': \"Logon       Login failed for user 'TryingToStealYourData-9486'. Reason: Could not find a login matching the name provided. [CLIENT: 10.244.0.46]\"},\n {'node': 'singlebeard', 'namespace': 'arc', 'pod': 'hyperben-0', 'container': 'arc-sqlmi', 'message time': datetime.datetime(2021, 7, 28, 11, 58, tzinfo=tzutc()), 'Message': \"Logon       Login failed for user 'TryingToStealYourData-1027'. Reason: Could not find a login matching the name provided. [CLIENT: 10.244.0.45]\"},\n {'node': 'singlebeard', 'namespace': 'arc', 'pod': 'hyperben-0', 'container': 'arc-sqlmi', 'message time': datetime.datetime(2021, 7, 28, 11, 57, 58, tzinfo=tzutc()), 'Message': \"Logon       Login failed for user 'TryingToStealYourData-1828'. Reason: Could not find a login matching the name provided. [CLIENT: 10.244.0.44]\"},\n {'node': 'singlebeard', 'namespace': 'arc', 'pod': 'hyperben-0', 'container': 'arc-sqlmi', 'message time': datetime.datetime(2021, 7, 28, 11, 52, 9, tzinfo=tzutc()), 'Message': \"Logon       Login failed for user 'TryingToStealYourData-9661'. Reason: Could not find a login matching the name provided. [CLIENT: 10.244.0.43]\"},\n {'node': 'singlebeard', 'namespace': 'arc', 'pod': 'hyperben-0', 'container': 'arc-sqlmi', 'message time': datetime.datetime(2021, 7, 28, 11, 52, 3, tzinfo=tzutc()), 'Message': \"Logon       Login failed for user 'TryingToStealYourData-2869'. Reason: Could not find a login matching the name provided. [CLIENT: 10.244.0.42]\"},\n {'node': 'singlebeard', 'namespace': 'arc', 'pod': 'hyperben-0', 'container': 'arc-sqlmi', 'message time': datetime.datetime(2021, 7, 28, 11, 46, 49, tzinfo=tzutc()), 'Message': \"Logon       Login failed for user 'TryingToStealYourData'. Reason: Could not find a login matching the name provided. [CLIENT: 10.244.0.38]\"},\n {'node': 'singlebeard', 'namespace': 'arc', 'pod': 'hyperben-0', 'container': 'arc-sqlmi', 'message time': datetime.datetime(2021, 7, 28, 11, 46, 44, tzinfo=tzutc()), 'Message': \"Logon       Login failed for user 'TryingToStealYourData'. Reason: Could not find a login matching the name provided. [CLIENT: 10.244.0.37]\"},\n {'node': 'singlebeard', 'namespace': 'arc', 'pod': 'hyperben-0', 'container': 'arc-sqlmi', 'message time': datetime.datetime(2021, 7, 28, 11, 46, 42, tzinfo=tzutc()), 'Message': \"Logon       Login failed for user 'TryingToStealYourData'. Reason: Could not find a login matching the name provided. [CLIENT: 10.244.0.36]\"},\n {'node': 'singlebeard', 'namespace': 'arc', 'pod': 'hyperben-0', 'container': 'arc-sqlmi', 'message time': datetime.datetime(2021, 7, 28, 11, 46, 39, tzinfo=tzutc()), 'Message': \"Logon       Login failed for user 'TryingToStealYourData'. Reason: Could not find a login matching the name provided. [CLIENT: 10.244.0.35]\"},\n {'node': 'singlebeard', 'namespace': 'arc', 'pod': 'hyperben-0', 'container': 'arc-sqlmi', 'message time': datetime.datetime(2021, 7, 28, 11, 46, 38, tzinfo=tzutc()), 'Message': \"Logon       Login failed for user 'TryingToStealYourData'. Reason: Could not find a login matching the name provided. [CLIENT: 10.244.0.34]\"},\n {'node': 'singlebeard', 'namespace': 'arc', 'pod': 'hyperben-0', 'container': 'arc-sqlmi', 'message time': datetime.datetime(2021, 7, 28, 11, 34, 57, tzinfo=tzutc()), 'Message': \"Logon       Login failed for user 'TryingToStealYourData'. Reason: Could not find a login matching the name provided. [CLIENT: 10.244.0.26]\"},\n {'node': 'singlebeard', 'namespace': 'arc', 'pod': 'hyperben-0', 'container': 'arc-sqlmi', 'message time': datetime.datetime(2021, 7, 28, 11, 30, 21, tzinfo=tzutc()), 'Message': \"Logon       Login failed for user '##monitoring-login##'. Reason: Could not find a login matching the name provided. [CLIENT: 10.244.0.24]\"},\n {'node': 'singlebeard', 'namespace': 'arc', 'pod': 'hyperben-0', 'container': 'arc-sqlmi', 'message time': datetime.datetime(2021, 7, 28, 11, 30, 15, tzinfo=tzutc()), 'Message': \"Logon       Login failed for user 'system'. Reason: Could not find a login matching the name provided. [CLIENT: ::1]\"},\n {'node': 'singlebeard', 'namespace': 'arc', 'pod': 'hyperben-0', 'container': 'arc-sqlmi', 'message time': datetime.datetime(2021, 7, 28, 11, 30, 15, tzinfo=tzutc()), 'Message': \"Logon       Login failed for user '##miaa-agent-login##'. Reason: Could not find a login matching the name provided. [CLIENT: 127.0.0.1]\"},\n {'node': 'singlebeard', 'namespace': 'arc', 'pod': 'hyperben-0', 'container': 'arc-sqlmi', 'message time': datetime.datetime(2021, 7, 28, 11, 30, 15, tzinfo=tzutc()), 'Message': \"Logon       Login failed for user 'sa'. Reason: An error occurred while evaluating the password. [CLIENT: ::1]\"}]",
                        "text/html": ""
                    },
                    "metadata": {},
                    "execution_count": 5,
                    "output_type": "execute_result"
                }
            ],
            "execution_count": 5
        },
        {
            "cell_type": "markdown",
            "source": [
                "### Show me Backups"
            ],
            "metadata": {
                "azdata_cell_guid": "b955da27-0893-4b92-a23f-f3b9116e50c3"
            },
            "attachments": {}
        },
        {
            "cell_type": "code",
            "source": [
                "%kql sqlManagedInstances_logs_CL | where Message startswith \"Backup\"| sort by es_process_timestamp_t desc |project node=kubernetes_node_name_s,namespace=kubernetes_namespace_s,pod=kubernetes_pod_name_s,container=kubernetes_container_name_s,[\"message time\"]=es_process_timestamp_t,Message"
            ],
            "metadata": {
                "azdata_cell_guid": "f5057dbf-fe5c-4609-8838-5a7b0db33d2c"
            },
            "outputs": [
                {
                    "data": {
                        "text/plain": "<IPython.core.display.HTML object>",
                        "text/html": "<html>\n        <head>\n            \n            \n        </head>\n        <body>\n            <div><p style=' padding: 10px; color: #3a87ad; background-color: #d9edf7; border-color: #bce9f1'>&nbsp;*&nbsp;loggyben@loganalytics</p></div>\n        </body>\n        </html>"
                    },
                    "metadata": {},
                    "output_type": "display_data"
                },
                {
                    "data": {
                        "text/plain": "           node namespace         pod  container              message time  \\\n0   singlebeard       arc  hyperben-0  arc-sqlmi 2021-07-29 08:50:09+00:00   \n1   singlebeard       arc  hyperben-0  arc-sqlmi 2021-07-29 08:44:41+00:00   \n2   singlebeard       arc  hyperben-0  arc-sqlmi 2021-07-29 08:39:09+00:00   \n3   singlebeard       arc  hyperben-0  arc-sqlmi 2021-07-29 08:33:41+00:00   \n4   singlebeard       arc  hyperben-0  arc-sqlmi 2021-07-29 08:28:09+00:00   \n5   singlebeard       arc  hyperben-0  arc-sqlmi 2021-07-29 08:22:41+00:00   \n6   singlebeard       arc  hyperben-0  arc-sqlmi 2021-07-29 08:17:09+00:00   \n7   singlebeard       arc  hyperben-0  arc-sqlmi 2021-07-29 08:11:41+00:00   \n8   singlebeard       arc  hyperben-0  arc-sqlmi 2021-07-29 08:06:09+00:00   \n9   singlebeard       arc  hyperben-0  arc-sqlmi 2021-07-29 08:00:41+00:00   \n10  singlebeard       arc  hyperben-0  arc-sqlmi 2021-07-29 08:00:36+00:00   \n11  singlebeard       arc  hyperben-0  arc-sqlmi 2021-07-29 08:00:36+00:00   \n12  singlebeard       arc  hyperben-0  arc-sqlmi 2021-07-29 07:59:41+00:00   \n13  singlebeard       arc  hyperben-0  arc-sqlmi 2021-07-29 07:59:36+00:00   \n\n                                              Message  \n0   Backup      Log was backed up. Database: BenBe...  \n1   Backup      Log was backed up. Database: BenBe...  \n2   Backup      Log was backed up. Database: BenBe...  \n3   Backup      Log was backed up. Database: BenBe...  \n4   Backup      Log was backed up. Database: BenBe...  \n5   Backup      Log was backed up. Database: BenBe...  \n6   Backup      Log was backed up. Database: BenBe...  \n7   Backup      Log was backed up. Database: BenBe...  \n8   Backup      Log was backed up. Database: BenBe...  \n9   Backup      BACKUP DATABASE WITH DIFFERENTIAL ...  \n10  Backup      Log was backed up. Database: BenBe...  \n11  Backup      Database differential changes were...  \n12  Backup      BACKUP DATABASE successfully proce...  \n13  Backup      Database backed up. Database: BenB...  ",
                        "text/html": "<div>\n<style scoped>\n    .dataframe tbody tr th:only-of-type {\n        vertical-align: middle;\n    }\n\n    .dataframe tbody tr th {\n        vertical-align: top;\n    }\n\n    .dataframe thead th {\n        text-align: right;\n    }\n</style>\n<table border=\"1\" class=\"dataframe\">\n  <thead>\n    <tr style=\"text-align: right;\">\n      <th></th>\n      <th>node</th>\n      <th>namespace</th>\n      <th>pod</th>\n      <th>container</th>\n      <th>message time</th>\n      <th>Message</th>\n    </tr>\n  </thead>\n  <tbody>\n    <tr>\n      <th>0</th>\n      <td>singlebeard</td>\n      <td>arc</td>\n      <td>hyperben-0</td>\n      <td>arc-sqlmi</td>\n      <td>2021-07-29 08:50:09+00:00</td>\n      <td>Backup      Log was backed up. Database: BenBe...</td>\n    </tr>\n    <tr>\n      <th>1</th>\n      <td>singlebeard</td>\n      <td>arc</td>\n      <td>hyperben-0</td>\n      <td>arc-sqlmi</td>\n      <td>2021-07-29 08:44:41+00:00</td>\n      <td>Backup      Log was backed up. Database: BenBe...</td>\n    </tr>\n    <tr>\n      <th>2</th>\n      <td>singlebeard</td>\n      <td>arc</td>\n      <td>hyperben-0</td>\n      <td>arc-sqlmi</td>\n      <td>2021-07-29 08:39:09+00:00</td>\n      <td>Backup      Log was backed up. Database: BenBe...</td>\n    </tr>\n    <tr>\n      <th>3</th>\n      <td>singlebeard</td>\n      <td>arc</td>\n      <td>hyperben-0</td>\n      <td>arc-sqlmi</td>\n      <td>2021-07-29 08:33:41+00:00</td>\n      <td>Backup      Log was backed up. Database: BenBe...</td>\n    </tr>\n    <tr>\n      <th>4</th>\n      <td>singlebeard</td>\n      <td>arc</td>\n      <td>hyperben-0</td>\n      <td>arc-sqlmi</td>\n      <td>2021-07-29 08:28:09+00:00</td>\n      <td>Backup      Log was backed up. Database: BenBe...</td>\n    </tr>\n    <tr>\n      <th>5</th>\n      <td>singlebeard</td>\n      <td>arc</td>\n      <td>hyperben-0</td>\n      <td>arc-sqlmi</td>\n      <td>2021-07-29 08:22:41+00:00</td>\n      <td>Backup      Log was backed up. Database: BenBe...</td>\n    </tr>\n    <tr>\n      <th>6</th>\n      <td>singlebeard</td>\n      <td>arc</td>\n      <td>hyperben-0</td>\n      <td>arc-sqlmi</td>\n      <td>2021-07-29 08:17:09+00:00</td>\n      <td>Backup      Log was backed up. Database: BenBe...</td>\n    </tr>\n    <tr>\n      <th>7</th>\n      <td>singlebeard</td>\n      <td>arc</td>\n      <td>hyperben-0</td>\n      <td>arc-sqlmi</td>\n      <td>2021-07-29 08:11:41+00:00</td>\n      <td>Backup      Log was backed up. Database: BenBe...</td>\n    </tr>\n    <tr>\n      <th>8</th>\n      <td>singlebeard</td>\n      <td>arc</td>\n      <td>hyperben-0</td>\n      <td>arc-sqlmi</td>\n      <td>2021-07-29 08:06:09+00:00</td>\n      <td>Backup      Log was backed up. Database: BenBe...</td>\n    </tr>\n    <tr>\n      <th>9</th>\n      <td>singlebeard</td>\n      <td>arc</td>\n      <td>hyperben-0</td>\n      <td>arc-sqlmi</td>\n      <td>2021-07-29 08:00:41+00:00</td>\n      <td>Backup      BACKUP DATABASE WITH DIFFERENTIAL ...</td>\n    </tr>\n    <tr>\n      <th>10</th>\n      <td>singlebeard</td>\n      <td>arc</td>\n      <td>hyperben-0</td>\n      <td>arc-sqlmi</td>\n      <td>2021-07-29 08:00:36+00:00</td>\n      <td>Backup      Log was backed up. Database: BenBe...</td>\n    </tr>\n    <tr>\n      <th>11</th>\n      <td>singlebeard</td>\n      <td>arc</td>\n      <td>hyperben-0</td>\n      <td>arc-sqlmi</td>\n      <td>2021-07-29 08:00:36+00:00</td>\n      <td>Backup      Database differential changes were...</td>\n    </tr>\n    <tr>\n      <th>12</th>\n      <td>singlebeard</td>\n      <td>arc</td>\n      <td>hyperben-0</td>\n      <td>arc-sqlmi</td>\n      <td>2021-07-29 07:59:41+00:00</td>\n      <td>Backup      BACKUP DATABASE successfully proce...</td>\n    </tr>\n    <tr>\n      <th>13</th>\n      <td>singlebeard</td>\n      <td>arc</td>\n      <td>hyperben-0</td>\n      <td>arc-sqlmi</td>\n      <td>2021-07-29 07:59:36+00:00</td>\n      <td>Backup      Database backed up. Database: BenB...</td>\n    </tr>\n  </tbody>\n</table>\n</div>",
                        "application/vnd.dataresource+json": {
                            "schema": {
                                "fields": [
                                    {
                                        "name": "node",
                                        "type": "string"
                                    },
                                    {
                                        "name": "namespace",
                                        "type": "string"
                                    },
                                    {
                                        "name": "pod",
                                        "type": "string"
                                    },
                                    {
                                        "name": "container",
                                        "type": "string"
                                    },
                                    {
                                        "name": "message time",
                                        "type": "datetime",
                                        "tz": "UTC"
                                    },
                                    {
                                        "name": "Message",
                                        "type": "string"
                                    }
                                ],
                                "kqmagic_version": "0.1.114.post2"
                            },
                            "data": [
                                {
                                    "node": "singlebeard",
                                    "namespace": "arc",
                                    "pod": "hyperben-0",
                                    "container": "arc-sqlmi",
                                    "message time": "2021-07-29T08:50:09.000Z",
                                    "Message": "Backup      Log was backed up. Database: BenBenjiBenBenBen, creation date(time): 2021/07/29(07:59:07), first LSN: 44:3784:1, last LSN: 44:3808:1, number of dump devices: 1, device information: (FILE=1, TYPE=DISK: {'/var/opt/mssql/backups/current/BenBenjiBenBenBen/Log-20210729085006-522c67ff-a84a-4b96-95ea-c58b98e4847f.bak'}). This is an informational message only. No user action is required."
                                },
                                {
                                    "node": "singlebeard",
                                    "namespace": "arc",
                                    "pod": "hyperben-0",
                                    "container": "arc-sqlmi",
                                    "message time": "2021-07-29T08:44:41.000Z",
                                    "Message": "Backup      Log was backed up. Database: BenBenjiBenBenBen, creation date(time): 2021/07/29(07:59:07), first LSN: 44:3760:1, last LSN: 44:3784:1, number of dump devices: 1, device information: (FILE=1, TYPE=DISK: {'/var/opt/mssql/backups/current/BenBenjiBenBenBen/Log-20210729084436-6d6607ea-3ab7-4d70-b89f-f300a04e8ee8.bak'}). This is an informational message only. No user action is required."
                                },
                                {
                                    "node": "singlebeard",
                                    "namespace": "arc",
                                    "pod": "hyperben-0",
                                    "container": "arc-sqlmi",
                                    "message time": "2021-07-29T08:39:09.000Z",
                                    "Message": "Backup      Log was backed up. Database: BenBenjiBenBenBen, creation date(time): 2021/07/29(07:59:07), first LSN: 44:3736:1, last LSN: 44:3760:1, number of dump devices: 1, device information: (FILE=1, TYPE=DISK: {'/var/opt/mssql/backups/current/BenBenjiBenBenBen/Log-20210729083906-66e4e18a-52f3-4ff9-90f5-128630401e5e.bak'}). This is an informational message only. No user action is required."
                                },
                                {
                                    "node": "singlebeard",
                                    "namespace": "arc",
                                    "pod": "hyperben-0",
                                    "container": "arc-sqlmi",
                                    "message time": "2021-07-29T08:33:41.000Z",
                                    "Message": "Backup      Log was backed up. Database: BenBenjiBenBenBen, creation date(time): 2021/07/29(07:59:07), first LSN: 44:3712:1, last LSN: 44:3736:1, number of dump devices: 1, device information: (FILE=1, TYPE=DISK: {'/var/opt/mssql/backups/current/BenBenjiBenBenBen/Log-20210729083336-9d00823f-805a-41d2-a863-0edfb2d41377.bak'}). This is an informational message only. No user action is required."
                                },
                                {
                                    "node": "singlebeard",
                                    "namespace": "arc",
                                    "pod": "hyperben-0",
                                    "container": "arc-sqlmi",
                                    "message time": "2021-07-29T08:28:09.000Z",
                                    "Message": "Backup      Log was backed up. Database: BenBenjiBenBenBen, creation date(time): 2021/07/29(07:59:07), first LSN: 44:3688:1, last LSN: 44:3712:1, number of dump devices: 1, device information: (FILE=1, TYPE=DISK: {'/var/opt/mssql/backups/current/BenBenjiBenBenBen/Log-20210729082806-16e78b98-3e6a-473c-b2f5-7ff5781077b2.bak'}). This is an informational message only. No user action is required."
                                },
                                {
                                    "node": "singlebeard",
                                    "namespace": "arc",
                                    "pod": "hyperben-0",
                                    "container": "arc-sqlmi",
                                    "message time": "2021-07-29T08:22:41.000Z",
                                    "Message": "Backup      Log was backed up. Database: BenBenjiBenBenBen, creation date(time): 2021/07/29(07:59:07), first LSN: 44:3648:1, last LSN: 44:3688:1, number of dump devices: 1, device information: (FILE=1, TYPE=DISK: {'/var/opt/mssql/backups/current/BenBenjiBenBenBen/Log-20210729082236-8e0d96ef-4e4a-41ab-840b-d58c3e0ce288.bak'}). This is an informational message only. No user action is required."
                                },
                                {
                                    "node": "singlebeard",
                                    "namespace": "arc",
                                    "pod": "hyperben-0",
                                    "container": "arc-sqlmi",
                                    "message time": "2021-07-29T08:17:09.000Z",
                                    "Message": "Backup      Log was backed up. Database: BenBenjiBenBenBen, creation date(time): 2021/07/29(07:59:07), first LSN: 44:3560:1, last LSN: 44:3648:1, number of dump devices: 1, device information: (FILE=1, TYPE=DISK: {'/var/opt/mssql/backups/current/BenBenjiBenBenBen/Log-20210729081706-22589489-7ba6-47e5-9fce-ec075536a834.bak'}). This is an informational message only. No user action is required."
                                },
                                {
                                    "node": "singlebeard",
                                    "namespace": "arc",
                                    "pod": "hyperben-0",
                                    "container": "arc-sqlmi",
                                    "message time": "2021-07-29T08:11:41.000Z",
                                    "Message": "Backup      Log was backed up. Database: BenBenjiBenBenBen, creation date(time): 2021/07/29(07:59:07), first LSN: 37:416:1, last LSN: 44:3560:1, number of dump devices: 1, device information: (FILE=1, TYPE=DISK: {'/var/opt/mssql/backups/current/BenBenjiBenBenBen/Log-20210729081136-b49a2e7b-91e0-445c-afa2-06cccb51593f.bak'}). This is an informational message only. No user action is required."
                                },
                                {
                                    "node": "singlebeard",
                                    "namespace": "arc",
                                    "pod": "hyperben-0",
                                    "container": "arc-sqlmi",
                                    "message time": "2021-07-29T08:06:09.000Z",
                                    "Message": "Backup      Log was backed up. Database: BenBenjiBenBenBen, creation date(time): 2021/07/29(07:59:07), first LSN: 37:312:1, last LSN: 37:416:1, number of dump devices: 1, device information: (FILE=1, TYPE=DISK: {'/var/opt/mssql/backups/current/BenBenjiBenBenBen/Log-20210729080606-6d9f9e4f-3476-40a1-a31e-4d7253c62494.bak'}). This is an informational message only. No user action is required."
                                },
                                {
                                    "node": "singlebeard",
                                    "namespace": "arc",
                                    "pod": "hyperben-0",
                                    "container": "arc-sqlmi",
                                    "message time": "2021-07-29T08:00:41.000Z",
                                    "Message": "Backup      BACKUP DATABASE WITH DIFFERENTIAL successfully processed 66 pages in 0.027 seconds (18.952 MB/sec)."
                                },
                                {
                                    "node": "singlebeard",
                                    "namespace": "arc",
                                    "pod": "hyperben-0",
                                    "container": "arc-sqlmi",
                                    "message time": "2021-07-29T08:00:36.000Z",
                                    "Message": "Backup      Log was backed up. Database: BenBenjiBenBenBen, creation date(time): 2021/07/29(07:59:07), first LSN: 37:264:1, last LSN: 37:312:1, number of dump devices: 1, device information: (FILE=1, TYPE=DISK: {'/var/opt/mssql/backups/current/BenBenjiBenBenBen/Log-20210729080036-d8685603-bf9c-4daa-8a2c-9c083205b93d.bak'}). This is an informational message only. No user action is required."
                                },
                                {
                                    "node": "singlebeard",
                                    "namespace": "arc",
                                    "pod": "hyperben-0",
                                    "container": "arc-sqlmi",
                                    "message time": "2021-07-29T08:00:36.000Z",
                                    "Message": "Backup      Database differential changes were backed up. Database: BenBenjiBenBenBen, creation date(time): 2021/07/29(07:59:07), pages dumped: 75, first LSN: 37:392:1, last LSN: 37:416:1, full backup LSN: 37:264:1, number of dump devices: 1, device information: (FILE=1, TYPE=DISK: {'/var/opt/mssql/backups/current/BenBenjiBenBenBen/Differential-20210729080036-43a94b76-dd71-47bf-a633-e6a618e14f8d.bak'}). This is an informational message. No user action is required."
                                },
                                {
                                    "node": "singlebeard",
                                    "namespace": "arc",
                                    "pod": "hyperben-0",
                                    "container": "arc-sqlmi",
                                    "message time": "2021-07-29T07:59:41.000Z",
                                    "Message": "Backup      BACKUP DATABASE successfully processed 322 pages in 0.040 seconds (62.792 MB/sec)."
                                },
                                {
                                    "node": "singlebeard",
                                    "namespace": "arc",
                                    "pod": "hyperben-0",
                                    "container": "arc-sqlmi",
                                    "message time": "2021-07-29T07:59:36.000Z",
                                    "Message": "Backup      Database backed up. Database: BenBenjiBenBenBen, creation date(time): 2021/07/29(07:59:07), pages dumped: 331, first LSN: 37:264:1, last LSN: 37:288:1, number of dump devices: 1, device information: (FILE=1, TYPE=DISK: {'/var/opt/mssql/backups/current-temp/BenBenjiBenBenBen/Full-20210729075936-1a5f80d7-cf45-4388-a1b1-8531ed1a5ff4.bak'}). This is an informational message only. No user action is required."
                                }
                            ]
                        }
                    },
                    "metadata": {},
                    "output_type": "display_data"
                },
                {
                    "data": {
                        "text/plain": "<IPython.core.display.HTML object>",
                        "text/html": "<html>\n        <head>\n            \n            \n        </head>\n        <body>\n            <div><p style=' padding: 10px; color: #3a87ad; background-color: #d9edf7; border-color: #bce9f1'>Done&nbsp;(00:01.089):&nbsp;14&nbsp;records</p></div>\n        </body>\n        </html>"
                    },
                    "metadata": {},
                    "output_type": "display_data"
                },
                {
                    "data": {
                        "text/plain": "[{'node': 'singlebeard', 'namespace': 'arc', 'pod': 'hyperben-0', 'container': 'arc-sqlmi', 'message time': datetime.datetime(2021, 7, 29, 8, 50, 9, tzinfo=tzutc()), 'Message': \"Backup      Log was backed up. Database: BenBenjiBenBenBen, creation date(time): 2021/07/29(07:59:07), first LSN: 44:3784:1, last LSN: 44:3808:1, number of dump devices: 1, device information: (FILE=1, TYPE=DISK: {'/var/opt/mssql/backups/current/BenBenjiBenBenBen/Log-20210729085006-522c67ff-a84a-4b96-95ea-c58b98e4847f.bak'}). This is an informational message only. No user action is required.\"},\n {'node': 'singlebeard', 'namespace': 'arc', 'pod': 'hyperben-0', 'container': 'arc-sqlmi', 'message time': datetime.datetime(2021, 7, 29, 8, 44, 41, tzinfo=tzutc()), 'Message': \"Backup      Log was backed up. Database: BenBenjiBenBenBen, creation date(time): 2021/07/29(07:59:07), first LSN: 44:3760:1, last LSN: 44:3784:1, number of dump devices: 1, device information: (FILE=1, TYPE=DISK: {'/var/opt/mssql/backups/current/BenBenjiBenBenBen/Log-20210729084436-6d6607ea-3ab7-4d70-b89f-f300a04e8ee8.bak'}). This is an informational message only. No user action is required.\"},\n {'node': 'singlebeard', 'namespace': 'arc', 'pod': 'hyperben-0', 'container': 'arc-sqlmi', 'message time': datetime.datetime(2021, 7, 29, 8, 39, 9, tzinfo=tzutc()), 'Message': \"Backup      Log was backed up. Database: BenBenjiBenBenBen, creation date(time): 2021/07/29(07:59:07), first LSN: 44:3736:1, last LSN: 44:3760:1, number of dump devices: 1, device information: (FILE=1, TYPE=DISK: {'/var/opt/mssql/backups/current/BenBenjiBenBenBen/Log-20210729083906-66e4e18a-52f3-4ff9-90f5-128630401e5e.bak'}). This is an informational message only. No user action is required.\"},\n {'node': 'singlebeard', 'namespace': 'arc', 'pod': 'hyperben-0', 'container': 'arc-sqlmi', 'message time': datetime.datetime(2021, 7, 29, 8, 33, 41, tzinfo=tzutc()), 'Message': \"Backup      Log was backed up. Database: BenBenjiBenBenBen, creation date(time): 2021/07/29(07:59:07), first LSN: 44:3712:1, last LSN: 44:3736:1, number of dump devices: 1, device information: (FILE=1, TYPE=DISK: {'/var/opt/mssql/backups/current/BenBenjiBenBenBen/Log-20210729083336-9d00823f-805a-41d2-a863-0edfb2d41377.bak'}). This is an informational message only. No user action is required.\"},\n {'node': 'singlebeard', 'namespace': 'arc', 'pod': 'hyperben-0', 'container': 'arc-sqlmi', 'message time': datetime.datetime(2021, 7, 29, 8, 28, 9, tzinfo=tzutc()), 'Message': \"Backup      Log was backed up. Database: BenBenjiBenBenBen, creation date(time): 2021/07/29(07:59:07), first LSN: 44:3688:1, last LSN: 44:3712:1, number of dump devices: 1, device information: (FILE=1, TYPE=DISK: {'/var/opt/mssql/backups/current/BenBenjiBenBenBen/Log-20210729082806-16e78b98-3e6a-473c-b2f5-7ff5781077b2.bak'}). This is an informational message only. No user action is required.\"},\n {'node': 'singlebeard', 'namespace': 'arc', 'pod': 'hyperben-0', 'container': 'arc-sqlmi', 'message time': datetime.datetime(2021, 7, 29, 8, 22, 41, tzinfo=tzutc()), 'Message': \"Backup      Log was backed up. Database: BenBenjiBenBenBen, creation date(time): 2021/07/29(07:59:07), first LSN: 44:3648:1, last LSN: 44:3688:1, number of dump devices: 1, device information: (FILE=1, TYPE=DISK: {'/var/opt/mssql/backups/current/BenBenjiBenBenBen/Log-20210729082236-8e0d96ef-4e4a-41ab-840b-d58c3e0ce288.bak'}). This is an informational message only. No user action is required.\"},\n {'node': 'singlebeard', 'namespace': 'arc', 'pod': 'hyperben-0', 'container': 'arc-sqlmi', 'message time': datetime.datetime(2021, 7, 29, 8, 17, 9, tzinfo=tzutc()), 'Message': \"Backup      Log was backed up. Database: BenBenjiBenBenBen, creation date(time): 2021/07/29(07:59:07), first LSN: 44:3560:1, last LSN: 44:3648:1, number of dump devices: 1, device information: (FILE=1, TYPE=DISK: {'/var/opt/mssql/backups/current/BenBenjiBenBenBen/Log-20210729081706-22589489-7ba6-47e5-9fce-ec075536a834.bak'}). This is an informational message only. No user action is required.\"},\n {'node': 'singlebeard', 'namespace': 'arc', 'pod': 'hyperben-0', 'container': 'arc-sqlmi', 'message time': datetime.datetime(2021, 7, 29, 8, 11, 41, tzinfo=tzutc()), 'Message': \"Backup      Log was backed up. Database: BenBenjiBenBenBen, creation date(time): 2021/07/29(07:59:07), first LSN: 37:416:1, last LSN: 44:3560:1, number of dump devices: 1, device information: (FILE=1, TYPE=DISK: {'/var/opt/mssql/backups/current/BenBenjiBenBenBen/Log-20210729081136-b49a2e7b-91e0-445c-afa2-06cccb51593f.bak'}). This is an informational message only. No user action is required.\"},\n {'node': 'singlebeard', 'namespace': 'arc', 'pod': 'hyperben-0', 'container': 'arc-sqlmi', 'message time': datetime.datetime(2021, 7, 29, 8, 6, 9, tzinfo=tzutc()), 'Message': \"Backup      Log was backed up. Database: BenBenjiBenBenBen, creation date(time): 2021/07/29(07:59:07), first LSN: 37:312:1, last LSN: 37:416:1, number of dump devices: 1, device information: (FILE=1, TYPE=DISK: {'/var/opt/mssql/backups/current/BenBenjiBenBenBen/Log-20210729080606-6d9f9e4f-3476-40a1-a31e-4d7253c62494.bak'}). This is an informational message only. No user action is required.\"},\n {'node': 'singlebeard', 'namespace': 'arc', 'pod': 'hyperben-0', 'container': 'arc-sqlmi', 'message time': datetime.datetime(2021, 7, 29, 8, 0, 41, tzinfo=tzutc()), 'Message': 'Backup      BACKUP DATABASE WITH DIFFERENTIAL successfully processed 66 pages in 0.027 seconds (18.952 MB/sec).'},\n {'node': 'singlebeard', 'namespace': 'arc', 'pod': 'hyperben-0', 'container': 'arc-sqlmi', 'message time': datetime.datetime(2021, 7, 29, 8, 0, 36, tzinfo=tzutc()), 'Message': \"Backup      Log was backed up. Database: BenBenjiBenBenBen, creation date(time): 2021/07/29(07:59:07), first LSN: 37:264:1, last LSN: 37:312:1, number of dump devices: 1, device information: (FILE=1, TYPE=DISK: {'/var/opt/mssql/backups/current/BenBenjiBenBenBen/Log-20210729080036-d8685603-bf9c-4daa-8a2c-9c083205b93d.bak'}). This is an informational message only. No user action is required.\"},\n {'node': 'singlebeard', 'namespace': 'arc', 'pod': 'hyperben-0', 'container': 'arc-sqlmi', 'message time': datetime.datetime(2021, 7, 29, 8, 0, 36, tzinfo=tzutc()), 'Message': \"Backup      Database differential changes were backed up. Database: BenBenjiBenBenBen, creation date(time): 2021/07/29(07:59:07), pages dumped: 75, first LSN: 37:392:1, last LSN: 37:416:1, full backup LSN: 37:264:1, number of dump devices: 1, device information: (FILE=1, TYPE=DISK: {'/var/opt/mssql/backups/current/BenBenjiBenBenBen/Differential-20210729080036-43a94b76-dd71-47bf-a633-e6a618e14f8d.bak'}). This is an informational message. No user action is required.\"},\n {'node': 'singlebeard', 'namespace': 'arc', 'pod': 'hyperben-0', 'container': 'arc-sqlmi', 'message time': datetime.datetime(2021, 7, 29, 7, 59, 41, tzinfo=tzutc()), 'Message': 'Backup      BACKUP DATABASE successfully processed 322 pages in 0.040 seconds (62.792 MB/sec).'},\n {'node': 'singlebeard', 'namespace': 'arc', 'pod': 'hyperben-0', 'container': 'arc-sqlmi', 'message time': datetime.datetime(2021, 7, 29, 7, 59, 36, tzinfo=tzutc()), 'Message': \"Backup      Database backed up. Database: BenBenjiBenBenBen, creation date(time): 2021/07/29(07:59:07), pages dumped: 331, first LSN: 37:264:1, last LSN: 37:288:1, number of dump devices: 1, device information: (FILE=1, TYPE=DISK: {'/var/opt/mssql/backups/current-temp/BenBenjiBenBenBen/Full-20210729075936-1a5f80d7-cf45-4388-a1b1-8531ed1a5ff4.bak'}). This is an informational message only. No user action is required.\"}]",
                        "text/html": ""
                    },
                    "metadata": {},
                    "execution_count": 6,
                    "output_type": "execute_result"
                }
            ],
            "execution_count": 6
        },
        {
            "cell_type": "markdown",
            "source": [
                "### Show Me"
            ],
            "metadata": {
                "azdata_cell_guid": "501e7500-8817-497b-83a3-c6c9bac1e8c4"
            }
        },
        {
            "cell_type": "code",
            "source": [
                "%kql sqlManagedInstances_logs_CL | where Message startswith \"Logon       Login \"| sort by es_process_timestamp_t desc | summarize NoOfFailedLogins=count() by Hour=bin(es_process_timestamp_t,1h) | render columnchart "
            ],
            "metadata": {
                "azdata_cell_guid": "5c7ee984-1b6b-46fb-8882-7fb02898c42f"
            },
            "outputs": [
                {
                    "data": {
                        "text/plain": "<IPython.core.display.HTML object>",
                        "text/html": "<html>\n        <head>\n            \n            \n        </head>\n        <body>\n            <div><p style=' padding: 10px; color: #3a87ad; background-color: #d9edf7; border-color: #bce9f1'>&nbsp;*&nbsp;loggyben@loganalytics</p></div>\n        </body>\n        </html>"
                    },
                    "metadata": {},
                    "output_type": "display_data"
                },
                {
                    "data": {
                        "application/vnd.plotly.v1+json": {
                            "config": {
                                "plotlyServerURL": "https://plot.ly"
                            },
                            "data": [
                                {
                                    "marker": {
                                        "color": "rgb(31, 118, 179)"
                                    },
                                    "name": "NoOfFailedLogins",
                                    "orientation": "v",
                                    "type": "bar",
                                    "x": [
                                        "2021-07-28T11:00:00+00:00",
                                        "2021-07-28T12:00:00+00:00",
                                        "2021-07-28T13:00:00+00:00",
                                        "2021-07-29T07:00:00+00:00",
                                        "2021-07-29T08:00:00+00:00"
                                    ],
                                    "y": [
                                        23,
                                        1,
                                        1,
                                        4,
                                        4
                                    ]
                                }
                            ],
                            "layout": {
                                "showlegend": true,
                                "template": {
                                    "data": {
                                        "bar": [
                                            {
                                                "error_x": {
                                                    "color": "#2a3f5f"
                                                },
                                                "error_y": {
                                                    "color": "#2a3f5f"
                                                },
                                                "marker": {
                                                    "line": {
                                                        "color": "#E5ECF6",
                                                        "width": 0.5
                                                    }
                                                },
                                                "type": "bar"
                                            }
                                        ],
                                        "barpolar": [
                                            {
                                                "marker": {
                                                    "line": {
                                                        "color": "#E5ECF6",
                                                        "width": 0.5
                                                    }
                                                },
                                                "type": "barpolar"
                                            }
                                        ],
                                        "carpet": [
                                            {
                                                "aaxis": {
                                                    "endlinecolor": "#2a3f5f",
                                                    "gridcolor": "white",
                                                    "linecolor": "white",
                                                    "minorgridcolor": "white",
                                                    "startlinecolor": "#2a3f5f"
                                                },
                                                "baxis": {
                                                    "endlinecolor": "#2a3f5f",
                                                    "gridcolor": "white",
                                                    "linecolor": "white",
                                                    "minorgridcolor": "white",
                                                    "startlinecolor": "#2a3f5f"
                                                },
                                                "type": "carpet"
                                            }
                                        ],
                                        "choropleth": [
                                            {
                                                "colorbar": {
                                                    "outlinewidth": 0,
                                                    "ticks": ""
                                                },
                                                "type": "choropleth"
                                            }
                                        ],
                                        "contour": [
                                            {
                                                "colorbar": {
                                                    "outlinewidth": 0,
                                                    "ticks": ""
                                                },
                                                "colorscale": [
                                                    [
                                                        0,
                                                        "#0d0887"
                                                    ],
                                                    [
                                                        0.1111111111111111,
                                                        "#46039f"
                                                    ],
                                                    [
                                                        0.2222222222222222,
                                                        "#7201a8"
                                                    ],
                                                    [
                                                        0.3333333333333333,
                                                        "#9c179e"
                                                    ],
                                                    [
                                                        0.4444444444444444,
                                                        "#bd3786"
                                                    ],
                                                    [
                                                        0.5555555555555556,
                                                        "#d8576b"
                                                    ],
                                                    [
                                                        0.6666666666666666,
                                                        "#ed7953"
                                                    ],
                                                    [
                                                        0.7777777777777778,
                                                        "#fb9f3a"
                                                    ],
                                                    [
                                                        0.8888888888888888,
                                                        "#fdca26"
                                                    ],
                                                    [
                                                        1,
                                                        "#f0f921"
                                                    ]
                                                ],
                                                "type": "contour"
                                            }
                                        ],
                                        "contourcarpet": [
                                            {
                                                "colorbar": {
                                                    "outlinewidth": 0,
                                                    "ticks": ""
                                                },
                                                "type": "contourcarpet"
                                            }
                                        ],
                                        "heatmap": [
                                            {
                                                "colorbar": {
                                                    "outlinewidth": 0,
                                                    "ticks": ""
                                                },
                                                "colorscale": [
                                                    [
                                                        0,
                                                        "#0d0887"
                                                    ],
                                                    [
                                                        0.1111111111111111,
                                                        "#46039f"
                                                    ],
                                                    [
                                                        0.2222222222222222,
                                                        "#7201a8"
                                                    ],
                                                    [
                                                        0.3333333333333333,
                                                        "#9c179e"
                                                    ],
                                                    [
                                                        0.4444444444444444,
                                                        "#bd3786"
                                                    ],
                                                    [
                                                        0.5555555555555556,
                                                        "#d8576b"
                                                    ],
                                                    [
                                                        0.6666666666666666,
                                                        "#ed7953"
                                                    ],
                                                    [
                                                        0.7777777777777778,
                                                        "#fb9f3a"
                                                    ],
                                                    [
                                                        0.8888888888888888,
                                                        "#fdca26"
                                                    ],
                                                    [
                                                        1,
                                                        "#f0f921"
                                                    ]
                                                ],
                                                "type": "heatmap"
                                            }
                                        ],
                                        "heatmapgl": [
                                            {
                                                "colorbar": {
                                                    "outlinewidth": 0,
                                                    "ticks": ""
                                                },
                                                "colorscale": [
                                                    [
                                                        0,
                                                        "#0d0887"
                                                    ],
                                                    [
                                                        0.1111111111111111,
                                                        "#46039f"
                                                    ],
                                                    [
                                                        0.2222222222222222,
                                                        "#7201a8"
                                                    ],
                                                    [
                                                        0.3333333333333333,
                                                        "#9c179e"
                                                    ],
                                                    [
                                                        0.4444444444444444,
                                                        "#bd3786"
                                                    ],
                                                    [
                                                        0.5555555555555556,
                                                        "#d8576b"
                                                    ],
                                                    [
                                                        0.6666666666666666,
                                                        "#ed7953"
                                                    ],
                                                    [
                                                        0.7777777777777778,
                                                        "#fb9f3a"
                                                    ],
                                                    [
                                                        0.8888888888888888,
                                                        "#fdca26"
                                                    ],
                                                    [
                                                        1,
                                                        "#f0f921"
                                                    ]
                                                ],
                                                "type": "heatmapgl"
                                            }
                                        ],
                                        "histogram": [
                                            {
                                                "marker": {
                                                    "colorbar": {
                                                        "outlinewidth": 0,
                                                        "ticks": ""
                                                    }
                                                },
                                                "type": "histogram"
                                            }
                                        ],
                                        "histogram2d": [
                                            {
                                                "colorbar": {
                                                    "outlinewidth": 0,
                                                    "ticks": ""
                                                },
                                                "colorscale": [
                                                    [
                                                        0,
                                                        "#0d0887"
                                                    ],
                                                    [
                                                        0.1111111111111111,
                                                        "#46039f"
                                                    ],
                                                    [
                                                        0.2222222222222222,
                                                        "#7201a8"
                                                    ],
                                                    [
                                                        0.3333333333333333,
                                                        "#9c179e"
                                                    ],
                                                    [
                                                        0.4444444444444444,
                                                        "#bd3786"
                                                    ],
                                                    [
                                                        0.5555555555555556,
                                                        "#d8576b"
                                                    ],
                                                    [
                                                        0.6666666666666666,
                                                        "#ed7953"
                                                    ],
                                                    [
                                                        0.7777777777777778,
                                                        "#fb9f3a"
                                                    ],
                                                    [
                                                        0.8888888888888888,
                                                        "#fdca26"
                                                    ],
                                                    [
                                                        1,
                                                        "#f0f921"
                                                    ]
                                                ],
                                                "type": "histogram2d"
                                            }
                                        ],
                                        "histogram2dcontour": [
                                            {
                                                "colorbar": {
                                                    "outlinewidth": 0,
                                                    "ticks": ""
                                                },
                                                "colorscale": [
                                                    [
                                                        0,
                                                        "#0d0887"
                                                    ],
                                                    [
                                                        0.1111111111111111,
                                                        "#46039f"
                                                    ],
                                                    [
                                                        0.2222222222222222,
                                                        "#7201a8"
                                                    ],
                                                    [
                                                        0.3333333333333333,
                                                        "#9c179e"
                                                    ],
                                                    [
                                                        0.4444444444444444,
                                                        "#bd3786"
                                                    ],
                                                    [
                                                        0.5555555555555556,
                                                        "#d8576b"
                                                    ],
                                                    [
                                                        0.6666666666666666,
                                                        "#ed7953"
                                                    ],
                                                    [
                                                        0.7777777777777778,
                                                        "#fb9f3a"
                                                    ],
                                                    [
                                                        0.8888888888888888,
                                                        "#fdca26"
                                                    ],
                                                    [
                                                        1,
                                                        "#f0f921"
                                                    ]
                                                ],
                                                "type": "histogram2dcontour"
                                            }
                                        ],
                                        "mesh3d": [
                                            {
                                                "colorbar": {
                                                    "outlinewidth": 0,
                                                    "ticks": ""
                                                },
                                                "type": "mesh3d"
                                            }
                                        ],
                                        "parcoords": [
                                            {
                                                "line": {
                                                    "colorbar": {
                                                        "outlinewidth": 0,
                                                        "ticks": ""
                                                    }
                                                },
                                                "type": "parcoords"
                                            }
                                        ],
                                        "pie": [
                                            {
                                                "automargin": true,
                                                "type": "pie"
                                            }
                                        ],
                                        "scatter": [
                                            {
                                                "marker": {
                                                    "colorbar": {
                                                        "outlinewidth": 0,
                                                        "ticks": ""
                                                    }
                                                },
                                                "type": "scatter"
                                            }
                                        ],
                                        "scatter3d": [
                                            {
                                                "line": {
                                                    "colorbar": {
                                                        "outlinewidth": 0,
                                                        "ticks": ""
                                                    }
                                                },
                                                "marker": {
                                                    "colorbar": {
                                                        "outlinewidth": 0,
                                                        "ticks": ""
                                                    }
                                                },
                                                "type": "scatter3d"
                                            }
                                        ],
                                        "scattercarpet": [
                                            {
                                                "marker": {
                                                    "colorbar": {
                                                        "outlinewidth": 0,
                                                        "ticks": ""
                                                    }
                                                },
                                                "type": "scattercarpet"
                                            }
                                        ],
                                        "scattergeo": [
                                            {
                                                "marker": {
                                                    "colorbar": {
                                                        "outlinewidth": 0,
                                                        "ticks": ""
                                                    }
                                                },
                                                "type": "scattergeo"
                                            }
                                        ],
                                        "scattergl": [
                                            {
                                                "marker": {
                                                    "colorbar": {
                                                        "outlinewidth": 0,
                                                        "ticks": ""
                                                    }
                                                },
                                                "type": "scattergl"
                                            }
                                        ],
                                        "scattermapbox": [
                                            {
                                                "marker": {
                                                    "colorbar": {
                                                        "outlinewidth": 0,
                                                        "ticks": ""
                                                    }
                                                },
                                                "type": "scattermapbox"
                                            }
                                        ],
                                        "scatterpolar": [
                                            {
                                                "marker": {
                                                    "colorbar": {
                                                        "outlinewidth": 0,
                                                        "ticks": ""
                                                    }
                                                },
                                                "type": "scatterpolar"
                                            }
                                        ],
                                        "scatterpolargl": [
                                            {
                                                "marker": {
                                                    "colorbar": {
                                                        "outlinewidth": 0,
                                                        "ticks": ""
                                                    }
                                                },
                                                "type": "scatterpolargl"
                                            }
                                        ],
                                        "scatterternary": [
                                            {
                                                "marker": {
                                                    "colorbar": {
                                                        "outlinewidth": 0,
                                                        "ticks": ""
                                                    }
                                                },
                                                "type": "scatterternary"
                                            }
                                        ],
                                        "surface": [
                                            {
                                                "colorbar": {
                                                    "outlinewidth": 0,
                                                    "ticks": ""
                                                },
                                                "colorscale": [
                                                    [
                                                        0,
                                                        "#0d0887"
                                                    ],
                                                    [
                                                        0.1111111111111111,
                                                        "#46039f"
                                                    ],
                                                    [
                                                        0.2222222222222222,
                                                        "#7201a8"
                                                    ],
                                                    [
                                                        0.3333333333333333,
                                                        "#9c179e"
                                                    ],
                                                    [
                                                        0.4444444444444444,
                                                        "#bd3786"
                                                    ],
                                                    [
                                                        0.5555555555555556,
                                                        "#d8576b"
                                                    ],
                                                    [
                                                        0.6666666666666666,
                                                        "#ed7953"
                                                    ],
                                                    [
                                                        0.7777777777777778,
                                                        "#fb9f3a"
                                                    ],
                                                    [
                                                        0.8888888888888888,
                                                        "#fdca26"
                                                    ],
                                                    [
                                                        1,
                                                        "#f0f921"
                                                    ]
                                                ],
                                                "type": "surface"
                                            }
                                        ],
                                        "table": [
                                            {
                                                "cells": {
                                                    "fill": {
                                                        "color": "#EBF0F8"
                                                    },
                                                    "line": {
                                                        "color": "white"
                                                    }
                                                },
                                                "header": {
                                                    "fill": {
                                                        "color": "#C8D4E3"
                                                    },
                                                    "line": {
                                                        "color": "white"
                                                    }
                                                },
                                                "type": "table"
                                            }
                                        ]
                                    },
                                    "layout": {
                                        "annotationdefaults": {
                                            "arrowcolor": "#2a3f5f",
                                            "arrowhead": 0,
                                            "arrowwidth": 1
                                        },
                                        "coloraxis": {
                                            "colorbar": {
                                                "outlinewidth": 0,
                                                "ticks": ""
                                            }
                                        },
                                        "colorscale": {
                                            "diverging": [
                                                [
                                                    0,
                                                    "#8e0152"
                                                ],
                                                [
                                                    0.1,
                                                    "#c51b7d"
                                                ],
                                                [
                                                    0.2,
                                                    "#de77ae"
                                                ],
                                                [
                                                    0.3,
                                                    "#f1b6da"
                                                ],
                                                [
                                                    0.4,
                                                    "#fde0ef"
                                                ],
                                                [
                                                    0.5,
                                                    "#f7f7f7"
                                                ],
                                                [
                                                    0.6,
                                                    "#e6f5d0"
                                                ],
                                                [
                                                    0.7,
                                                    "#b8e186"
                                                ],
                                                [
                                                    0.8,
                                                    "#7fbc41"
                                                ],
                                                [
                                                    0.9,
                                                    "#4d9221"
                                                ],
                                                [
                                                    1,
                                                    "#276419"
                                                ]
                                            ],
                                            "sequential": [
                                                [
                                                    0,
                                                    "#0d0887"
                                                ],
                                                [
                                                    0.1111111111111111,
                                                    "#46039f"
                                                ],
                                                [
                                                    0.2222222222222222,
                                                    "#7201a8"
                                                ],
                                                [
                                                    0.3333333333333333,
                                                    "#9c179e"
                                                ],
                                                [
                                                    0.4444444444444444,
                                                    "#bd3786"
                                                ],
                                                [
                                                    0.5555555555555556,
                                                    "#d8576b"
                                                ],
                                                [
                                                    0.6666666666666666,
                                                    "#ed7953"
                                                ],
                                                [
                                                    0.7777777777777778,
                                                    "#fb9f3a"
                                                ],
                                                [
                                                    0.8888888888888888,
                                                    "#fdca26"
                                                ],
                                                [
                                                    1,
                                                    "#f0f921"
                                                ]
                                            ],
                                            "sequentialminus": [
                                                [
                                                    0,
                                                    "#0d0887"
                                                ],
                                                [
                                                    0.1111111111111111,
                                                    "#46039f"
                                                ],
                                                [
                                                    0.2222222222222222,
                                                    "#7201a8"
                                                ],
                                                [
                                                    0.3333333333333333,
                                                    "#9c179e"
                                                ],
                                                [
                                                    0.4444444444444444,
                                                    "#bd3786"
                                                ],
                                                [
                                                    0.5555555555555556,
                                                    "#d8576b"
                                                ],
                                                [
                                                    0.6666666666666666,
                                                    "#ed7953"
                                                ],
                                                [
                                                    0.7777777777777778,
                                                    "#fb9f3a"
                                                ],
                                                [
                                                    0.8888888888888888,
                                                    "#fdca26"
                                                ],
                                                [
                                                    1,
                                                    "#f0f921"
                                                ]
                                            ]
                                        },
                                        "colorway": [
                                            "#636efa",
                                            "#EF553B",
                                            "#00cc96",
                                            "#ab63fa",
                                            "#FFA15A",
                                            "#19d3f3",
                                            "#FF6692",
                                            "#B6E880",
                                            "#FF97FF",
                                            "#FECB52"
                                        ],
                                        "font": {
                                            "color": "#2a3f5f"
                                        },
                                        "geo": {
                                            "bgcolor": "white",
                                            "lakecolor": "white",
                                            "landcolor": "#E5ECF6",
                                            "showlakes": true,
                                            "showland": true,
                                            "subunitcolor": "white"
                                        },
                                        "hoverlabel": {
                                            "align": "left"
                                        },
                                        "hovermode": "closest",
                                        "mapbox": {
                                            "style": "light"
                                        },
                                        "paper_bgcolor": "white",
                                        "plot_bgcolor": "#E5ECF6",
                                        "polar": {
                                            "angularaxis": {
                                                "gridcolor": "white",
                                                "linecolor": "white",
                                                "ticks": ""
                                            },
                                            "bgcolor": "#E5ECF6",
                                            "radialaxis": {
                                                "gridcolor": "white",
                                                "linecolor": "white",
                                                "ticks": ""
                                            }
                                        },
                                        "scene": {
                                            "xaxis": {
                                                "backgroundcolor": "#E5ECF6",
                                                "gridcolor": "white",
                                                "gridwidth": 2,
                                                "linecolor": "white",
                                                "showbackground": true,
                                                "ticks": "",
                                                "zerolinecolor": "white"
                                            },
                                            "yaxis": {
                                                "backgroundcolor": "#E5ECF6",
                                                "gridcolor": "white",
                                                "gridwidth": 2,
                                                "linecolor": "white",
                                                "showbackground": true,
                                                "ticks": "",
                                                "zerolinecolor": "white"
                                            },
                                            "zaxis": {
                                                "backgroundcolor": "#E5ECF6",
                                                "gridcolor": "white",
                                                "gridwidth": 2,
                                                "linecolor": "white",
                                                "showbackground": true,
                                                "ticks": "",
                                                "zerolinecolor": "white"
                                            }
                                        },
                                        "shapedefaults": {
                                            "line": {
                                                "color": "#2a3f5f"
                                            }
                                        },
                                        "ternary": {
                                            "aaxis": {
                                                "gridcolor": "white",
                                                "linecolor": "white",
                                                "ticks": ""
                                            },
                                            "baxis": {
                                                "gridcolor": "white",
                                                "linecolor": "white",
                                                "ticks": ""
                                            },
                                            "bgcolor": "#E5ECF6",
                                            "caxis": {
                                                "gridcolor": "white",
                                                "linecolor": "white",
                                                "ticks": ""
                                            }
                                        },
                                        "title": {
                                            "x": 0.05
                                        },
                                        "xaxis": {
                                            "automargin": true,
                                            "gridcolor": "white",
                                            "linecolor": "white",
                                            "ticks": "",
                                            "title": {
                                                "standoff": 15
                                            },
                                            "zerolinecolor": "white",
                                            "zerolinewidth": 2
                                        },
                                        "yaxis": {
                                            "automargin": true,
                                            "gridcolor": "white",
                                            "linecolor": "white",
                                            "ticks": "",
                                            "title": {
                                                "standoff": 15
                                            },
                                            "zerolinecolor": "white",
                                            "zerolinewidth": 2
                                        }
                                    }
                                },
                                "title": {
                                    "text": "columnchart"
                                },
                                "xaxis": {
                                    "ticksuffix": "",
                                    "title": {
                                        "text": "Hour"
                                    },
                                    "type": "date"
                                },
                                "yaxis": {
                                    "title": {
                                        "text": "NoOfFailedLogins"
                                    },
                                    "type": "linear"
                                }
                            }
                        }
                    },
                    "metadata": {},
                    "output_type": "display_data"
                },
                {
                    "data": {
                        "text/plain": "<IPython.core.display.HTML object>",
                        "text/html": "<html>\n        <head>\n            \n            \n        </head>\n        <body>\n            <div><p style=' padding: 10px; color: #3a87ad; background-color: #d9edf7; border-color: #bce9f1'>Done&nbsp;(00:00.704):&nbsp;5&nbsp;records</p></div>\n        </body>\n        </html>"
                    },
                    "metadata": {},
                    "output_type": "display_data"
                },
                {
                    "data": {
                        "text/plain": "[{'Hour': datetime.datetime(2021, 7, 28, 11, 0, tzinfo=tzutc()), 'NoOfFailedLogins': 23},\n {'Hour': datetime.datetime(2021, 7, 28, 12, 0, tzinfo=tzutc()), 'NoOfFailedLogins': 1},\n {'Hour': datetime.datetime(2021, 7, 29, 7, 0, tzinfo=tzutc()), 'NoOfFailedLogins': 4},\n {'Hour': datetime.datetime(2021, 7, 29, 8, 0, tzinfo=tzutc()), 'NoOfFailedLogins': 4},\n {'Hour': datetime.datetime(2021, 7, 28, 13, 0, tzinfo=tzutc()), 'NoOfFailedLogins': 1}]",
                        "text/html": ""
                    },
                    "metadata": {},
                    "execution_count": 7,
                    "output_type": "execute_result"
                }
            ],
            "execution_count": 7
        }
    ]
}