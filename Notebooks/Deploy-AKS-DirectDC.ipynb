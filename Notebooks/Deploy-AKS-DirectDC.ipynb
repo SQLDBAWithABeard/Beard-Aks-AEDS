{
 "cells": [
  {
   "cell_type": "markdown",
   "metadata": {},
   "source": [
    "# Azure Arc Enabled SQL Managed Instance in AKS\r\n",
    "\r\n",
    "This notebook and repo will create a\r\n",
    "- AKS Cluster\r\n",
    "- Custom Location\r\n",
    "- Azure Arc Enabled Direct Connected Data Controller\r\n",
    "- 3 replica Azure Arc Enabled SQL Managed Instance\r\n",
    "\r\n",
    "It requires\r\n",
    "\r\n",
    "- Azure Cli [install from here](https://docs.microsoft.com/en-us/cli/azure/install-azure-cli) \r\n",
    "- kubectl - I install with chocolatey `choco install kubernetes-cli -y` or [install instructions](https://kubernetes.io/docs/tasks/tools/install-kubectl-windows/)\r\n",
    "\r\n",
    "## First set some variables for the session\r\n",
    "\r\n",
    "I use the SecretsManagement PowerShell module to store my secrets which can be installed with `Install-Module SecretsManagement`. I add secrets with `Set-Secret -Name nameofsecret -Secret secretvalue`.\r\n"
   ]
  },
  {
   "cell_type": "code",
   "execution_count": null,
   "metadata": {
    "dotnet_interactive": {
     "language": "pwsh"
    }
   },
   "outputs": [],
   "source": [
    "$location = 'eastus' # Azure location\r\n",
    "$resourceGroup = 'beardarc' # Exisiting resource group\r\n",
    "\r\n",
    "$aksClusterName = 'beard-aks-cluster' #name of the AKS cluster\r\n",
    "$clusterNodePoolSize = \"Standard_DS4_v2\" # VM size of the AKS cluster\r\n",
    "$customLocation  = 'beard-aks-cluster-location' # Name of the custom location\r\n",
    "$dataController= \"ben-aks-direct\" # name of the data controller\r\n",
    "\r\n",
    "# I store the user name and password for the data controller with SecretsManagement\r\n",
    "$benscreds = New-Object System.Management.Automation.PSCredential ((Get-Secret -Name beardmi-benadmin-user -AsPlainText), (Get-Secret -Name beardmi-benadmin-pwd))\r\n",
    "$ENV:AZDATA_USERNAME=\"$($benscreds.UserName)\"\r\n",
    "$ENV:AZDATA_PASSWORD=\"$($benscreds.GetNetworkCredential().Password)\"\r\n",
    "$ENV:ACCEPT_EULA = 'yes'\r\n",
    "$subscription_id = New-Object System.Management.Automation.PSCredential ('subscription-id', (Get-Secret -Name subscription-id)) \r\n",
    "$ENV:SUBSCRIPTION = \"$($subscription_id.GetNetworkCredential().Password)\"\r\n"
   ]
  },
  {
   "cell_type": "markdown",
   "metadata": {},
   "source": [
    "## Create the AKS Cluster\r\n",
    "\r\n",
    "Using Azure Cli log into Azure and create an AKS"
   ]
  },
  {
   "cell_type": "code",
   "execution_count": null,
   "metadata": {
    "dotnet_interactive": {
     "language": "pwsh"
    }
   },
   "outputs": [],
   "source": [
    "# az login\r\n",
    "az account set -s $ENV:SUBSCRIPTION \r\n",
    "az aks create -g $resourceGroup -n $aksClusterName --node-vm-size $clusterNodePoolSize # --generate-ssh-keys \r\n",
    "az aks get-credentials -g $resourceGroup -n $aksClusterName --overwrite-existing"
   ]
  },
  {
   "cell_type": "markdown",
   "metadata": {},
   "source": [
    "# Check that the cluster is running\r\n",
    "\r\n",
    "Using kubectl check that the nodes are ready, they should be named `aks-nodepool*`"
   ]
  },
  {
   "cell_type": "code",
   "execution_count": null,
   "metadata": {
    "dotnet_interactive": {
     "language": "pwsh"
    }
   },
   "outputs": [],
   "source": [
    "kubectl get nodes"
   ]
  },
  {
   "cell_type": "markdown",
   "metadata": {},
   "source": [
    "# AZ Cli Extensions\r\n",
    "\r\n",
    "ensure that we have the latest versions of the required AZ Cli extensions\r\n",
    "\r\n",
    "Open a seperate PowerShell window and run this - PowerShell Interactive Notebooks dont like this command!!\r\n",
    "\r\n",
    "````\r\n",
    "az extension add --name connectedk8s  \r\n",
    "az extension add --name k8s-extension  \r\n",
    "az extension add --name customlocation  \r\n",
    "az extension add --name arcdata  \r\n",
    "az extension update --name connectedk8s  \r\n",
    "az extension update --name k8s-extension  \r\n",
    "az extension update --name customlocation  \r\n",
    "az extension update --name arcdata  \r\n",
    "````"
   ]
  },
  {
   "cell_type": "code",
   "execution_count": null,
   "metadata": {
    "dotnet_interactive": {
     "language": "pwsh"
    }
   },
   "outputs": [],
   "source": []
  }
 ],
 "metadata": {
  "kernelspec": {
   "display_name": ".NET (PowerShell)",
   "language": "PowerShell",
   "name": ".net-powershell"
  },
  "language_info": {
   "name": "PowerShell",
   "version": ""
  }
 },
 "nbformat": 4,
 "nbformat_minor": 2
}