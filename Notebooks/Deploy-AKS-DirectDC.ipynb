{
 "cells": [
  {
   "cell_type": "markdown",
   "metadata": {},
   "source": [
    "# Azure Arc Enabled SQL Managed Instance in AKS\r\n",
    "\r\n",
    "This notebook and repo will create a\r\n",
    "- AKS Cluster\r\n",
    "- Custom Location\r\n",
    "- Azure Arc Enabled Direct Connected Data Controller\r\n",
    "- 3 replica Azure Arc Enabled SQL Managed Instance\r\n",
    "\r\n",
    "It requires\r\n",
    "\r\n",
    "- Azure Cli [install from here](https://docs.microsoft.com/en-us/cli/azure/install-azure-cli) \r\n",
    "- kubectl - I install with chocolatey `choco install kubernetes-cli -y` or [install instructions](https://kubernetes.io/docs/tasks/tools/install-kubectl-windows/)\r\n",
    "\r\n",
    "## First set some variables for the session\r\n",
    "\r\n",
    "I use the SecretsManagement PowerShell module to store my secrets which can be installed with `Install-Module SecretsManagement`. I add secrets with `Set-Secret -Name nameofsecret -Secret secretvalue`.\r\n"
   ]
  },
  {
   "cell_type": "code",
   "execution_count": null,
   "metadata": {
    "dotnet_interactive": {
     "language": "pwsh"
    }
   },
   "outputs": [],
   "source": [
    "$location = 'eastus' # Azure location\r\n",
    "$resourceGroup = 'beardarc' # Exisiting resource group\r\n",
    "\r\n",
    "$aksClusterName = 'beard-aks-cluster' #name of the AKS cluster\r\n",
    "$clusterNodePoolSize = \"Standard_DS4_v2\" # VM size of the AKS cluster\r\n",
    "$customLocation  = 'beard-aks-cluster-location' # Name of the custom location\r\n",
    "$dataController= \"ben-aks-direct\" # name of the data controller\r\n",
    "\r\n",
    "# I store the user name and password for the data controller with SecretsManagement\r\n",
    "$benscreds = New-Object System.Management.Automation.PSCredential ((Get-Secret -Name beardmi-benadmin-user -AsPlainText), (Get-Secret -Name beardmi-benadmin-pwd))\r\n",
    "$ENV:AZDATA_USERNAME=\"$($benscreds.UserName)\"\r\n",
    "$ENV:AZDATA_PASSWORD=\"$($benscreds.GetNetworkCredential().Password)\"\r\n",
    "$ENV:ACCEPT_EULA = 'yes'\r\n",
    "$subscription_id = New-Object System.Management.Automation.PSCredential ('subscription-id', (Get-Secret -Name subscription-id)) \r\n",
    "$ENV:SUBSCRIPTION = \"$($subscription_id.GetNetworkCredential().Password)\"\r\n"
   ]
  },
  {
   "cell_type": "markdown",
   "metadata": {},
   "source": [
    "## Create the AKS Cluster\r\n",
    "\r\n",
    "Using Azure Cli log into Azure and create an AKS"
   ]
  },
  {
   "cell_type": "code",
   "execution_count": null,
   "metadata": {
    "dotnet_interactive": {
     "language": "pwsh"
    }
   },
   "outputs": [
    {
     "data": {
      "text/plain": [
       "{\r\n"
      ]
     },
     "output_type": "unknown"
    },
    {
     "data": {
      "text/plain": [
       "  \"aadProfile\": null,\r\n"
      ]
     },
     "output_type": "unknown"
    },
    {
     "data": {
      "text/plain": [
       "  \"addonProfiles\": null,\r\n"
      ]
     },
     "output_type": "unknown"
    },
    {
     "data": {
      "text/plain": [
       "  \"agentPoolProfiles\": [\r\n"
      ]
     },
     "output_type": "unknown"
    },
    {
     "data": {
      "text/plain": [
       "    {\r\n"
      ]
     },
     "output_type": "unknown"
    },
    {
     "data": {
      "text/plain": [
       "      \"availabilityZones\": null,\r\n"
      ]
     },
     "output_type": "unknown"
    },
    {
     "data": {
      "text/plain": [
       "      \"count\": 3,\r\n"
      ]
     },
     "output_type": "unknown"
    },
    {
     "data": {
      "text/plain": [
       "      \"enableAutoScaling\": null,\r\n"
      ]
     },
     "output_type": "unknown"
    },
    {
     "data": {
      "text/plain": [
       "      \"enableEncryptionAtHost\": false,\r\n"
      ]
     },
     "output_type": "unknown"
    },
    {
     "data": {
      "text/plain": [
       "      \"enableFips\": false,\r\n"
      ]
     },
     "output_type": "unknown"
    },
    {
     "data": {
      "text/plain": [
       "      \"enableNodePublicIp\": false,\r\n"
      ]
     },
     "output_type": "unknown"
    },
    {
     "data": {
      "text/plain": [
       "      \"gpuInstanceProfile\": null,\r\n"
      ]
     },
     "output_type": "unknown"
    },
    {
     "data": {
      "text/plain": [
       "      \"kubeletConfig\": null,\r\n"
      ]
     },
     "output_type": "unknown"
    },
    {
     "data": {
      "text/plain": [
       "      \"kubeletDiskType\": \"OS\",\r\n"
      ]
     },
     "output_type": "unknown"
    },
    {
     "data": {
      "text/plain": [
       "      \"linuxOsConfig\": null,\r\n"
      ]
     },
     "output_type": "unknown"
    },
    {
     "data": {
      "text/plain": [
       "      \"maxCount\": null,\r\n"
      ]
     },
     "output_type": "unknown"
    },
    {
     "data": {
      "text/plain": [
       "      \"maxPods\": 110,\r\n"
      ]
     },
     "output_type": "unknown"
    },
    {
     "data": {
      "text/plain": [
       "      \"minCount\": null,\r\n"
      ]
     },
     "output_type": "unknown"
    },
    {
     "data": {
      "text/plain": [
       "      \"mode\": \"System\",\r\n"
      ]
     },
     "output_type": "unknown"
    },
    {
     "data": {
      "text/plain": [
       "      \"name\": \"nodepool1\",\r\n"
      ]
     },
     "output_type": "unknown"
    },
    {
     "data": {
      "text/plain": [
       "      \"nodeImageVersion\": \"AKSUbuntu-1804gen2containerd-2021.06.09\",\r\n"
      ]
     },
     "output_type": "unknown"
    },
    {
     "data": {
      "text/plain": [
       "      \"nodeLabels\": {},\r\n"
      ]
     },
     "output_type": "unknown"
    },
    {
     "data": {
      "text/plain": [
       "      \"nodePublicIpPrefixId\": null,\r\n"
      ]
     },
     "output_type": "unknown"
    },
    {
     "data": {
      "text/plain": [
       "      \"nodeTaints\": null,\r\n"
      ]
     },
     "output_type": "unknown"
    },
    {
     "data": {
      "text/plain": [
       "      \"orchestratorVersion\": \"1.19.11\",\r\n"
      ]
     },
     "output_type": "unknown"
    },
    {
     "data": {
      "text/plain": [
       "      \"osDiskSizeGb\": 128,\r\n"
      ]
     },
     "output_type": "unknown"
    },
    {
     "data": {
      "text/plain": [
       "      \"osDiskType\": \"Ephemeral\",\r\n"
      ]
     },
     "output_type": "unknown"
    },
    {
     "data": {
      "text/plain": [
       "      \"osSku\": \"Ubuntu\",\r\n"
      ]
     },
     "output_type": "unknown"
    },
    {
     "data": {
      "text/plain": [
       "      \"osType\": \"Linux\",\r\n"
      ]
     },
     "output_type": "unknown"
    },
    {
     "data": {
      "text/plain": [
       "      \"podSubnetId\": null,\r\n"
      ]
     },
     "output_type": "unknown"
    },
    {
     "data": {
      "text/plain": [
       "      \"powerState\": {\r\n"
      ]
     },
     "output_type": "unknown"
    },
    {
     "data": {
      "text/plain": [
       "        \"code\": \"Running\"\r\n"
      ]
     },
     "output_type": "unknown"
    },
    {
     "data": {
      "text/plain": [
       "      },\r\n"
      ]
     },
     "output_type": "unknown"
    },
    {
     "data": {
      "text/plain": [
       "      \"provisioningState\": \"Succeeded\",\r\n"
      ]
     },
     "output_type": "unknown"
    },
    {
     "data": {
      "text/plain": [
       "      \"proximityPlacementGroupId\": null,\r\n"
      ]
     },
     "output_type": "unknown"
    },
    {
     "data": {
      "text/plain": [
       "      \"scaleSetEvictionPolicy\": null,\r\n"
      ]
     },
     "output_type": "unknown"
    },
    {
     "data": {
      "text/plain": [
       "      \"scaleSetPriority\": null,\r\n"
      ]
     },
     "output_type": "unknown"
    },
    {
     "data": {
      "text/plain": [
       "      \"spotMaxPrice\": null,\r\n"
      ]
     },
     "output_type": "unknown"
    },
    {
     "data": {
      "text/plain": [
       "      \"tags\": null,\r\n"
      ]
     },
     "output_type": "unknown"
    },
    {
     "data": {
      "text/plain": [
       "      \"type\": \"VirtualMachineScaleSets\",\r\n"
      ]
     },
     "output_type": "unknown"
    },
    {
     "data": {
      "text/plain": [
       "      \"upgradeSettings\": null,\r\n"
      ]
     },
     "output_type": "unknown"
    },
    {
     "data": {
      "text/plain": [
       "      \"vmSize\": \"Standard_DS4_v2\",\r\n"
      ]
     },
     "output_type": "unknown"
    },
    {
     "data": {
      "text/plain": [
       "      \"vnetSubnetId\": null\r\n"
      ]
     },
     "output_type": "unknown"
    },
    {
     "data": {
      "text/plain": [
       "    }\r\n"
      ]
     },
     "output_type": "unknown"
    },
    {
     "data": {
      "text/plain": [
       "  ],\r\n"
      ]
     },
     "output_type": "unknown"
    },
    {
     "data": {
      "text/plain": [
       "  \"apiServerAccessProfile\": null,\r\n"
      ]
     },
     "output_type": "unknown"
    },
    {
     "data": {
      "text/plain": [
       "  \"autoScalerProfile\": null,\r\n"
      ]
     },
     "output_type": "unknown"
    },
    {
     "data": {
      "text/plain": [
       "  \"autoUpgradeProfile\": null,\r\n"
      ]
     },
     "output_type": "unknown"
    },
    {
     "data": {
      "text/plain": [
       "  \"azurePortalFqdn\": \"beard-aks--beardarc-6d8f99-8022f290.portal.hcp.eastus.azmk8s.io\",\r\n"
      ]
     },
     "output_type": "unknown"
    },
    {
     "data": {
      "text/plain": [
       "  \"disableLocalAccounts\": null,\r\n"
      ]
     },
     "output_type": "unknown"
    },
    {
     "data": {
      "text/plain": [
       "  \"diskEncryptionSetId\": null,\r\n"
      ]
     },
     "output_type": "unknown"
    },
    {
     "data": {
      "text/plain": [
       "  \"dnsPrefix\": \"beard-aks--beardarc-6d8f99\",\r\n"
      ]
     },
     "output_type": "unknown"
    },
    {
     "data": {
      "text/plain": [
       "  \"enablePodSecurityPolicy\": null,\r\n"
      ]
     },
     "output_type": "unknown"
    },
    {
     "data": {
      "text/plain": [
       "  \"enableRbac\": true,\r\n"
      ]
     },
     "output_type": "unknown"
    },
    {
     "data": {
      "text/plain": [
       "  \"extendedLocation\": null,\r\n"
      ]
     },
     "output_type": "unknown"
    },
    {
     "data": {
      "text/plain": [
       "  \"fqdn\": \"beard-aks--beardarc-6d8f99-8022f290.hcp.eastus.azmk8s.io\",\r\n"
      ]
     },
     "output_type": "unknown"
    },
    {
     "data": {
      "text/plain": [
       "  \"fqdnSubdomain\": null,\r\n"
      ]
     },
     "output_type": "unknown"
    },
    {
     "data": {
      "text/plain": [
       "  \"httpProxyConfig\": null,\r\n"
      ]
     },
     "output_type": "unknown"
    },
    {
     "data": {
      "text/plain": [
       "  \"id\": \"/subscriptions/6d8f994c-9051-4cef-ba61-528bab27d213/resourcegroups/beardarc/providers/Microsoft.ContainerService/managedClusters/beard-aks-cluster\",\r\n"
      ]
     },
     "output_type": "unknown"
    },
    {
     "data": {
      "text/plain": [
       "  \"identity\": {\r\n"
      ]
     },
     "output_type": "unknown"
    },
    {
     "data": {
      "text/plain": [
       "    \"principalId\": \"6fc6babc-9e0f-4674-81d8-8fc3ff70ffdb\",\r\n"
      ]
     },
     "output_type": "unknown"
    },
    {
     "data": {
      "text/plain": [
       "    \"tenantId\": \"add02cc8-7eaf-4746-902a-53d0ceeff326\",\r\n"
      ]
     },
     "output_type": "unknown"
    },
    {
     "data": {
      "text/plain": [
       "    \"type\": \"SystemAssigned\",\r\n"
      ]
     },
     "output_type": "unknown"
    },
    {
     "data": {
      "text/plain": [
       "    \"userAssignedIdentities\": null\r\n"
      ]
     },
     "output_type": "unknown"
    },
    {
     "data": {
      "text/plain": [
       "  },\r\n"
      ]
     },
     "output_type": "unknown"
    },
    {
     "data": {
      "text/plain": [
       "  \"identityProfile\": {\r\n"
      ]
     },
     "output_type": "unknown"
    },
    {
     "data": {
      "text/plain": [
       "    \"kubeletidentity\": {\r\n"
      ]
     },
     "output_type": "unknown"
    },
    {
     "data": {
      "text/plain": [
       "      \"clientId\": \"2de1c925-ab66-456a-93d1-7166e29aa600\",\r\n"
      ]
     },
     "output_type": "unknown"
    },
    {
     "data": {
      "text/plain": [
       "      \"objectId\": \"969682c7-0832-4723-8495-a92d14271bf5\",\r\n"
      ]
     },
     "output_type": "unknown"
    },
    {
     "data": {
      "text/plain": [
       "      \"resourceId\": \"/subscriptions/6d8f994c-9051-4cef-ba61-528bab27d213/resourcegroups/MC_beardarc_beard-aks-cluster_eastus/providers/Microsoft.ManagedIdentity/userAssignedIdentities/beard-aks-cluster-agentpool\"\r\n"
      ]
     },
     "output_type": "unknown"
    },
    {
     "data": {
      "text/plain": [
       "    }\r\n"
      ]
     },
     "output_type": "unknown"
    },
    {
     "data": {
      "text/plain": [
       "  },\r\n"
      ]
     },
     "output_type": "unknown"
    },
    {
     "data": {
      "text/plain": [
       "  \"kubernetesVersion\": \"1.19.11\",\r\n"
      ]
     },
     "output_type": "unknown"
    },
    {
     "data": {
      "text/plain": [
       "  \"linuxProfile\": {\r\n"
      ]
     },
     "output_type": "unknown"
    },
    {
     "data": {
      "text/plain": [
       "    \"adminUsername\": \"azureuser\",\r\n"
      ]
     },
     "output_type": "unknown"
    },
    {
     "data": {
      "text/plain": [
       "    \"ssh\": {\r\n"
      ]
     },
     "output_type": "unknown"
    },
    {
     "data": {
      "text/plain": [
       "      \"publicKeys\": [\r\n"
      ]
     },
     "output_type": "unknown"
    },
    {
     "data": {
      "text/plain": [
       "        {\r\n"
      ]
     },
     "output_type": "unknown"
    },
    {
     "data": {
      "text/plain": [
       "          \"keyData\": \"ssh-rsa AAAAB3NzaC1yc2EAAAADAQABAAABAQDAu5Qi3xTmAuAQSPi2rUjrK6NDYE672y6q4pignuCzKk/zLx9t194vlc9Ry2ZKXqDQvAKT6ynv6nl7r/v+BgJkTSiObBqX+6i+U42hcu+AdXzWwYczqzK6GuCRjBqMuN8j1yPvRUi4U9lUqF6VNq86jMP1VJ95yDpHfKMm7ooFv/I2pNCZ2A9X9QBW1Akp3EJz0ZO/mhcEk61T9qwjyK0WUkgEhyLNvK5zcm9X1yr7IMfAYS1gPbu0MZ4R6v7SxK7zi24TdeVBWlFtW0DS7hpUujlS6Uu5JjyS5bL2IjwCBGICCmszTfFft6TlAYnww9YnLfYtF7vAL8hHbZ+i2q7l rob@sewells-consulting.co.uk\\n\"\r\n"
      ]
     },
     "output_type": "unknown"
    },
    {
     "data": {
      "text/plain": [
       "        }\r\n"
      ]
     },
     "output_type": "unknown"
    },
    {
     "data": {
      "text/plain": [
       "      ]\r\n"
      ]
     },
     "output_type": "unknown"
    },
    {
     "data": {
      "text/plain": [
       "    }\r\n"
      ]
     },
     "output_type": "unknown"
    },
    {
     "data": {
      "text/plain": [
       "  },\r\n"
      ]
     },
     "output_type": "unknown"
    },
    {
     "data": {
      "text/plain": [
       "  \"location\": \"eastus\",\r\n"
      ]
     },
     "output_type": "unknown"
    },
    {
     "data": {
      "text/plain": [
       "  \"maxAgentPools\": 100,\r\n"
      ]
     },
     "output_type": "unknown"
    },
    {
     "data": {
      "text/plain": [
       "  \"name\": \"beard-aks-cluster\",\r\n"
      ]
     },
     "output_type": "unknown"
    },
    {
     "data": {
      "text/plain": [
       "  \"networkProfile\": {\r\n"
      ]
     },
     "output_type": "unknown"
    },
    {
     "data": {
      "text/plain": [
       "    \"dnsServiceIp\": \"10.0.0.10\",\r\n"
      ]
     },
     "output_type": "unknown"
    },
    {
     "data": {
      "text/plain": [
       "    \"dockerBridgeCidr\": \"172.17.0.1/16\",\r\n"
      ]
     },
     "output_type": "unknown"
    },
    {
     "data": {
      "text/plain": [
       "    \"loadBalancerProfile\": {\r\n"
      ]
     },
     "output_type": "unknown"
    },
    {
     "data": {
      "text/plain": [
       "      \"allocatedOutboundPorts\": null,\r\n"
      ]
     },
     "output_type": "unknown"
    },
    {
     "data": {
      "text/plain": [
       "      \"effectiveOutboundIps\": [\r\n"
      ]
     },
     "output_type": "unknown"
    },
    {
     "data": {
      "text/plain": [
       "        {\r\n"
      ]
     },
     "output_type": "unknown"
    },
    {
     "data": {
      "text/plain": [
       "          \"id\": \"/subscriptions/6d8f994c-9051-4cef-ba61-528bab27d213/resourceGroups/MC_beardarc_beard-aks-cluster_eastus/providers/Microsoft.Network/publicIPAddresses/ce1c9723-ea3d-4b0d-917d-664dfa170efd\",\r\n"
      ]
     },
     "output_type": "unknown"
    },
    {
     "data": {
      "text/plain": [
       "          \"resourceGroup\": \"MC_beardarc_beard-aks-cluster_eastus\"\r\n"
      ]
     },
     "output_type": "unknown"
    },
    {
     "data": {
      "text/plain": [
       "        }\r\n"
      ]
     },
     "output_type": "unknown"
    },
    {
     "data": {
      "text/plain": [
       "      ],\r\n"
      ]
     },
     "output_type": "unknown"
    },
    {
     "data": {
      "text/plain": [
       "      \"idleTimeoutInMinutes\": null,\r\n"
      ]
     },
     "output_type": "unknown"
    },
    {
     "data": {
      "text/plain": [
       "      \"managedOutboundIps\": {\r\n"
      ]
     },
     "output_type": "unknown"
    },
    {
     "data": {
      "text/plain": [
       "        \"count\": 1\r\n"
      ]
     },
     "output_type": "unknown"
    },
    {
     "data": {
      "text/plain": [
       "      },\r\n"
      ]
     },
     "output_type": "unknown"
    },
    {
     "data": {
      "text/plain": [
       "      \"outboundIpPrefixes\": null,\r\n"
      ]
     },
     "output_type": "unknown"
    },
    {
     "data": {
      "text/plain": [
       "      \"outboundIps\": null\r\n"
      ]
     },
     "output_type": "unknown"
    },
    {
     "data": {
      "text/plain": [
       "    },\r\n"
      ]
     },
     "output_type": "unknown"
    },
    {
     "data": {
      "text/plain": [
       "    \"loadBalancerSku\": \"Standard\",\r\n"
      ]
     },
     "output_type": "unknown"
    },
    {
     "data": {
      "text/plain": [
       "    \"networkMode\": null,\r\n"
      ]
     },
     "output_type": "unknown"
    },
    {
     "data": {
      "text/plain": [
       "    \"networkPlugin\": \"kubenet\",\r\n"
      ]
     },
     "output_type": "unknown"
    },
    {
     "data": {
      "text/plain": [
       "    \"networkPolicy\": null,\r\n"
      ]
     },
     "output_type": "unknown"
    },
    {
     "data": {
      "text/plain": [
       "    \"outboundType\": \"loadBalancer\",\r\n"
      ]
     },
     "output_type": "unknown"
    },
    {
     "data": {
      "text/plain": [
       "    \"podCidr\": \"10.244.0.0/16\",\r\n"
      ]
     },
     "output_type": "unknown"
    },
    {
     "data": {
      "text/plain": [
       "    \"serviceCidr\": \"10.0.0.0/16\"\r\n"
      ]
     },
     "output_type": "unknown"
    },
    {
     "data": {
      "text/plain": [
       "  },\r\n"
      ]
     },
     "output_type": "unknown"
    },
    {
     "data": {
      "text/plain": [
       "  \"nodeResourceGroup\": \"MC_beardarc_beard-aks-cluster_eastus\",\r\n"
      ]
     },
     "output_type": "unknown"
    },
    {
     "data": {
      "text/plain": [
       "  \"podIdentityProfile\": null,\r\n"
      ]
     },
     "output_type": "unknown"
    },
    {
     "data": {
      "text/plain": [
       "  \"powerState\": {\r\n"
      ]
     },
     "output_type": "unknown"
    },
    {
     "data": {
      "text/plain": [
       "    \"code\": \"Running\"\r\n"
      ]
     },
     "output_type": "unknown"
    },
    {
     "data": {
      "text/plain": [
       "  },\r\n"
      ]
     },
     "output_type": "unknown"
    },
    {
     "data": {
      "text/plain": [
       "  \"privateFqdn\": null,\r\n"
      ]
     },
     "output_type": "unknown"
    },
    {
     "data": {
      "text/plain": [
       "  \"privateLinkResources\": null,\r\n"
      ]
     },
     "output_type": "unknown"
    },
    {
     "data": {
      "text/plain": [
       "  \"provisioningState\": \"Succeeded\",\r\n"
      ]
     },
     "output_type": "unknown"
    },
    {
     "data": {
      "text/plain": [
       "  \"resourceGroup\": \"beardarc\",\r\n"
      ]
     },
     "output_type": "unknown"
    },
    {
     "data": {
      "text/plain": [
       "  \"servicePrincipalProfile\": {\r\n"
      ]
     },
     "output_type": "unknown"
    },
    {
     "data": {
      "text/plain": [
       "    \"clientId\": \"msi\",\r\n"
      ]
     },
     "output_type": "unknown"
    },
    {
     "data": {
      "text/plain": [
       "    \"secret\": null\r\n"
      ]
     },
     "output_type": "unknown"
    },
    {
     "data": {
      "text/plain": [
       "  },\r\n"
      ]
     },
     "output_type": "unknown"
    },
    {
     "data": {
      "text/plain": [
       "  \"sku\": {\r\n"
      ]
     },
     "output_type": "unknown"
    },
    {
     "data": {
      "text/plain": [
       "    \"name\": \"Basic\",\r\n"
      ]
     },
     "output_type": "unknown"
    },
    {
     "data": {
      "text/plain": [
       "    \"tier\": \"Free\"\r\n"
      ]
     },
     "output_type": "unknown"
    },
    {
     "data": {
      "text/plain": [
       "  },\r\n"
      ]
     },
     "output_type": "unknown"
    },
    {
     "data": {
      "text/plain": [
       "  \"tags\": null,\r\n"
      ]
     },
     "output_type": "unknown"
    },
    {
     "data": {
      "text/plain": [
       "  \"type\": \"Microsoft.ContainerService/ManagedClusters\",\r\n"
      ]
     },
     "output_type": "unknown"
    },
    {
     "data": {
      "text/plain": [
       "  \"windowsProfile\": null\r\n"
      ]
     },
     "output_type": "unknown"
    },
    {
     "data": {
      "text/plain": [
       "}\r\n"
      ]
     },
     "output_type": "unknown"
    },
    {
     "data": {
      "text/plain": [
       "Merged \"beard-aks-cluster\" as current context in C:\\Users\\mrrob\\.kube\\config\r\n"
      ]
     },
     "output_type": "unknown"
    }
   ],
   "source": [
    "# az login\r\n",
    "az account set -s $ENV:SUBSCRIPTION \r\n",
    "az aks create -g $resourceGroup -n $aksClusterName --node-vm-size $clusterNodePoolSize # --generate-ssh-keys \r\n",
    "az aks get-credentials -g $resourceGroup -n $aksClusterName --overwrite-existing"
   ]
  },
  {
   "cell_type": "markdown",
   "metadata": {},
   "source": [
    "# Check that the cluster is running\r\n",
    "\r\n",
    "Using kubectl check that the nodes are ready, they should be named `aks-nodepool*`"
   ]
  },
  {
   "cell_type": "code",
   "execution_count": null,
   "metadata": {
    "dotnet_interactive": {
     "language": "pwsh"
    }
   },
   "outputs": [
    {
     "data": {
      "text/plain": [
       "NAME                                STATUS   ROLES   AGE   VERSION\r\n"
      ]
     },
     "output_type": "unknown"
    },
    {
     "data": {
      "text/plain": [
       "aks-nodepool1-25504130-vmss000000   Ready    agent   10m   v1.19.11\r\n"
      ]
     },
     "output_type": "unknown"
    },
    {
     "data": {
      "text/plain": [
       "aks-nodepool1-25504130-vmss000001   Ready    agent   10m   v1.19.11\r\n"
      ]
     },
     "output_type": "unknown"
    },
    {
     "data": {
      "text/plain": [
       "aks-nodepool1-25504130-vmss000002   Ready    agent   10m   v1.19.11\r\n"
      ]
     },
     "output_type": "unknown"
    }
   ],
   "source": [
    "kubectl get nodes"
   ]
  },
  {
   "cell_type": "markdown",
   "metadata": {},
   "source": [
    "# AZ Cli Extensions\r\n",
    "\r\n",
    "ensure that we have the latest versions of the required AZ Cli extensions\r\n",
    "\r\n",
    "Open a seperate PowerShell window and run this - PowerShell Interactive Notebooks dont like this command!!\r\n",
    "\r\n",
    "````\r\n",
    "az extension add --name connectedk8s  \r\n",
    "az extension add --name k8s-extension  \r\n",
    "az extension add --name customlocation  \r\n",
    "az extension add --name arcdata  \r\n",
    "az extension update --name connectedk8s  \r\n",
    "az extension update --name k8s-extension  \r\n",
    "az extension update --name customlocation  \r\n",
    "az extension update --name arcdata  \r\n",
    "````"
   ]
  },
  {
   "cell_type": "code",
   "execution_count": null,
   "metadata": {
    "dotnet_interactive": {
     "language": "pwsh"
    }
   },
   "outputs": [
    {
     "data": {
      "text/plain": [
       "WARNING: Extension 'connectedk8s' is already installed.\r\n"
      ]
     },
     "output_type": "unknown"
    },
    {
     "data": {
      "text/plain": [
       "WARNING: Extension 'k8s-extension' is already installed.\r\n"
      ]
     },
     "output_type": "unknown"
    },
    {
     "data": {
      "application/vnd.code.notebook.error": {
       "message": "System.OperationCanceledException: Command :SubmitCode: az extension add --name connectedk8s\r\naz extension ... cancelled.",
       "name": "Error"
      }
     },
     "output_type": "unknown"
    }
   ],
   "source": []
  }
 ],
 "metadata": {
  "kernelspec": {
   "display_name": ".NET (PowerShell)",
   "language": "PowerShell",
   "name": ".net-powershell"
  },
  "language_info": {
   "name": "PowerShell",
   "version": ""
  }
 },
 "nbformat": 4,
 "nbformat_minor": 2
}