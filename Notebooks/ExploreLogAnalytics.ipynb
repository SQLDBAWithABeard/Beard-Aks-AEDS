{
    "metadata": {
        "kernelspec": {
            "name": "python3",
            "display_name": "Python 3",
            "language": "python"
        },
        "language_info": {
            "name": "python",
            "version": "3.6.6",
            "mimetype": "text/x-python",
            "codemirror_mode": {
                "name": "ipython",
                "version": 3
            },
            "pygments_lexer": "ipython3",
            "nbconvert_exporter": "python",
            "file_extension": ".py"
        }
    },
    "nbformat_minor": 2,
    "nbformat": 4,
    "cells": [
        {
            "cell_type": "markdown",
            "source": [
                "# Set up Log Analytics\n",
                "\n",
                "You will need to set up the Notebook to use the KqlMagic package to connect to LogAnalytics. I click on the Add Packages button top right and search and install or you can"
            ],
            "metadata": {
                "azdata_cell_guid": "584c0d19-947f-4f78-adae-33fc83de0426"
            },
            "attachments": {}
        },
        {
            "cell_type": "code",
            "source": [
                "import sys\r\n",
                "!{sys.executable} -m pip install Kqlmagic --no-cache-dir --upgrade"
            ],
            "metadata": {
                "azdata_cell_guid": "c86567a6-ab58-47a9-9cbf-adad29917b96"
            },
            "outputs": [],
            "execution_count": null
        },
        {
            "cell_type": "markdown",
            "source": [
                "and check it is installed"
            ],
            "metadata": {
                "azdata_cell_guid": "cbec740d-921f-4af2-b4e8-c3990b3d83bf"
            },
            "attachments": {}
        },
        {
            "cell_type": "code",
            "source": [
                "import sys\r\n",
                "!{sys.executable} -m pip list"
            ],
            "metadata": {
                "azdata_cell_guid": "d111ae3c-d39b-4e92-a8f1-b48c2d755c75"
            },
            "outputs": [],
            "execution_count": null
        },
        {
            "cell_type": "markdown",
            "source": [
                "Then set the extension to open the web browser"
            ],
            "metadata": {
                "azdata_cell_guid": "bed77d2b-d00d-4181-8a82-6ecb895bc474"
            },
            "attachments": {}
        },
        {
            "cell_type": "code",
            "source": [
                "%config Kqlmagic.popup_interaction='webbrowser_open_at_kernel'"
            ],
            "metadata": {
                "azdata_cell_guid": "d7c17d1e-9d1a-4e74-a314-9c7442414a9b"
            },
            "outputs": [],
            "execution_count": 1
        },
        {
            "cell_type": "markdown",
            "source": [
                "Then load the extension into the Notebook"
            ],
            "metadata": {
                "azdata_cell_guid": "6f26fd62-ba65-42ab-8dcc-a53345f7282e"
            },
            "attachments": {}
        },
        {
            "cell_type": "code",
            "source": [
                "%reload_ext Kqlmagic"
            ],
            "metadata": {
                "azdata_cell_guid": "83e64780-1c96-4113-8bdf-f40daa184f23"
            },
            "outputs": [
                {
                    "data": {
                        "text/plain": "<IPython.core.display.HTML object>",
                        "text/html": "<html>\n            <head>\n            <title>Kqlmagic - banner</title>\n            <style>\n            .kql-magic-banner {\n                display: flex; \n                background-color: #d9edf7;\n            }\n            .kql-magic-banner > div {\n                margin: 10px; \n                padding: 20px; \n                color: #3a87ad; \n                font-size: 13px;\n            }\n            </style>\n            </head>\n            <body>\n                <div class='kql-magic-banner'>\n                    <div><img src='data:image/png;base64,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'></div>\n                    <div>\n                        <p>Kql Query Language, aka kql, is the query language for advanced analytics on Azure Monitor resources. The current supported data sources are \n                        Azure Data Explorer (Kusto), Log Analytics and Application Insights. To get more information execute '%kql --help \"kql\"'</p>\n                        <p>   \n                          &bull; \n                kql reference: Click on 'Help' tab > and Select 'kql reference' or execute '%kql --help \"kql\"'<br>\n                          &bull; \n                Kqlmagic configuration: execute '%config Kqlmagic'<br>\n                          &bull; \n                Kqlmagic usage: execute '%kql --usage'<br>\n                          &bull; \n                To report bug/issue: execute '%kql --bug-report'<br>                \n                        </p> \n                    </div>\n                </div>\n            </body>\n            </html>"
                    },
                    "metadata": {},
                    "output_type": "display_data"
                },
                {
                    "data": {
                        "text/plain": "<IPython.core.display.HTML object>",
                        "text/html": "<html>\n        <head>\n            \n            \n        </head>\n        <body>\n            <div><p style=' padding: 10px; color: #3a87ad; background-color: #d9edf7; border-color: #bce9f1'>Kqlmagic&nbsp;package&nbsp;is&nbsp;updated&nbsp;frequently.&nbsp;Run&nbsp;&apos;!pip&nbsp;install&nbsp;Kqlmagic&nbsp;--no-cache-dir&nbsp;--upgrade&apos;&nbsp;to&nbsp;use&nbsp;the&nbsp;latest&nbsp;version.<br>Kqlmagic&nbsp;version:&nbsp;0.1.114.post2,&nbsp;source:&nbsp;https://github.com/Microsoft/jupyter-Kqlmagic</p></div>\n        </body>\n        </html>"
                    },
                    "metadata": {},
                    "output_type": "display_data"
                },
                {
                    "data": {
                        "text/plain": "<IPython.core.display.HTML object>",
                        "text/html": "<!DOCTYPE html>\n            <html><body>\n            <div style='padding: 10px; color: #3a87ad; background-color: #d9edf7; border-color: #bce9f1'>\n            Click&nbsp;to&nbsp;find&nbsp;out&nbsp;what's&nbsp;new&nbsp;in&nbsp;Kqlmagic&nbsp;&nbsp;<a href='http://127.0.0.1:54192/webbrowser?url=http%3A//127.0.0.1%3A54192/files/.kqlmagic/temp_files/e46b05d5-492e-416c-b101-6c836764b20c/popup_what_new_history.html%3Fkernelid%3De46b05d5-492e-416c-b101-6c836764b20c&kernelid=e46b05d5-492e-416c-b101-6c836764b20c' style='padding: 2px 6px 2px 6px; color: #333333; background-color: #EEEEEE; border-top: 1px solid #CCCCCC; border-right: 1px solid #333333; border-bottom: 1px solid #333333; border-left: 1px solid #CCCCCC' target='popup_what_new_history'>What's New? </a>\n            </div>\n            </body></html>"
                    },
                    "metadata": {},
                    "output_type": "display_data"
                }
            ],
            "execution_count": 1
        },
        {
            "cell_type": "markdown",
            "source": [
                "You can find help"
            ],
            "metadata": {
                "azdata_cell_guid": "e14cf1eb-9466-45d4-92ec-cde6eeb98078"
            },
            "attachments": {}
        },
        {
            "cell_type": "code",
            "source": [
                "%kql --help \"help\" -popup_window"
            ],
            "metadata": {
                "azdata_cell_guid": "cc114fe8-88ab-46e4-ac4e-c7b8a289fdbf"
            },
            "outputs": [],
            "execution_count": null
        },
        {
            "cell_type": "code",
            "source": [
                "%kql --help \"LogAnalytics\""
            ],
            "metadata": {
                "azdata_cell_guid": "c3cc8989-cd33-4de1-9411-0939d418bde2"
            },
            "outputs": [],
            "execution_count": null
        },
        {
            "cell_type": "markdown",
            "source": [
                "## Make a connection to Log Analytics\n",
                "\n",
                "You will need your\n",
                "\n",
                "- tenantid \n",
                "- clientid of the App with permissions \n",
                "- Client secret for above \n",
                "- Log Analytics WorkSpace ID\n",
                "- Alias for the  log Analytics\n",
                "\n",
                "or you can use\n",
                "\n",
                "`%kql loganalytics://tenant='<tenantid>';clientid='<clientid>';clientsecret='<clientsecret>';workspace='<workspaceid>';alias='<alias>'`\n",
                "\n",
                "or you can follow [Julie Koesmarno](https://twitter.com/MsSQLGirl) example from [here](https://github.com/MsSQLGirl/jubilant-data-wizards/blob/main/Simple%20Demo/Parameterization/SQLDBLog/AzureSQLLogsAndMetricsWithLogAnalytics.ipynb) and log in from the browser with \n",
                "\n",
                "`\n",
                "%kql loganalytics://code;workspace=workspaceID;alias=\"myMonLog\"  -try-azcli-login-by-profile`"
            ],
            "metadata": {
                "azdata_cell_guid": "b63c1c4d-60ec-407b-b1bc-c631bb6b8b10"
            },
            "attachments": {}
        },
        {
            "cell_type": "code",
            "source": [
                "# Initialize variables\r\n",
                "\r\n",
                "workspaceID = ''\r\n",
                "tenant = ''\r\n",
                "clientid = ''\r\n",
                "clientsecret = ''\r\n",
                "alias = ''"
            ],
            "metadata": {
                "azdata_cell_guid": "fa2129ac-4123-4b0e-9223-3b2c4a786a48"
            },
            "outputs": [],
            "execution_count": 8
        },
        {
            "cell_type": "code",
            "source": [
                "if (workspaceID == ''):\r\n",
                "    workspaceID = input(\"Enter Log Analytics Workspace ID (guid)\")\r\n",
                "    #print(workspaceID)\r\n",
                "    print(\"workspaceID is set\")\r\n",
                "if (tenant == ''):\r\n",
                "    tenant = input(\"Enter tenant\")\r\n",
                "    #print(tenant)\r\n",
                "    print(\"tenant is set\")\r\n",
                "if (clientid == ''):\r\n",
                "    clientid = input(\"Enter clientid (guid)\")\r\n",
                "    #print(clientid)\r\n",
                "    print(\"clientid is set\")\r\n",
                "if (clientsecret == ''):\r\n",
                "    clientsecret = input(\"Enter clientsecret \")\r\n",
                "    #print(clientsecret)\r\n",
                "    print(\"clientsecret is set\")\r\n",
                "if (alias == ''):\r\n",
                "    alias = input(\"Enter alias \")\r\n",
                "    #print(alias)\r\n",
                "    print(\"alias is set\")"
            ],
            "metadata": {
                "azdata_cell_guid": "74a6ca90-93fa-4183-9c75-35bcfb5413bf"
            },
            "outputs": [
                {
                    "name": "stdout",
                    "text": "workspaceID is set\n",
                    "output_type": "stream"
                },
                {
                    "name": "stdout",
                    "text": "tenant is set\n",
                    "output_type": "stream"
                },
                {
                    "name": "stdout",
                    "text": "clientid is set\n",
                    "output_type": "stream"
                },
                {
                    "name": "stdout",
                    "text": "clientsecret is set\n",
                    "output_type": "stream"
                },
                {
                    "name": "stdout",
                    "text": "alias is set\n",
                    "output_type": "stream"
                }
            ],
            "execution_count": 9
        },
        {
            "cell_type": "code",
            "source": [
                "%kql loganalytics://tenant=tenant;clientid=clientid;clientsecret=clientsecret;workspace=workspaceID;alias=alias"
            ],
            "metadata": {
                "azdata_cell_guid": "d2b888bb-3d1e-45b3-bbd6-33d1a29da82b"
            },
            "outputs": [
                {
                    "data": {
                        "text/plain": "<IPython.core.display.HTML object>",
                        "text/html": "<!DOCTYPE html>\n            <html><body>\n            <div style=''>\n            <a href='http://127.0.0.1:54192/webbrowser?url=http%3A//127.0.0.1%3A54192/files/.kqlmagic/temp_files/e46b05d5-492e-416c-b101-6c836764b20c/popup__benlogs_at_loganalytics_schema.html%3Fkernelid%3De46b05d5-492e-416c-b101-6c836764b20c&kernelid=e46b05d5-492e-416c-b101-6c836764b20c' style='padding: 2px 6px 2px 6px; color: #333333; background-color: #EEEEEE; border-top: 1px solid #CCCCCC; border-right: 1px solid #333333; border-bottom: 1px solid #333333; border-left: 1px solid #CCCCCC' target='popup__benlogs_at_loganalytics_schema'>popup schema benlogs@loganalytics</a>\n            </div>\n            </body></html>"
                    },
                    "metadata": {},
                    "output_type": "display_data"
                }
            ],
            "execution_count": 10
        },
        {
            "cell_type": "markdown",
            "source": [
                "## Query the logs\r\n",
                "\r\n",
                "Now you can run Kusto Queries against the logs\r\n",
                "\r\n",
                "### Show me Failed Logins\r\n",
                "\r\n",
                ""
            ],
            "metadata": {
                "azdata_cell_guid": "5ef13fae-0367-4cbd-9f46-740f9c8c4fd5"
            }
        },
        {
            "cell_type": "code",
            "source": [
                "%kql sqlManagedInstances_logs_CL | where Message startswith \"Logon       Login \"| sort by es_process_timestamp_t desc |project node=kubernetes_node_name_s,namespace=kubernetes_namespace_s,pod=kubernetes_pod_name_s,container=kubernetes_container_name_s,[\"message time\"]=es_process_timestamp_t,Message"
            ],
            "metadata": {
                "azdata_cell_guid": "06f2d1d2-ab60-43de-8aaf-d21bf99fd09b"
            },
            "outputs": [
                {
                    "data": {
                        "text/plain": "<IPython.core.display.HTML object>",
                        "text/html": "<html>\n        <head>\n            \n            \n        </head>\n        <body>\n            <div><p style=' padding: 10px; color: #3a87ad; background-color: #d9edf7; border-color: #bce9f1'>&nbsp;*&nbsp;benlogs@loganalytics</p></div>\n        </body>\n        </html>"
                    },
                    "metadata": {},
                    "output_type": "display_data"
                },
                {
                    "data": {
                        "text/plain": "                                 node namespace           pod  container  \\\n0   aks-nodepool1-35148010-vmss000001       arc  benportal3-1  arc-sqlmi   \n1   aks-nodepool1-35148010-vmss000001       arc  benportal3-1  arc-sqlmi   \n2   aks-nodepool1-35148010-vmss000001       arc  benportal3-1  arc-sqlmi   \n3   aks-nodepool1-35148010-vmss000001       arc  benportal3-1  arc-sqlmi   \n4   aks-nodepool1-35148010-vmss000001       arc  benportal3-1  arc-sqlmi   \n5   aks-nodepool1-35148010-vmss000001       arc  benportal3-1  arc-sqlmi   \n6   aks-nodepool1-35148010-vmss000001       arc  benportal3-1  arc-sqlmi   \n7   aks-nodepool1-35148010-vmss000001       arc  benportal3-1  arc-sqlmi   \n8   aks-nodepool1-35148010-vmss000001       arc  benportal3-1  arc-sqlmi   \n9   aks-nodepool1-35148010-vmss000001       arc  benportal3-1  arc-sqlmi   \n10  aks-nodepool1-35148010-vmss000002       arc  benportal3-0  arc-sqlmi   \n11  aks-nodepool1-35148010-vmss000002       arc  benportal3-0  arc-sqlmi   \n12  aks-nodepool1-35148010-vmss000002       arc  benportal3-0  arc-sqlmi   \n13  aks-nodepool1-35148010-vmss000002       arc  benportal3-0  arc-sqlmi   \n14  aks-nodepool1-35148010-vmss000002       arc  benportal3-0  arc-sqlmi   \n15  aks-nodepool1-35148010-vmss000002       arc  benportal3-0  arc-sqlmi   \n16  aks-nodepool1-35148010-vmss000002       arc  benportal3-0  arc-sqlmi   \n17  aks-nodepool1-35148010-vmss000002       arc  benportal3-0  arc-sqlmi   \n18  aks-nodepool1-35148010-vmss000002       arc  benportal3-0  arc-sqlmi   \n19  aks-nodepool1-35148010-vmss000002       arc  benportal3-0  arc-sqlmi   \n20  aks-nodepool1-35148010-vmss000002       arc  benportal3-0  arc-sqlmi   \n21  aks-nodepool1-35148010-vmss000000       arc  benportal3-2  arc-sqlmi   \n22  aks-nodepool1-35148010-vmss000000       arc  benportal3-2  arc-sqlmi   \n23  aks-nodepool1-35148010-vmss000000       arc  benportal3-2  arc-sqlmi   \n24  aks-nodepool1-35148010-vmss000000       arc  benportal3-2  arc-sqlmi   \n25  aks-nodepool1-35148010-vmss000000       arc  benportal3-2  arc-sqlmi   \n26  aks-nodepool1-35148010-vmss000000       arc  benportal3-2  arc-sqlmi   \n27  aks-nodepool1-35148010-vmss000000       arc  benportal3-2  arc-sqlmi   \n28  aks-nodepool1-35148010-vmss000000       arc  benportal3-2  arc-sqlmi   \n29  aks-nodepool1-35148010-vmss000000       arc  benportal3-2  arc-sqlmi   \n30                        singlebeard       arc    hyperben-0  arc-sqlmi   \n31                        singlebeard       arc    hyperben-0  arc-sqlmi   \n32                        singlebeard       arc    hyperben-0  arc-sqlmi   \n33                        singlebeard       arc    hyperben-0  arc-sqlmi   \n34                        singlebeard       arc    hyperben-0  arc-sqlmi   \n35                        singlebeard       arc    hyperben-0  arc-sqlmi   \n36                        singlebeard       arc    hyperben-0  arc-sqlmi   \n37                        singlebeard       arc    hyperben-0  arc-sqlmi   \n38                        singlebeard       arc    hyperben-0  arc-sqlmi   \n39                        singlebeard       arc    hyperben-0  arc-sqlmi   \n40                        singlebeard       arc    hyperben-0  arc-sqlmi   \n41                        singlebeard       arc    hyperben-0  arc-sqlmi   \n42                        singlebeard       arc    hyperben-0  arc-sqlmi   \n43                        singlebeard       arc    hyperben-0  arc-sqlmi   \n44                        singlebeard       arc    hyperben-0  arc-sqlmi   \n45                        singlebeard       arc    hyperben-0  arc-sqlmi   \n46                        singlebeard       arc    hyperben-0  arc-sqlmi   \n47                        singlebeard       arc    hyperben-0  arc-sqlmi   \n48                        singlebeard       arc    hyperben-0  arc-sqlmi   \n49                        singlebeard       arc    hyperben-0  arc-sqlmi   \n50                        singlebeard       arc    hyperben-0  arc-sqlmi   \n51                        singlebeard       arc    hyperben-0  arc-sqlmi   \n52                        singlebeard       arc    hyperben-0  arc-sqlmi   \n53                        singlebeard       arc    hyperben-0  arc-sqlmi   \n54                        singlebeard       arc    hyperben-0  arc-sqlmi   \n55                        singlebeard       arc    hyperben-0  arc-sqlmi   \n56                        singlebeard       arc    hyperben-0  arc-sqlmi   \n57                        singlebeard       arc    hyperben-0  arc-sqlmi   \n58                        singlebeard       arc    hyperben-0  arc-sqlmi   \n59                        singlebeard       arc    hyperben-0  arc-sqlmi   \n60                        singlebeard       arc    hyperben-0  arc-sqlmi   \n61                        singlebeard       arc    hyperben-0  arc-sqlmi   \n62                        singlebeard       arc    hyperben-0  arc-sqlmi   \n\n                message time  \\\n0  2021-08-03 15:32:17+00:00   \n1  2021-08-03 15:32:14+00:00   \n2  2021-08-03 15:32:14+00:00   \n3  2021-08-03 15:32:14+00:00   \n4  2021-08-03 15:32:14+00:00   \n5  2021-08-03 15:32:14+00:00   \n6  2021-08-03 15:32:14+00:00   \n7  2021-08-03 15:32:14+00:00   \n8  2021-08-03 15:32:14+00:00   \n9  2021-08-03 15:32:14+00:00   \n10 2021-08-03 15:32:11+00:00   \n11 2021-08-03 15:32:05+00:00   \n12 2021-08-03 15:32:05+00:00   \n13 2021-08-03 15:32:04+00:00   \n14 2021-08-03 15:32:04+00:00   \n15 2021-08-03 15:32:04+00:00   \n16 2021-08-03 15:32:04+00:00   \n17 2021-08-03 15:32:04+00:00   \n18 2021-08-03 15:32:04+00:00   \n19 2021-08-03 15:32:04+00:00   \n20 2021-08-03 15:32:04+00:00   \n21 2021-08-03 15:32:00+00:00   \n22 2021-08-03 15:31:57+00:00   \n23 2021-08-03 15:31:57+00:00   \n24 2021-08-03 15:31:57+00:00   \n25 2021-08-03 15:31:57+00:00   \n26 2021-08-03 15:31:57+00:00   \n27 2021-08-03 15:31:57+00:00   \n28 2021-08-03 15:31:57+00:00   \n29 2021-08-03 15:31:57+00:00   \n30 2021-07-29 08:05:05+00:00   \n31 2021-07-29 08:05:01+00:00   \n32 2021-07-29 08:04:58+00:00   \n33 2021-07-29 08:04:56+00:00   \n34 2021-07-29 07:55:21+00:00   \n35 2021-07-29 07:55:17+00:00   \n36 2021-07-29 07:55:15+00:00   \n37 2021-07-29 07:55:15+00:00   \n38 2021-07-28 13:00:09+00:00   \n39 2021-07-28 12:00:09+00:00   \n40 2021-07-28 11:58:21+00:00   \n41 2021-07-28 11:58:17+00:00   \n42 2021-07-28 11:58:14+00:00   \n43 2021-07-28 11:58:13+00:00   \n44 2021-07-28 11:58:10+00:00   \n45 2021-07-28 11:58:08+00:00   \n46 2021-07-28 11:58:06+00:00   \n47 2021-07-28 11:58:04+00:00   \n48 2021-07-28 11:58:02+00:00   \n49 2021-07-28 11:58:00+00:00   \n50 2021-07-28 11:57:58+00:00   \n51 2021-07-28 11:52:09+00:00   \n52 2021-07-28 11:52:03+00:00   \n53 2021-07-28 11:46:49+00:00   \n54 2021-07-28 11:46:44+00:00   \n55 2021-07-28 11:46:42+00:00   \n56 2021-07-28 11:46:39+00:00   \n57 2021-07-28 11:46:38+00:00   \n58 2021-07-28 11:34:57+00:00   \n59 2021-07-28 11:30:21+00:00   \n60 2021-07-28 11:30:15+00:00   \n61 2021-07-28 11:30:15+00:00   \n62 2021-07-28 11:30:15+00:00   \n\n                                              Message  \n0   Logon       Login failed for user '##ha-agent-...  \n1   Logon       Login failed for user '##ha-agent-...  \n2   Logon       Login failed for user 'system'. Re...  \n3   Logon       Login failed for user '##ha-agent-...  \n4   Logon       Login failed for user '##ha-agent-...  \n5   Logon       Login failed for user '##ha-agent-...  \n6   Logon       Login failed for user '##ha-agent-...  \n7   Logon       Login failed for user '##ha-agent-...  \n8   Logon       Login failed for user 'sa'. Reason...  \n9   Logon       Login failed for user '##ha-agent-...  \n10  Logon       Login failed for user '##ha-agent-...  \n11  Logon       Login failed for user '##ha-agent-...  \n12  Logon       Login failed for user '##ha-agent-...  \n13  Logon       Login failed for user 'system'. Re...  \n14  Logon       Login failed for user '##ha-agent-...  \n15  Logon       Login failed for user '##ha-agent-...  \n16  Logon       Login failed for user '##ha-agent-...  \n17  Logon       Login failed for user 'sa'. Reason...  \n18  Logon       Login failed for user '##ha-agent-...  \n19  Logon       Login failed for user '##ha-agent-...  \n20  Logon       Login failed for user '##ha-agent-...  \n21  Logon       Login failed for user '##ha-agent-...  \n22  Logon       Login failed for user '##ha-agent-...  \n23  Logon       Login failed for user '##ha-agent-...  \n24  Logon       Login failed for user 'sa'. Reason...  \n25  Logon       Login failed for user '##ha-agent-...  \n26  Logon       Login failed for user 'system'. Re...  \n27  Logon       Login failed for user '##ha-agent-...  \n28  Logon       Login failed for user '##ha-agent-...  \n29  Logon       Login failed for user '##ha-agent-...  \n30  Logon       Login failed for user 'TryingToSte...  \n31  Logon       Login failed for user 'TryingToSte...  \n32  Logon       Login failed for user 'TryingToSte...  \n33  Logon       Login failed for user 'TryingToSte...  \n34  Logon       Login failed for user 'system'. Re...  \n35  Logon       Login failed for user '##monitorin...  \n36  Logon       Login failed for user 'sa'. Reason...  \n37  Logon       Login failed for user '##miaa-agen...  \n38  Logon       Login failed for user 'TryingToSte...  \n39  Logon       Login failed for user 'TryingToSte...  \n40  Logon       Login failed for user 'TryingToSte...  \n41  Logon       Login failed for user 'TryingToSte...  \n42  Logon       Login failed for user 'TryingToSte...  \n43  Logon       Login failed for user 'TryingToSte...  \n44  Logon       Login failed for user 'TryingToSte...  \n45  Logon       Login failed for user 'TryingToSte...  \n46  Logon       Login failed for user 'TryingToSte...  \n47  Logon       Login failed for user 'TryingToSte...  \n48  Logon       Login failed for user 'TryingToSte...  \n49  Logon       Login failed for user 'TryingToSte...  \n50  Logon       Login failed for user 'TryingToSte...  \n51  Logon       Login failed for user 'TryingToSte...  \n52  Logon       Login failed for user 'TryingToSte...  \n53  Logon       Login failed for user 'TryingToSte...  \n54  Logon       Login failed for user 'TryingToSte...  \n55  Logon       Login failed for user 'TryingToSte...  \n56  Logon       Login failed for user 'TryingToSte...  \n57  Logon       Login failed for user 'TryingToSte...  \n58  Logon       Login failed for user 'TryingToSte...  \n59  Logon       Login failed for user '##monitorin...  \n60  Logon       Login failed for user '##miaa-agen...  \n61  Logon       Login failed for user 'sa'. Reason...  \n62  Logon       Login failed for user 'system'. Re...  ",
                        "text/html": "<div>\n<style scoped>\n    .dataframe tbody tr th:only-of-type {\n        vertical-align: middle;\n    }\n\n    .dataframe tbody tr th {\n        vertical-align: top;\n    }\n\n    .dataframe thead th {\n        text-align: right;\n    }\n</style>\n<table border=\"1\" class=\"dataframe\">\n  <thead>\n    <tr style=\"text-align: right;\">\n      <th></th>\n      <th>node</th>\n      <th>namespace</th>\n      <th>pod</th>\n      <th>container</th>\n      <th>message time</th>\n      <th>Message</th>\n    </tr>\n  </thead>\n  <tbody>\n    <tr>\n      <th>0</th>\n      <td>aks-nodepool1-35148010-vmss000001</td>\n      <td>arc</td>\n      <td>benportal3-1</td>\n      <td>arc-sqlmi</td>\n      <td>2021-08-03 15:32:17+00:00</td>\n      <td>Logon       Login failed for user '##ha-agent-...</td>\n    </tr>\n    <tr>\n      <th>1</th>\n      <td>aks-nodepool1-35148010-vmss000001</td>\n      <td>arc</td>\n      <td>benportal3-1</td>\n      <td>arc-sqlmi</td>\n      <td>2021-08-03 15:32:14+00:00</td>\n      <td>Logon       Login failed for user '##ha-agent-...</td>\n    </tr>\n    <tr>\n      <th>2</th>\n      <td>aks-nodepool1-35148010-vmss000001</td>\n      <td>arc</td>\n      <td>benportal3-1</td>\n      <td>arc-sqlmi</td>\n      <td>2021-08-03 15:32:14+00:00</td>\n      <td>Logon       Login failed for user 'system'. Re...</td>\n    </tr>\n    <tr>\n      <th>3</th>\n      <td>aks-nodepool1-35148010-vmss000001</td>\n      <td>arc</td>\n      <td>benportal3-1</td>\n      <td>arc-sqlmi</td>\n      <td>2021-08-03 15:32:14+00:00</td>\n      <td>Logon       Login failed for user '##ha-agent-...</td>\n    </tr>\n    <tr>\n      <th>4</th>\n      <td>aks-nodepool1-35148010-vmss000001</td>\n      <td>arc</td>\n      <td>benportal3-1</td>\n      <td>arc-sqlmi</td>\n      <td>2021-08-03 15:32:14+00:00</td>\n      <td>Logon       Login failed for user '##ha-agent-...</td>\n    </tr>\n    <tr>\n      <th>5</th>\n      <td>aks-nodepool1-35148010-vmss000001</td>\n      <td>arc</td>\n      <td>benportal3-1</td>\n      <td>arc-sqlmi</td>\n      <td>2021-08-03 15:32:14+00:00</td>\n      <td>Logon       Login failed for user '##ha-agent-...</td>\n    </tr>\n    <tr>\n      <th>6</th>\n      <td>aks-nodepool1-35148010-vmss000001</td>\n      <td>arc</td>\n      <td>benportal3-1</td>\n      <td>arc-sqlmi</td>\n      <td>2021-08-03 15:32:14+00:00</td>\n      <td>Logon       Login failed for user '##ha-agent-...</td>\n    </tr>\n    <tr>\n      <th>7</th>\n      <td>aks-nodepool1-35148010-vmss000001</td>\n      <td>arc</td>\n      <td>benportal3-1</td>\n      <td>arc-sqlmi</td>\n      <td>2021-08-03 15:32:14+00:00</td>\n      <td>Logon       Login failed for user '##ha-agent-...</td>\n    </tr>\n    <tr>\n      <th>8</th>\n      <td>aks-nodepool1-35148010-vmss000001</td>\n      <td>arc</td>\n      <td>benportal3-1</td>\n      <td>arc-sqlmi</td>\n      <td>2021-08-03 15:32:14+00:00</td>\n      <td>Logon       Login failed for user 'sa'. Reason...</td>\n    </tr>\n    <tr>\n      <th>9</th>\n      <td>aks-nodepool1-35148010-vmss000001</td>\n      <td>arc</td>\n      <td>benportal3-1</td>\n      <td>arc-sqlmi</td>\n      <td>2021-08-03 15:32:14+00:00</td>\n      <td>Logon       Login failed for user '##ha-agent-...</td>\n    </tr>\n    <tr>\n      <th>10</th>\n      <td>aks-nodepool1-35148010-vmss000002</td>\n      <td>arc</td>\n      <td>benportal3-0</td>\n      <td>arc-sqlmi</td>\n      <td>2021-08-03 15:32:11+00:00</td>\n      <td>Logon       Login failed for user '##ha-agent-...</td>\n    </tr>\n    <tr>\n      <th>11</th>\n      <td>aks-nodepool1-35148010-vmss000002</td>\n      <td>arc</td>\n      <td>benportal3-0</td>\n      <td>arc-sqlmi</td>\n      <td>2021-08-03 15:32:05+00:00</td>\n      <td>Logon       Login failed for user '##ha-agent-...</td>\n    </tr>\n    <tr>\n      <th>12</th>\n      <td>aks-nodepool1-35148010-vmss000002</td>\n      <td>arc</td>\n      <td>benportal3-0</td>\n      <td>arc-sqlmi</td>\n      <td>2021-08-03 15:32:05+00:00</td>\n      <td>Logon       Login failed for user '##ha-agent-...</td>\n    </tr>\n    <tr>\n      <th>13</th>\n      <td>aks-nodepool1-35148010-vmss000002</td>\n      <td>arc</td>\n      <td>benportal3-0</td>\n      <td>arc-sqlmi</td>\n      <td>2021-08-03 15:32:04+00:00</td>\n      <td>Logon       Login failed for user 'system'. Re...</td>\n    </tr>\n    <tr>\n      <th>14</th>\n      <td>aks-nodepool1-35148010-vmss000002</td>\n      <td>arc</td>\n      <td>benportal3-0</td>\n      <td>arc-sqlmi</td>\n      <td>2021-08-03 15:32:04+00:00</td>\n      <td>Logon       Login failed for user '##ha-agent-...</td>\n    </tr>\n    <tr>\n      <th>15</th>\n      <td>aks-nodepool1-35148010-vmss000002</td>\n      <td>arc</td>\n      <td>benportal3-0</td>\n      <td>arc-sqlmi</td>\n      <td>2021-08-03 15:32:04+00:00</td>\n      <td>Logon       Login failed for user '##ha-agent-...</td>\n    </tr>\n    <tr>\n      <th>16</th>\n      <td>aks-nodepool1-35148010-vmss000002</td>\n      <td>arc</td>\n      <td>benportal3-0</td>\n      <td>arc-sqlmi</td>\n      <td>2021-08-03 15:32:04+00:00</td>\n      <td>Logon       Login failed for user '##ha-agent-...</td>\n    </tr>\n    <tr>\n      <th>17</th>\n      <td>aks-nodepool1-35148010-vmss000002</td>\n      <td>arc</td>\n      <td>benportal3-0</td>\n      <td>arc-sqlmi</td>\n      <td>2021-08-03 15:32:04+00:00</td>\n      <td>Logon       Login failed for user 'sa'. Reason...</td>\n    </tr>\n    <tr>\n      <th>18</th>\n      <td>aks-nodepool1-35148010-vmss000002</td>\n      <td>arc</td>\n      <td>benportal3-0</td>\n      <td>arc-sqlmi</td>\n      <td>2021-08-03 15:32:04+00:00</td>\n      <td>Logon       Login failed for user '##ha-agent-...</td>\n    </tr>\n    <tr>\n      <th>19</th>\n      <td>aks-nodepool1-35148010-vmss000002</td>\n      <td>arc</td>\n      <td>benportal3-0</td>\n      <td>arc-sqlmi</td>\n      <td>2021-08-03 15:32:04+00:00</td>\n      <td>Logon       Login failed for user '##ha-agent-...</td>\n    </tr>\n    <tr>\n      <th>20</th>\n      <td>aks-nodepool1-35148010-vmss000002</td>\n      <td>arc</td>\n      <td>benportal3-0</td>\n      <td>arc-sqlmi</td>\n      <td>2021-08-03 15:32:04+00:00</td>\n      <td>Logon       Login failed for user '##ha-agent-...</td>\n    </tr>\n    <tr>\n      <th>21</th>\n      <td>aks-nodepool1-35148010-vmss000000</td>\n      <td>arc</td>\n      <td>benportal3-2</td>\n      <td>arc-sqlmi</td>\n      <td>2021-08-03 15:32:00+00:00</td>\n      <td>Logon       Login failed for user '##ha-agent-...</td>\n    </tr>\n    <tr>\n      <th>22</th>\n      <td>aks-nodepool1-35148010-vmss000000</td>\n      <td>arc</td>\n      <td>benportal3-2</td>\n      <td>arc-sqlmi</td>\n      <td>2021-08-03 15:31:57+00:00</td>\n      <td>Logon       Login failed for user '##ha-agent-...</td>\n    </tr>\n    <tr>\n      <th>23</th>\n      <td>aks-nodepool1-35148010-vmss000000</td>\n      <td>arc</td>\n      <td>benportal3-2</td>\n      <td>arc-sqlmi</td>\n      <td>2021-08-03 15:31:57+00:00</td>\n      <td>Logon       Login failed for user '##ha-agent-...</td>\n    </tr>\n    <tr>\n      <th>24</th>\n      <td>aks-nodepool1-35148010-vmss000000</td>\n      <td>arc</td>\n      <td>benportal3-2</td>\n      <td>arc-sqlmi</td>\n      <td>2021-08-03 15:31:57+00:00</td>\n      <td>Logon       Login failed for user 'sa'. Reason...</td>\n    </tr>\n    <tr>\n      <th>25</th>\n      <td>aks-nodepool1-35148010-vmss000000</td>\n      <td>arc</td>\n      <td>benportal3-2</td>\n      <td>arc-sqlmi</td>\n      <td>2021-08-03 15:31:57+00:00</td>\n      <td>Logon       Login failed for user '##ha-agent-...</td>\n    </tr>\n    <tr>\n      <th>26</th>\n      <td>aks-nodepool1-35148010-vmss000000</td>\n      <td>arc</td>\n      <td>benportal3-2</td>\n      <td>arc-sqlmi</td>\n      <td>2021-08-03 15:31:57+00:00</td>\n      <td>Logon       Login failed for user 'system'. Re...</td>\n    </tr>\n    <tr>\n      <th>27</th>\n      <td>aks-nodepool1-35148010-vmss000000</td>\n      <td>arc</td>\n      <td>benportal3-2</td>\n      <td>arc-sqlmi</td>\n      <td>2021-08-03 15:31:57+00:00</td>\n      <td>Logon       Login failed for user '##ha-agent-...</td>\n    </tr>\n    <tr>\n      <th>28</th>\n      <td>aks-nodepool1-35148010-vmss000000</td>\n      <td>arc</td>\n      <td>benportal3-2</td>\n      <td>arc-sqlmi</td>\n      <td>2021-08-03 15:31:57+00:00</td>\n      <td>Logon       Login failed for user '##ha-agent-...</td>\n    </tr>\n    <tr>\n      <th>29</th>\n      <td>aks-nodepool1-35148010-vmss000000</td>\n      <td>arc</td>\n      <td>benportal3-2</td>\n      <td>arc-sqlmi</td>\n      <td>2021-08-03 15:31:57+00:00</td>\n      <td>Logon       Login failed for user '##ha-agent-...</td>\n    </tr>\n    <tr>\n      <th>30</th>\n      <td>singlebeard</td>\n      <td>arc</td>\n      <td>hyperben-0</td>\n      <td>arc-sqlmi</td>\n      <td>2021-07-29 08:05:05+00:00</td>\n      <td>Logon       Login failed for user 'TryingToSte...</td>\n    </tr>\n    <tr>\n      <th>31</th>\n      <td>singlebeard</td>\n      <td>arc</td>\n      <td>hyperben-0</td>\n      <td>arc-sqlmi</td>\n      <td>2021-07-29 08:05:01+00:00</td>\n      <td>Logon       Login failed for user 'TryingToSte...</td>\n    </tr>\n    <tr>\n      <th>32</th>\n      <td>singlebeard</td>\n      <td>arc</td>\n      <td>hyperben-0</td>\n      <td>arc-sqlmi</td>\n      <td>2021-07-29 08:04:58+00:00</td>\n      <td>Logon       Login failed for user 'TryingToSte...</td>\n    </tr>\n    <tr>\n      <th>33</th>\n      <td>singlebeard</td>\n      <td>arc</td>\n      <td>hyperben-0</td>\n      <td>arc-sqlmi</td>\n      <td>2021-07-29 08:04:56+00:00</td>\n      <td>Logon       Login failed for user 'TryingToSte...</td>\n    </tr>\n    <tr>\n      <th>34</th>\n      <td>singlebeard</td>\n      <td>arc</td>\n      <td>hyperben-0</td>\n      <td>arc-sqlmi</td>\n      <td>2021-07-29 07:55:21+00:00</td>\n      <td>Logon       Login failed for user 'system'. Re...</td>\n    </tr>\n    <tr>\n      <th>35</th>\n      <td>singlebeard</td>\n      <td>arc</td>\n      <td>hyperben-0</td>\n      <td>arc-sqlmi</td>\n      <td>2021-07-29 07:55:17+00:00</td>\n      <td>Logon       Login failed for user '##monitorin...</td>\n    </tr>\n    <tr>\n      <th>36</th>\n      <td>singlebeard</td>\n      <td>arc</td>\n      <td>hyperben-0</td>\n      <td>arc-sqlmi</td>\n      <td>2021-07-29 07:55:15+00:00</td>\n      <td>Logon       Login failed for user 'sa'. Reason...</td>\n    </tr>\n    <tr>\n      <th>37</th>\n      <td>singlebeard</td>\n      <td>arc</td>\n      <td>hyperben-0</td>\n      <td>arc-sqlmi</td>\n      <td>2021-07-29 07:55:15+00:00</td>\n      <td>Logon       Login failed for user '##miaa-agen...</td>\n    </tr>\n    <tr>\n      <th>38</th>\n      <td>singlebeard</td>\n      <td>arc</td>\n      <td>hyperben-0</td>\n      <td>arc-sqlmi</td>\n      <td>2021-07-28 13:00:09+00:00</td>\n      <td>Logon       Login failed for user 'TryingToSte...</td>\n    </tr>\n    <tr>\n      <th>39</th>\n      <td>singlebeard</td>\n      <td>arc</td>\n      <td>hyperben-0</td>\n      <td>arc-sqlmi</td>\n      <td>2021-07-28 12:00:09+00:00</td>\n      <td>Logon       Login failed for user 'TryingToSte...</td>\n    </tr>\n    <tr>\n      <th>40</th>\n      <td>singlebeard</td>\n      <td>arc</td>\n      <td>hyperben-0</td>\n      <td>arc-sqlmi</td>\n      <td>2021-07-28 11:58:21+00:00</td>\n      <td>Logon       Login failed for user 'TryingToSte...</td>\n    </tr>\n    <tr>\n      <th>41</th>\n      <td>singlebeard</td>\n      <td>arc</td>\n      <td>hyperben-0</td>\n      <td>arc-sqlmi</td>\n      <td>2021-07-28 11:58:17+00:00</td>\n      <td>Logon       Login failed for user 'TryingToSte...</td>\n    </tr>\n    <tr>\n      <th>42</th>\n      <td>singlebeard</td>\n      <td>arc</td>\n      <td>hyperben-0</td>\n      <td>arc-sqlmi</td>\n      <td>2021-07-28 11:58:14+00:00</td>\n      <td>Logon       Login failed for user 'TryingToSte...</td>\n    </tr>\n    <tr>\n      <th>43</th>\n      <td>singlebeard</td>\n      <td>arc</td>\n      <td>hyperben-0</td>\n      <td>arc-sqlmi</td>\n      <td>2021-07-28 11:58:13+00:00</td>\n      <td>Logon       Login failed for user 'TryingToSte...</td>\n    </tr>\n    <tr>\n      <th>44</th>\n      <td>singlebeard</td>\n      <td>arc</td>\n      <td>hyperben-0</td>\n      <td>arc-sqlmi</td>\n      <td>2021-07-28 11:58:10+00:00</td>\n      <td>Logon       Login failed for user 'TryingToSte...</td>\n    </tr>\n    <tr>\n      <th>45</th>\n      <td>singlebeard</td>\n      <td>arc</td>\n      <td>hyperben-0</td>\n      <td>arc-sqlmi</td>\n      <td>2021-07-28 11:58:08+00:00</td>\n      <td>Logon       Login failed for user 'TryingToSte...</td>\n    </tr>\n    <tr>\n      <th>46</th>\n      <td>singlebeard</td>\n      <td>arc</td>\n      <td>hyperben-0</td>\n      <td>arc-sqlmi</td>\n      <td>2021-07-28 11:58:06+00:00</td>\n      <td>Logon       Login failed for user 'TryingToSte...</td>\n    </tr>\n    <tr>\n      <th>47</th>\n      <td>singlebeard</td>\n      <td>arc</td>\n      <td>hyperben-0</td>\n      <td>arc-sqlmi</td>\n      <td>2021-07-28 11:58:04+00:00</td>\n      <td>Logon       Login failed for user 'TryingToSte...</td>\n    </tr>\n    <tr>\n      <th>48</th>\n      <td>singlebeard</td>\n      <td>arc</td>\n      <td>hyperben-0</td>\n      <td>arc-sqlmi</td>\n      <td>2021-07-28 11:58:02+00:00</td>\n      <td>Logon       Login failed for user 'TryingToSte...</td>\n    </tr>\n    <tr>\n      <th>49</th>\n      <td>singlebeard</td>\n      <td>arc</td>\n      <td>hyperben-0</td>\n      <td>arc-sqlmi</td>\n      <td>2021-07-28 11:58:00+00:00</td>\n      <td>Logon       Login failed for user 'TryingToSte...</td>\n    </tr>\n    <tr>\n      <th>50</th>\n      <td>singlebeard</td>\n      <td>arc</td>\n      <td>hyperben-0</td>\n      <td>arc-sqlmi</td>\n      <td>2021-07-28 11:57:58+00:00</td>\n      <td>Logon       Login failed for user 'TryingToSte...</td>\n    </tr>\n    <tr>\n      <th>51</th>\n      <td>singlebeard</td>\n      <td>arc</td>\n      <td>hyperben-0</td>\n      <td>arc-sqlmi</td>\n      <td>2021-07-28 11:52:09+00:00</td>\n      <td>Logon       Login failed for user 'TryingToSte...</td>\n    </tr>\n    <tr>\n      <th>52</th>\n      <td>singlebeard</td>\n      <td>arc</td>\n      <td>hyperben-0</td>\n      <td>arc-sqlmi</td>\n      <td>2021-07-28 11:52:03+00:00</td>\n      <td>Logon       Login failed for user 'TryingToSte...</td>\n    </tr>\n    <tr>\n      <th>53</th>\n      <td>singlebeard</td>\n      <td>arc</td>\n      <td>hyperben-0</td>\n      <td>arc-sqlmi</td>\n      <td>2021-07-28 11:46:49+00:00</td>\n      <td>Logon       Login failed for user 'TryingToSte...</td>\n    </tr>\n    <tr>\n      <th>54</th>\n      <td>singlebeard</td>\n      <td>arc</td>\n      <td>hyperben-0</td>\n      <td>arc-sqlmi</td>\n      <td>2021-07-28 11:46:44+00:00</td>\n      <td>Logon       Login failed for user 'TryingToSte...</td>\n    </tr>\n    <tr>\n      <th>55</th>\n      <td>singlebeard</td>\n      <td>arc</td>\n      <td>hyperben-0</td>\n      <td>arc-sqlmi</td>\n      <td>2021-07-28 11:46:42+00:00</td>\n      <td>Logon       Login failed for user 'TryingToSte...</td>\n    </tr>\n    <tr>\n      <th>56</th>\n      <td>singlebeard</td>\n      <td>arc</td>\n      <td>hyperben-0</td>\n      <td>arc-sqlmi</td>\n      <td>2021-07-28 11:46:39+00:00</td>\n      <td>Logon       Login failed for user 'TryingToSte...</td>\n    </tr>\n    <tr>\n      <th>57</th>\n      <td>singlebeard</td>\n      <td>arc</td>\n      <td>hyperben-0</td>\n      <td>arc-sqlmi</td>\n      <td>2021-07-28 11:46:38+00:00</td>\n      <td>Logon       Login failed for user 'TryingToSte...</td>\n    </tr>\n    <tr>\n      <th>58</th>\n      <td>singlebeard</td>\n      <td>arc</td>\n      <td>hyperben-0</td>\n      <td>arc-sqlmi</td>\n      <td>2021-07-28 11:34:57+00:00</td>\n      <td>Logon       Login failed for user 'TryingToSte...</td>\n    </tr>\n    <tr>\n      <th>59</th>\n      <td>singlebeard</td>\n      <td>arc</td>\n      <td>hyperben-0</td>\n      <td>arc-sqlmi</td>\n      <td>2021-07-28 11:30:21+00:00</td>\n      <td>Logon       Login failed for user '##monitorin...</td>\n    </tr>\n    <tr>\n      <th>60</th>\n      <td>singlebeard</td>\n      <td>arc</td>\n      <td>hyperben-0</td>\n      <td>arc-sqlmi</td>\n      <td>2021-07-28 11:30:15+00:00</td>\n      <td>Logon       Login failed for user '##miaa-agen...</td>\n    </tr>\n    <tr>\n      <th>61</th>\n      <td>singlebeard</td>\n      <td>arc</td>\n      <td>hyperben-0</td>\n      <td>arc-sqlmi</td>\n      <td>2021-07-28 11:30:15+00:00</td>\n      <td>Logon       Login failed for user 'sa'. Reason...</td>\n    </tr>\n    <tr>\n      <th>62</th>\n      <td>singlebeard</td>\n      <td>arc</td>\n      <td>hyperben-0</td>\n      <td>arc-sqlmi</td>\n      <td>2021-07-28 11:30:15+00:00</td>\n      <td>Logon       Login failed for user 'system'. Re...</td>\n    </tr>\n  </tbody>\n</table>\n</div>",
                        "application/vnd.dataresource+json": {
                            "schema": {
                                "fields": [
                                    {
                                        "name": "node",
                                        "type": "string"
                                    },
                                    {
                                        "name": "namespace",
                                        "type": "string"
                                    },
                                    {
                                        "name": "pod",
                                        "type": "string"
                                    },
                                    {
                                        "name": "container",
                                        "type": "string"
                                    },
                                    {
                                        "name": "message time",
                                        "type": "datetime",
                                        "tz": "UTC"
                                    },
                                    {
                                        "name": "Message",
                                        "type": "string"
                                    }
                                ],
                                "kqmagic_version": "0.1.114.post2"
                            },
                            "data": [
                                {
                                    "node": "aks-nodepool1-35148010-vmss000001",
                                    "namespace": "arc",
                                    "pod": "benportal3-1",
                                    "container": "arc-sqlmi",
                                    "message time": "2021-08-03T15:32:17.000Z",
                                    "Message": "Logon       Login failed for user '##ha-agent-login##'. Reason: Could not find a login matching the name provided. [CLIENT: 10.244.1.7]"
                                },
                                {
                                    "node": "aks-nodepool1-35148010-vmss000001",
                                    "namespace": "arc",
                                    "pod": "benportal3-1",
                                    "container": "arc-sqlmi",
                                    "message time": "2021-08-03T15:32:14.000Z",
                                    "Message": "Logon       Login failed for user '##ha-agent-login##'. Reason: Could not find a login matching the name provided. [CLIENT: 10.244.1.7]"
                                },
                                {
                                    "node": "aks-nodepool1-35148010-vmss000001",
                                    "namespace": "arc",
                                    "pod": "benportal3-1",
                                    "container": "arc-sqlmi",
                                    "message time": "2021-08-03T15:32:14.000Z",
                                    "Message": "Logon       Login failed for user 'system'. Reason: Could not find a login matching the name provided. [CLIENT: ::1]"
                                },
                                {
                                    "node": "aks-nodepool1-35148010-vmss000001",
                                    "namespace": "arc",
                                    "pod": "benportal3-1",
                                    "container": "arc-sqlmi",
                                    "message time": "2021-08-03T15:32:14.000Z",
                                    "Message": "Logon       Login failed for user '##ha-agent-login##'. Reason: Could not find a login matching the name provided. [CLIENT: 10.244.1.7]"
                                },
                                {
                                    "node": "aks-nodepool1-35148010-vmss000001",
                                    "namespace": "arc",
                                    "pod": "benportal3-1",
                                    "container": "arc-sqlmi",
                                    "message time": "2021-08-03T15:32:14.000Z",
                                    "Message": "Logon       Login failed for user '##ha-agent-login##'. Reason: Could not find a login matching the name provided. [CLIENT: 10.244.1.7]"
                                },
                                {
                                    "node": "aks-nodepool1-35148010-vmss000001",
                                    "namespace": "arc",
                                    "pod": "benportal3-1",
                                    "container": "arc-sqlmi",
                                    "message time": "2021-08-03T15:32:14.000Z",
                                    "Message": "Logon       Login failed for user '##ha-agent-login##'. Reason: Could not find a login matching the name provided. [CLIENT: 10.244.1.7]"
                                },
                                {
                                    "node": "aks-nodepool1-35148010-vmss000001",
                                    "namespace": "arc",
                                    "pod": "benportal3-1",
                                    "container": "arc-sqlmi",
                                    "message time": "2021-08-03T15:32:14.000Z",
                                    "Message": "Logon       Login failed for user '##ha-agent-login##'. Reason: Could not find a login matching the name provided. [CLIENT: 10.244.1.7]"
                                },
                                {
                                    "node": "aks-nodepool1-35148010-vmss000001",
                                    "namespace": "arc",
                                    "pod": "benportal3-1",
                                    "container": "arc-sqlmi",
                                    "message time": "2021-08-03T15:32:14.000Z",
                                    "Message": "Logon       Login failed for user '##ha-agent-login##'. Reason: Could not find a login matching the name provided. [CLIENT: 10.244.1.7]"
                                },
                                {
                                    "node": "aks-nodepool1-35148010-vmss000001",
                                    "namespace": "arc",
                                    "pod": "benportal3-1",
                                    "container": "arc-sqlmi",
                                    "message time": "2021-08-03T15:32:14.000Z",
                                    "Message": "Logon       Login failed for user 'sa'. Reason: An error occurred while evaluating the password. [CLIENT: ::1]"
                                },
                                {
                                    "node": "aks-nodepool1-35148010-vmss000001",
                                    "namespace": "arc",
                                    "pod": "benportal3-1",
                                    "container": "arc-sqlmi",
                                    "message time": "2021-08-03T15:32:14.000Z",
                                    "Message": "Logon       Login failed for user '##ha-agent-login##'. Reason: Could not find a login matching the name provided. [CLIENT: 10.244.1.7]"
                                },
                                {
                                    "node": "aks-nodepool1-35148010-vmss000002",
                                    "namespace": "arc",
                                    "pod": "benportal3-0",
                                    "container": "arc-sqlmi",
                                    "message time": "2021-08-03T15:32:11.000Z",
                                    "Message": "Logon       Login failed for user '##ha-agent-login##'. Reason: Could not find a login matching the name provided. [CLIENT: 10.244.2.13]"
                                },
                                {
                                    "node": "aks-nodepool1-35148010-vmss000002",
                                    "namespace": "arc",
                                    "pod": "benportal3-0",
                                    "container": "arc-sqlmi",
                                    "message time": "2021-08-03T15:32:05.000Z",
                                    "Message": "Logon       Login failed for user '##ha-agent-login##'. Reason: Could not find a login matching the name provided. [CLIENT: 10.244.2.13]"
                                },
                                {
                                    "node": "aks-nodepool1-35148010-vmss000002",
                                    "namespace": "arc",
                                    "pod": "benportal3-0",
                                    "container": "arc-sqlmi",
                                    "message time": "2021-08-03T15:32:05.000Z",
                                    "Message": "Logon       Login failed for user '##ha-agent-login##'. Reason: Could not find a login matching the name provided. [CLIENT: 10.244.2.13]"
                                },
                                {
                                    "node": "aks-nodepool1-35148010-vmss000002",
                                    "namespace": "arc",
                                    "pod": "benportal3-0",
                                    "container": "arc-sqlmi",
                                    "message time": "2021-08-03T15:32:04.000Z",
                                    "Message": "Logon       Login failed for user 'system'. Reason: Could not find a login matching the name provided. [CLIENT: ::1]"
                                },
                                {
                                    "node": "aks-nodepool1-35148010-vmss000002",
                                    "namespace": "arc",
                                    "pod": "benportal3-0",
                                    "container": "arc-sqlmi",
                                    "message time": "2021-08-03T15:32:04.000Z",
                                    "Message": "Logon       Login failed for user '##ha-agent-login##'. Reason: Could not find a login matching the name provided. [CLIENT: 10.244.2.13]"
                                },
                                {
                                    "node": "aks-nodepool1-35148010-vmss000002",
                                    "namespace": "arc",
                                    "pod": "benportal3-0",
                                    "container": "arc-sqlmi",
                                    "message time": "2021-08-03T15:32:04.000Z",
                                    "Message": "Logon       Login failed for user '##ha-agent-login##'. Reason: Could not find a login matching the name provided. [CLIENT: 10.244.2.13]"
                                },
                                {
                                    "node": "aks-nodepool1-35148010-vmss000002",
                                    "namespace": "arc",
                                    "pod": "benportal3-0",
                                    "container": "arc-sqlmi",
                                    "message time": "2021-08-03T15:32:04.000Z",
                                    "Message": "Logon       Login failed for user '##ha-agent-login##'. Reason: Could not find a login matching the name provided. [CLIENT: 10.244.2.13]"
                                },
                                {
                                    "node": "aks-nodepool1-35148010-vmss000002",
                                    "namespace": "arc",
                                    "pod": "benportal3-0",
                                    "container": "arc-sqlmi",
                                    "message time": "2021-08-03T15:32:04.000Z",
                                    "Message": "Logon       Login failed for user 'sa'. Reason: An error occurred while evaluating the password. [CLIENT: ::1]"
                                },
                                {
                                    "node": "aks-nodepool1-35148010-vmss000002",
                                    "namespace": "arc",
                                    "pod": "benportal3-0",
                                    "container": "arc-sqlmi",
                                    "message time": "2021-08-03T15:32:04.000Z",
                                    "Message": "Logon       Login failed for user '##ha-agent-login##'. Reason: Could not find a login matching the name provided. [CLIENT: 10.244.2.13]"
                                },
                                {
                                    "node": "aks-nodepool1-35148010-vmss000002",
                                    "namespace": "arc",
                                    "pod": "benportal3-0",
                                    "container": "arc-sqlmi",
                                    "message time": "2021-08-03T15:32:04.000Z",
                                    "Message": "Logon       Login failed for user '##ha-agent-login##'. Reason: Could not find a login matching the name provided. [CLIENT: 10.244.2.13]"
                                },
                                {
                                    "node": "aks-nodepool1-35148010-vmss000002",
                                    "namespace": "arc",
                                    "pod": "benportal3-0",
                                    "container": "arc-sqlmi",
                                    "message time": "2021-08-03T15:32:04.000Z",
                                    "Message": "Logon       Login failed for user '##ha-agent-login##'. Reason: Could not find a login matching the name provided. [CLIENT: 10.244.2.13]"
                                },
                                {
                                    "node": "aks-nodepool1-35148010-vmss000000",
                                    "namespace": "arc",
                                    "pod": "benportal3-2",
                                    "container": "arc-sqlmi",
                                    "message time": "2021-08-03T15:32:00.000Z",
                                    "Message": "Logon       Login failed for user '##ha-agent-login##'. Reason: Could not find a login matching the name provided. [CLIENT: 10.244.0.13]"
                                },
                                {
                                    "node": "aks-nodepool1-35148010-vmss000000",
                                    "namespace": "arc",
                                    "pod": "benportal3-2",
                                    "container": "arc-sqlmi",
                                    "message time": "2021-08-03T15:31:57.000Z",
                                    "Message": "Logon       Login failed for user '##ha-agent-login##'. Reason: Could not find a login matching the name provided. [CLIENT: 10.244.0.13]"
                                },
                                {
                                    "node": "aks-nodepool1-35148010-vmss000000",
                                    "namespace": "arc",
                                    "pod": "benportal3-2",
                                    "container": "arc-sqlmi",
                                    "message time": "2021-08-03T15:31:57.000Z",
                                    "Message": "Logon       Login failed for user '##ha-agent-login##'. Reason: Could not find a login matching the name provided. [CLIENT: 10.244.0.13]"
                                },
                                {
                                    "node": "aks-nodepool1-35148010-vmss000000",
                                    "namespace": "arc",
                                    "pod": "benportal3-2",
                                    "container": "arc-sqlmi",
                                    "message time": "2021-08-03T15:31:57.000Z",
                                    "Message": "Logon       Login failed for user 'sa'. Reason: An error occurred while evaluating the password. [CLIENT: ::1]"
                                },
                                {
                                    "node": "aks-nodepool1-35148010-vmss000000",
                                    "namespace": "arc",
                                    "pod": "benportal3-2",
                                    "container": "arc-sqlmi",
                                    "message time": "2021-08-03T15:31:57.000Z",
                                    "Message": "Logon       Login failed for user '##ha-agent-login##'. Reason: Could not find a login matching the name provided. [CLIENT: 10.244.0.13]"
                                },
                                {
                                    "node": "aks-nodepool1-35148010-vmss000000",
                                    "namespace": "arc",
                                    "pod": "benportal3-2",
                                    "container": "arc-sqlmi",
                                    "message time": "2021-08-03T15:31:57.000Z",
                                    "Message": "Logon       Login failed for user 'system'. Reason: Could not find a login matching the name provided. [CLIENT: ::1]"
                                },
                                {
                                    "node": "aks-nodepool1-35148010-vmss000000",
                                    "namespace": "arc",
                                    "pod": "benportal3-2",
                                    "container": "arc-sqlmi",
                                    "message time": "2021-08-03T15:31:57.000Z",
                                    "Message": "Logon       Login failed for user '##ha-agent-login##'. Reason: Could not find a login matching the name provided. [CLIENT: 10.244.0.13]"
                                },
                                {
                                    "node": "aks-nodepool1-35148010-vmss000000",
                                    "namespace": "arc",
                                    "pod": "benportal3-2",
                                    "container": "arc-sqlmi",
                                    "message time": "2021-08-03T15:31:57.000Z",
                                    "Message": "Logon       Login failed for user '##ha-agent-login##'. Reason: Could not find a login matching the name provided. [CLIENT: 10.244.0.13]"
                                },
                                {
                                    "node": "aks-nodepool1-35148010-vmss000000",
                                    "namespace": "arc",
                                    "pod": "benportal3-2",
                                    "container": "arc-sqlmi",
                                    "message time": "2021-08-03T15:31:57.000Z",
                                    "Message": "Logon       Login failed for user '##ha-agent-login##'. Reason: Could not find a login matching the name provided. [CLIENT: 10.244.0.13]"
                                },
                                {
                                    "node": "singlebeard",
                                    "namespace": "arc",
                                    "pod": "hyperben-0",
                                    "container": "arc-sqlmi",
                                    "message time": "2021-07-29T08:05:05.000Z",
                                    "Message": "Logon       Login failed for user 'TryingToStealYourData-1478'. Reason: Could not find a login matching the name provided. [CLIENT: 10.244.0.161]"
                                },
                                {
                                    "node": "singlebeard",
                                    "namespace": "arc",
                                    "pod": "hyperben-0",
                                    "container": "arc-sqlmi",
                                    "message time": "2021-07-29T08:05:01.000Z",
                                    "Message": "Logon       Login failed for user 'TryingToStealYourData-2189'. Reason: Could not find a login matching the name provided. [CLIENT: 10.244.0.160]"
                                },
                                {
                                    "node": "singlebeard",
                                    "namespace": "arc",
                                    "pod": "hyperben-0",
                                    "container": "arc-sqlmi",
                                    "message time": "2021-07-29T08:04:58.000Z",
                                    "Message": "Logon       Login failed for user 'TryingToStealYourData-4168'. Reason: Could not find a login matching the name provided. [CLIENT: 10.244.0.159]"
                                },
                                {
                                    "node": "singlebeard",
                                    "namespace": "arc",
                                    "pod": "hyperben-0",
                                    "container": "arc-sqlmi",
                                    "message time": "2021-07-29T08:04:56.000Z",
                                    "Message": "Logon       Login failed for user 'TryingToStealYourData-6403'. Reason: Could not find a login matching the name provided. [CLIENT: 10.244.0.158]"
                                },
                                {
                                    "node": "singlebeard",
                                    "namespace": "arc",
                                    "pod": "hyperben-0",
                                    "container": "arc-sqlmi",
                                    "message time": "2021-07-29T07:55:21.000Z",
                                    "Message": "Logon       Login failed for user 'system'. Reason: Could not find a login matching the name provided. [CLIENT: ::1]"
                                },
                                {
                                    "node": "singlebeard",
                                    "namespace": "arc",
                                    "pod": "hyperben-0",
                                    "container": "arc-sqlmi",
                                    "message time": "2021-07-29T07:55:17.000Z",
                                    "Message": "Logon       Login failed for user '##monitoring-login##'. Reason: Could not find a login matching the name provided. [CLIENT: 10.244.0.157]"
                                },
                                {
                                    "node": "singlebeard",
                                    "namespace": "arc",
                                    "pod": "hyperben-0",
                                    "container": "arc-sqlmi",
                                    "message time": "2021-07-29T07:55:15.000Z",
                                    "Message": "Logon       Login failed for user 'sa'. Reason: An error occurred while evaluating the password. [CLIENT: ::1]"
                                },
                                {
                                    "node": "singlebeard",
                                    "namespace": "arc",
                                    "pod": "hyperben-0",
                                    "container": "arc-sqlmi",
                                    "message time": "2021-07-29T07:55:15.000Z",
                                    "Message": "Logon       Login failed for user '##miaa-agent-login##'. Reason: Could not find a login matching the name provided. [CLIENT: 127.0.0.1]"
                                },
                                {
                                    "node": "singlebeard",
                                    "namespace": "arc",
                                    "pod": "hyperben-0",
                                    "container": "arc-sqlmi",
                                    "message time": "2021-07-28T13:00:09.000Z",
                                    "Message": "Logon       Login failed for user 'TryingToStealYourData-2910'. Reason: Could not find a login matching the name provided. [CLIENT: 10.244.0.58]"
                                },
                                {
                                    "node": "singlebeard",
                                    "namespace": "arc",
                                    "pod": "hyperben-0",
                                    "container": "arc-sqlmi",
                                    "message time": "2021-07-28T12:00:09.000Z",
                                    "Message": "Logon       Login failed for user 'TryingToStealYourData-3271'. Reason: Could not find a login matching the name provided. [CLIENT: 10.244.0.56]"
                                },
                                {
                                    "node": "singlebeard",
                                    "namespace": "arc",
                                    "pod": "hyperben-0",
                                    "container": "arc-sqlmi",
                                    "message time": "2021-07-28T11:58:21.000Z",
                                    "Message": "Logon       Login failed for user 'TryingToStealYourData-1630'. Reason: Could not find a login matching the name provided. [CLIENT: 10.244.0.54]"
                                },
                                {
                                    "node": "singlebeard",
                                    "namespace": "arc",
                                    "pod": "hyperben-0",
                                    "container": "arc-sqlmi",
                                    "message time": "2021-07-28T11:58:17.000Z",
                                    "Message": "Logon       Login failed for user 'TryingToStealYourData-6144'. Reason: Could not find a login matching the name provided. [CLIENT: 10.244.0.53]"
                                },
                                {
                                    "node": "singlebeard",
                                    "namespace": "arc",
                                    "pod": "hyperben-0",
                                    "container": "arc-sqlmi",
                                    "message time": "2021-07-28T11:58:14.000Z",
                                    "Message": "Logon       Login failed for user 'TryingToStealYourData-2261'. Reason: Could not find a login matching the name provided. [CLIENT: 10.244.0.52]"
                                },
                                {
                                    "node": "singlebeard",
                                    "namespace": "arc",
                                    "pod": "hyperben-0",
                                    "container": "arc-sqlmi",
                                    "message time": "2021-07-28T11:58:13.000Z",
                                    "Message": "Logon       Login failed for user 'TryingToStealYourData-2245'. Reason: Could not find a login matching the name provided. [CLIENT: 10.244.0.51]"
                                },
                                {
                                    "node": "singlebeard",
                                    "namespace": "arc",
                                    "pod": "hyperben-0",
                                    "container": "arc-sqlmi",
                                    "message time": "2021-07-28T11:58:10.000Z",
                                    "Message": "Logon       Login failed for user 'TryingToStealYourData-4757'. Reason: Could not find a login matching the name provided. [CLIENT: 10.244.0.50]"
                                },
                                {
                                    "node": "singlebeard",
                                    "namespace": "arc",
                                    "pod": "hyperben-0",
                                    "container": "arc-sqlmi",
                                    "message time": "2021-07-28T11:58:08.000Z",
                                    "Message": "Logon       Login failed for user 'TryingToStealYourData-3398'. Reason: Could not find a login matching the name provided. [CLIENT: 10.244.0.49]"
                                },
                                {
                                    "node": "singlebeard",
                                    "namespace": "arc",
                                    "pod": "hyperben-0",
                                    "container": "arc-sqlmi",
                                    "message time": "2021-07-28T11:58:06.000Z",
                                    "Message": "Logon       Login failed for user 'TryingToStealYourData-5549'. Reason: Could not find a login matching the name provided. [CLIENT: 10.244.0.48]"
                                },
                                {
                                    "node": "singlebeard",
                                    "namespace": "arc",
                                    "pod": "hyperben-0",
                                    "container": "arc-sqlmi",
                                    "message time": "2021-07-28T11:58:04.000Z",
                                    "Message": "Logon       Login failed for user 'TryingToStealYourData-5188'. Reason: Could not find a login matching the name provided. [CLIENT: 10.244.0.47]"
                                },
                                {
                                    "node": "singlebeard",
                                    "namespace": "arc",
                                    "pod": "hyperben-0",
                                    "container": "arc-sqlmi",
                                    "message time": "2021-07-28T11:58:02.000Z",
                                    "Message": "Logon       Login failed for user 'TryingToStealYourData-9486'. Reason: Could not find a login matching the name provided. [CLIENT: 10.244.0.46]"
                                },
                                {
                                    "node": "singlebeard",
                                    "namespace": "arc",
                                    "pod": "hyperben-0",
                                    "container": "arc-sqlmi",
                                    "message time": "2021-07-28T11:58:00.000Z",
                                    "Message": "Logon       Login failed for user 'TryingToStealYourData-1027'. Reason: Could not find a login matching the name provided. [CLIENT: 10.244.0.45]"
                                },
                                {
                                    "node": "singlebeard",
                                    "namespace": "arc",
                                    "pod": "hyperben-0",
                                    "container": "arc-sqlmi",
                                    "message time": "2021-07-28T11:57:58.000Z",
                                    "Message": "Logon       Login failed for user 'TryingToStealYourData-1828'. Reason: Could not find a login matching the name provided. [CLIENT: 10.244.0.44]"
                                },
                                {
                                    "node": "singlebeard",
                                    "namespace": "arc",
                                    "pod": "hyperben-0",
                                    "container": "arc-sqlmi",
                                    "message time": "2021-07-28T11:52:09.000Z",
                                    "Message": "Logon       Login failed for user 'TryingToStealYourData-9661'. Reason: Could not find a login matching the name provided. [CLIENT: 10.244.0.43]"
                                },
                                {
                                    "node": "singlebeard",
                                    "namespace": "arc",
                                    "pod": "hyperben-0",
                                    "container": "arc-sqlmi",
                                    "message time": "2021-07-28T11:52:03.000Z",
                                    "Message": "Logon       Login failed for user 'TryingToStealYourData-2869'. Reason: Could not find a login matching the name provided. [CLIENT: 10.244.0.42]"
                                },
                                {
                                    "node": "singlebeard",
                                    "namespace": "arc",
                                    "pod": "hyperben-0",
                                    "container": "arc-sqlmi",
                                    "message time": "2021-07-28T11:46:49.000Z",
                                    "Message": "Logon       Login failed for user 'TryingToStealYourData'. Reason: Could not find a login matching the name provided. [CLIENT: 10.244.0.38]"
                                },
                                {
                                    "node": "singlebeard",
                                    "namespace": "arc",
                                    "pod": "hyperben-0",
                                    "container": "arc-sqlmi",
                                    "message time": "2021-07-28T11:46:44.000Z",
                                    "Message": "Logon       Login failed for user 'TryingToStealYourData'. Reason: Could not find a login matching the name provided. [CLIENT: 10.244.0.37]"
                                },
                                {
                                    "node": "singlebeard",
                                    "namespace": "arc",
                                    "pod": "hyperben-0",
                                    "container": "arc-sqlmi",
                                    "message time": "2021-07-28T11:46:42.000Z",
                                    "Message": "Logon       Login failed for user 'TryingToStealYourData'. Reason: Could not find a login matching the name provided. [CLIENT: 10.244.0.36]"
                                },
                                {
                                    "node": "singlebeard",
                                    "namespace": "arc",
                                    "pod": "hyperben-0",
                                    "container": "arc-sqlmi",
                                    "message time": "2021-07-28T11:46:39.000Z",
                                    "Message": "Logon       Login failed for user 'TryingToStealYourData'. Reason: Could not find a login matching the name provided. [CLIENT: 10.244.0.35]"
                                },
                                {
                                    "node": "singlebeard",
                                    "namespace": "arc",
                                    "pod": "hyperben-0",
                                    "container": "arc-sqlmi",
                                    "message time": "2021-07-28T11:46:38.000Z",
                                    "Message": "Logon       Login failed for user 'TryingToStealYourData'. Reason: Could not find a login matching the name provided. [CLIENT: 10.244.0.34]"
                                },
                                {
                                    "node": "singlebeard",
                                    "namespace": "arc",
                                    "pod": "hyperben-0",
                                    "container": "arc-sqlmi",
                                    "message time": "2021-07-28T11:34:57.000Z",
                                    "Message": "Logon       Login failed for user 'TryingToStealYourData'. Reason: Could not find a login matching the name provided. [CLIENT: 10.244.0.26]"
                                },
                                {
                                    "node": "singlebeard",
                                    "namespace": "arc",
                                    "pod": "hyperben-0",
                                    "container": "arc-sqlmi",
                                    "message time": "2021-07-28T11:30:21.000Z",
                                    "Message": "Logon       Login failed for user '##monitoring-login##'. Reason: Could not find a login matching the name provided. [CLIENT: 10.244.0.24]"
                                },
                                {
                                    "node": "singlebeard",
                                    "namespace": "arc",
                                    "pod": "hyperben-0",
                                    "container": "arc-sqlmi",
                                    "message time": "2021-07-28T11:30:15.000Z",
                                    "Message": "Logon       Login failed for user '##miaa-agent-login##'. Reason: Could not find a login matching the name provided. [CLIENT: 127.0.0.1]"
                                },
                                {
                                    "node": "singlebeard",
                                    "namespace": "arc",
                                    "pod": "hyperben-0",
                                    "container": "arc-sqlmi",
                                    "message time": "2021-07-28T11:30:15.000Z",
                                    "Message": "Logon       Login failed for user 'sa'. Reason: An error occurred while evaluating the password. [CLIENT: ::1]"
                                },
                                {
                                    "node": "singlebeard",
                                    "namespace": "arc",
                                    "pod": "hyperben-0",
                                    "container": "arc-sqlmi",
                                    "message time": "2021-07-28T11:30:15.000Z",
                                    "Message": "Logon       Login failed for user 'system'. Reason: Could not find a login matching the name provided. [CLIENT: ::1]"
                                }
                            ]
                        }
                    },
                    "metadata": {},
                    "output_type": "display_data"
                },
                {
                    "data": {
                        "text/plain": "<IPython.core.display.HTML object>",
                        "text/html": "<html>\n        <head>\n            \n            \n        </head>\n        <body>\n            <div><p style=' padding: 10px; color: #3a87ad; background-color: #d9edf7; border-color: #bce9f1'>Done&nbsp;(00:01.555):&nbsp;63&nbsp;records</p></div>\n        </body>\n        </html>"
                    },
                    "metadata": {},
                    "output_type": "display_data"
                },
                {
                    "data": {
                        "text/plain": "[{'node': 'aks-nodepool1-35148010-vmss000001', 'namespace': 'arc', 'pod': 'benportal3-1', 'container': 'arc-sqlmi', 'message time': datetime.datetime(2021, 8, 3, 15, 32, 17, tzinfo=tzutc()), 'Message': \"Logon       Login failed for user '##ha-agent-login##'. Reason: Could not find a login matching the name provided. [CLIENT: 10.244.1.7]\"},\n {'node': 'aks-nodepool1-35148010-vmss000001', 'namespace': 'arc', 'pod': 'benportal3-1', 'container': 'arc-sqlmi', 'message time': datetime.datetime(2021, 8, 3, 15, 32, 14, tzinfo=tzutc()), 'Message': \"Logon       Login failed for user '##ha-agent-login##'. Reason: Could not find a login matching the name provided. [CLIENT: 10.244.1.7]\"},\n {'node': 'aks-nodepool1-35148010-vmss000001', 'namespace': 'arc', 'pod': 'benportal3-1', 'container': 'arc-sqlmi', 'message time': datetime.datetime(2021, 8, 3, 15, 32, 14, tzinfo=tzutc()), 'Message': \"Logon       Login failed for user 'system'. Reason: Could not find a login matching the name provided. [CLIENT: ::1]\"},\n {'node': 'aks-nodepool1-35148010-vmss000001', 'namespace': 'arc', 'pod': 'benportal3-1', 'container': 'arc-sqlmi', 'message time': datetime.datetime(2021, 8, 3, 15, 32, 14, tzinfo=tzutc()), 'Message': \"Logon       Login failed for user '##ha-agent-login##'. Reason: Could not find a login matching the name provided. [CLIENT: 10.244.1.7]\"},\n {'node': 'aks-nodepool1-35148010-vmss000001', 'namespace': 'arc', 'pod': 'benportal3-1', 'container': 'arc-sqlmi', 'message time': datetime.datetime(2021, 8, 3, 15, 32, 14, tzinfo=tzutc()), 'Message': \"Logon       Login failed for user '##ha-agent-login##'. Reason: Could not find a login matching the name provided. [CLIENT: 10.244.1.7]\"},\n {'node': 'aks-nodepool1-35148010-vmss000001', 'namespace': 'arc', 'pod': 'benportal3-1', 'container': 'arc-sqlmi', 'message time': datetime.datetime(2021, 8, 3, 15, 32, 14, tzinfo=tzutc()), 'Message': \"Logon       Login failed for user '##ha-agent-login##'. Reason: Could not find a login matching the name provided. [CLIENT: 10.244.1.7]\"},\n {'node': 'aks-nodepool1-35148010-vmss000001', 'namespace': 'arc', 'pod': 'benportal3-1', 'container': 'arc-sqlmi', 'message time': datetime.datetime(2021, 8, 3, 15, 32, 14, tzinfo=tzutc()), 'Message': \"Logon       Login failed for user '##ha-agent-login##'. Reason: Could not find a login matching the name provided. [CLIENT: 10.244.1.7]\"},\n {'node': 'aks-nodepool1-35148010-vmss000001', 'namespace': 'arc', 'pod': 'benportal3-1', 'container': 'arc-sqlmi', 'message time': datetime.datetime(2021, 8, 3, 15, 32, 14, tzinfo=tzutc()), 'Message': \"Logon       Login failed for user '##ha-agent-login##'. Reason: Could not find a login matching the name provided. [CLIENT: 10.244.1.7]\"},\n {'node': 'aks-nodepool1-35148010-vmss000001', 'namespace': 'arc', 'pod': 'benportal3-1', 'container': 'arc-sqlmi', 'message time': datetime.datetime(2021, 8, 3, 15, 32, 14, tzinfo=tzutc()), 'Message': \"Logon       Login failed for user 'sa'. Reason: An error occurred while evaluating the password. [CLIENT: ::1]\"},\n {'node': 'aks-nodepool1-35148010-vmss000001', 'namespace': 'arc', 'pod': 'benportal3-1', 'container': 'arc-sqlmi', 'message time': datetime.datetime(2021, 8, 3, 15, 32, 14, tzinfo=tzutc()), 'Message': \"Logon       Login failed for user '##ha-agent-login##'. Reason: Could not find a login matching the name provided. [CLIENT: 10.244.1.7]\"},\n {'node': 'aks-nodepool1-35148010-vmss000002', 'namespace': 'arc', 'pod': 'benportal3-0', 'container': 'arc-sqlmi', 'message time': datetime.datetime(2021, 8, 3, 15, 32, 11, tzinfo=tzutc()), 'Message': \"Logon       Login failed for user '##ha-agent-login##'. Reason: Could not find a login matching the name provided. [CLIENT: 10.244.2.13]\"},\n {'node': 'aks-nodepool1-35148010-vmss000002', 'namespace': 'arc', 'pod': 'benportal3-0', 'container': 'arc-sqlmi', 'message time': datetime.datetime(2021, 8, 3, 15, 32, 5, tzinfo=tzutc()), 'Message': \"Logon       Login failed for user '##ha-agent-login##'. Reason: Could not find a login matching the name provided. [CLIENT: 10.244.2.13]\"},\n {'node': 'aks-nodepool1-35148010-vmss000002', 'namespace': 'arc', 'pod': 'benportal3-0', 'container': 'arc-sqlmi', 'message time': datetime.datetime(2021, 8, 3, 15, 32, 5, tzinfo=tzutc()), 'Message': \"Logon       Login failed for user '##ha-agent-login##'. Reason: Could not find a login matching the name provided. [CLIENT: 10.244.2.13]\"},\n {'node': 'aks-nodepool1-35148010-vmss000002', 'namespace': 'arc', 'pod': 'benportal3-0', 'container': 'arc-sqlmi', 'message time': datetime.datetime(2021, 8, 3, 15, 32, 4, tzinfo=tzutc()), 'Message': \"Logon       Login failed for user 'system'. Reason: Could not find a login matching the name provided. [CLIENT: ::1]\"},\n {'node': 'aks-nodepool1-35148010-vmss000002', 'namespace': 'arc', 'pod': 'benportal3-0', 'container': 'arc-sqlmi', 'message time': datetime.datetime(2021, 8, 3, 15, 32, 4, tzinfo=tzutc()), 'Message': \"Logon       Login failed for user '##ha-agent-login##'. Reason: Could not find a login matching the name provided. [CLIENT: 10.244.2.13]\"},\n {'node': 'aks-nodepool1-35148010-vmss000002', 'namespace': 'arc', 'pod': 'benportal3-0', 'container': 'arc-sqlmi', 'message time': datetime.datetime(2021, 8, 3, 15, 32, 4, tzinfo=tzutc()), 'Message': \"Logon       Login failed for user '##ha-agent-login##'. Reason: Could not find a login matching the name provided. [CLIENT: 10.244.2.13]\"},\n {'node': 'aks-nodepool1-35148010-vmss000002', 'namespace': 'arc', 'pod': 'benportal3-0', 'container': 'arc-sqlmi', 'message time': datetime.datetime(2021, 8, 3, 15, 32, 4, tzinfo=tzutc()), 'Message': \"Logon       Login failed for user '##ha-agent-login##'. Reason: Could not find a login matching the name provided. [CLIENT: 10.244.2.13]\"},\n {'node': 'aks-nodepool1-35148010-vmss000002', 'namespace': 'arc', 'pod': 'benportal3-0', 'container': 'arc-sqlmi', 'message time': datetime.datetime(2021, 8, 3, 15, 32, 4, tzinfo=tzutc()), 'Message': \"Logon       Login failed for user 'sa'. Reason: An error occurred while evaluating the password. [CLIENT: ::1]\"},\n {'node': 'aks-nodepool1-35148010-vmss000002', 'namespace': 'arc', 'pod': 'benportal3-0', 'container': 'arc-sqlmi', 'message time': datetime.datetime(2021, 8, 3, 15, 32, 4, tzinfo=tzutc()), 'Message': \"Logon       Login failed for user '##ha-agent-login##'. Reason: Could not find a login matching the name provided. [CLIENT: 10.244.2.13]\"},\n {'node': 'aks-nodepool1-35148010-vmss000002', 'namespace': 'arc', 'pod': 'benportal3-0', 'container': 'arc-sqlmi', 'message time': datetime.datetime(2021, 8, 3, 15, 32, 4, tzinfo=tzutc()), 'Message': \"Logon       Login failed for user '##ha-agent-login##'. Reason: Could not find a login matching the name provided. [CLIENT: 10.244.2.13]\"},\n {'node': 'aks-nodepool1-35148010-vmss000002', 'namespace': 'arc', 'pod': 'benportal3-0', 'container': 'arc-sqlmi', 'message time': datetime.datetime(2021, 8, 3, 15, 32, 4, tzinfo=tzutc()), 'Message': \"Logon       Login failed for user '##ha-agent-login##'. Reason: Could not find a login matching the name provided. [CLIENT: 10.244.2.13]\"},\n {'node': 'aks-nodepool1-35148010-vmss000000', 'namespace': 'arc', 'pod': 'benportal3-2', 'container': 'arc-sqlmi', 'message time': datetime.datetime(2021, 8, 3, 15, 32, tzinfo=tzutc()), 'Message': \"Logon       Login failed for user '##ha-agent-login##'. Reason: Could not find a login matching the name provided. [CLIENT: 10.244.0.13]\"},\n {'node': 'aks-nodepool1-35148010-vmss000000', 'namespace': 'arc', 'pod': 'benportal3-2', 'container': 'arc-sqlmi', 'message time': datetime.datetime(2021, 8, 3, 15, 31, 57, tzinfo=tzutc()), 'Message': \"Logon       Login failed for user '##ha-agent-login##'. Reason: Could not find a login matching the name provided. [CLIENT: 10.244.0.13]\"},\n {'node': 'aks-nodepool1-35148010-vmss000000', 'namespace': 'arc', 'pod': 'benportal3-2', 'container': 'arc-sqlmi', 'message time': datetime.datetime(2021, 8, 3, 15, 31, 57, tzinfo=tzutc()), 'Message': \"Logon       Login failed for user '##ha-agent-login##'. Reason: Could not find a login matching the name provided. [CLIENT: 10.244.0.13]\"},\n {'node': 'aks-nodepool1-35148010-vmss000000', 'namespace': 'arc', 'pod': 'benportal3-2', 'container': 'arc-sqlmi', 'message time': datetime.datetime(2021, 8, 3, 15, 31, 57, tzinfo=tzutc()), 'Message': \"Logon       Login failed for user 'sa'. Reason: An error occurred while evaluating the password. [CLIENT: ::1]\"},\n {'node': 'aks-nodepool1-35148010-vmss000000', 'namespace': 'arc', 'pod': 'benportal3-2', 'container': 'arc-sqlmi', 'message time': datetime.datetime(2021, 8, 3, 15, 31, 57, tzinfo=tzutc()), 'Message': \"Logon       Login failed for user '##ha-agent-login##'. Reason: Could not find a login matching the name provided. [CLIENT: 10.244.0.13]\"},\n {'node': 'aks-nodepool1-35148010-vmss000000', 'namespace': 'arc', 'pod': 'benportal3-2', 'container': 'arc-sqlmi', 'message time': datetime.datetime(2021, 8, 3, 15, 31, 57, tzinfo=tzutc()), 'Message': \"Logon       Login failed for user 'system'. Reason: Could not find a login matching the name provided. [CLIENT: ::1]\"},\n {'node': 'aks-nodepool1-35148010-vmss000000', 'namespace': 'arc', 'pod': 'benportal3-2', 'container': 'arc-sqlmi', 'message time': datetime.datetime(2021, 8, 3, 15, 31, 57, tzinfo=tzutc()), 'Message': \"Logon       Login failed for user '##ha-agent-login##'. Reason: Could not find a login matching the name provided. [CLIENT: 10.244.0.13]\"},\n {'node': 'aks-nodepool1-35148010-vmss000000', 'namespace': 'arc', 'pod': 'benportal3-2', 'container': 'arc-sqlmi', 'message time': datetime.datetime(2021, 8, 3, 15, 31, 57, tzinfo=tzutc()), 'Message': \"Logon       Login failed for user '##ha-agent-login##'. Reason: Could not find a login matching the name provided. [CLIENT: 10.244.0.13]\"},\n {'node': 'aks-nodepool1-35148010-vmss000000', 'namespace': 'arc', 'pod': 'benportal3-2', 'container': 'arc-sqlmi', 'message time': datetime.datetime(2021, 8, 3, 15, 31, 57, tzinfo=tzutc()), 'Message': \"Logon       Login failed for user '##ha-agent-login##'. Reason: Could not find a login matching the name provided. [CLIENT: 10.244.0.13]\"},\n {'node': 'singlebeard', 'namespace': 'arc', 'pod': 'hyperben-0', 'container': 'arc-sqlmi', 'message time': datetime.datetime(2021, 7, 29, 8, 5, 5, tzinfo=tzutc()), 'Message': \"Logon       Login failed for user 'TryingToStealYourData-1478'. Reason: Could not find a login matching the name provided. [CLIENT: 10.244.0.161]\"},\n {'node': 'singlebeard', 'namespace': 'arc', 'pod': 'hyperben-0', 'container': 'arc-sqlmi', 'message time': datetime.datetime(2021, 7, 29, 8, 5, 1, tzinfo=tzutc()), 'Message': \"Logon       Login failed for user 'TryingToStealYourData-2189'. Reason: Could not find a login matching the name provided. [CLIENT: 10.244.0.160]\"},\n {'node': 'singlebeard', 'namespace': 'arc', 'pod': 'hyperben-0', 'container': 'arc-sqlmi', 'message time': datetime.datetime(2021, 7, 29, 8, 4, 58, tzinfo=tzutc()), 'Message': \"Logon       Login failed for user 'TryingToStealYourData-4168'. Reason: Could not find a login matching the name provided. [CLIENT: 10.244.0.159]\"},\n {'node': 'singlebeard', 'namespace': 'arc', 'pod': 'hyperben-0', 'container': 'arc-sqlmi', 'message time': datetime.datetime(2021, 7, 29, 8, 4, 56, tzinfo=tzutc()), 'Message': \"Logon       Login failed for user 'TryingToStealYourData-6403'. Reason: Could not find a login matching the name provided. [CLIENT: 10.244.0.158]\"},\n {'node': 'singlebeard', 'namespace': 'arc', 'pod': 'hyperben-0', 'container': 'arc-sqlmi', 'message time': datetime.datetime(2021, 7, 29, 7, 55, 21, tzinfo=tzutc()), 'Message': \"Logon       Login failed for user 'system'. Reason: Could not find a login matching the name provided. [CLIENT: ::1]\"},\n {'node': 'singlebeard', 'namespace': 'arc', 'pod': 'hyperben-0', 'container': 'arc-sqlmi', 'message time': datetime.datetime(2021, 7, 29, 7, 55, 17, tzinfo=tzutc()), 'Message': \"Logon       Login failed for user '##monitoring-login##'. Reason: Could not find a login matching the name provided. [CLIENT: 10.244.0.157]\"},\n {'node': 'singlebeard', 'namespace': 'arc', 'pod': 'hyperben-0', 'container': 'arc-sqlmi', 'message time': datetime.datetime(2021, 7, 29, 7, 55, 15, tzinfo=tzutc()), 'Message': \"Logon       Login failed for user 'sa'. Reason: An error occurred while evaluating the password. [CLIENT: ::1]\"},\n {'node': 'singlebeard', 'namespace': 'arc', 'pod': 'hyperben-0', 'container': 'arc-sqlmi', 'message time': datetime.datetime(2021, 7, 29, 7, 55, 15, tzinfo=tzutc()), 'Message': \"Logon       Login failed for user '##miaa-agent-login##'. Reason: Could not find a login matching the name provided. [CLIENT: 127.0.0.1]\"},\n {'node': 'singlebeard', 'namespace': 'arc', 'pod': 'hyperben-0', 'container': 'arc-sqlmi', 'message time': datetime.datetime(2021, 7, 28, 13, 0, 9, tzinfo=tzutc()), 'Message': \"Logon       Login failed for user 'TryingToStealYourData-2910'. Reason: Could not find a login matching the name provided. [CLIENT: 10.244.0.58]\"},\n {'node': 'singlebeard', 'namespace': 'arc', 'pod': 'hyperben-0', 'container': 'arc-sqlmi', 'message time': datetime.datetime(2021, 7, 28, 12, 0, 9, tzinfo=tzutc()), 'Message': \"Logon       Login failed for user 'TryingToStealYourData-3271'. Reason: Could not find a login matching the name provided. [CLIENT: 10.244.0.56]\"},\n {'node': 'singlebeard', 'namespace': 'arc', 'pod': 'hyperben-0', 'container': 'arc-sqlmi', 'message time': datetime.datetime(2021, 7, 28, 11, 58, 21, tzinfo=tzutc()), 'Message': \"Logon       Login failed for user 'TryingToStealYourData-1630'. Reason: Could not find a login matching the name provided. [CLIENT: 10.244.0.54]\"},\n {'node': 'singlebeard', 'namespace': 'arc', 'pod': 'hyperben-0', 'container': 'arc-sqlmi', 'message time': datetime.datetime(2021, 7, 28, 11, 58, 17, tzinfo=tzutc()), 'Message': \"Logon       Login failed for user 'TryingToStealYourData-6144'. Reason: Could not find a login matching the name provided. [CLIENT: 10.244.0.53]\"},\n {'node': 'singlebeard', 'namespace': 'arc', 'pod': 'hyperben-0', 'container': 'arc-sqlmi', 'message time': datetime.datetime(2021, 7, 28, 11, 58, 14, tzinfo=tzutc()), 'Message': \"Logon       Login failed for user 'TryingToStealYourData-2261'. Reason: Could not find a login matching the name provided. [CLIENT: 10.244.0.52]\"},\n {'node': 'singlebeard', 'namespace': 'arc', 'pod': 'hyperben-0', 'container': 'arc-sqlmi', 'message time': datetime.datetime(2021, 7, 28, 11, 58, 13, tzinfo=tzutc()), 'Message': \"Logon       Login failed for user 'TryingToStealYourData-2245'. Reason: Could not find a login matching the name provided. [CLIENT: 10.244.0.51]\"},\n {'node': 'singlebeard', 'namespace': 'arc', 'pod': 'hyperben-0', 'container': 'arc-sqlmi', 'message time': datetime.datetime(2021, 7, 28, 11, 58, 10, tzinfo=tzutc()), 'Message': \"Logon       Login failed for user 'TryingToStealYourData-4757'. Reason: Could not find a login matching the name provided. [CLIENT: 10.244.0.50]\"},\n {'node': 'singlebeard', 'namespace': 'arc', 'pod': 'hyperben-0', 'container': 'arc-sqlmi', 'message time': datetime.datetime(2021, 7, 28, 11, 58, 8, tzinfo=tzutc()), 'Message': \"Logon       Login failed for user 'TryingToStealYourData-3398'. Reason: Could not find a login matching the name provided. [CLIENT: 10.244.0.49]\"},\n {'node': 'singlebeard', 'namespace': 'arc', 'pod': 'hyperben-0', 'container': 'arc-sqlmi', 'message time': datetime.datetime(2021, 7, 28, 11, 58, 6, tzinfo=tzutc()), 'Message': \"Logon       Login failed for user 'TryingToStealYourData-5549'. Reason: Could not find a login matching the name provided. [CLIENT: 10.244.0.48]\"},\n {'node': 'singlebeard', 'namespace': 'arc', 'pod': 'hyperben-0', 'container': 'arc-sqlmi', 'message time': datetime.datetime(2021, 7, 28, 11, 58, 4, tzinfo=tzutc()), 'Message': \"Logon       Login failed for user 'TryingToStealYourData-5188'. Reason: Could not find a login matching the name provided. [CLIENT: 10.244.0.47]\"},\n {'node': 'singlebeard', 'namespace': 'arc', 'pod': 'hyperben-0', 'container': 'arc-sqlmi', 'message time': datetime.datetime(2021, 7, 28, 11, 58, 2, tzinfo=tzutc()), 'Message': \"Logon       Login failed for user 'TryingToStealYourData-9486'. Reason: Could not find a login matching the name provided. [CLIENT: 10.244.0.46]\"},\n {'node': 'singlebeard', 'namespace': 'arc', 'pod': 'hyperben-0', 'container': 'arc-sqlmi', 'message time': datetime.datetime(2021, 7, 28, 11, 58, tzinfo=tzutc()), 'Message': \"Logon       Login failed for user 'TryingToStealYourData-1027'. Reason: Could not find a login matching the name provided. [CLIENT: 10.244.0.45]\"},\n {'node': 'singlebeard', 'namespace': 'arc', 'pod': 'hyperben-0', 'container': 'arc-sqlmi', 'message time': datetime.datetime(2021, 7, 28, 11, 57, 58, tzinfo=tzutc()), 'Message': \"Logon       Login failed for user 'TryingToStealYourData-1828'. Reason: Could not find a login matching the name provided. [CLIENT: 10.244.0.44]\"},\n {'node': 'singlebeard', 'namespace': 'arc', 'pod': 'hyperben-0', 'container': 'arc-sqlmi', 'message time': datetime.datetime(2021, 7, 28, 11, 52, 9, tzinfo=tzutc()), 'Message': \"Logon       Login failed for user 'TryingToStealYourData-9661'. Reason: Could not find a login matching the name provided. [CLIENT: 10.244.0.43]\"},\n {'node': 'singlebeard', 'namespace': 'arc', 'pod': 'hyperben-0', 'container': 'arc-sqlmi', 'message time': datetime.datetime(2021, 7, 28, 11, 52, 3, tzinfo=tzutc()), 'Message': \"Logon       Login failed for user 'TryingToStealYourData-2869'. Reason: Could not find a login matching the name provided. [CLIENT: 10.244.0.42]\"},\n {'node': 'singlebeard', 'namespace': 'arc', 'pod': 'hyperben-0', 'container': 'arc-sqlmi', 'message time': datetime.datetime(2021, 7, 28, 11, 46, 49, tzinfo=tzutc()), 'Message': \"Logon       Login failed for user 'TryingToStealYourData'. Reason: Could not find a login matching the name provided. [CLIENT: 10.244.0.38]\"},\n {'node': 'singlebeard', 'namespace': 'arc', 'pod': 'hyperben-0', 'container': 'arc-sqlmi', 'message time': datetime.datetime(2021, 7, 28, 11, 46, 44, tzinfo=tzutc()), 'Message': \"Logon       Login failed for user 'TryingToStealYourData'. Reason: Could not find a login matching the name provided. [CLIENT: 10.244.0.37]\"},\n {'node': 'singlebeard', 'namespace': 'arc', 'pod': 'hyperben-0', 'container': 'arc-sqlmi', 'message time': datetime.datetime(2021, 7, 28, 11, 46, 42, tzinfo=tzutc()), 'Message': \"Logon       Login failed for user 'TryingToStealYourData'. Reason: Could not find a login matching the name provided. [CLIENT: 10.244.0.36]\"},\n {'node': 'singlebeard', 'namespace': 'arc', 'pod': 'hyperben-0', 'container': 'arc-sqlmi', 'message time': datetime.datetime(2021, 7, 28, 11, 46, 39, tzinfo=tzutc()), 'Message': \"Logon       Login failed for user 'TryingToStealYourData'. Reason: Could not find a login matching the name provided. [CLIENT: 10.244.0.35]\"},\n {'node': 'singlebeard', 'namespace': 'arc', 'pod': 'hyperben-0', 'container': 'arc-sqlmi', 'message time': datetime.datetime(2021, 7, 28, 11, 46, 38, tzinfo=tzutc()), 'Message': \"Logon       Login failed for user 'TryingToStealYourData'. Reason: Could not find a login matching the name provided. [CLIENT: 10.244.0.34]\"},\n {'node': 'singlebeard', 'namespace': 'arc', 'pod': 'hyperben-0', 'container': 'arc-sqlmi', 'message time': datetime.datetime(2021, 7, 28, 11, 34, 57, tzinfo=tzutc()), 'Message': \"Logon       Login failed for user 'TryingToStealYourData'. Reason: Could not find a login matching the name provided. [CLIENT: 10.244.0.26]\"},\n {'node': 'singlebeard', 'namespace': 'arc', 'pod': 'hyperben-0', 'container': 'arc-sqlmi', 'message time': datetime.datetime(2021, 7, 28, 11, 30, 21, tzinfo=tzutc()), 'Message': \"Logon       Login failed for user '##monitoring-login##'. Reason: Could not find a login matching the name provided. [CLIENT: 10.244.0.24]\"},\n {'node': 'singlebeard', 'namespace': 'arc', 'pod': 'hyperben-0', 'container': 'arc-sqlmi', 'message time': datetime.datetime(2021, 7, 28, 11, 30, 15, tzinfo=tzutc()), 'Message': \"Logon       Login failed for user '##miaa-agent-login##'. Reason: Could not find a login matching the name provided. [CLIENT: 127.0.0.1]\"},\n {'node': 'singlebeard', 'namespace': 'arc', 'pod': 'hyperben-0', 'container': 'arc-sqlmi', 'message time': datetime.datetime(2021, 7, 28, 11, 30, 15, tzinfo=tzutc()), 'Message': \"Logon       Login failed for user 'sa'. Reason: An error occurred while evaluating the password. [CLIENT: ::1]\"},\n {'node': 'singlebeard', 'namespace': 'arc', 'pod': 'hyperben-0', 'container': 'arc-sqlmi', 'message time': datetime.datetime(2021, 7, 28, 11, 30, 15, tzinfo=tzutc()), 'Message': \"Logon       Login failed for user 'system'. Reason: Could not find a login matching the name provided. [CLIENT: ::1]\"}]",
                        "text/html": ""
                    },
                    "metadata": {},
                    "execution_count": 11,
                    "output_type": "execute_result"
                }
            ],
            "execution_count": 11
        },
        {
            "cell_type": "markdown",
            "source": [
                "### Show me Backups"
            ],
            "metadata": {
                "azdata_cell_guid": "b955da27-0893-4b92-a23f-f3b9116e50c3"
            },
            "attachments": {}
        },
        {
            "cell_type": "code",
            "source": [
                "%kql sqlManagedInstances_logs_CL | where Message startswith \"Backup\"| sort by es_process_timestamp_t desc |project node=kubernetes_node_name_s,namespace=kubernetes_namespace_s,pod=kubernetes_pod_name_s,container=kubernetes_container_name_s,[\"message time\"]=es_process_timestamp_t,Message"
            ],
            "metadata": {
                "azdata_cell_guid": "f5057dbf-fe5c-4609-8838-5a7b0db33d2c"
            },
            "outputs": [
                {
                    "data": {
                        "text/plain": "<IPython.core.display.HTML object>",
                        "text/html": "<html>\n        <head>\n            \n            \n        </head>\n        <body>\n            <div><p style=' padding: 10px; color: #3a87ad; background-color: #d9edf7; border-color: #bce9f1'>&nbsp;*&nbsp;benlogs@loganalytics</p></div>\n        </body>\n        </html>"
                    },
                    "metadata": {},
                    "output_type": "display_data"
                },
                {
                    "data": {
                        "text/plain": "                                  node namespace           pod  container  \\\n0    aks-nodepool1-35148010-vmss000000       arc  benportal3-2  arc-sqlmi   \n1    aks-nodepool1-35148010-vmss000000       arc  benportal3-2  arc-sqlmi   \n2    aks-nodepool1-35148010-vmss000000       arc  benportal3-2  arc-sqlmi   \n3    aks-nodepool1-35148010-vmss000000       arc  benportal3-2  arc-sqlmi   \n4    aks-nodepool1-35148010-vmss000000       arc  benportal3-2  arc-sqlmi   \n5    aks-nodepool1-35148010-vmss000000       arc  benportal3-2  arc-sqlmi   \n6    aks-nodepool1-35148010-vmss000001       arc  benportal3-1  arc-sqlmi   \n7    aks-nodepool1-35148010-vmss000001       arc  benportal3-1  arc-sqlmi   \n8    aks-nodepool1-35148010-vmss000001       arc  benportal3-1  arc-sqlmi   \n9    aks-nodepool1-35148010-vmss000001       arc  benportal3-1  arc-sqlmi   \n10   aks-nodepool1-35148010-vmss000001       arc  benportal3-1  arc-sqlmi   \n11   aks-nodepool1-35148010-vmss000001       arc  benportal3-1  arc-sqlmi   \n12   aks-nodepool1-35148010-vmss000000       arc  benportal3-2  arc-sqlmi   \n13   aks-nodepool1-35148010-vmss000000       arc  benportal3-2  arc-sqlmi   \n14   aks-nodepool1-35148010-vmss000000       arc  benportal3-2  arc-sqlmi   \n15   aks-nodepool1-35148010-vmss000000       arc  benportal3-2  arc-sqlmi   \n16   aks-nodepool1-35148010-vmss000000       arc  benportal3-2  arc-sqlmi   \n17   aks-nodepool1-35148010-vmss000000       arc  benportal3-2  arc-sqlmi   \n18   aks-nodepool1-35148010-vmss000001       arc  benportal3-1  arc-sqlmi   \n19   aks-nodepool1-35148010-vmss000001       arc  benportal3-1  arc-sqlmi   \n20   aks-nodepool1-35148010-vmss000001       arc  benportal3-1  arc-sqlmi   \n21   aks-nodepool1-35148010-vmss000001       arc  benportal3-1  arc-sqlmi   \n22   aks-nodepool1-35148010-vmss000001       arc  benportal3-1  arc-sqlmi   \n23   aks-nodepool1-35148010-vmss000001       arc  benportal3-1  arc-sqlmi   \n24   aks-nodepool1-35148010-vmss000000       arc  benportal3-2  arc-sqlmi   \n25   aks-nodepool1-35148010-vmss000000       arc  benportal3-2  arc-sqlmi   \n26   aks-nodepool1-35148010-vmss000000       arc  benportal3-2  arc-sqlmi   \n27   aks-nodepool1-35148010-vmss000000       arc  benportal3-2  arc-sqlmi   \n28   aks-nodepool1-35148010-vmss000000       arc  benportal3-2  arc-sqlmi   \n29   aks-nodepool1-35148010-vmss000000       arc  benportal3-2  arc-sqlmi   \n30   aks-nodepool1-35148010-vmss000001       arc  benportal3-1  arc-sqlmi   \n31   aks-nodepool1-35148010-vmss000001       arc  benportal3-1  arc-sqlmi   \n32   aks-nodepool1-35148010-vmss000001       arc  benportal3-1  arc-sqlmi   \n33   aks-nodepool1-35148010-vmss000001       arc  benportal3-1  arc-sqlmi   \n34   aks-nodepool1-35148010-vmss000001       arc  benportal3-1  arc-sqlmi   \n35   aks-nodepool1-35148010-vmss000001       arc  benportal3-1  arc-sqlmi   \n36   aks-nodepool1-35148010-vmss000002       arc  benportal3-0  arc-sqlmi   \n37   aks-nodepool1-35148010-vmss000000       arc  benportal3-2  arc-sqlmi   \n38   aks-nodepool1-35148010-vmss000000       arc  benportal3-2  arc-sqlmi   \n39   aks-nodepool1-35148010-vmss000000       arc  benportal3-2  arc-sqlmi   \n40   aks-nodepool1-35148010-vmss000000       arc  benportal3-2  arc-sqlmi   \n41   aks-nodepool1-35148010-vmss000000       arc  benportal3-2  arc-sqlmi   \n42   aks-nodepool1-35148010-vmss000000       arc  benportal3-2  arc-sqlmi   \n43   aks-nodepool1-35148010-vmss000001       arc  benportal3-1  arc-sqlmi   \n44   aks-nodepool1-35148010-vmss000001       arc  benportal3-1  arc-sqlmi   \n45   aks-nodepool1-35148010-vmss000001       arc  benportal3-1  arc-sqlmi   \n46   aks-nodepool1-35148010-vmss000001       arc  benportal3-1  arc-sqlmi   \n47   aks-nodepool1-35148010-vmss000001       arc  benportal3-1  arc-sqlmi   \n48   aks-nodepool1-35148010-vmss000001       arc  benportal3-1  arc-sqlmi   \n49   aks-nodepool1-35148010-vmss000000       arc  benportal3-2  arc-sqlmi   \n50   aks-nodepool1-35148010-vmss000000       arc  benportal3-2  arc-sqlmi   \n51   aks-nodepool1-35148010-vmss000000       arc  benportal3-2  arc-sqlmi   \n52   aks-nodepool1-35148010-vmss000000       arc  benportal3-2  arc-sqlmi   \n53   aks-nodepool1-35148010-vmss000000       arc  benportal3-2  arc-sqlmi   \n54   aks-nodepool1-35148010-vmss000000       arc  benportal3-2  arc-sqlmi   \n55   aks-nodepool1-35148010-vmss000001       arc  benportal3-1  arc-sqlmi   \n56   aks-nodepool1-35148010-vmss000001       arc  benportal3-1  arc-sqlmi   \n57   aks-nodepool1-35148010-vmss000001       arc  benportal3-1  arc-sqlmi   \n58   aks-nodepool1-35148010-vmss000001       arc  benportal3-1  arc-sqlmi   \n59   aks-nodepool1-35148010-vmss000001       arc  benportal3-1  arc-sqlmi   \n60   aks-nodepool1-35148010-vmss000001       arc  benportal3-1  arc-sqlmi   \n61   aks-nodepool1-35148010-vmss000000       arc  benportal3-2  arc-sqlmi   \n62   aks-nodepool1-35148010-vmss000000       arc  benportal3-2  arc-sqlmi   \n63   aks-nodepool1-35148010-vmss000000       arc  benportal3-2  arc-sqlmi   \n64   aks-nodepool1-35148010-vmss000000       arc  benportal3-2  arc-sqlmi   \n65   aks-nodepool1-35148010-vmss000000       arc  benportal3-2  arc-sqlmi   \n66   aks-nodepool1-35148010-vmss000000       arc  benportal3-2  arc-sqlmi   \n67   aks-nodepool1-35148010-vmss000001       arc  benportal3-1  arc-sqlmi   \n68   aks-nodepool1-35148010-vmss000001       arc  benportal3-1  arc-sqlmi   \n69   aks-nodepool1-35148010-vmss000001       arc  benportal3-1  arc-sqlmi   \n70   aks-nodepool1-35148010-vmss000001       arc  benportal3-1  arc-sqlmi   \n71   aks-nodepool1-35148010-vmss000001       arc  benportal3-1  arc-sqlmi   \n72   aks-nodepool1-35148010-vmss000001       arc  benportal3-1  arc-sqlmi   \n73   aks-nodepool1-35148010-vmss000000       arc  benportal3-2  arc-sqlmi   \n74   aks-nodepool1-35148010-vmss000000       arc  benportal3-2  arc-sqlmi   \n75   aks-nodepool1-35148010-vmss000000       arc  benportal3-2  arc-sqlmi   \n76   aks-nodepool1-35148010-vmss000000       arc  benportal3-2  arc-sqlmi   \n77   aks-nodepool1-35148010-vmss000000       arc  benportal3-2  arc-sqlmi   \n78   aks-nodepool1-35148010-vmss000000       arc  benportal3-2  arc-sqlmi   \n79   aks-nodepool1-35148010-vmss000001       arc  benportal3-1  arc-sqlmi   \n80   aks-nodepool1-35148010-vmss000001       arc  benportal3-1  arc-sqlmi   \n81   aks-nodepool1-35148010-vmss000001       arc  benportal3-1  arc-sqlmi   \n82   aks-nodepool1-35148010-vmss000001       arc  benportal3-1  arc-sqlmi   \n83   aks-nodepool1-35148010-vmss000001       arc  benportal3-1  arc-sqlmi   \n84   aks-nodepool1-35148010-vmss000001       arc  benportal3-1  arc-sqlmi   \n85   aks-nodepool1-35148010-vmss000000       arc  benportal3-2  arc-sqlmi   \n86   aks-nodepool1-35148010-vmss000000       arc  benportal3-2  arc-sqlmi   \n87   aks-nodepool1-35148010-vmss000000       arc  benportal3-2  arc-sqlmi   \n88   aks-nodepool1-35148010-vmss000000       arc  benportal3-2  arc-sqlmi   \n89   aks-nodepool1-35148010-vmss000000       arc  benportal3-2  arc-sqlmi   \n90   aks-nodepool1-35148010-vmss000000       arc  benportal3-2  arc-sqlmi   \n91   aks-nodepool1-35148010-vmss000001       arc  benportal3-1  arc-sqlmi   \n92   aks-nodepool1-35148010-vmss000001       arc  benportal3-1  arc-sqlmi   \n93   aks-nodepool1-35148010-vmss000001       arc  benportal3-1  arc-sqlmi   \n94   aks-nodepool1-35148010-vmss000001       arc  benportal3-1  arc-sqlmi   \n95   aks-nodepool1-35148010-vmss000001       arc  benportal3-1  arc-sqlmi   \n96   aks-nodepool1-35148010-vmss000001       arc  benportal3-1  arc-sqlmi   \n97   aks-nodepool1-35148010-vmss000000       arc  benportal3-2  arc-sqlmi   \n98   aks-nodepool1-35148010-vmss000000       arc  benportal3-2  arc-sqlmi   \n99   aks-nodepool1-35148010-vmss000000       arc  benportal3-2  arc-sqlmi   \n100  aks-nodepool1-35148010-vmss000000       arc  benportal3-2  arc-sqlmi   \n101  aks-nodepool1-35148010-vmss000000       arc  benportal3-2  arc-sqlmi   \n102  aks-nodepool1-35148010-vmss000000       arc  benportal3-2  arc-sqlmi   \n103  aks-nodepool1-35148010-vmss000001       arc  benportal3-1  arc-sqlmi   \n104  aks-nodepool1-35148010-vmss000001       arc  benportal3-1  arc-sqlmi   \n105  aks-nodepool1-35148010-vmss000001       arc  benportal3-1  arc-sqlmi   \n106  aks-nodepool1-35148010-vmss000001       arc  benportal3-1  arc-sqlmi   \n107  aks-nodepool1-35148010-vmss000001       arc  benportal3-1  arc-sqlmi   \n108  aks-nodepool1-35148010-vmss000001       arc  benportal3-1  arc-sqlmi   \n109  aks-nodepool1-35148010-vmss000000       arc  benportal3-2  arc-sqlmi   \n110  aks-nodepool1-35148010-vmss000000       arc  benportal3-2  arc-sqlmi   \n111  aks-nodepool1-35148010-vmss000000       arc  benportal3-2  arc-sqlmi   \n112  aks-nodepool1-35148010-vmss000000       arc  benportal3-2  arc-sqlmi   \n113  aks-nodepool1-35148010-vmss000000       arc  benportal3-2  arc-sqlmi   \n114  aks-nodepool1-35148010-vmss000000       arc  benportal3-2  arc-sqlmi   \n115  aks-nodepool1-35148010-vmss000001       arc  benportal3-1  arc-sqlmi   \n116  aks-nodepool1-35148010-vmss000001       arc  benportal3-1  arc-sqlmi   \n117  aks-nodepool1-35148010-vmss000001       arc  benportal3-1  arc-sqlmi   \n118  aks-nodepool1-35148010-vmss000001       arc  benportal3-1  arc-sqlmi   \n119  aks-nodepool1-35148010-vmss000001       arc  benportal3-1  arc-sqlmi   \n120  aks-nodepool1-35148010-vmss000001       arc  benportal3-1  arc-sqlmi   \n121  aks-nodepool1-35148010-vmss000000       arc  benportal3-2  arc-sqlmi   \n122  aks-nodepool1-35148010-vmss000000       arc  benportal3-2  arc-sqlmi   \n123  aks-nodepool1-35148010-vmss000000       arc  benportal3-2  arc-sqlmi   \n124  aks-nodepool1-35148010-vmss000000       arc  benportal3-2  arc-sqlmi   \n125  aks-nodepool1-35148010-vmss000000       arc  benportal3-2  arc-sqlmi   \n126  aks-nodepool1-35148010-vmss000000       arc  benportal3-2  arc-sqlmi   \n127  aks-nodepool1-35148010-vmss000001       arc  benportal3-1  arc-sqlmi   \n128  aks-nodepool1-35148010-vmss000001       arc  benportal3-1  arc-sqlmi   \n129  aks-nodepool1-35148010-vmss000001       arc  benportal3-1  arc-sqlmi   \n130  aks-nodepool1-35148010-vmss000001       arc  benportal3-1  arc-sqlmi   \n131  aks-nodepool1-35148010-vmss000001       arc  benportal3-1  arc-sqlmi   \n132  aks-nodepool1-35148010-vmss000001       arc  benportal3-1  arc-sqlmi   \n133  aks-nodepool1-35148010-vmss000000       arc  benportal3-2  arc-sqlmi   \n134  aks-nodepool1-35148010-vmss000000       arc  benportal3-2  arc-sqlmi   \n135  aks-nodepool1-35148010-vmss000000       arc  benportal3-2  arc-sqlmi   \n136  aks-nodepool1-35148010-vmss000000       arc  benportal3-2  arc-sqlmi   \n137  aks-nodepool1-35148010-vmss000000       arc  benportal3-2  arc-sqlmi   \n138  aks-nodepool1-35148010-vmss000000       arc  benportal3-2  arc-sqlmi   \n139  aks-nodepool1-35148010-vmss000001       arc  benportal3-1  arc-sqlmi   \n140  aks-nodepool1-35148010-vmss000001       arc  benportal3-1  arc-sqlmi   \n141  aks-nodepool1-35148010-vmss000001       arc  benportal3-1  arc-sqlmi   \n142  aks-nodepool1-35148010-vmss000001       arc  benportal3-1  arc-sqlmi   \n143  aks-nodepool1-35148010-vmss000001       arc  benportal3-1  arc-sqlmi   \n144  aks-nodepool1-35148010-vmss000001       arc  benportal3-1  arc-sqlmi   \n145  aks-nodepool1-35148010-vmss000000       arc  benportal3-2  arc-sqlmi   \n146  aks-nodepool1-35148010-vmss000000       arc  benportal3-2  arc-sqlmi   \n147  aks-nodepool1-35148010-vmss000000       arc  benportal3-2  arc-sqlmi   \n148  aks-nodepool1-35148010-vmss000000       arc  benportal3-2  arc-sqlmi   \n149  aks-nodepool1-35148010-vmss000000       arc  benportal3-2  arc-sqlmi   \n150  aks-nodepool1-35148010-vmss000000       arc  benportal3-2  arc-sqlmi   \n151  aks-nodepool1-35148010-vmss000001       arc  benportal3-1  arc-sqlmi   \n152  aks-nodepool1-35148010-vmss000001       arc  benportal3-1  arc-sqlmi   \n153  aks-nodepool1-35148010-vmss000001       arc  benportal3-1  arc-sqlmi   \n154  aks-nodepool1-35148010-vmss000001       arc  benportal3-1  arc-sqlmi   \n155  aks-nodepool1-35148010-vmss000001       arc  benportal3-1  arc-sqlmi   \n156  aks-nodepool1-35148010-vmss000001       arc  benportal3-1  arc-sqlmi   \n157  aks-nodepool1-35148010-vmss000000       arc  benportal3-2  arc-sqlmi   \n158  aks-nodepool1-35148010-vmss000000       arc  benportal3-2  arc-sqlmi   \n159  aks-nodepool1-35148010-vmss000000       arc  benportal3-2  arc-sqlmi   \n160  aks-nodepool1-35148010-vmss000000       arc  benportal3-2  arc-sqlmi   \n161  aks-nodepool1-35148010-vmss000000       arc  benportal3-2  arc-sqlmi   \n162  aks-nodepool1-35148010-vmss000000       arc  benportal3-2  arc-sqlmi   \n163  aks-nodepool1-35148010-vmss000001       arc  benportal3-1  arc-sqlmi   \n164  aks-nodepool1-35148010-vmss000001       arc  benportal3-1  arc-sqlmi   \n165  aks-nodepool1-35148010-vmss000001       arc  benportal3-1  arc-sqlmi   \n166  aks-nodepool1-35148010-vmss000001       arc  benportal3-1  arc-sqlmi   \n167  aks-nodepool1-35148010-vmss000001       arc  benportal3-1  arc-sqlmi   \n168  aks-nodepool1-35148010-vmss000001       arc  benportal3-1  arc-sqlmi   \n169  aks-nodepool1-35148010-vmss000002       arc  benportal3-0  arc-sqlmi   \n170  aks-nodepool1-35148010-vmss000000       arc  benportal3-2  arc-sqlmi   \n171  aks-nodepool1-35148010-vmss000000       arc  benportal3-2  arc-sqlmi   \n172  aks-nodepool1-35148010-vmss000000       arc  benportal3-2  arc-sqlmi   \n173  aks-nodepool1-35148010-vmss000000       arc  benportal3-2  arc-sqlmi   \n174  aks-nodepool1-35148010-vmss000000       arc  benportal3-2  arc-sqlmi   \n175  aks-nodepool1-35148010-vmss000000       arc  benportal3-2  arc-sqlmi   \n176  aks-nodepool1-35148010-vmss000001       arc  benportal3-1  arc-sqlmi   \n177  aks-nodepool1-35148010-vmss000001       arc  benportal3-1  arc-sqlmi   \n178  aks-nodepool1-35148010-vmss000001       arc  benportal3-1  arc-sqlmi   \n179  aks-nodepool1-35148010-vmss000001       arc  benportal3-1  arc-sqlmi   \n180  aks-nodepool1-35148010-vmss000001       arc  benportal3-1  arc-sqlmi   \n181  aks-nodepool1-35148010-vmss000001       arc  benportal3-1  arc-sqlmi   \n182  aks-nodepool1-35148010-vmss000000       arc  benportal3-2  arc-sqlmi   \n183  aks-nodepool1-35148010-vmss000000       arc  benportal3-2  arc-sqlmi   \n184  aks-nodepool1-35148010-vmss000000       arc  benportal3-2  arc-sqlmi   \n185  aks-nodepool1-35148010-vmss000000       arc  benportal3-2  arc-sqlmi   \n186  aks-nodepool1-35148010-vmss000000       arc  benportal3-2  arc-sqlmi   \n187  aks-nodepool1-35148010-vmss000000       arc  benportal3-2  arc-sqlmi   \n188  aks-nodepool1-35148010-vmss000001       arc  benportal3-1  arc-sqlmi   \n189  aks-nodepool1-35148010-vmss000001       arc  benportal3-1  arc-sqlmi   \n190  aks-nodepool1-35148010-vmss000001       arc  benportal3-1  arc-sqlmi   \n191  aks-nodepool1-35148010-vmss000001       arc  benportal3-1  arc-sqlmi   \n192  aks-nodepool1-35148010-vmss000001       arc  benportal3-1  arc-sqlmi   \n193  aks-nodepool1-35148010-vmss000001       arc  benportal3-1  arc-sqlmi   \n194  aks-nodepool1-35148010-vmss000002       arc  benportal3-0  arc-sqlmi   \n195  aks-nodepool1-35148010-vmss000002       arc  benportal3-0  arc-sqlmi   \n196  aks-nodepool1-35148010-vmss000000       arc  benportal3-2  arc-sqlmi   \n197  aks-nodepool1-35148010-vmss000000       arc  benportal3-2  arc-sqlmi   \n198  aks-nodepool1-35148010-vmss000000       arc  benportal3-2  arc-sqlmi   \n199  aks-nodepool1-35148010-vmss000000       arc  benportal3-2  arc-sqlmi   \n200  aks-nodepool1-35148010-vmss000000       arc  benportal3-2  arc-sqlmi   \n201  aks-nodepool1-35148010-vmss000000       arc  benportal3-2  arc-sqlmi   \n202  aks-nodepool1-35148010-vmss000000       arc  benportal3-2  arc-sqlmi   \n203  aks-nodepool1-35148010-vmss000002       arc  benportal3-0  arc-sqlmi   \n204  aks-nodepool1-35148010-vmss000000       arc  benportal3-2  arc-sqlmi   \n205  aks-nodepool1-35148010-vmss000001       arc  benportal3-1  arc-sqlmi   \n206  aks-nodepool1-35148010-vmss000001       arc  benportal3-1  arc-sqlmi   \n207  aks-nodepool1-35148010-vmss000002       arc  benportal3-0  arc-sqlmi   \n208  aks-nodepool1-35148010-vmss000002       arc  benportal3-0  arc-sqlmi   \n209  aks-nodepool1-35148010-vmss000002       arc  benportal3-0  arc-sqlmi   \n210  aks-nodepool1-35148010-vmss000002       arc  benportal3-0  arc-sqlmi   \n211  aks-nodepool1-35148010-vmss000002       arc  benportal3-0  arc-sqlmi   \n212  aks-nodepool1-35148010-vmss000001       arc  benportal3-1  arc-sqlmi   \n213  aks-nodepool1-35148010-vmss000001       arc  benportal3-1  arc-sqlmi   \n214  aks-nodepool1-35148010-vmss000001       arc  benportal3-1  arc-sqlmi   \n215  aks-nodepool1-35148010-vmss000001       arc  benportal3-1  arc-sqlmi   \n216  aks-nodepool1-35148010-vmss000000       arc  benportal3-2  arc-sqlmi   \n217  aks-nodepool1-35148010-vmss000000       arc  benportal3-2  arc-sqlmi   \n218  aks-nodepool1-35148010-vmss000000       arc  benportal3-2  arc-sqlmi   \n219  aks-nodepool1-35148010-vmss000000       arc  benportal3-2  arc-sqlmi   \n220  aks-nodepool1-35148010-vmss000001       arc  benportal3-1  arc-sqlmi   \n221  aks-nodepool1-35148010-vmss000001       arc  benportal3-1  arc-sqlmi   \n222  aks-nodepool1-35148010-vmss000001       arc  benportal3-1  arc-sqlmi   \n223  aks-nodepool1-35148010-vmss000001       arc  benportal3-1  arc-sqlmi   \n224  aks-nodepool1-35148010-vmss000000       arc  benportal3-2  arc-sqlmi   \n225  aks-nodepool1-35148010-vmss000000       arc  benportal3-2  arc-sqlmi   \n226  aks-nodepool1-35148010-vmss000000       arc  benportal3-2  arc-sqlmi   \n227  aks-nodepool1-35148010-vmss000000       arc  benportal3-2  arc-sqlmi   \n228  aks-nodepool1-35148010-vmss000001       arc  benportal3-1  arc-sqlmi   \n229  aks-nodepool1-35148010-vmss000001       arc  benportal3-1  arc-sqlmi   \n230  aks-nodepool1-35148010-vmss000001       arc  benportal3-1  arc-sqlmi   \n231  aks-nodepool1-35148010-vmss000001       arc  benportal3-1  arc-sqlmi   \n232  aks-nodepool1-35148010-vmss000000       arc  benportal3-2  arc-sqlmi   \n233  aks-nodepool1-35148010-vmss000000       arc  benportal3-2  arc-sqlmi   \n234  aks-nodepool1-35148010-vmss000000       arc  benportal3-2  arc-sqlmi   \n235  aks-nodepool1-35148010-vmss000000       arc  benportal3-2  arc-sqlmi   \n236  aks-nodepool1-35148010-vmss000001       arc  benportal3-1  arc-sqlmi   \n237  aks-nodepool1-35148010-vmss000001       arc  benportal3-1  arc-sqlmi   \n238  aks-nodepool1-35148010-vmss000001       arc  benportal3-1  arc-sqlmi   \n239  aks-nodepool1-35148010-vmss000001       arc  benportal3-1  arc-sqlmi   \n240  aks-nodepool1-35148010-vmss000000       arc  benportal3-2  arc-sqlmi   \n241  aks-nodepool1-35148010-vmss000000       arc  benportal3-2  arc-sqlmi   \n242  aks-nodepool1-35148010-vmss000000       arc  benportal3-2  arc-sqlmi   \n243  aks-nodepool1-35148010-vmss000000       arc  benportal3-2  arc-sqlmi   \n244  aks-nodepool1-35148010-vmss000001       arc  benportal3-1  arc-sqlmi   \n245  aks-nodepool1-35148010-vmss000001       arc  benportal3-1  arc-sqlmi   \n246  aks-nodepool1-35148010-vmss000001       arc  benportal3-1  arc-sqlmi   \n247  aks-nodepool1-35148010-vmss000001       arc  benportal3-1  arc-sqlmi   \n248  aks-nodepool1-35148010-vmss000000       arc  benportal3-2  arc-sqlmi   \n249  aks-nodepool1-35148010-vmss000000       arc  benportal3-2  arc-sqlmi   \n250  aks-nodepool1-35148010-vmss000000       arc  benportal3-2  arc-sqlmi   \n251  aks-nodepool1-35148010-vmss000000       arc  benportal3-2  arc-sqlmi   \n252  aks-nodepool1-35148010-vmss000001       arc  benportal3-1  arc-sqlmi   \n253  aks-nodepool1-35148010-vmss000001       arc  benportal3-1  arc-sqlmi   \n254  aks-nodepool1-35148010-vmss000001       arc  benportal3-1  arc-sqlmi   \n255  aks-nodepool1-35148010-vmss000001       arc  benportal3-1  arc-sqlmi   \n256  aks-nodepool1-35148010-vmss000000       arc  benportal3-2  arc-sqlmi   \n257  aks-nodepool1-35148010-vmss000000       arc  benportal3-2  arc-sqlmi   \n258  aks-nodepool1-35148010-vmss000000       arc  benportal3-2  arc-sqlmi   \n259  aks-nodepool1-35148010-vmss000000       arc  benportal3-2  arc-sqlmi   \n260  aks-nodepool1-35148010-vmss000001       arc  benportal3-1  arc-sqlmi   \n261  aks-nodepool1-35148010-vmss000001       arc  benportal3-1  arc-sqlmi   \n262  aks-nodepool1-35148010-vmss000001       arc  benportal3-1  arc-sqlmi   \n263  aks-nodepool1-35148010-vmss000001       arc  benportal3-1  arc-sqlmi   \n264  aks-nodepool1-35148010-vmss000000       arc  benportal3-2  arc-sqlmi   \n265  aks-nodepool1-35148010-vmss000000       arc  benportal3-2  arc-sqlmi   \n266  aks-nodepool1-35148010-vmss000000       arc  benportal3-2  arc-sqlmi   \n267  aks-nodepool1-35148010-vmss000000       arc  benportal3-2  arc-sqlmi   \n268  aks-nodepool1-35148010-vmss000001       arc  benportal3-1  arc-sqlmi   \n269  aks-nodepool1-35148010-vmss000001       arc  benportal3-1  arc-sqlmi   \n270  aks-nodepool1-35148010-vmss000001       arc  benportal3-1  arc-sqlmi   \n271  aks-nodepool1-35148010-vmss000001       arc  benportal3-1  arc-sqlmi   \n272  aks-nodepool1-35148010-vmss000000       arc  benportal3-2  arc-sqlmi   \n273  aks-nodepool1-35148010-vmss000000       arc  benportal3-2  arc-sqlmi   \n274  aks-nodepool1-35148010-vmss000000       arc  benportal3-2  arc-sqlmi   \n275  aks-nodepool1-35148010-vmss000000       arc  benportal3-2  arc-sqlmi   \n276  aks-nodepool1-35148010-vmss000001       arc  benportal3-1  arc-sqlmi   \n277  aks-nodepool1-35148010-vmss000001       arc  benportal3-1  arc-sqlmi   \n278  aks-nodepool1-35148010-vmss000001       arc  benportal3-1  arc-sqlmi   \n279  aks-nodepool1-35148010-vmss000001       arc  benportal3-1  arc-sqlmi   \n280  aks-nodepool1-35148010-vmss000000       arc  benportal3-2  arc-sqlmi   \n281  aks-nodepool1-35148010-vmss000000       arc  benportal3-2  arc-sqlmi   \n282  aks-nodepool1-35148010-vmss000000       arc  benportal3-2  arc-sqlmi   \n283  aks-nodepool1-35148010-vmss000000       arc  benportal3-2  arc-sqlmi   \n284  aks-nodepool1-35148010-vmss000001       arc  benportal3-1  arc-sqlmi   \n285  aks-nodepool1-35148010-vmss000001       arc  benportal3-1  arc-sqlmi   \n286  aks-nodepool1-35148010-vmss000001       arc  benportal3-1  arc-sqlmi   \n287  aks-nodepool1-35148010-vmss000001       arc  benportal3-1  arc-sqlmi   \n288  aks-nodepool1-35148010-vmss000000       arc  benportal3-2  arc-sqlmi   \n289  aks-nodepool1-35148010-vmss000000       arc  benportal3-2  arc-sqlmi   \n290  aks-nodepool1-35148010-vmss000000       arc  benportal3-2  arc-sqlmi   \n291  aks-nodepool1-35148010-vmss000000       arc  benportal3-2  arc-sqlmi   \n292  aks-nodepool1-35148010-vmss000001       arc  benportal3-1  arc-sqlmi   \n293  aks-nodepool1-35148010-vmss000001       arc  benportal3-1  arc-sqlmi   \n294  aks-nodepool1-35148010-vmss000001       arc  benportal3-1  arc-sqlmi   \n295  aks-nodepool1-35148010-vmss000001       arc  benportal3-1  arc-sqlmi   \n296  aks-nodepool1-35148010-vmss000000       arc  benportal3-2  arc-sqlmi   \n297  aks-nodepool1-35148010-vmss000002       arc  benportal3-0  arc-sqlmi   \n298  aks-nodepool1-35148010-vmss000002       arc  benportal3-0  arc-sqlmi   \n299  aks-nodepool1-35148010-vmss000000       arc  benportal3-2  arc-sqlmi   \n300  aks-nodepool1-35148010-vmss000002       arc  benportal3-0  arc-sqlmi   \n301  aks-nodepool1-35148010-vmss000002       arc  benportal3-0  arc-sqlmi   \n302  aks-nodepool1-35148010-vmss000002       arc  benportal3-0  arc-sqlmi   \n303  aks-nodepool1-35148010-vmss000002       arc  benportal3-0  arc-sqlmi   \n304  aks-nodepool1-35148010-vmss000000       arc  benportal3-2  arc-sqlmi   \n305  aks-nodepool1-35148010-vmss000000       arc  benportal3-2  arc-sqlmi   \n306  aks-nodepool1-35148010-vmss000002       arc  benportal3-0  arc-sqlmi   \n307  aks-nodepool1-35148010-vmss000002       arc  benportal3-0  arc-sqlmi   \n308  aks-nodepool1-35148010-vmss000002       arc  benportal3-0  arc-sqlmi   \n309  aks-nodepool1-35148010-vmss000001       arc  benportal3-1  arc-sqlmi   \n310  aks-nodepool1-35148010-vmss000002       arc  benportal3-0  arc-sqlmi   \n311  aks-nodepool1-35148010-vmss000001       arc  benportal3-1  arc-sqlmi   \n312  aks-nodepool1-35148010-vmss000002       arc  benportal3-0  arc-sqlmi   \n313  aks-nodepool1-35148010-vmss000001       arc  benportal3-1  arc-sqlmi   \n314  aks-nodepool1-35148010-vmss000001       arc  benportal3-1  arc-sqlmi   \n315  aks-nodepool1-35148010-vmss000002       arc  benportal3-0  arc-sqlmi   \n316  aks-nodepool1-35148010-vmss000002       arc  benportal3-0  arc-sqlmi   \n317  aks-nodepool1-35148010-vmss000002       arc  benportal3-0  arc-sqlmi   \n318  aks-nodepool1-35148010-vmss000002       arc  benportal3-0  arc-sqlmi   \n319  aks-nodepool1-35148010-vmss000002       arc  benportal3-0  arc-sqlmi   \n320                        singlebeard       arc    hyperben-0  arc-sqlmi   \n321                        singlebeard       arc    hyperben-0  arc-sqlmi   \n322                        singlebeard       arc    hyperben-0  arc-sqlmi   \n323                        singlebeard       arc    hyperben-0  arc-sqlmi   \n324                        singlebeard       arc    hyperben-0  arc-sqlmi   \n325                        singlebeard       arc    hyperben-0  arc-sqlmi   \n326                        singlebeard       arc    hyperben-0  arc-sqlmi   \n327                        singlebeard       arc    hyperben-0  arc-sqlmi   \n328                        singlebeard       arc    hyperben-0  arc-sqlmi   \n329                        singlebeard       arc    hyperben-0  arc-sqlmi   \n330                        singlebeard       arc    hyperben-0  arc-sqlmi   \n331                        singlebeard       arc    hyperben-0  arc-sqlmi   \n332                        singlebeard       arc    hyperben-0  arc-sqlmi   \n333                        singlebeard       arc    hyperben-0  arc-sqlmi   \n\n                 message time  \\\n0   2021-08-03 15:47:44+00:00   \n1   2021-08-03 15:47:38+00:00   \n2   2021-08-03 15:47:38+00:00   \n3   2021-08-03 15:47:38+00:00   \n4   2021-08-03 15:47:38+00:00   \n5   2021-08-03 15:47:38+00:00   \n6   2021-08-03 15:47:29+00:00   \n7   2021-08-03 15:47:25+00:00   \n8   2021-08-03 15:47:25+00:00   \n9   2021-08-03 15:47:25+00:00   \n10  2021-08-03 15:47:25+00:00   \n11  2021-08-03 15:47:25+00:00   \n12  2021-08-03 15:47:12+00:00   \n13  2021-08-03 15:47:08+00:00   \n14  2021-08-03 15:47:08+00:00   \n15  2021-08-03 15:47:08+00:00   \n16  2021-08-03 15:47:08+00:00   \n17  2021-08-03 15:47:08+00:00   \n18  2021-08-03 15:47:01+00:00   \n19  2021-08-03 15:46:55+00:00   \n20  2021-08-03 15:46:55+00:00   \n21  2021-08-03 15:46:55+00:00   \n22  2021-08-03 15:46:55+00:00   \n23  2021-08-03 15:46:55+00:00   \n24  2021-08-03 15:46:44+00:00   \n25  2021-08-03 15:46:38+00:00   \n26  2021-08-03 15:46:38+00:00   \n27  2021-08-03 15:46:38+00:00   \n28  2021-08-03 15:46:38+00:00   \n29  2021-08-03 15:46:38+00:00   \n30  2021-08-03 15:46:29+00:00   \n31  2021-08-03 15:46:25+00:00   \n32  2021-08-03 15:46:25+00:00   \n33  2021-08-03 15:46:25+00:00   \n34  2021-08-03 15:46:25+00:00   \n35  2021-08-03 15:46:25+00:00   \n36  2021-08-03 15:46:23+00:00   \n37  2021-08-03 15:46:12+00:00   \n38  2021-08-03 15:46:08+00:00   \n39  2021-08-03 15:46:08+00:00   \n40  2021-08-03 15:46:08+00:00   \n41  2021-08-03 15:46:08+00:00   \n42  2021-08-03 15:46:08+00:00   \n43  2021-08-03 15:46:01+00:00   \n44  2021-08-03 15:45:55+00:00   \n45  2021-08-03 15:45:55+00:00   \n46  2021-08-03 15:45:55+00:00   \n47  2021-08-03 15:45:55+00:00   \n48  2021-08-03 15:45:55+00:00   \n49  2021-08-03 15:45:44+00:00   \n50  2021-08-03 15:45:38+00:00   \n51  2021-08-03 15:45:38+00:00   \n52  2021-08-03 15:45:38+00:00   \n53  2021-08-03 15:45:38+00:00   \n54  2021-08-03 15:45:38+00:00   \n55  2021-08-03 15:45:29+00:00   \n56  2021-08-03 15:45:25+00:00   \n57  2021-08-03 15:45:25+00:00   \n58  2021-08-03 15:45:25+00:00   \n59  2021-08-03 15:45:25+00:00   \n60  2021-08-03 15:45:25+00:00   \n61  2021-08-03 15:45:12+00:00   \n62  2021-08-03 15:45:08+00:00   \n63  2021-08-03 15:45:08+00:00   \n64  2021-08-03 15:45:08+00:00   \n65  2021-08-03 15:45:08+00:00   \n66  2021-08-03 15:45:08+00:00   \n67  2021-08-03 15:45:01+00:00   \n68  2021-08-03 15:44:55+00:00   \n69  2021-08-03 15:44:55+00:00   \n70  2021-08-03 15:44:55+00:00   \n71  2021-08-03 15:44:55+00:00   \n72  2021-08-03 15:44:55+00:00   \n73  2021-08-03 15:44:44+00:00   \n74  2021-08-03 15:44:38+00:00   \n75  2021-08-03 15:44:38+00:00   \n76  2021-08-03 15:44:38+00:00   \n77  2021-08-03 15:44:38+00:00   \n78  2021-08-03 15:44:38+00:00   \n79  2021-08-03 15:44:29+00:00   \n80  2021-08-03 15:44:25+00:00   \n81  2021-08-03 15:44:25+00:00   \n82  2021-08-03 15:44:25+00:00   \n83  2021-08-03 15:44:25+00:00   \n84  2021-08-03 15:44:25+00:00   \n85  2021-08-03 15:44:12+00:00   \n86  2021-08-03 15:44:08+00:00   \n87  2021-08-03 15:44:08+00:00   \n88  2021-08-03 15:44:08+00:00   \n89  2021-08-03 15:44:08+00:00   \n90  2021-08-03 15:44:08+00:00   \n91  2021-08-03 15:44:01+00:00   \n92  2021-08-03 15:43:55+00:00   \n93  2021-08-03 15:43:55+00:00   \n94  2021-08-03 15:43:55+00:00   \n95  2021-08-03 15:43:55+00:00   \n96  2021-08-03 15:43:55+00:00   \n97  2021-08-03 15:43:44+00:00   \n98  2021-08-03 15:43:38+00:00   \n99  2021-08-03 15:43:38+00:00   \n100 2021-08-03 15:43:38+00:00   \n101 2021-08-03 15:43:38+00:00   \n102 2021-08-03 15:43:38+00:00   \n103 2021-08-03 15:43:29+00:00   \n104 2021-08-03 15:43:25+00:00   \n105 2021-08-03 15:43:25+00:00   \n106 2021-08-03 15:43:25+00:00   \n107 2021-08-03 15:43:25+00:00   \n108 2021-08-03 15:43:25+00:00   \n109 2021-08-03 15:43:12+00:00   \n110 2021-08-03 15:43:08+00:00   \n111 2021-08-03 15:43:08+00:00   \n112 2021-08-03 15:43:08+00:00   \n113 2021-08-03 15:43:08+00:00   \n114 2021-08-03 15:43:08+00:00   \n115 2021-08-03 15:43:01+00:00   \n116 2021-08-03 15:42:55+00:00   \n117 2021-08-03 15:42:55+00:00   \n118 2021-08-03 15:42:55+00:00   \n119 2021-08-03 15:42:55+00:00   \n120 2021-08-03 15:42:55+00:00   \n121 2021-08-03 15:42:44+00:00   \n122 2021-08-03 15:42:38+00:00   \n123 2021-08-03 15:42:38+00:00   \n124 2021-08-03 15:42:38+00:00   \n125 2021-08-03 15:42:38+00:00   \n126 2021-08-03 15:42:38+00:00   \n127 2021-08-03 15:42:29+00:00   \n128 2021-08-03 15:42:25+00:00   \n129 2021-08-03 15:42:25+00:00   \n130 2021-08-03 15:42:25+00:00   \n131 2021-08-03 15:42:25+00:00   \n132 2021-08-03 15:42:25+00:00   \n133 2021-08-03 15:42:12+00:00   \n134 2021-08-03 15:42:08+00:00   \n135 2021-08-03 15:42:08+00:00   \n136 2021-08-03 15:42:08+00:00   \n137 2021-08-03 15:42:08+00:00   \n138 2021-08-03 15:42:08+00:00   \n139 2021-08-03 15:42:01+00:00   \n140 2021-08-03 15:41:55+00:00   \n141 2021-08-03 15:41:55+00:00   \n142 2021-08-03 15:41:55+00:00   \n143 2021-08-03 15:41:55+00:00   \n144 2021-08-03 15:41:55+00:00   \n145 2021-08-03 15:41:44+00:00   \n146 2021-08-03 15:41:38+00:00   \n147 2021-08-03 15:41:38+00:00   \n148 2021-08-03 15:41:38+00:00   \n149 2021-08-03 15:41:38+00:00   \n150 2021-08-03 15:41:38+00:00   \n151 2021-08-03 15:41:29+00:00   \n152 2021-08-03 15:41:25+00:00   \n153 2021-08-03 15:41:25+00:00   \n154 2021-08-03 15:41:25+00:00   \n155 2021-08-03 15:41:25+00:00   \n156 2021-08-03 15:41:25+00:00   \n157 2021-08-03 15:41:12+00:00   \n158 2021-08-03 15:41:08+00:00   \n159 2021-08-03 15:41:08+00:00   \n160 2021-08-03 15:41:08+00:00   \n161 2021-08-03 15:41:08+00:00   \n162 2021-08-03 15:41:08+00:00   \n163 2021-08-03 15:41:01+00:00   \n164 2021-08-03 15:40:55+00:00   \n165 2021-08-03 15:40:55+00:00   \n166 2021-08-03 15:40:55+00:00   \n167 2021-08-03 15:40:55+00:00   \n168 2021-08-03 15:40:55+00:00   \n169 2021-08-03 15:40:51+00:00   \n170 2021-08-03 15:40:44+00:00   \n171 2021-08-03 15:40:38+00:00   \n172 2021-08-03 15:40:38+00:00   \n173 2021-08-03 15:40:38+00:00   \n174 2021-08-03 15:40:38+00:00   \n175 2021-08-03 15:40:38+00:00   \n176 2021-08-03 15:40:29+00:00   \n177 2021-08-03 15:40:25+00:00   \n178 2021-08-03 15:40:25+00:00   \n179 2021-08-03 15:40:25+00:00   \n180 2021-08-03 15:40:25+00:00   \n181 2021-08-03 15:40:25+00:00   \n182 2021-08-03 15:40:12+00:00   \n183 2021-08-03 15:40:08+00:00   \n184 2021-08-03 15:40:08+00:00   \n185 2021-08-03 15:40:08+00:00   \n186 2021-08-03 15:40:08+00:00   \n187 2021-08-03 15:40:08+00:00   \n188 2021-08-03 15:40:01+00:00   \n189 2021-08-03 15:39:56+00:00   \n190 2021-08-03 15:39:56+00:00   \n191 2021-08-03 15:39:55+00:00   \n192 2021-08-03 15:39:55+00:00   \n193 2021-08-03 15:39:55+00:00   \n194 2021-08-03 15:39:51+00:00   \n195 2021-08-03 15:39:48+00:00   \n196 2021-08-03 15:39:44+00:00   \n197 2021-08-03 15:39:38+00:00   \n198 2021-08-03 15:39:38+00:00   \n199 2021-08-03 15:39:38+00:00   \n200 2021-08-03 15:39:38+00:00   \n201 2021-08-03 15:39:38+00:00   \n202 2021-08-03 15:39:33+00:00   \n203 2021-08-03 15:39:33+00:00   \n204 2021-08-03 15:39:33+00:00   \n205 2021-08-03 15:39:33+00:00   \n206 2021-08-03 15:39:33+00:00   \n207 2021-08-03 15:39:33+00:00   \n208 2021-08-03 15:39:32+00:00   \n209 2021-08-03 15:39:32+00:00   \n210 2021-08-03 15:39:30+00:00   \n211 2021-08-03 15:39:30+00:00   \n212 2021-08-03 15:39:29+00:00   \n213 2021-08-03 15:39:25+00:00   \n214 2021-08-03 15:39:25+00:00   \n215 2021-08-03 15:39:25+00:00   \n216 2021-08-03 15:39:12+00:00   \n217 2021-08-03 15:39:08+00:00   \n218 2021-08-03 15:39:08+00:00   \n219 2021-08-03 15:39:08+00:00   \n220 2021-08-03 15:39:01+00:00   \n221 2021-08-03 15:38:55+00:00   \n222 2021-08-03 15:38:55+00:00   \n223 2021-08-03 15:38:55+00:00   \n224 2021-08-03 15:38:44+00:00   \n225 2021-08-03 15:38:38+00:00   \n226 2021-08-03 15:38:38+00:00   \n227 2021-08-03 15:38:38+00:00   \n228 2021-08-03 15:38:29+00:00   \n229 2021-08-03 15:38:25+00:00   \n230 2021-08-03 15:38:25+00:00   \n231 2021-08-03 15:38:25+00:00   \n232 2021-08-03 15:38:12+00:00   \n233 2021-08-03 15:38:08+00:00   \n234 2021-08-03 15:38:08+00:00   \n235 2021-08-03 15:38:08+00:00   \n236 2021-08-03 15:38:01+00:00   \n237 2021-08-03 15:37:55+00:00   \n238 2021-08-03 15:37:55+00:00   \n239 2021-08-03 15:37:55+00:00   \n240 2021-08-03 15:37:44+00:00   \n241 2021-08-03 15:37:38+00:00   \n242 2021-08-03 15:37:38+00:00   \n243 2021-08-03 15:37:38+00:00   \n244 2021-08-03 15:37:29+00:00   \n245 2021-08-03 15:37:25+00:00   \n246 2021-08-03 15:37:25+00:00   \n247 2021-08-03 15:37:25+00:00   \n248 2021-08-03 15:37:12+00:00   \n249 2021-08-03 15:37:08+00:00   \n250 2021-08-03 15:37:08+00:00   \n251 2021-08-03 15:37:08+00:00   \n252 2021-08-03 15:37:01+00:00   \n253 2021-08-03 15:36:55+00:00   \n254 2021-08-03 15:36:55+00:00   \n255 2021-08-03 15:36:55+00:00   \n256 2021-08-03 15:36:44+00:00   \n257 2021-08-03 15:36:38+00:00   \n258 2021-08-03 15:36:38+00:00   \n259 2021-08-03 15:36:38+00:00   \n260 2021-08-03 15:36:29+00:00   \n261 2021-08-03 15:36:25+00:00   \n262 2021-08-03 15:36:25+00:00   \n263 2021-08-03 15:36:25+00:00   \n264 2021-08-03 15:36:12+00:00   \n265 2021-08-03 15:36:08+00:00   \n266 2021-08-03 15:36:08+00:00   \n267 2021-08-03 15:36:08+00:00   \n268 2021-08-03 15:36:01+00:00   \n269 2021-08-03 15:35:55+00:00   \n270 2021-08-03 15:35:55+00:00   \n271 2021-08-03 15:35:55+00:00   \n272 2021-08-03 15:35:44+00:00   \n273 2021-08-03 15:35:38+00:00   \n274 2021-08-03 15:35:38+00:00   \n275 2021-08-03 15:35:38+00:00   \n276 2021-08-03 15:35:29+00:00   \n277 2021-08-03 15:35:25+00:00   \n278 2021-08-03 15:35:25+00:00   \n279 2021-08-03 15:35:25+00:00   \n280 2021-08-03 15:35:12+00:00   \n281 2021-08-03 15:35:08+00:00   \n282 2021-08-03 15:35:08+00:00   \n283 2021-08-03 15:35:08+00:00   \n284 2021-08-03 15:35:01+00:00   \n285 2021-08-03 15:34:55+00:00   \n286 2021-08-03 15:34:55+00:00   \n287 2021-08-03 15:34:55+00:00   \n288 2021-08-03 15:34:44+00:00   \n289 2021-08-03 15:34:38+00:00   \n290 2021-08-03 15:34:38+00:00   \n291 2021-08-03 15:34:38+00:00   \n292 2021-08-03 15:34:29+00:00   \n293 2021-08-03 15:34:25+00:00   \n294 2021-08-03 15:34:25+00:00   \n295 2021-08-03 15:34:25+00:00   \n296 2021-08-03 15:33:52+00:00   \n297 2021-08-03 15:33:52+00:00   \n298 2021-08-03 15:33:52+00:00   \n299 2021-08-03 15:33:52+00:00   \n300 2021-08-03 15:33:49+00:00   \n301 2021-08-03 15:33:49+00:00   \n302 2021-08-03 15:33:49+00:00   \n303 2021-08-03 15:33:49+00:00   \n304 2021-08-03 15:33:47+00:00   \n305 2021-08-03 15:33:47+00:00   \n306 2021-08-03 15:33:47+00:00   \n307 2021-08-03 15:33:46+00:00   \n308 2021-08-03 15:33:37+00:00   \n309 2021-08-03 15:33:37+00:00   \n310 2021-08-03 15:33:37+00:00   \n311 2021-08-03 15:33:37+00:00   \n312 2021-08-03 15:33:34+00:00   \n313 2021-08-03 15:33:34+00:00   \n314 2021-08-03 15:33:34+00:00   \n315 2021-08-03 15:33:33+00:00   \n316 2021-08-03 15:33:22+00:00   \n317 2021-08-03 15:33:22+00:00   \n318 2021-08-03 15:33:21+00:00   \n319 2021-08-03 15:33:21+00:00   \n320 2021-07-29 08:50:09+00:00   \n321 2021-07-29 08:44:41+00:00   \n322 2021-07-29 08:39:09+00:00   \n323 2021-07-29 08:33:41+00:00   \n324 2021-07-29 08:28:09+00:00   \n325 2021-07-29 08:22:41+00:00   \n326 2021-07-29 08:17:09+00:00   \n327 2021-07-29 08:11:41+00:00   \n328 2021-07-29 08:06:09+00:00   \n329 2021-07-29 08:00:41+00:00   \n330 2021-07-29 08:00:36+00:00   \n331 2021-07-29 08:00:36+00:00   \n332 2021-07-29 07:59:41+00:00   \n333 2021-07-29 07:59:36+00:00   \n\n                                               Message  \n0    Backup      BACKUP failed to complete the comm...  \n1     Backup      Error: 3041, Severity: 16, State: 1.  \n2     Backup      Error: 3041, Severity: 16, State: 1.  \n3    Backup      BACKUP failed to complete the comm...  \n4     Backup      Error: 3041, Severity: 16, State: 1.  \n5    Backup      BACKUP failed to complete the comm...  \n6    Backup      BACKUP failed to complete the comm...  \n7    Backup      BACKUP failed to complete the comm...  \n8     Backup      Error: 3041, Severity: 16, State: 1.  \n9     Backup      Error: 3041, Severity: 16, State: 1.  \n10   Backup      BACKUP failed to complete the comm...  \n11    Backup      Error: 3041, Severity: 16, State: 1.  \n12   Backup      BACKUP failed to complete the comm...  \n13   Backup      BACKUP failed to complete the comm...  \n14   Backup      BACKUP failed to complete the comm...  \n15    Backup      Error: 3041, Severity: 16, State: 1.  \n16    Backup      Error: 3041, Severity: 16, State: 1.  \n17    Backup      Error: 3041, Severity: 16, State: 1.  \n18   Backup      BACKUP failed to complete the comm...  \n19   Backup      BACKUP failed to complete the comm...  \n20    Backup      Error: 3041, Severity: 16, State: 1.  \n21    Backup      Error: 3041, Severity: 16, State: 1.  \n22   Backup      BACKUP failed to complete the comm...  \n23    Backup      Error: 3041, Severity: 16, State: 1.  \n24   Backup      BACKUP failed to complete the comm...  \n25    Backup      Error: 3041, Severity: 16, State: 1.  \n26   Backup      BACKUP failed to complete the comm...  \n27    Backup      Error: 3041, Severity: 16, State: 1.  \n28   Backup      BACKUP failed to complete the comm...  \n29    Backup      Error: 3041, Severity: 16, State: 1.  \n30   Backup      BACKUP failed to complete the comm...  \n31   Backup      BACKUP failed to complete the comm...  \n32    Backup      Error: 3041, Severity: 16, State: 1.  \n33   Backup      BACKUP failed to complete the comm...  \n34    Backup      Error: 3041, Severity: 16, State: 1.  \n35    Backup      Error: 3041, Severity: 16, State: 1.  \n36   Backup      Log was backed up. Database: BenBe...  \n37   Backup      BACKUP failed to complete the comm...  \n38    Backup      Error: 3041, Severity: 16, State: 1.  \n39   Backup      BACKUP failed to complete the comm...  \n40    Backup      Error: 3041, Severity: 16, State: 1.  \n41   Backup      BACKUP failed to complete the comm...  \n42    Backup      Error: 3041, Severity: 16, State: 1.  \n43   Backup      BACKUP failed to complete the comm...  \n44    Backup      Error: 3041, Severity: 16, State: 1.  \n45   Backup      BACKUP failed to complete the comm...  \n46   Backup      BACKUP failed to complete the comm...  \n47    Backup      Error: 3041, Severity: 16, State: 1.  \n48    Backup      Error: 3041, Severity: 16, State: 1.  \n49   Backup      BACKUP failed to complete the comm...  \n50    Backup      Error: 3041, Severity: 16, State: 1.  \n51   Backup      BACKUP failed to complete the comm...  \n52   Backup      BACKUP failed to complete the comm...  \n53    Backup      Error: 3041, Severity: 16, State: 1.  \n54    Backup      Error: 3041, Severity: 16, State: 1.  \n55   Backup      BACKUP failed to complete the comm...  \n56    Backup      Error: 3041, Severity: 16, State: 1.  \n57   Backup      BACKUP failed to complete the comm...  \n58    Backup      Error: 3041, Severity: 16, State: 1.  \n59    Backup      Error: 3041, Severity: 16, State: 1.  \n60   Backup      BACKUP failed to complete the comm...  \n61   Backup      BACKUP failed to complete the comm...  \n62   Backup      BACKUP failed to complete the comm...  \n63    Backup      Error: 3041, Severity: 16, State: 1.  \n64    Backup      Error: 3041, Severity: 16, State: 1.  \n65   Backup      BACKUP failed to complete the comm...  \n66    Backup      Error: 3041, Severity: 16, State: 1.  \n67   Backup      BACKUP failed to complete the comm...  \n68   Backup      BACKUP failed to complete the comm...  \n69    Backup      Error: 3041, Severity: 16, State: 1.  \n70    Backup      Error: 3041, Severity: 16, State: 1.  \n71   Backup      BACKUP failed to complete the comm...  \n72    Backup      Error: 3041, Severity: 16, State: 1.  \n73   Backup      BACKUP failed to complete the comm...  \n74    Backup      Error: 3041, Severity: 16, State: 1.  \n75    Backup      Error: 3041, Severity: 16, State: 1.  \n76    Backup      Error: 3041, Severity: 16, State: 1.  \n77   Backup      BACKUP failed to complete the comm...  \n78   Backup      BACKUP failed to complete the comm...  \n79   Backup      BACKUP failed to complete the comm...  \n80    Backup      Error: 3041, Severity: 16, State: 1.  \n81    Backup      Error: 3041, Severity: 16, State: 1.  \n82    Backup      Error: 3041, Severity: 16, State: 1.  \n83   Backup      BACKUP failed to complete the comm...  \n84   Backup      BACKUP failed to complete the comm...  \n85   Backup      BACKUP failed to complete the comm...  \n86   Backup      BACKUP failed to complete the comm...  \n87   Backup      BACKUP failed to complete the comm...  \n88    Backup      Error: 3041, Severity: 16, State: 1.  \n89    Backup      Error: 3041, Severity: 16, State: 1.  \n90    Backup      Error: 3041, Severity: 16, State: 1.  \n91   Backup      BACKUP failed to complete the comm...  \n92   Backup      BACKUP failed to complete the comm...  \n93    Backup      Error: 3041, Severity: 16, State: 1.  \n94    Backup      Error: 3041, Severity: 16, State: 1.  \n95    Backup      Error: 3041, Severity: 16, State: 1.  \n96   Backup      BACKUP failed to complete the comm...  \n97   Backup      BACKUP failed to complete the comm...  \n98    Backup      Error: 3041, Severity: 16, State: 1.  \n99   Backup      BACKUP failed to complete the comm...  \n100  Backup      BACKUP failed to complete the comm...  \n101   Backup      Error: 3041, Severity: 16, State: 1.  \n102   Backup      Error: 3041, Severity: 16, State: 1.  \n103  Backup      BACKUP failed to complete the comm...  \n104  Backup      BACKUP failed to complete the comm...  \n105   Backup      Error: 3041, Severity: 16, State: 1.  \n106  Backup      BACKUP failed to complete the comm...  \n107   Backup      Error: 3041, Severity: 16, State: 1.  \n108   Backup      Error: 3041, Severity: 16, State: 1.  \n109  Backup      BACKUP failed to complete the comm...  \n110   Backup      Error: 3041, Severity: 16, State: 1.  \n111   Backup      Error: 3041, Severity: 16, State: 1.  \n112  Backup      BACKUP failed to complete the comm...  \n113   Backup      Error: 3041, Severity: 16, State: 1.  \n114  Backup      BACKUP failed to complete the comm...  \n115  Backup      BACKUP failed to complete the comm...  \n116   Backup      Error: 3041, Severity: 16, State: 1.  \n117   Backup      Error: 3041, Severity: 16, State: 1.  \n118  Backup      BACKUP failed to complete the comm...  \n119  Backup      BACKUP failed to complete the comm...  \n120   Backup      Error: 3041, Severity: 16, State: 1.  \n121  Backup      BACKUP failed to complete the comm...  \n122   Backup      Error: 3041, Severity: 16, State: 1.  \n123  Backup      BACKUP failed to complete the comm...  \n124   Backup      Error: 3041, Severity: 16, State: 1.  \n125   Backup      Error: 3041, Severity: 16, State: 1.  \n126  Backup      BACKUP failed to complete the comm...  \n127  Backup      BACKUP failed to complete the comm...  \n128   Backup      Error: 3041, Severity: 16, State: 1.  \n129   Backup      Error: 3041, Severity: 16, State: 1.  \n130  Backup      BACKUP failed to complete the comm...  \n131  Backup      BACKUP failed to complete the comm...  \n132   Backup      Error: 3041, Severity: 16, State: 1.  \n133  Backup      BACKUP failed to complete the comm...  \n134  Backup      BACKUP failed to complete the comm...  \n135   Backup      Error: 3041, Severity: 16, State: 1.  \n136  Backup      BACKUP failed to complete the comm...  \n137   Backup      Error: 3041, Severity: 16, State: 1.  \n138   Backup      Error: 3041, Severity: 16, State: 1.  \n139  Backup      BACKUP failed to complete the comm...  \n140  Backup      BACKUP failed to complete the comm...  \n141  Backup      BACKUP failed to complete the comm...  \n142   Backup      Error: 3041, Severity: 16, State: 1.  \n143   Backup      Error: 3041, Severity: 16, State: 1.  \n144   Backup      Error: 3041, Severity: 16, State: 1.  \n145  Backup      BACKUP failed to complete the comm...  \n146  Backup      BACKUP failed to complete the comm...  \n147   Backup      Error: 3041, Severity: 16, State: 1.  \n148   Backup      Error: 3041, Severity: 16, State: 1.  \n149  Backup      BACKUP failed to complete the comm...  \n150   Backup      Error: 3041, Severity: 16, State: 1.  \n151  Backup      BACKUP failed to complete the comm...  \n152   Backup      Error: 3041, Severity: 16, State: 1.  \n153  Backup      BACKUP failed to complete the comm...  \n154  Backup      BACKUP failed to complete the comm...  \n155   Backup      Error: 3041, Severity: 16, State: 1.  \n156   Backup      Error: 3041, Severity: 16, State: 1.  \n157  Backup      BACKUP failed to complete the comm...  \n158   Backup      Error: 3041, Severity: 16, State: 1.  \n159   Backup      Error: 3041, Severity: 16, State: 1.  \n160   Backup      Error: 3041, Severity: 16, State: 1.  \n161  Backup      BACKUP failed to complete the comm...  \n162  Backup      BACKUP failed to complete the comm...  \n163  Backup      BACKUP failed to complete the comm...  \n164   Backup      Error: 3041, Severity: 16, State: 1.  \n165  Backup      BACKUP failed to complete the comm...  \n166   Backup      Error: 3041, Severity: 16, State: 1.  \n167  Backup      BACKUP failed to complete the comm...  \n168   Backup      Error: 3041, Severity: 16, State: 1.  \n169  Backup      Log was backed up. Database: BenBe...  \n170  Backup      BACKUP failed to complete the comm...  \n171   Backup      Error: 3041, Severity: 16, State: 1.  \n172   Backup      Error: 3041, Severity: 16, State: 1.  \n173   Backup      Error: 3041, Severity: 16, State: 1.  \n174  Backup      BACKUP failed to complete the comm...  \n175  Backup      BACKUP failed to complete the comm...  \n176  Backup      BACKUP failed to complete the comm...  \n177  Backup      BACKUP failed to complete the comm...  \n178   Backup      Error: 3041, Severity: 16, State: 1.  \n179  Backup      BACKUP failed to complete the comm...  \n180   Backup      Error: 3041, Severity: 16, State: 1.  \n181   Backup      Error: 3041, Severity: 16, State: 1.  \n182  Backup      BACKUP failed to complete the comm...  \n183  Backup      BACKUP failed to complete the comm...  \n184  Backup      BACKUP failed to complete the comm...  \n185   Backup      Error: 3041, Severity: 16, State: 1.  \n186   Backup      Error: 3041, Severity: 16, State: 1.  \n187   Backup      Error: 3041, Severity: 16, State: 1.  \n188  Backup      BACKUP failed to complete the comm...  \n189   Backup      Error: 3041, Severity: 16, State: 1.  \n190  Backup      BACKUP failed to complete the comm...  \n191   Backup      Error: 3041, Severity: 16, State: 1.  \n192   Backup      Error: 3041, Severity: 16, State: 1.  \n193  Backup      BACKUP failed to complete the comm...  \n194  Backup      BACKUP DATABASE successfully proce...  \n195  Backup      Database backed up. Database: BenB...  \n196  Backup      BACKUP failed to complete the comm...  \n197  Backup      BACKUP failed to complete the comm...  \n198   Backup      Error: 3041, Severity: 16, State: 1.  \n199   Backup      Error: 3041, Severity: 16, State: 1.  \n200   Backup      Error: 3041, Severity: 16, State: 1.  \n201  Backup      BACKUP failed to complete the comm...  \n202  Backup      RESTORE DATABASE successfully proc...  \n203  Backup      BACKUP DATABASE successfully proce...  \n204  Backup      Database was restored: Database: B...  \n205  Backup      Database was restored: Database: B...  \n206  Backup      RESTORE DATABASE successfully proc...  \n207  Backup      Database backed up. Database: BenB...  \n208  Backup      Database backed up. Database: BenB...  \n209  Backup      BACKUP DATABASE successfully proce...  \n210  Backup      BACKUP DATABASE successfully proce...  \n211  Backup      Database backed up. Database: BenB...  \n212  Backup      BACKUP failed to complete the comm...  \n213   Backup      Error: 3041, Severity: 16, State: 1.  \n214   Backup      Error: 3041, Severity: 16, State: 1.  \n215  Backup      BACKUP failed to complete the comm...  \n216  Backup      BACKUP failed to complete the comm...  \n217   Backup      Error: 3041, Severity: 16, State: 1.  \n218  Backup      BACKUP failed to complete the comm...  \n219   Backup      Error: 3041, Severity: 16, State: 1.  \n220  Backup      BACKUP failed to complete the comm...  \n221   Backup      Error: 3041, Severity: 16, State: 1.  \n222  Backup      BACKUP failed to complete the comm...  \n223   Backup      Error: 3041, Severity: 16, State: 1.  \n224  Backup      BACKUP failed to complete the comm...  \n225  Backup      BACKUP failed to complete the comm...  \n226   Backup      Error: 3041, Severity: 16, State: 1.  \n227   Backup      Error: 3041, Severity: 16, State: 1.  \n228  Backup      BACKUP failed to complete the comm...  \n229  Backup      BACKUP failed to complete the comm...  \n230   Backup      Error: 3041, Severity: 16, State: 1.  \n231   Backup      Error: 3041, Severity: 16, State: 1.  \n232  Backup      BACKUP failed to complete the comm...  \n233   Backup      Error: 3041, Severity: 16, State: 1.  \n234  Backup      BACKUP failed to complete the comm...  \n235   Backup      Error: 3041, Severity: 16, State: 1.  \n236  Backup      BACKUP failed to complete the comm...  \n237   Backup      Error: 3041, Severity: 16, State: 1.  \n238   Backup      Error: 3041, Severity: 16, State: 1.  \n239  Backup      BACKUP failed to complete the comm...  \n240  Backup      BACKUP failed to complete the comm...  \n241   Backup      Error: 3041, Severity: 16, State: 1.  \n242   Backup      Error: 3041, Severity: 16, State: 1.  \n243  Backup      BACKUP failed to complete the comm...  \n244  Backup      BACKUP failed to complete the comm...  \n245   Backup      Error: 3041, Severity: 16, State: 1.  \n246   Backup      Error: 3041, Severity: 16, State: 1.  \n247  Backup      BACKUP failed to complete the comm...  \n248  Backup      BACKUP failed to complete the comm...  \n249   Backup      Error: 3041, Severity: 16, State: 1.  \n250   Backup      Error: 3041, Severity: 16, State: 1.  \n251  Backup      BACKUP failed to complete the comm...  \n252  Backup      BACKUP failed to complete the comm...  \n253  Backup      BACKUP failed to complete the comm...  \n254   Backup      Error: 3041, Severity: 16, State: 1.  \n255   Backup      Error: 3041, Severity: 16, State: 1.  \n256  Backup      BACKUP failed to complete the comm...  \n257   Backup      Error: 3041, Severity: 16, State: 1.  \n258   Backup      Error: 3041, Severity: 16, State: 1.  \n259  Backup      BACKUP failed to complete the comm...  \n260  Backup      BACKUP failed to complete the comm...  \n261   Backup      Error: 3041, Severity: 16, State: 1.  \n262   Backup      Error: 3041, Severity: 16, State: 1.  \n263  Backup      BACKUP failed to complete the comm...  \n264  Backup      BACKUP failed to complete the comm...  \n265   Backup      Error: 3041, Severity: 16, State: 1.  \n266   Backup      Error: 3041, Severity: 16, State: 1.  \n267  Backup      BACKUP failed to complete the comm...  \n268  Backup      BACKUP failed to complete the comm...  \n269   Backup      Error: 3041, Severity: 16, State: 1.  \n270   Backup      Error: 3041, Severity: 16, State: 1.  \n271  Backup      BACKUP failed to complete the comm...  \n272  Backup      BACKUP failed to complete the comm...  \n273   Backup      Error: 3041, Severity: 16, State: 1.  \n274   Backup      Error: 3041, Severity: 16, State: 1.  \n275  Backup      BACKUP failed to complete the comm...  \n276  Backup      BACKUP failed to complete the comm...  \n277  Backup      BACKUP failed to complete the comm...  \n278   Backup      Error: 3041, Severity: 16, State: 1.  \n279   Backup      Error: 3041, Severity: 16, State: 1.  \n280  Backup      BACKUP failed to complete the comm...  \n281   Backup      Error: 3041, Severity: 16, State: 1.  \n282   Backup      Error: 3041, Severity: 16, State: 1.  \n283  Backup      BACKUP failed to complete the comm...  \n284  Backup      BACKUP failed to complete the comm...  \n285  Backup      BACKUP failed to complete the comm...  \n286   Backup      Error: 3041, Severity: 16, State: 1.  \n287   Backup      Error: 3041, Severity: 16, State: 1.  \n288  Backup      BACKUP failed to complete the comm...  \n289   Backup      Error: 3041, Severity: 16, State: 1.  \n290  Backup      BACKUP failed to complete the comm...  \n291   Backup      Error: 3041, Severity: 16, State: 1.  \n292  Backup      BACKUP failed to complete the comm...  \n293  Backup      BACKUP failed to complete the comm...  \n294   Backup      Error: 3041, Severity: 16, State: 1.  \n295   Backup      Error: 3041, Severity: 16, State: 1.  \n296  Backup      Database was restored: Database: b...  \n297  Backup      BACKUP DATABASE successfully proce...  \n298  Backup      Database backed up. Database: benp...  \n299  Backup      RESTORE DATABASE successfully proc...  \n300  Backup      BACKUP DATABASE successfully proce...  \n301  Backup      Database backed up. Database: mast...  \n302  Backup      Database backed up. Database: msdb...  \n303  Backup      BACKUP DATABASE successfully proce...  \n304  Backup      Database was restored: Database: b...  \n305  Backup      RESTORE DATABASE successfully proc...  \n306  Backup      BACKUP DATABASE successfully proce...  \n307  Backup      Database backed up. Database: benp...  \n308  Backup      BACKUP DATABASE successfully proce...  \n309  Backup      Database was restored: Database: b...  \n310  Backup      Database backed up. Database: benp...  \n311  Backup      RESTORE DATABASE successfully proc...  \n312  Backup      BACKUP DATABASE successfully proce...  \n313  Backup      RESTORE DATABASE successfully proc...  \n314  Backup      Database was restored: Database: b...  \n315  Backup      Database backed up. Database: benp...  \n316  Backup      BACKUP DATABASE successfully proce...  \n317  Backup      Database backed up. Database: benp...  \n318  Backup      Database backed up. Database: benp...  \n319  Backup      BACKUP DATABASE successfully proce...  \n320  Backup      Log was backed up. Database: BenBe...  \n321  Backup      Log was backed up. Database: BenBe...  \n322  Backup      Log was backed up. Database: BenBe...  \n323  Backup      Log was backed up. Database: BenBe...  \n324  Backup      Log was backed up. Database: BenBe...  \n325  Backup      Log was backed up. Database: BenBe...  \n326  Backup      Log was backed up. Database: BenBe...  \n327  Backup      Log was backed up. Database: BenBe...  \n328  Backup      Log was backed up. Database: BenBe...  \n329  Backup      BACKUP DATABASE WITH DIFFERENTIAL ...  \n330  Backup      Log was backed up. Database: BenBe...  \n331  Backup      Database differential changes were...  \n332  Backup      BACKUP DATABASE successfully proce...  \n333  Backup      Database backed up. Database: BenB...  ",
                        "text/html": "<div>\n<style scoped>\n    .dataframe tbody tr th:only-of-type {\n        vertical-align: middle;\n    }\n\n    .dataframe tbody tr th {\n        vertical-align: top;\n    }\n\n    .dataframe thead th {\n        text-align: right;\n    }\n</style>\n<table border=\"1\" class=\"dataframe\">\n  <thead>\n    <tr style=\"text-align: right;\">\n      <th></th>\n      <th>node</th>\n      <th>namespace</th>\n      <th>pod</th>\n      <th>container</th>\n      <th>message time</th>\n      <th>Message</th>\n    </tr>\n  </thead>\n  <tbody>\n    <tr>\n      <th>0</th>\n      <td>aks-nodepool1-35148010-vmss000000</td>\n      <td>arc</td>\n      <td>benportal3-2</td>\n      <td>arc-sqlmi</td>\n      <td>2021-08-03 15:47:44+00:00</td>\n      <td>Backup      BACKUP failed to complete the comm...</td>\n    </tr>\n    <tr>\n      <th>1</th>\n      <td>aks-nodepool1-35148010-vmss000000</td>\n      <td>arc</td>\n      <td>benportal3-2</td>\n      <td>arc-sqlmi</td>\n      <td>2021-08-03 15:47:38+00:00</td>\n      <td>Backup      Error: 3041, Severity: 16, State: 1.</td>\n    </tr>\n    <tr>\n      <th>2</th>\n      <td>aks-nodepool1-35148010-vmss000000</td>\n      <td>arc</td>\n      <td>benportal3-2</td>\n      <td>arc-sqlmi</td>\n      <td>2021-08-03 15:47:38+00:00</td>\n      <td>Backup      Error: 3041, Severity: 16, State: 1.</td>\n    </tr>\n    <tr>\n      <th>3</th>\n      <td>aks-nodepool1-35148010-vmss000000</td>\n      <td>arc</td>\n      <td>benportal3-2</td>\n      <td>arc-sqlmi</td>\n      <td>2021-08-03 15:47:38+00:00</td>\n      <td>Backup      BACKUP failed to complete the comm...</td>\n    </tr>\n    <tr>\n      <th>4</th>\n      <td>aks-nodepool1-35148010-vmss000000</td>\n      <td>arc</td>\n      <td>benportal3-2</td>\n      <td>arc-sqlmi</td>\n      <td>2021-08-03 15:47:38+00:00</td>\n      <td>Backup      Error: 3041, Severity: 16, State: 1.</td>\n    </tr>\n    <tr>\n      <th>5</th>\n      <td>aks-nodepool1-35148010-vmss000000</td>\n      <td>arc</td>\n      <td>benportal3-2</td>\n      <td>arc-sqlmi</td>\n      <td>2021-08-03 15:47:38+00:00</td>\n      <td>Backup      BACKUP failed to complete the comm...</td>\n    </tr>\n    <tr>\n      <th>6</th>\n      <td>aks-nodepool1-35148010-vmss000001</td>\n      <td>arc</td>\n      <td>benportal3-1</td>\n      <td>arc-sqlmi</td>\n      <td>2021-08-03 15:47:29+00:00</td>\n      <td>Backup      BACKUP failed to complete the comm...</td>\n    </tr>\n    <tr>\n      <th>7</th>\n      <td>aks-nodepool1-35148010-vmss000001</td>\n      <td>arc</td>\n      <td>benportal3-1</td>\n      <td>arc-sqlmi</td>\n      <td>2021-08-03 15:47:25+00:00</td>\n      <td>Backup      BACKUP failed to complete the comm...</td>\n    </tr>\n    <tr>\n      <th>8</th>\n      <td>aks-nodepool1-35148010-vmss000001</td>\n      <td>arc</td>\n      <td>benportal3-1</td>\n      <td>arc-sqlmi</td>\n      <td>2021-08-03 15:47:25+00:00</td>\n      <td>Backup      Error: 3041, Severity: 16, State: 1.</td>\n    </tr>\n    <tr>\n      <th>9</th>\n      <td>aks-nodepool1-35148010-vmss000001</td>\n      <td>arc</td>\n      <td>benportal3-1</td>\n      <td>arc-sqlmi</td>\n      <td>2021-08-03 15:47:25+00:00</td>\n      <td>Backup      Error: 3041, Severity: 16, State: 1.</td>\n    </tr>\n    <tr>\n      <th>10</th>\n      <td>aks-nodepool1-35148010-vmss000001</td>\n      <td>arc</td>\n      <td>benportal3-1</td>\n      <td>arc-sqlmi</td>\n      <td>2021-08-03 15:47:25+00:00</td>\n      <td>Backup      BACKUP failed to complete the comm...</td>\n    </tr>\n    <tr>\n      <th>11</th>\n      <td>aks-nodepool1-35148010-vmss000001</td>\n      <td>arc</td>\n      <td>benportal3-1</td>\n      <td>arc-sqlmi</td>\n      <td>2021-08-03 15:47:25+00:00</td>\n      <td>Backup      Error: 3041, Severity: 16, State: 1.</td>\n    </tr>\n    <tr>\n      <th>12</th>\n      <td>aks-nodepool1-35148010-vmss000000</td>\n      <td>arc</td>\n      <td>benportal3-2</td>\n      <td>arc-sqlmi</td>\n      <td>2021-08-03 15:47:12+00:00</td>\n      <td>Backup      BACKUP failed to complete the comm...</td>\n    </tr>\n    <tr>\n      <th>13</th>\n      <td>aks-nodepool1-35148010-vmss000000</td>\n      <td>arc</td>\n      <td>benportal3-2</td>\n      <td>arc-sqlmi</td>\n      <td>2021-08-03 15:47:08+00:00</td>\n      <td>Backup      BACKUP failed to complete the comm...</td>\n    </tr>\n    <tr>\n      <th>14</th>\n      <td>aks-nodepool1-35148010-vmss000000</td>\n      <td>arc</td>\n      <td>benportal3-2</td>\n      <td>arc-sqlmi</td>\n      <td>2021-08-03 15:47:08+00:00</td>\n      <td>Backup      BACKUP failed to complete the comm...</td>\n    </tr>\n    <tr>\n      <th>15</th>\n      <td>aks-nodepool1-35148010-vmss000000</td>\n      <td>arc</td>\n      <td>benportal3-2</td>\n      <td>arc-sqlmi</td>\n      <td>2021-08-03 15:47:08+00:00</td>\n      <td>Backup      Error: 3041, Severity: 16, State: 1.</td>\n    </tr>\n    <tr>\n      <th>16</th>\n      <td>aks-nodepool1-35148010-vmss000000</td>\n      <td>arc</td>\n      <td>benportal3-2</td>\n      <td>arc-sqlmi</td>\n      <td>2021-08-03 15:47:08+00:00</td>\n      <td>Backup      Error: 3041, Severity: 16, State: 1.</td>\n    </tr>\n    <tr>\n      <th>17</th>\n      <td>aks-nodepool1-35148010-vmss000000</td>\n      <td>arc</td>\n      <td>benportal3-2</td>\n      <td>arc-sqlmi</td>\n      <td>2021-08-03 15:47:08+00:00</td>\n      <td>Backup      Error: 3041, Severity: 16, State: 1.</td>\n    </tr>\n    <tr>\n      <th>18</th>\n      <td>aks-nodepool1-35148010-vmss000001</td>\n      <td>arc</td>\n      <td>benportal3-1</td>\n      <td>arc-sqlmi</td>\n      <td>2021-08-03 15:47:01+00:00</td>\n      <td>Backup      BACKUP failed to complete the comm...</td>\n    </tr>\n    <tr>\n      <th>19</th>\n      <td>aks-nodepool1-35148010-vmss000001</td>\n      <td>arc</td>\n      <td>benportal3-1</td>\n      <td>arc-sqlmi</td>\n      <td>2021-08-03 15:46:55+00:00</td>\n      <td>Backup      BACKUP failed to complete the comm...</td>\n    </tr>\n    <tr>\n      <th>20</th>\n      <td>aks-nodepool1-35148010-vmss000001</td>\n      <td>arc</td>\n      <td>benportal3-1</td>\n      <td>arc-sqlmi</td>\n      <td>2021-08-03 15:46:55+00:00</td>\n      <td>Backup      Error: 3041, Severity: 16, State: 1.</td>\n    </tr>\n    <tr>\n      <th>21</th>\n      <td>aks-nodepool1-35148010-vmss000001</td>\n      <td>arc</td>\n      <td>benportal3-1</td>\n      <td>arc-sqlmi</td>\n      <td>2021-08-03 15:46:55+00:00</td>\n      <td>Backup      Error: 3041, Severity: 16, State: 1.</td>\n    </tr>\n    <tr>\n      <th>22</th>\n      <td>aks-nodepool1-35148010-vmss000001</td>\n      <td>arc</td>\n      <td>benportal3-1</td>\n      <td>arc-sqlmi</td>\n      <td>2021-08-03 15:46:55+00:00</td>\n      <td>Backup      BACKUP failed to complete the comm...</td>\n    </tr>\n    <tr>\n      <th>23</th>\n      <td>aks-nodepool1-35148010-vmss000001</td>\n      <td>arc</td>\n      <td>benportal3-1</td>\n      <td>arc-sqlmi</td>\n      <td>2021-08-03 15:46:55+00:00</td>\n      <td>Backup      Error: 3041, Severity: 16, State: 1.</td>\n    </tr>\n    <tr>\n      <th>24</th>\n      <td>aks-nodepool1-35148010-vmss000000</td>\n      <td>arc</td>\n      <td>benportal3-2</td>\n      <td>arc-sqlmi</td>\n      <td>2021-08-03 15:46:44+00:00</td>\n      <td>Backup      BACKUP failed to complete the comm...</td>\n    </tr>\n    <tr>\n      <th>25</th>\n      <td>aks-nodepool1-35148010-vmss000000</td>\n      <td>arc</td>\n      <td>benportal3-2</td>\n      <td>arc-sqlmi</td>\n      <td>2021-08-03 15:46:38+00:00</td>\n      <td>Backup      Error: 3041, Severity: 16, State: 1.</td>\n    </tr>\n    <tr>\n      <th>26</th>\n      <td>aks-nodepool1-35148010-vmss000000</td>\n      <td>arc</td>\n      <td>benportal3-2</td>\n      <td>arc-sqlmi</td>\n      <td>2021-08-03 15:46:38+00:00</td>\n      <td>Backup      BACKUP failed to complete the comm...</td>\n    </tr>\n    <tr>\n      <th>27</th>\n      <td>aks-nodepool1-35148010-vmss000000</td>\n      <td>arc</td>\n      <td>benportal3-2</td>\n      <td>arc-sqlmi</td>\n      <td>2021-08-03 15:46:38+00:00</td>\n      <td>Backup      Error: 3041, Severity: 16, State: 1.</td>\n    </tr>\n    <tr>\n      <th>28</th>\n      <td>aks-nodepool1-35148010-vmss000000</td>\n      <td>arc</td>\n      <td>benportal3-2</td>\n      <td>arc-sqlmi</td>\n      <td>2021-08-03 15:46:38+00:00</td>\n      <td>Backup      BACKUP failed to complete the comm...</td>\n    </tr>\n    <tr>\n      <th>29</th>\n      <td>aks-nodepool1-35148010-vmss000000</td>\n      <td>arc</td>\n      <td>benportal3-2</td>\n      <td>arc-sqlmi</td>\n      <td>2021-08-03 15:46:38+00:00</td>\n      <td>Backup      Error: 3041, Severity: 16, State: 1.</td>\n    </tr>\n    <tr>\n      <th>30</th>\n      <td>aks-nodepool1-35148010-vmss000001</td>\n      <td>arc</td>\n      <td>benportal3-1</td>\n      <td>arc-sqlmi</td>\n      <td>2021-08-03 15:46:29+00:00</td>\n      <td>Backup      BACKUP failed to complete the comm...</td>\n    </tr>\n    <tr>\n      <th>31</th>\n      <td>aks-nodepool1-35148010-vmss000001</td>\n      <td>arc</td>\n      <td>benportal3-1</td>\n      <td>arc-sqlmi</td>\n      <td>2021-08-03 15:46:25+00:00</td>\n      <td>Backup      BACKUP failed to complete the comm...</td>\n    </tr>\n    <tr>\n      <th>32</th>\n      <td>aks-nodepool1-35148010-vmss000001</td>\n      <td>arc</td>\n      <td>benportal3-1</td>\n      <td>arc-sqlmi</td>\n      <td>2021-08-03 15:46:25+00:00</td>\n      <td>Backup      Error: 3041, Severity: 16, State: 1.</td>\n    </tr>\n    <tr>\n      <th>33</th>\n      <td>aks-nodepool1-35148010-vmss000001</td>\n      <td>arc</td>\n      <td>benportal3-1</td>\n      <td>arc-sqlmi</td>\n      <td>2021-08-03 15:46:25+00:00</td>\n      <td>Backup      BACKUP failed to complete the comm...</td>\n    </tr>\n    <tr>\n      <th>34</th>\n      <td>aks-nodepool1-35148010-vmss000001</td>\n      <td>arc</td>\n      <td>benportal3-1</td>\n      <td>arc-sqlmi</td>\n      <td>2021-08-03 15:46:25+00:00</td>\n      <td>Backup      Error: 3041, Severity: 16, State: 1.</td>\n    </tr>\n    <tr>\n      <th>35</th>\n      <td>aks-nodepool1-35148010-vmss000001</td>\n      <td>arc</td>\n      <td>benportal3-1</td>\n      <td>arc-sqlmi</td>\n      <td>2021-08-03 15:46:25+00:00</td>\n      <td>Backup      Error: 3041, Severity: 16, State: 1.</td>\n    </tr>\n    <tr>\n      <th>36</th>\n      <td>aks-nodepool1-35148010-vmss000002</td>\n      <td>arc</td>\n      <td>benportal3-0</td>\n      <td>arc-sqlmi</td>\n      <td>2021-08-03 15:46:23+00:00</td>\n      <td>Backup      Log was backed up. Database: BenBe...</td>\n    </tr>\n    <tr>\n      <th>37</th>\n      <td>aks-nodepool1-35148010-vmss000000</td>\n      <td>arc</td>\n      <td>benportal3-2</td>\n      <td>arc-sqlmi</td>\n      <td>2021-08-03 15:46:12+00:00</td>\n      <td>Backup      BACKUP failed to complete the comm...</td>\n    </tr>\n    <tr>\n      <th>38</th>\n      <td>aks-nodepool1-35148010-vmss000000</td>\n      <td>arc</td>\n      <td>benportal3-2</td>\n      <td>arc-sqlmi</td>\n      <td>2021-08-03 15:46:08+00:00</td>\n      <td>Backup      Error: 3041, Severity: 16, State: 1.</td>\n    </tr>\n    <tr>\n      <th>39</th>\n      <td>aks-nodepool1-35148010-vmss000000</td>\n      <td>arc</td>\n      <td>benportal3-2</td>\n      <td>arc-sqlmi</td>\n      <td>2021-08-03 15:46:08+00:00</td>\n      <td>Backup      BACKUP failed to complete the comm...</td>\n    </tr>\n    <tr>\n      <th>40</th>\n      <td>aks-nodepool1-35148010-vmss000000</td>\n      <td>arc</td>\n      <td>benportal3-2</td>\n      <td>arc-sqlmi</td>\n      <td>2021-08-03 15:46:08+00:00</td>\n      <td>Backup      Error: 3041, Severity: 16, State: 1.</td>\n    </tr>\n    <tr>\n      <th>41</th>\n      <td>aks-nodepool1-35148010-vmss000000</td>\n      <td>arc</td>\n      <td>benportal3-2</td>\n      <td>arc-sqlmi</td>\n      <td>2021-08-03 15:46:08+00:00</td>\n      <td>Backup      BACKUP failed to complete the comm...</td>\n    </tr>\n    <tr>\n      <th>42</th>\n      <td>aks-nodepool1-35148010-vmss000000</td>\n      <td>arc</td>\n      <td>benportal3-2</td>\n      <td>arc-sqlmi</td>\n      <td>2021-08-03 15:46:08+00:00</td>\n      <td>Backup      Error: 3041, Severity: 16, State: 1.</td>\n    </tr>\n    <tr>\n      <th>43</th>\n      <td>aks-nodepool1-35148010-vmss000001</td>\n      <td>arc</td>\n      <td>benportal3-1</td>\n      <td>arc-sqlmi</td>\n      <td>2021-08-03 15:46:01+00:00</td>\n      <td>Backup      BACKUP failed to complete the comm...</td>\n    </tr>\n    <tr>\n      <th>44</th>\n      <td>aks-nodepool1-35148010-vmss000001</td>\n      <td>arc</td>\n      <td>benportal3-1</td>\n      <td>arc-sqlmi</td>\n      <td>2021-08-03 15:45:55+00:00</td>\n      <td>Backup      Error: 3041, Severity: 16, State: 1.</td>\n    </tr>\n    <tr>\n      <th>45</th>\n      <td>aks-nodepool1-35148010-vmss000001</td>\n      <td>arc</td>\n      <td>benportal3-1</td>\n      <td>arc-sqlmi</td>\n      <td>2021-08-03 15:45:55+00:00</td>\n      <td>Backup      BACKUP failed to complete the comm...</td>\n    </tr>\n    <tr>\n      <th>46</th>\n      <td>aks-nodepool1-35148010-vmss000001</td>\n      <td>arc</td>\n      <td>benportal3-1</td>\n      <td>arc-sqlmi</td>\n      <td>2021-08-03 15:45:55+00:00</td>\n      <td>Backup      BACKUP failed to complete the comm...</td>\n    </tr>\n    <tr>\n      <th>47</th>\n      <td>aks-nodepool1-35148010-vmss000001</td>\n      <td>arc</td>\n      <td>benportal3-1</td>\n      <td>arc-sqlmi</td>\n      <td>2021-08-03 15:45:55+00:00</td>\n      <td>Backup      Error: 3041, Severity: 16, State: 1.</td>\n    </tr>\n    <tr>\n      <th>48</th>\n      <td>aks-nodepool1-35148010-vmss000001</td>\n      <td>arc</td>\n      <td>benportal3-1</td>\n      <td>arc-sqlmi</td>\n      <td>2021-08-03 15:45:55+00:00</td>\n      <td>Backup      Error: 3041, Severity: 16, State: 1.</td>\n    </tr>\n    <tr>\n      <th>49</th>\n      <td>aks-nodepool1-35148010-vmss000000</td>\n      <td>arc</td>\n      <td>benportal3-2</td>\n      <td>arc-sqlmi</td>\n      <td>2021-08-03 15:45:44+00:00</td>\n      <td>Backup      BACKUP failed to complete the comm...</td>\n    </tr>\n    <tr>\n      <th>50</th>\n      <td>aks-nodepool1-35148010-vmss000000</td>\n      <td>arc</td>\n      <td>benportal3-2</td>\n      <td>arc-sqlmi</td>\n      <td>2021-08-03 15:45:38+00:00</td>\n      <td>Backup      Error: 3041, Severity: 16, State: 1.</td>\n    </tr>\n    <tr>\n      <th>51</th>\n      <td>aks-nodepool1-35148010-vmss000000</td>\n      <td>arc</td>\n      <td>benportal3-2</td>\n      <td>arc-sqlmi</td>\n      <td>2021-08-03 15:45:38+00:00</td>\n      <td>Backup      BACKUP failed to complete the comm...</td>\n    </tr>\n    <tr>\n      <th>52</th>\n      <td>aks-nodepool1-35148010-vmss000000</td>\n      <td>arc</td>\n      <td>benportal3-2</td>\n      <td>arc-sqlmi</td>\n      <td>2021-08-03 15:45:38+00:00</td>\n      <td>Backup      BACKUP failed to complete the comm...</td>\n    </tr>\n    <tr>\n      <th>53</th>\n      <td>aks-nodepool1-35148010-vmss000000</td>\n      <td>arc</td>\n      <td>benportal3-2</td>\n      <td>arc-sqlmi</td>\n      <td>2021-08-03 15:45:38+00:00</td>\n      <td>Backup      Error: 3041, Severity: 16, State: 1.</td>\n    </tr>\n    <tr>\n      <th>54</th>\n      <td>aks-nodepool1-35148010-vmss000000</td>\n      <td>arc</td>\n      <td>benportal3-2</td>\n      <td>arc-sqlmi</td>\n      <td>2021-08-03 15:45:38+00:00</td>\n      <td>Backup      Error: 3041, Severity: 16, State: 1.</td>\n    </tr>\n    <tr>\n      <th>55</th>\n      <td>aks-nodepool1-35148010-vmss000001</td>\n      <td>arc</td>\n      <td>benportal3-1</td>\n      <td>arc-sqlmi</td>\n      <td>2021-08-03 15:45:29+00:00</td>\n      <td>Backup      BACKUP failed to complete the comm...</td>\n    </tr>\n    <tr>\n      <th>56</th>\n      <td>aks-nodepool1-35148010-vmss000001</td>\n      <td>arc</td>\n      <td>benportal3-1</td>\n      <td>arc-sqlmi</td>\n      <td>2021-08-03 15:45:25+00:00</td>\n      <td>Backup      Error: 3041, Severity: 16, State: 1.</td>\n    </tr>\n    <tr>\n      <th>57</th>\n      <td>aks-nodepool1-35148010-vmss000001</td>\n      <td>arc</td>\n      <td>benportal3-1</td>\n      <td>arc-sqlmi</td>\n      <td>2021-08-03 15:45:25+00:00</td>\n      <td>Backup      BACKUP failed to complete the comm...</td>\n    </tr>\n    <tr>\n      <th>58</th>\n      <td>aks-nodepool1-35148010-vmss000001</td>\n      <td>arc</td>\n      <td>benportal3-1</td>\n      <td>arc-sqlmi</td>\n      <td>2021-08-03 15:45:25+00:00</td>\n      <td>Backup      Error: 3041, Severity: 16, State: 1.</td>\n    </tr>\n    <tr>\n      <th>59</th>\n      <td>aks-nodepool1-35148010-vmss000001</td>\n      <td>arc</td>\n      <td>benportal3-1</td>\n      <td>arc-sqlmi</td>\n      <td>2021-08-03 15:45:25+00:00</td>\n      <td>Backup      Error: 3041, Severity: 16, State: 1.</td>\n    </tr>\n    <tr>\n      <th>60</th>\n      <td>aks-nodepool1-35148010-vmss000001</td>\n      <td>arc</td>\n      <td>benportal3-1</td>\n      <td>arc-sqlmi</td>\n      <td>2021-08-03 15:45:25+00:00</td>\n      <td>Backup      BACKUP failed to complete the comm...</td>\n    </tr>\n    <tr>\n      <th>61</th>\n      <td>aks-nodepool1-35148010-vmss000000</td>\n      <td>arc</td>\n      <td>benportal3-2</td>\n      <td>arc-sqlmi</td>\n      <td>2021-08-03 15:45:12+00:00</td>\n      <td>Backup      BACKUP failed to complete the comm...</td>\n    </tr>\n    <tr>\n      <th>62</th>\n      <td>aks-nodepool1-35148010-vmss000000</td>\n      <td>arc</td>\n      <td>benportal3-2</td>\n      <td>arc-sqlmi</td>\n      <td>2021-08-03 15:45:08+00:00</td>\n      <td>Backup      BACKUP failed to complete the comm...</td>\n    </tr>\n    <tr>\n      <th>63</th>\n      <td>aks-nodepool1-35148010-vmss000000</td>\n      <td>arc</td>\n      <td>benportal3-2</td>\n      <td>arc-sqlmi</td>\n      <td>2021-08-03 15:45:08+00:00</td>\n      <td>Backup      Error: 3041, Severity: 16, State: 1.</td>\n    </tr>\n    <tr>\n      <th>64</th>\n      <td>aks-nodepool1-35148010-vmss000000</td>\n      <td>arc</td>\n      <td>benportal3-2</td>\n      <td>arc-sqlmi</td>\n      <td>2021-08-03 15:45:08+00:00</td>\n      <td>Backup      Error: 3041, Severity: 16, State: 1.</td>\n    </tr>\n    <tr>\n      <th>65</th>\n      <td>aks-nodepool1-35148010-vmss000000</td>\n      <td>arc</td>\n      <td>benportal3-2</td>\n      <td>arc-sqlmi</td>\n      <td>2021-08-03 15:45:08+00:00</td>\n      <td>Backup      BACKUP failed to complete the comm...</td>\n    </tr>\n    <tr>\n      <th>66</th>\n      <td>aks-nodepool1-35148010-vmss000000</td>\n      <td>arc</td>\n      <td>benportal3-2</td>\n      <td>arc-sqlmi</td>\n      <td>2021-08-03 15:45:08+00:00</td>\n      <td>Backup      Error: 3041, Severity: 16, State: 1.</td>\n    </tr>\n    <tr>\n      <th>67</th>\n      <td>aks-nodepool1-35148010-vmss000001</td>\n      <td>arc</td>\n      <td>benportal3-1</td>\n      <td>arc-sqlmi</td>\n      <td>2021-08-03 15:45:01+00:00</td>\n      <td>Backup      BACKUP failed to complete the comm...</td>\n    </tr>\n    <tr>\n      <th>68</th>\n      <td>aks-nodepool1-35148010-vmss000001</td>\n      <td>arc</td>\n      <td>benportal3-1</td>\n      <td>arc-sqlmi</td>\n      <td>2021-08-03 15:44:55+00:00</td>\n      <td>Backup      BACKUP failed to complete the comm...</td>\n    </tr>\n    <tr>\n      <th>69</th>\n      <td>aks-nodepool1-35148010-vmss000001</td>\n      <td>arc</td>\n      <td>benportal3-1</td>\n      <td>arc-sqlmi</td>\n      <td>2021-08-03 15:44:55+00:00</td>\n      <td>Backup      Error: 3041, Severity: 16, State: 1.</td>\n    </tr>\n    <tr>\n      <th>70</th>\n      <td>aks-nodepool1-35148010-vmss000001</td>\n      <td>arc</td>\n      <td>benportal3-1</td>\n      <td>arc-sqlmi</td>\n      <td>2021-08-03 15:44:55+00:00</td>\n      <td>Backup      Error: 3041, Severity: 16, State: 1.</td>\n    </tr>\n    <tr>\n      <th>71</th>\n      <td>aks-nodepool1-35148010-vmss000001</td>\n      <td>arc</td>\n      <td>benportal3-1</td>\n      <td>arc-sqlmi</td>\n      <td>2021-08-03 15:44:55+00:00</td>\n      <td>Backup      BACKUP failed to complete the comm...</td>\n    </tr>\n    <tr>\n      <th>72</th>\n      <td>aks-nodepool1-35148010-vmss000001</td>\n      <td>arc</td>\n      <td>benportal3-1</td>\n      <td>arc-sqlmi</td>\n      <td>2021-08-03 15:44:55+00:00</td>\n      <td>Backup      Error: 3041, Severity: 16, State: 1.</td>\n    </tr>\n    <tr>\n      <th>73</th>\n      <td>aks-nodepool1-35148010-vmss000000</td>\n      <td>arc</td>\n      <td>benportal3-2</td>\n      <td>arc-sqlmi</td>\n      <td>2021-08-03 15:44:44+00:00</td>\n      <td>Backup      BACKUP failed to complete the comm...</td>\n    </tr>\n    <tr>\n      <th>74</th>\n      <td>aks-nodepool1-35148010-vmss000000</td>\n      <td>arc</td>\n      <td>benportal3-2</td>\n      <td>arc-sqlmi</td>\n      <td>2021-08-03 15:44:38+00:00</td>\n      <td>Backup      Error: 3041, Severity: 16, State: 1.</td>\n    </tr>\n    <tr>\n      <th>75</th>\n      <td>aks-nodepool1-35148010-vmss000000</td>\n      <td>arc</td>\n      <td>benportal3-2</td>\n      <td>arc-sqlmi</td>\n      <td>2021-08-03 15:44:38+00:00</td>\n      <td>Backup      Error: 3041, Severity: 16, State: 1.</td>\n    </tr>\n    <tr>\n      <th>76</th>\n      <td>aks-nodepool1-35148010-vmss000000</td>\n      <td>arc</td>\n      <td>benportal3-2</td>\n      <td>arc-sqlmi</td>\n      <td>2021-08-03 15:44:38+00:00</td>\n      <td>Backup      Error: 3041, Severity: 16, State: 1.</td>\n    </tr>\n    <tr>\n      <th>77</th>\n      <td>aks-nodepool1-35148010-vmss000000</td>\n      <td>arc</td>\n      <td>benportal3-2</td>\n      <td>arc-sqlmi</td>\n      <td>2021-08-03 15:44:38+00:00</td>\n      <td>Backup      BACKUP failed to complete the comm...</td>\n    </tr>\n    <tr>\n      <th>78</th>\n      <td>aks-nodepool1-35148010-vmss000000</td>\n      <td>arc</td>\n      <td>benportal3-2</td>\n      <td>arc-sqlmi</td>\n      <td>2021-08-03 15:44:38+00:00</td>\n      <td>Backup      BACKUP failed to complete the comm...</td>\n    </tr>\n    <tr>\n      <th>79</th>\n      <td>aks-nodepool1-35148010-vmss000001</td>\n      <td>arc</td>\n      <td>benportal3-1</td>\n      <td>arc-sqlmi</td>\n      <td>2021-08-03 15:44:29+00:00</td>\n      <td>Backup      BACKUP failed to complete the comm...</td>\n    </tr>\n    <tr>\n      <th>80</th>\n      <td>aks-nodepool1-35148010-vmss000001</td>\n      <td>arc</td>\n      <td>benportal3-1</td>\n      <td>arc-sqlmi</td>\n      <td>2021-08-03 15:44:25+00:00</td>\n      <td>Backup      Error: 3041, Severity: 16, State: 1.</td>\n    </tr>\n    <tr>\n      <th>81</th>\n      <td>aks-nodepool1-35148010-vmss000001</td>\n      <td>arc</td>\n      <td>benportal3-1</td>\n      <td>arc-sqlmi</td>\n      <td>2021-08-03 15:44:25+00:00</td>\n      <td>Backup      Error: 3041, Severity: 16, State: 1.</td>\n    </tr>\n    <tr>\n      <th>82</th>\n      <td>aks-nodepool1-35148010-vmss000001</td>\n      <td>arc</td>\n      <td>benportal3-1</td>\n      <td>arc-sqlmi</td>\n      <td>2021-08-03 15:44:25+00:00</td>\n      <td>Backup      Error: 3041, Severity: 16, State: 1.</td>\n    </tr>\n    <tr>\n      <th>83</th>\n      <td>aks-nodepool1-35148010-vmss000001</td>\n      <td>arc</td>\n      <td>benportal3-1</td>\n      <td>arc-sqlmi</td>\n      <td>2021-08-03 15:44:25+00:00</td>\n      <td>Backup      BACKUP failed to complete the comm...</td>\n    </tr>\n    <tr>\n      <th>84</th>\n      <td>aks-nodepool1-35148010-vmss000001</td>\n      <td>arc</td>\n      <td>benportal3-1</td>\n      <td>arc-sqlmi</td>\n      <td>2021-08-03 15:44:25+00:00</td>\n      <td>Backup      BACKUP failed to complete the comm...</td>\n    </tr>\n    <tr>\n      <th>85</th>\n      <td>aks-nodepool1-35148010-vmss000000</td>\n      <td>arc</td>\n      <td>benportal3-2</td>\n      <td>arc-sqlmi</td>\n      <td>2021-08-03 15:44:12+00:00</td>\n      <td>Backup      BACKUP failed to complete the comm...</td>\n    </tr>\n    <tr>\n      <th>86</th>\n      <td>aks-nodepool1-35148010-vmss000000</td>\n      <td>arc</td>\n      <td>benportal3-2</td>\n      <td>arc-sqlmi</td>\n      <td>2021-08-03 15:44:08+00:00</td>\n      <td>Backup      BACKUP failed to complete the comm...</td>\n    </tr>\n    <tr>\n      <th>87</th>\n      <td>aks-nodepool1-35148010-vmss000000</td>\n      <td>arc</td>\n      <td>benportal3-2</td>\n      <td>arc-sqlmi</td>\n      <td>2021-08-03 15:44:08+00:00</td>\n      <td>Backup      BACKUP failed to complete the comm...</td>\n    </tr>\n    <tr>\n      <th>88</th>\n      <td>aks-nodepool1-35148010-vmss000000</td>\n      <td>arc</td>\n      <td>benportal3-2</td>\n      <td>arc-sqlmi</td>\n      <td>2021-08-03 15:44:08+00:00</td>\n      <td>Backup      Error: 3041, Severity: 16, State: 1.</td>\n    </tr>\n    <tr>\n      <th>89</th>\n      <td>aks-nodepool1-35148010-vmss000000</td>\n      <td>arc</td>\n      <td>benportal3-2</td>\n      <td>arc-sqlmi</td>\n      <td>2021-08-03 15:44:08+00:00</td>\n      <td>Backup      Error: 3041, Severity: 16, State: 1.</td>\n    </tr>\n    <tr>\n      <th>90</th>\n      <td>aks-nodepool1-35148010-vmss000000</td>\n      <td>arc</td>\n      <td>benportal3-2</td>\n      <td>arc-sqlmi</td>\n      <td>2021-08-03 15:44:08+00:00</td>\n      <td>Backup      Error: 3041, Severity: 16, State: 1.</td>\n    </tr>\n    <tr>\n      <th>91</th>\n      <td>aks-nodepool1-35148010-vmss000001</td>\n      <td>arc</td>\n      <td>benportal3-1</td>\n      <td>arc-sqlmi</td>\n      <td>2021-08-03 15:44:01+00:00</td>\n      <td>Backup      BACKUP failed to complete the comm...</td>\n    </tr>\n    <tr>\n      <th>92</th>\n      <td>aks-nodepool1-35148010-vmss000001</td>\n      <td>arc</td>\n      <td>benportal3-1</td>\n      <td>arc-sqlmi</td>\n      <td>2021-08-03 15:43:55+00:00</td>\n      <td>Backup      BACKUP failed to complete the comm...</td>\n    </tr>\n    <tr>\n      <th>93</th>\n      <td>aks-nodepool1-35148010-vmss000001</td>\n      <td>arc</td>\n      <td>benportal3-1</td>\n      <td>arc-sqlmi</td>\n      <td>2021-08-03 15:43:55+00:00</td>\n      <td>Backup      Error: 3041, Severity: 16, State: 1.</td>\n    </tr>\n    <tr>\n      <th>94</th>\n      <td>aks-nodepool1-35148010-vmss000001</td>\n      <td>arc</td>\n      <td>benportal3-1</td>\n      <td>arc-sqlmi</td>\n      <td>2021-08-03 15:43:55+00:00</td>\n      <td>Backup      Error: 3041, Severity: 16, State: 1.</td>\n    </tr>\n    <tr>\n      <th>95</th>\n      <td>aks-nodepool1-35148010-vmss000001</td>\n      <td>arc</td>\n      <td>benportal3-1</td>\n      <td>arc-sqlmi</td>\n      <td>2021-08-03 15:43:55+00:00</td>\n      <td>Backup      Error: 3041, Severity: 16, State: 1.</td>\n    </tr>\n    <tr>\n      <th>96</th>\n      <td>aks-nodepool1-35148010-vmss000001</td>\n      <td>arc</td>\n      <td>benportal3-1</td>\n      <td>arc-sqlmi</td>\n      <td>2021-08-03 15:43:55+00:00</td>\n      <td>Backup      BACKUP failed to complete the comm...</td>\n    </tr>\n    <tr>\n      <th>97</th>\n      <td>aks-nodepool1-35148010-vmss000000</td>\n      <td>arc</td>\n      <td>benportal3-2</td>\n      <td>arc-sqlmi</td>\n      <td>2021-08-03 15:43:44+00:00</td>\n      <td>Backup      BACKUP failed to complete the comm...</td>\n    </tr>\n    <tr>\n      <th>98</th>\n      <td>aks-nodepool1-35148010-vmss000000</td>\n      <td>arc</td>\n      <td>benportal3-2</td>\n      <td>arc-sqlmi</td>\n      <td>2021-08-03 15:43:38+00:00</td>\n      <td>Backup      Error: 3041, Severity: 16, State: 1.</td>\n    </tr>\n    <tr>\n      <th>99</th>\n      <td>aks-nodepool1-35148010-vmss000000</td>\n      <td>arc</td>\n      <td>benportal3-2</td>\n      <td>arc-sqlmi</td>\n      <td>2021-08-03 15:43:38+00:00</td>\n      <td>Backup      BACKUP failed to complete the comm...</td>\n    </tr>\n    <tr>\n      <th>100</th>\n      <td>aks-nodepool1-35148010-vmss000000</td>\n      <td>arc</td>\n      <td>benportal3-2</td>\n      <td>arc-sqlmi</td>\n      <td>2021-08-03 15:43:38+00:00</td>\n      <td>Backup      BACKUP failed to complete the comm...</td>\n    </tr>\n    <tr>\n      <th>101</th>\n      <td>aks-nodepool1-35148010-vmss000000</td>\n      <td>arc</td>\n      <td>benportal3-2</td>\n      <td>arc-sqlmi</td>\n      <td>2021-08-03 15:43:38+00:00</td>\n      <td>Backup      Error: 3041, Severity: 16, State: 1.</td>\n    </tr>\n    <tr>\n      <th>102</th>\n      <td>aks-nodepool1-35148010-vmss000000</td>\n      <td>arc</td>\n      <td>benportal3-2</td>\n      <td>arc-sqlmi</td>\n      <td>2021-08-03 15:43:38+00:00</td>\n      <td>Backup      Error: 3041, Severity: 16, State: 1.</td>\n    </tr>\n    <tr>\n      <th>103</th>\n      <td>aks-nodepool1-35148010-vmss000001</td>\n      <td>arc</td>\n      <td>benportal3-1</td>\n      <td>arc-sqlmi</td>\n      <td>2021-08-03 15:43:29+00:00</td>\n      <td>Backup      BACKUP failed to complete the comm...</td>\n    </tr>\n    <tr>\n      <th>104</th>\n      <td>aks-nodepool1-35148010-vmss000001</td>\n      <td>arc</td>\n      <td>benportal3-1</td>\n      <td>arc-sqlmi</td>\n      <td>2021-08-03 15:43:25+00:00</td>\n      <td>Backup      BACKUP failed to complete the comm...</td>\n    </tr>\n    <tr>\n      <th>105</th>\n      <td>aks-nodepool1-35148010-vmss000001</td>\n      <td>arc</td>\n      <td>benportal3-1</td>\n      <td>arc-sqlmi</td>\n      <td>2021-08-03 15:43:25+00:00</td>\n      <td>Backup      Error: 3041, Severity: 16, State: 1.</td>\n    </tr>\n    <tr>\n      <th>106</th>\n      <td>aks-nodepool1-35148010-vmss000001</td>\n      <td>arc</td>\n      <td>benportal3-1</td>\n      <td>arc-sqlmi</td>\n      <td>2021-08-03 15:43:25+00:00</td>\n      <td>Backup      BACKUP failed to complete the comm...</td>\n    </tr>\n    <tr>\n      <th>107</th>\n      <td>aks-nodepool1-35148010-vmss000001</td>\n      <td>arc</td>\n      <td>benportal3-1</td>\n      <td>arc-sqlmi</td>\n      <td>2021-08-03 15:43:25+00:00</td>\n      <td>Backup      Error: 3041, Severity: 16, State: 1.</td>\n    </tr>\n    <tr>\n      <th>108</th>\n      <td>aks-nodepool1-35148010-vmss000001</td>\n      <td>arc</td>\n      <td>benportal3-1</td>\n      <td>arc-sqlmi</td>\n      <td>2021-08-03 15:43:25+00:00</td>\n      <td>Backup      Error: 3041, Severity: 16, State: 1.</td>\n    </tr>\n    <tr>\n      <th>109</th>\n      <td>aks-nodepool1-35148010-vmss000000</td>\n      <td>arc</td>\n      <td>benportal3-2</td>\n      <td>arc-sqlmi</td>\n      <td>2021-08-03 15:43:12+00:00</td>\n      <td>Backup      BACKUP failed to complete the comm...</td>\n    </tr>\n    <tr>\n      <th>110</th>\n      <td>aks-nodepool1-35148010-vmss000000</td>\n      <td>arc</td>\n      <td>benportal3-2</td>\n      <td>arc-sqlmi</td>\n      <td>2021-08-03 15:43:08+00:00</td>\n      <td>Backup      Error: 3041, Severity: 16, State: 1.</td>\n    </tr>\n    <tr>\n      <th>111</th>\n      <td>aks-nodepool1-35148010-vmss000000</td>\n      <td>arc</td>\n      <td>benportal3-2</td>\n      <td>arc-sqlmi</td>\n      <td>2021-08-03 15:43:08+00:00</td>\n      <td>Backup      Error: 3041, Severity: 16, State: 1.</td>\n    </tr>\n    <tr>\n      <th>112</th>\n      <td>aks-nodepool1-35148010-vmss000000</td>\n      <td>arc</td>\n      <td>benportal3-2</td>\n      <td>arc-sqlmi</td>\n      <td>2021-08-03 15:43:08+00:00</td>\n      <td>Backup      BACKUP failed to complete the comm...</td>\n    </tr>\n    <tr>\n      <th>113</th>\n      <td>aks-nodepool1-35148010-vmss000000</td>\n      <td>arc</td>\n      <td>benportal3-2</td>\n      <td>arc-sqlmi</td>\n      <td>2021-08-03 15:43:08+00:00</td>\n      <td>Backup      Error: 3041, Severity: 16, State: 1.</td>\n    </tr>\n    <tr>\n      <th>114</th>\n      <td>aks-nodepool1-35148010-vmss000000</td>\n      <td>arc</td>\n      <td>benportal3-2</td>\n      <td>arc-sqlmi</td>\n      <td>2021-08-03 15:43:08+00:00</td>\n      <td>Backup      BACKUP failed to complete the comm...</td>\n    </tr>\n    <tr>\n      <th>115</th>\n      <td>aks-nodepool1-35148010-vmss000001</td>\n      <td>arc</td>\n      <td>benportal3-1</td>\n      <td>arc-sqlmi</td>\n      <td>2021-08-03 15:43:01+00:00</td>\n      <td>Backup      BACKUP failed to complete the comm...</td>\n    </tr>\n    <tr>\n      <th>116</th>\n      <td>aks-nodepool1-35148010-vmss000001</td>\n      <td>arc</td>\n      <td>benportal3-1</td>\n      <td>arc-sqlmi</td>\n      <td>2021-08-03 15:42:55+00:00</td>\n      <td>Backup      Error: 3041, Severity: 16, State: 1.</td>\n    </tr>\n    <tr>\n      <th>117</th>\n      <td>aks-nodepool1-35148010-vmss000001</td>\n      <td>arc</td>\n      <td>benportal3-1</td>\n      <td>arc-sqlmi</td>\n      <td>2021-08-03 15:42:55+00:00</td>\n      <td>Backup      Error: 3041, Severity: 16, State: 1.</td>\n    </tr>\n    <tr>\n      <th>118</th>\n      <td>aks-nodepool1-35148010-vmss000001</td>\n      <td>arc</td>\n      <td>benportal3-1</td>\n      <td>arc-sqlmi</td>\n      <td>2021-08-03 15:42:55+00:00</td>\n      <td>Backup      BACKUP failed to complete the comm...</td>\n    </tr>\n    <tr>\n      <th>119</th>\n      <td>aks-nodepool1-35148010-vmss000001</td>\n      <td>arc</td>\n      <td>benportal3-1</td>\n      <td>arc-sqlmi</td>\n      <td>2021-08-03 15:42:55+00:00</td>\n      <td>Backup      BACKUP failed to complete the comm...</td>\n    </tr>\n    <tr>\n      <th>120</th>\n      <td>aks-nodepool1-35148010-vmss000001</td>\n      <td>arc</td>\n      <td>benportal3-1</td>\n      <td>arc-sqlmi</td>\n      <td>2021-08-03 15:42:55+00:00</td>\n      <td>Backup      Error: 3041, Severity: 16, State: 1.</td>\n    </tr>\n    <tr>\n      <th>121</th>\n      <td>aks-nodepool1-35148010-vmss000000</td>\n      <td>arc</td>\n      <td>benportal3-2</td>\n      <td>arc-sqlmi</td>\n      <td>2021-08-03 15:42:44+00:00</td>\n      <td>Backup      BACKUP failed to complete the comm...</td>\n    </tr>\n    <tr>\n      <th>122</th>\n      <td>aks-nodepool1-35148010-vmss000000</td>\n      <td>arc</td>\n      <td>benportal3-2</td>\n      <td>arc-sqlmi</td>\n      <td>2021-08-03 15:42:38+00:00</td>\n      <td>Backup      Error: 3041, Severity: 16, State: 1.</td>\n    </tr>\n    <tr>\n      <th>123</th>\n      <td>aks-nodepool1-35148010-vmss000000</td>\n      <td>arc</td>\n      <td>benportal3-2</td>\n      <td>arc-sqlmi</td>\n      <td>2021-08-03 15:42:38+00:00</td>\n      <td>Backup      BACKUP failed to complete the comm...</td>\n    </tr>\n    <tr>\n      <th>124</th>\n      <td>aks-nodepool1-35148010-vmss000000</td>\n      <td>arc</td>\n      <td>benportal3-2</td>\n      <td>arc-sqlmi</td>\n      <td>2021-08-03 15:42:38+00:00</td>\n      <td>Backup      Error: 3041, Severity: 16, State: 1.</td>\n    </tr>\n    <tr>\n      <th>125</th>\n      <td>aks-nodepool1-35148010-vmss000000</td>\n      <td>arc</td>\n      <td>benportal3-2</td>\n      <td>arc-sqlmi</td>\n      <td>2021-08-03 15:42:38+00:00</td>\n      <td>Backup      Error: 3041, Severity: 16, State: 1.</td>\n    </tr>\n    <tr>\n      <th>126</th>\n      <td>aks-nodepool1-35148010-vmss000000</td>\n      <td>arc</td>\n      <td>benportal3-2</td>\n      <td>arc-sqlmi</td>\n      <td>2021-08-03 15:42:38+00:00</td>\n      <td>Backup      BACKUP failed to complete the comm...</td>\n    </tr>\n    <tr>\n      <th>127</th>\n      <td>aks-nodepool1-35148010-vmss000001</td>\n      <td>arc</td>\n      <td>benportal3-1</td>\n      <td>arc-sqlmi</td>\n      <td>2021-08-03 15:42:29+00:00</td>\n      <td>Backup      BACKUP failed to complete the comm...</td>\n    </tr>\n    <tr>\n      <th>128</th>\n      <td>aks-nodepool1-35148010-vmss000001</td>\n      <td>arc</td>\n      <td>benportal3-1</td>\n      <td>arc-sqlmi</td>\n      <td>2021-08-03 15:42:25+00:00</td>\n      <td>Backup      Error: 3041, Severity: 16, State: 1.</td>\n    </tr>\n    <tr>\n      <th>129</th>\n      <td>aks-nodepool1-35148010-vmss000001</td>\n      <td>arc</td>\n      <td>benportal3-1</td>\n      <td>arc-sqlmi</td>\n      <td>2021-08-03 15:42:25+00:00</td>\n      <td>Backup      Error: 3041, Severity: 16, State: 1.</td>\n    </tr>\n    <tr>\n      <th>130</th>\n      <td>aks-nodepool1-35148010-vmss000001</td>\n      <td>arc</td>\n      <td>benportal3-1</td>\n      <td>arc-sqlmi</td>\n      <td>2021-08-03 15:42:25+00:00</td>\n      <td>Backup      BACKUP failed to complete the comm...</td>\n    </tr>\n    <tr>\n      <th>131</th>\n      <td>aks-nodepool1-35148010-vmss000001</td>\n      <td>arc</td>\n      <td>benportal3-1</td>\n      <td>arc-sqlmi</td>\n      <td>2021-08-03 15:42:25+00:00</td>\n      <td>Backup      BACKUP failed to complete the comm...</td>\n    </tr>\n    <tr>\n      <th>132</th>\n      <td>aks-nodepool1-35148010-vmss000001</td>\n      <td>arc</td>\n      <td>benportal3-1</td>\n      <td>arc-sqlmi</td>\n      <td>2021-08-03 15:42:25+00:00</td>\n      <td>Backup      Error: 3041, Severity: 16, State: 1.</td>\n    </tr>\n    <tr>\n      <th>133</th>\n      <td>aks-nodepool1-35148010-vmss000000</td>\n      <td>arc</td>\n      <td>benportal3-2</td>\n      <td>arc-sqlmi</td>\n      <td>2021-08-03 15:42:12+00:00</td>\n      <td>Backup      BACKUP failed to complete the comm...</td>\n    </tr>\n    <tr>\n      <th>134</th>\n      <td>aks-nodepool1-35148010-vmss000000</td>\n      <td>arc</td>\n      <td>benportal3-2</td>\n      <td>arc-sqlmi</td>\n      <td>2021-08-03 15:42:08+00:00</td>\n      <td>Backup      BACKUP failed to complete the comm...</td>\n    </tr>\n    <tr>\n      <th>135</th>\n      <td>aks-nodepool1-35148010-vmss000000</td>\n      <td>arc</td>\n      <td>benportal3-2</td>\n      <td>arc-sqlmi</td>\n      <td>2021-08-03 15:42:08+00:00</td>\n      <td>Backup      Error: 3041, Severity: 16, State: 1.</td>\n    </tr>\n    <tr>\n      <th>136</th>\n      <td>aks-nodepool1-35148010-vmss000000</td>\n      <td>arc</td>\n      <td>benportal3-2</td>\n      <td>arc-sqlmi</td>\n      <td>2021-08-03 15:42:08+00:00</td>\n      <td>Backup      BACKUP failed to complete the comm...</td>\n    </tr>\n    <tr>\n      <th>137</th>\n      <td>aks-nodepool1-35148010-vmss000000</td>\n      <td>arc</td>\n      <td>benportal3-2</td>\n      <td>arc-sqlmi</td>\n      <td>2021-08-03 15:42:08+00:00</td>\n      <td>Backup      Error: 3041, Severity: 16, State: 1.</td>\n    </tr>\n    <tr>\n      <th>138</th>\n      <td>aks-nodepool1-35148010-vmss000000</td>\n      <td>arc</td>\n      <td>benportal3-2</td>\n      <td>arc-sqlmi</td>\n      <td>2021-08-03 15:42:08+00:00</td>\n      <td>Backup      Error: 3041, Severity: 16, State: 1.</td>\n    </tr>\n    <tr>\n      <th>139</th>\n      <td>aks-nodepool1-35148010-vmss000001</td>\n      <td>arc</td>\n      <td>benportal3-1</td>\n      <td>arc-sqlmi</td>\n      <td>2021-08-03 15:42:01+00:00</td>\n      <td>Backup      BACKUP failed to complete the comm...</td>\n    </tr>\n    <tr>\n      <th>140</th>\n      <td>aks-nodepool1-35148010-vmss000001</td>\n      <td>arc</td>\n      <td>benportal3-1</td>\n      <td>arc-sqlmi</td>\n      <td>2021-08-03 15:41:55+00:00</td>\n      <td>Backup      BACKUP failed to complete the comm...</td>\n    </tr>\n    <tr>\n      <th>141</th>\n      <td>aks-nodepool1-35148010-vmss000001</td>\n      <td>arc</td>\n      <td>benportal3-1</td>\n      <td>arc-sqlmi</td>\n      <td>2021-08-03 15:41:55+00:00</td>\n      <td>Backup      BACKUP failed to complete the comm...</td>\n    </tr>\n    <tr>\n      <th>142</th>\n      <td>aks-nodepool1-35148010-vmss000001</td>\n      <td>arc</td>\n      <td>benportal3-1</td>\n      <td>arc-sqlmi</td>\n      <td>2021-08-03 15:41:55+00:00</td>\n      <td>Backup      Error: 3041, Severity: 16, State: 1.</td>\n    </tr>\n    <tr>\n      <th>143</th>\n      <td>aks-nodepool1-35148010-vmss000001</td>\n      <td>arc</td>\n      <td>benportal3-1</td>\n      <td>arc-sqlmi</td>\n      <td>2021-08-03 15:41:55+00:00</td>\n      <td>Backup      Error: 3041, Severity: 16, State: 1.</td>\n    </tr>\n    <tr>\n      <th>144</th>\n      <td>aks-nodepool1-35148010-vmss000001</td>\n      <td>arc</td>\n      <td>benportal3-1</td>\n      <td>arc-sqlmi</td>\n      <td>2021-08-03 15:41:55+00:00</td>\n      <td>Backup      Error: 3041, Severity: 16, State: 1.</td>\n    </tr>\n    <tr>\n      <th>145</th>\n      <td>aks-nodepool1-35148010-vmss000000</td>\n      <td>arc</td>\n      <td>benportal3-2</td>\n      <td>arc-sqlmi</td>\n      <td>2021-08-03 15:41:44+00:00</td>\n      <td>Backup      BACKUP failed to complete the comm...</td>\n    </tr>\n    <tr>\n      <th>146</th>\n      <td>aks-nodepool1-35148010-vmss000000</td>\n      <td>arc</td>\n      <td>benportal3-2</td>\n      <td>arc-sqlmi</td>\n      <td>2021-08-03 15:41:38+00:00</td>\n      <td>Backup      BACKUP failed to complete the comm...</td>\n    </tr>\n    <tr>\n      <th>147</th>\n      <td>aks-nodepool1-35148010-vmss000000</td>\n      <td>arc</td>\n      <td>benportal3-2</td>\n      <td>arc-sqlmi</td>\n      <td>2021-08-03 15:41:38+00:00</td>\n      <td>Backup      Error: 3041, Severity: 16, State: 1.</td>\n    </tr>\n    <tr>\n      <th>148</th>\n      <td>aks-nodepool1-35148010-vmss000000</td>\n      <td>arc</td>\n      <td>benportal3-2</td>\n      <td>arc-sqlmi</td>\n      <td>2021-08-03 15:41:38+00:00</td>\n      <td>Backup      Error: 3041, Severity: 16, State: 1.</td>\n    </tr>\n    <tr>\n      <th>149</th>\n      <td>aks-nodepool1-35148010-vmss000000</td>\n      <td>arc</td>\n      <td>benportal3-2</td>\n      <td>arc-sqlmi</td>\n      <td>2021-08-03 15:41:38+00:00</td>\n      <td>Backup      BACKUP failed to complete the comm...</td>\n    </tr>\n    <tr>\n      <th>150</th>\n      <td>aks-nodepool1-35148010-vmss000000</td>\n      <td>arc</td>\n      <td>benportal3-2</td>\n      <td>arc-sqlmi</td>\n      <td>2021-08-03 15:41:38+00:00</td>\n      <td>Backup      Error: 3041, Severity: 16, State: 1.</td>\n    </tr>\n    <tr>\n      <th>151</th>\n      <td>aks-nodepool1-35148010-vmss000001</td>\n      <td>arc</td>\n      <td>benportal3-1</td>\n      <td>arc-sqlmi</td>\n      <td>2021-08-03 15:41:29+00:00</td>\n      <td>Backup      BACKUP failed to complete the comm...</td>\n    </tr>\n    <tr>\n      <th>152</th>\n      <td>aks-nodepool1-35148010-vmss000001</td>\n      <td>arc</td>\n      <td>benportal3-1</td>\n      <td>arc-sqlmi</td>\n      <td>2021-08-03 15:41:25+00:00</td>\n      <td>Backup      Error: 3041, Severity: 16, State: 1.</td>\n    </tr>\n    <tr>\n      <th>153</th>\n      <td>aks-nodepool1-35148010-vmss000001</td>\n      <td>arc</td>\n      <td>benportal3-1</td>\n      <td>arc-sqlmi</td>\n      <td>2021-08-03 15:41:25+00:00</td>\n      <td>Backup      BACKUP failed to complete the comm...</td>\n    </tr>\n    <tr>\n      <th>154</th>\n      <td>aks-nodepool1-35148010-vmss000001</td>\n      <td>arc</td>\n      <td>benportal3-1</td>\n      <td>arc-sqlmi</td>\n      <td>2021-08-03 15:41:25+00:00</td>\n      <td>Backup      BACKUP failed to complete the comm...</td>\n    </tr>\n    <tr>\n      <th>155</th>\n      <td>aks-nodepool1-35148010-vmss000001</td>\n      <td>arc</td>\n      <td>benportal3-1</td>\n      <td>arc-sqlmi</td>\n      <td>2021-08-03 15:41:25+00:00</td>\n      <td>Backup      Error: 3041, Severity: 16, State: 1.</td>\n    </tr>\n    <tr>\n      <th>156</th>\n      <td>aks-nodepool1-35148010-vmss000001</td>\n      <td>arc</td>\n      <td>benportal3-1</td>\n      <td>arc-sqlmi</td>\n      <td>2021-08-03 15:41:25+00:00</td>\n      <td>Backup      Error: 3041, Severity: 16, State: 1.</td>\n    </tr>\n    <tr>\n      <th>157</th>\n      <td>aks-nodepool1-35148010-vmss000000</td>\n      <td>arc</td>\n      <td>benportal3-2</td>\n      <td>arc-sqlmi</td>\n      <td>2021-08-03 15:41:12+00:00</td>\n      <td>Backup      BACKUP failed to complete the comm...</td>\n    </tr>\n    <tr>\n      <th>158</th>\n      <td>aks-nodepool1-35148010-vmss000000</td>\n      <td>arc</td>\n      <td>benportal3-2</td>\n      <td>arc-sqlmi</td>\n      <td>2021-08-03 15:41:08+00:00</td>\n      <td>Backup      Error: 3041, Severity: 16, State: 1.</td>\n    </tr>\n    <tr>\n      <th>159</th>\n      <td>aks-nodepool1-35148010-vmss000000</td>\n      <td>arc</td>\n      <td>benportal3-2</td>\n      <td>arc-sqlmi</td>\n      <td>2021-08-03 15:41:08+00:00</td>\n      <td>Backup      Error: 3041, Severity: 16, State: 1.</td>\n    </tr>\n    <tr>\n      <th>160</th>\n      <td>aks-nodepool1-35148010-vmss000000</td>\n      <td>arc</td>\n      <td>benportal3-2</td>\n      <td>arc-sqlmi</td>\n      <td>2021-08-03 15:41:08+00:00</td>\n      <td>Backup      Error: 3041, Severity: 16, State: 1.</td>\n    </tr>\n    <tr>\n      <th>161</th>\n      <td>aks-nodepool1-35148010-vmss000000</td>\n      <td>arc</td>\n      <td>benportal3-2</td>\n      <td>arc-sqlmi</td>\n      <td>2021-08-03 15:41:08+00:00</td>\n      <td>Backup      BACKUP failed to complete the comm...</td>\n    </tr>\n    <tr>\n      <th>162</th>\n      <td>aks-nodepool1-35148010-vmss000000</td>\n      <td>arc</td>\n      <td>benportal3-2</td>\n      <td>arc-sqlmi</td>\n      <td>2021-08-03 15:41:08+00:00</td>\n      <td>Backup      BACKUP failed to complete the comm...</td>\n    </tr>\n    <tr>\n      <th>163</th>\n      <td>aks-nodepool1-35148010-vmss000001</td>\n      <td>arc</td>\n      <td>benportal3-1</td>\n      <td>arc-sqlmi</td>\n      <td>2021-08-03 15:41:01+00:00</td>\n      <td>Backup      BACKUP failed to complete the comm...</td>\n    </tr>\n    <tr>\n      <th>164</th>\n      <td>aks-nodepool1-35148010-vmss000001</td>\n      <td>arc</td>\n      <td>benportal3-1</td>\n      <td>arc-sqlmi</td>\n      <td>2021-08-03 15:40:55+00:00</td>\n      <td>Backup      Error: 3041, Severity: 16, State: 1.</td>\n    </tr>\n    <tr>\n      <th>165</th>\n      <td>aks-nodepool1-35148010-vmss000001</td>\n      <td>arc</td>\n      <td>benportal3-1</td>\n      <td>arc-sqlmi</td>\n      <td>2021-08-03 15:40:55+00:00</td>\n      <td>Backup      BACKUP failed to complete the comm...</td>\n    </tr>\n    <tr>\n      <th>166</th>\n      <td>aks-nodepool1-35148010-vmss000001</td>\n      <td>arc</td>\n      <td>benportal3-1</td>\n      <td>arc-sqlmi</td>\n      <td>2021-08-03 15:40:55+00:00</td>\n      <td>Backup      Error: 3041, Severity: 16, State: 1.</td>\n    </tr>\n    <tr>\n      <th>167</th>\n      <td>aks-nodepool1-35148010-vmss000001</td>\n      <td>arc</td>\n      <td>benportal3-1</td>\n      <td>arc-sqlmi</td>\n      <td>2021-08-03 15:40:55+00:00</td>\n      <td>Backup      BACKUP failed to complete the comm...</td>\n    </tr>\n    <tr>\n      <th>168</th>\n      <td>aks-nodepool1-35148010-vmss000001</td>\n      <td>arc</td>\n      <td>benportal3-1</td>\n      <td>arc-sqlmi</td>\n      <td>2021-08-03 15:40:55+00:00</td>\n      <td>Backup      Error: 3041, Severity: 16, State: 1.</td>\n    </tr>\n    <tr>\n      <th>169</th>\n      <td>aks-nodepool1-35148010-vmss000002</td>\n      <td>arc</td>\n      <td>benportal3-0</td>\n      <td>arc-sqlmi</td>\n      <td>2021-08-03 15:40:51+00:00</td>\n      <td>Backup      Log was backed up. Database: BenBe...</td>\n    </tr>\n    <tr>\n      <th>170</th>\n      <td>aks-nodepool1-35148010-vmss000000</td>\n      <td>arc</td>\n      <td>benportal3-2</td>\n      <td>arc-sqlmi</td>\n      <td>2021-08-03 15:40:44+00:00</td>\n      <td>Backup      BACKUP failed to complete the comm...</td>\n    </tr>\n    <tr>\n      <th>171</th>\n      <td>aks-nodepool1-35148010-vmss000000</td>\n      <td>arc</td>\n      <td>benportal3-2</td>\n      <td>arc-sqlmi</td>\n      <td>2021-08-03 15:40:38+00:00</td>\n      <td>Backup      Error: 3041, Severity: 16, State: 1.</td>\n    </tr>\n    <tr>\n      <th>172</th>\n      <td>aks-nodepool1-35148010-vmss000000</td>\n      <td>arc</td>\n      <td>benportal3-2</td>\n      <td>arc-sqlmi</td>\n      <td>2021-08-03 15:40:38+00:00</td>\n      <td>Backup      Error: 3041, Severity: 16, State: 1.</td>\n    </tr>\n    <tr>\n      <th>173</th>\n      <td>aks-nodepool1-35148010-vmss000000</td>\n      <td>arc</td>\n      <td>benportal3-2</td>\n      <td>arc-sqlmi</td>\n      <td>2021-08-03 15:40:38+00:00</td>\n      <td>Backup      Error: 3041, Severity: 16, State: 1.</td>\n    </tr>\n    <tr>\n      <th>174</th>\n      <td>aks-nodepool1-35148010-vmss000000</td>\n      <td>arc</td>\n      <td>benportal3-2</td>\n      <td>arc-sqlmi</td>\n      <td>2021-08-03 15:40:38+00:00</td>\n      <td>Backup      BACKUP failed to complete the comm...</td>\n    </tr>\n    <tr>\n      <th>175</th>\n      <td>aks-nodepool1-35148010-vmss000000</td>\n      <td>arc</td>\n      <td>benportal3-2</td>\n      <td>arc-sqlmi</td>\n      <td>2021-08-03 15:40:38+00:00</td>\n      <td>Backup      BACKUP failed to complete the comm...</td>\n    </tr>\n    <tr>\n      <th>176</th>\n      <td>aks-nodepool1-35148010-vmss000001</td>\n      <td>arc</td>\n      <td>benportal3-1</td>\n      <td>arc-sqlmi</td>\n      <td>2021-08-03 15:40:29+00:00</td>\n      <td>Backup      BACKUP failed to complete the comm...</td>\n    </tr>\n    <tr>\n      <th>177</th>\n      <td>aks-nodepool1-35148010-vmss000001</td>\n      <td>arc</td>\n      <td>benportal3-1</td>\n      <td>arc-sqlmi</td>\n      <td>2021-08-03 15:40:25+00:00</td>\n      <td>Backup      BACKUP failed to complete the comm...</td>\n    </tr>\n    <tr>\n      <th>178</th>\n      <td>aks-nodepool1-35148010-vmss000001</td>\n      <td>arc</td>\n      <td>benportal3-1</td>\n      <td>arc-sqlmi</td>\n      <td>2021-08-03 15:40:25+00:00</td>\n      <td>Backup      Error: 3041, Severity: 16, State: 1.</td>\n    </tr>\n    <tr>\n      <th>179</th>\n      <td>aks-nodepool1-35148010-vmss000001</td>\n      <td>arc</td>\n      <td>benportal3-1</td>\n      <td>arc-sqlmi</td>\n      <td>2021-08-03 15:40:25+00:00</td>\n      <td>Backup      BACKUP failed to complete the comm...</td>\n    </tr>\n    <tr>\n      <th>180</th>\n      <td>aks-nodepool1-35148010-vmss000001</td>\n      <td>arc</td>\n      <td>benportal3-1</td>\n      <td>arc-sqlmi</td>\n      <td>2021-08-03 15:40:25+00:00</td>\n      <td>Backup      Error: 3041, Severity: 16, State: 1.</td>\n    </tr>\n    <tr>\n      <th>181</th>\n      <td>aks-nodepool1-35148010-vmss000001</td>\n      <td>arc</td>\n      <td>benportal3-1</td>\n      <td>arc-sqlmi</td>\n      <td>2021-08-03 15:40:25+00:00</td>\n      <td>Backup      Error: 3041, Severity: 16, State: 1.</td>\n    </tr>\n    <tr>\n      <th>182</th>\n      <td>aks-nodepool1-35148010-vmss000000</td>\n      <td>arc</td>\n      <td>benportal3-2</td>\n      <td>arc-sqlmi</td>\n      <td>2021-08-03 15:40:12+00:00</td>\n      <td>Backup      BACKUP failed to complete the comm...</td>\n    </tr>\n    <tr>\n      <th>183</th>\n      <td>aks-nodepool1-35148010-vmss000000</td>\n      <td>arc</td>\n      <td>benportal3-2</td>\n      <td>arc-sqlmi</td>\n      <td>2021-08-03 15:40:08+00:00</td>\n      <td>Backup      BACKUP failed to complete the comm...</td>\n    </tr>\n    <tr>\n      <th>184</th>\n      <td>aks-nodepool1-35148010-vmss000000</td>\n      <td>arc</td>\n      <td>benportal3-2</td>\n      <td>arc-sqlmi</td>\n      <td>2021-08-03 15:40:08+00:00</td>\n      <td>Backup      BACKUP failed to complete the comm...</td>\n    </tr>\n    <tr>\n      <th>185</th>\n      <td>aks-nodepool1-35148010-vmss000000</td>\n      <td>arc</td>\n      <td>benportal3-2</td>\n      <td>arc-sqlmi</td>\n      <td>2021-08-03 15:40:08+00:00</td>\n      <td>Backup      Error: 3041, Severity: 16, State: 1.</td>\n    </tr>\n    <tr>\n      <th>186</th>\n      <td>aks-nodepool1-35148010-vmss000000</td>\n      <td>arc</td>\n      <td>benportal3-2</td>\n      <td>arc-sqlmi</td>\n      <td>2021-08-03 15:40:08+00:00</td>\n      <td>Backup      Error: 3041, Severity: 16, State: 1.</td>\n    </tr>\n    <tr>\n      <th>187</th>\n      <td>aks-nodepool1-35148010-vmss000000</td>\n      <td>arc</td>\n      <td>benportal3-2</td>\n      <td>arc-sqlmi</td>\n      <td>2021-08-03 15:40:08+00:00</td>\n      <td>Backup      Error: 3041, Severity: 16, State: 1.</td>\n    </tr>\n    <tr>\n      <th>188</th>\n      <td>aks-nodepool1-35148010-vmss000001</td>\n      <td>arc</td>\n      <td>benportal3-1</td>\n      <td>arc-sqlmi</td>\n      <td>2021-08-03 15:40:01+00:00</td>\n      <td>Backup      BACKUP failed to complete the comm...</td>\n    </tr>\n    <tr>\n      <th>189</th>\n      <td>aks-nodepool1-35148010-vmss000001</td>\n      <td>arc</td>\n      <td>benportal3-1</td>\n      <td>arc-sqlmi</td>\n      <td>2021-08-03 15:39:56+00:00</td>\n      <td>Backup      Error: 3041, Severity: 16, State: 1.</td>\n    </tr>\n    <tr>\n      <th>190</th>\n      <td>aks-nodepool1-35148010-vmss000001</td>\n      <td>arc</td>\n      <td>benportal3-1</td>\n      <td>arc-sqlmi</td>\n      <td>2021-08-03 15:39:56+00:00</td>\n      <td>Backup      BACKUP failed to complete the comm...</td>\n    </tr>\n    <tr>\n      <th>191</th>\n      <td>aks-nodepool1-35148010-vmss000001</td>\n      <td>arc</td>\n      <td>benportal3-1</td>\n      <td>arc-sqlmi</td>\n      <td>2021-08-03 15:39:55+00:00</td>\n      <td>Backup      Error: 3041, Severity: 16, State: 1.</td>\n    </tr>\n    <tr>\n      <th>192</th>\n      <td>aks-nodepool1-35148010-vmss000001</td>\n      <td>arc</td>\n      <td>benportal3-1</td>\n      <td>arc-sqlmi</td>\n      <td>2021-08-03 15:39:55+00:00</td>\n      <td>Backup      Error: 3041, Severity: 16, State: 1.</td>\n    </tr>\n    <tr>\n      <th>193</th>\n      <td>aks-nodepool1-35148010-vmss000001</td>\n      <td>arc</td>\n      <td>benportal3-1</td>\n      <td>arc-sqlmi</td>\n      <td>2021-08-03 15:39:55+00:00</td>\n      <td>Backup      BACKUP failed to complete the comm...</td>\n    </tr>\n    <tr>\n      <th>194</th>\n      <td>aks-nodepool1-35148010-vmss000002</td>\n      <td>arc</td>\n      <td>benportal3-0</td>\n      <td>arc-sqlmi</td>\n      <td>2021-08-03 15:39:51+00:00</td>\n      <td>Backup      BACKUP DATABASE successfully proce...</td>\n    </tr>\n    <tr>\n      <th>195</th>\n      <td>aks-nodepool1-35148010-vmss000002</td>\n      <td>arc</td>\n      <td>benportal3-0</td>\n      <td>arc-sqlmi</td>\n      <td>2021-08-03 15:39:48+00:00</td>\n      <td>Backup      Database backed up. Database: BenB...</td>\n    </tr>\n    <tr>\n      <th>196</th>\n      <td>aks-nodepool1-35148010-vmss000000</td>\n      <td>arc</td>\n      <td>benportal3-2</td>\n      <td>arc-sqlmi</td>\n      <td>2021-08-03 15:39:44+00:00</td>\n      <td>Backup      BACKUP failed to complete the comm...</td>\n    </tr>\n    <tr>\n      <th>197</th>\n      <td>aks-nodepool1-35148010-vmss000000</td>\n      <td>arc</td>\n      <td>benportal3-2</td>\n      <td>arc-sqlmi</td>\n      <td>2021-08-03 15:39:38+00:00</td>\n      <td>Backup      BACKUP failed to complete the comm...</td>\n    </tr>\n    <tr>\n      <th>198</th>\n      <td>aks-nodepool1-35148010-vmss000000</td>\n      <td>arc</td>\n      <td>benportal3-2</td>\n      <td>arc-sqlmi</td>\n      <td>2021-08-03 15:39:38+00:00</td>\n      <td>Backup      Error: 3041, Severity: 16, State: 1.</td>\n    </tr>\n    <tr>\n      <th>199</th>\n      <td>aks-nodepool1-35148010-vmss000000</td>\n      <td>arc</td>\n      <td>benportal3-2</td>\n      <td>arc-sqlmi</td>\n      <td>2021-08-03 15:39:38+00:00</td>\n      <td>Backup      Error: 3041, Severity: 16, State: 1.</td>\n    </tr>\n    <tr>\n      <th>200</th>\n      <td>aks-nodepool1-35148010-vmss000000</td>\n      <td>arc</td>\n      <td>benportal3-2</td>\n      <td>arc-sqlmi</td>\n      <td>2021-08-03 15:39:38+00:00</td>\n      <td>Backup      Error: 3041, Severity: 16, State: 1.</td>\n    </tr>\n    <tr>\n      <th>201</th>\n      <td>aks-nodepool1-35148010-vmss000000</td>\n      <td>arc</td>\n      <td>benportal3-2</td>\n      <td>arc-sqlmi</td>\n      <td>2021-08-03 15:39:38+00:00</td>\n      <td>Backup      BACKUP failed to complete the comm...</td>\n    </tr>\n    <tr>\n      <th>202</th>\n      <td>aks-nodepool1-35148010-vmss000000</td>\n      <td>arc</td>\n      <td>benportal3-2</td>\n      <td>arc-sqlmi</td>\n      <td>2021-08-03 15:39:33+00:00</td>\n      <td>Backup      RESTORE DATABASE successfully proc...</td>\n    </tr>\n    <tr>\n      <th>203</th>\n      <td>aks-nodepool1-35148010-vmss000002</td>\n      <td>arc</td>\n      <td>benportal3-0</td>\n      <td>arc-sqlmi</td>\n      <td>2021-08-03 15:39:33+00:00</td>\n      <td>Backup      BACKUP DATABASE successfully proce...</td>\n    </tr>\n    <tr>\n      <th>204</th>\n      <td>aks-nodepool1-35148010-vmss000000</td>\n      <td>arc</td>\n      <td>benportal3-2</td>\n      <td>arc-sqlmi</td>\n      <td>2021-08-03 15:39:33+00:00</td>\n      <td>Backup      Database was restored: Database: B...</td>\n    </tr>\n    <tr>\n      <th>205</th>\n      <td>aks-nodepool1-35148010-vmss000001</td>\n      <td>arc</td>\n      <td>benportal3-1</td>\n      <td>arc-sqlmi</td>\n      <td>2021-08-03 15:39:33+00:00</td>\n      <td>Backup      Database was restored: Database: B...</td>\n    </tr>\n    <tr>\n      <th>206</th>\n      <td>aks-nodepool1-35148010-vmss000001</td>\n      <td>arc</td>\n      <td>benportal3-1</td>\n      <td>arc-sqlmi</td>\n      <td>2021-08-03 15:39:33+00:00</td>\n      <td>Backup      RESTORE DATABASE successfully proc...</td>\n    </tr>\n    <tr>\n      <th>207</th>\n      <td>aks-nodepool1-35148010-vmss000002</td>\n      <td>arc</td>\n      <td>benportal3-0</td>\n      <td>arc-sqlmi</td>\n      <td>2021-08-03 15:39:33+00:00</td>\n      <td>Backup      Database backed up. Database: BenB...</td>\n    </tr>\n    <tr>\n      <th>208</th>\n      <td>aks-nodepool1-35148010-vmss000002</td>\n      <td>arc</td>\n      <td>benportal3-0</td>\n      <td>arc-sqlmi</td>\n      <td>2021-08-03 15:39:32+00:00</td>\n      <td>Backup      Database backed up. Database: BenB...</td>\n    </tr>\n    <tr>\n      <th>209</th>\n      <td>aks-nodepool1-35148010-vmss000002</td>\n      <td>arc</td>\n      <td>benportal3-0</td>\n      <td>arc-sqlmi</td>\n      <td>2021-08-03 15:39:32+00:00</td>\n      <td>Backup      BACKUP DATABASE successfully proce...</td>\n    </tr>\n    <tr>\n      <th>210</th>\n      <td>aks-nodepool1-35148010-vmss000002</td>\n      <td>arc</td>\n      <td>benportal3-0</td>\n      <td>arc-sqlmi</td>\n      <td>2021-08-03 15:39:30+00:00</td>\n      <td>Backup      BACKUP DATABASE successfully proce...</td>\n    </tr>\n    <tr>\n      <th>211</th>\n      <td>aks-nodepool1-35148010-vmss000002</td>\n      <td>arc</td>\n      <td>benportal3-0</td>\n      <td>arc-sqlmi</td>\n      <td>2021-08-03 15:39:30+00:00</td>\n      <td>Backup      Database backed up. Database: BenB...</td>\n    </tr>\n    <tr>\n      <th>212</th>\n      <td>aks-nodepool1-35148010-vmss000001</td>\n      <td>arc</td>\n      <td>benportal3-1</td>\n      <td>arc-sqlmi</td>\n      <td>2021-08-03 15:39:29+00:00</td>\n      <td>Backup      BACKUP failed to complete the comm...</td>\n    </tr>\n    <tr>\n      <th>213</th>\n      <td>aks-nodepool1-35148010-vmss000001</td>\n      <td>arc</td>\n      <td>benportal3-1</td>\n      <td>arc-sqlmi</td>\n      <td>2021-08-03 15:39:25+00:00</td>\n      <td>Backup      Error: 3041, Severity: 16, State: 1.</td>\n    </tr>\n    <tr>\n      <th>214</th>\n      <td>aks-nodepool1-35148010-vmss000001</td>\n      <td>arc</td>\n      <td>benportal3-1</td>\n      <td>arc-sqlmi</td>\n      <td>2021-08-03 15:39:25+00:00</td>\n      <td>Backup      Error: 3041, Severity: 16, State: 1.</td>\n    </tr>\n    <tr>\n      <th>215</th>\n      <td>aks-nodepool1-35148010-vmss000001</td>\n      <td>arc</td>\n      <td>benportal3-1</td>\n      <td>arc-sqlmi</td>\n      <td>2021-08-03 15:39:25+00:00</td>\n      <td>Backup      BACKUP failed to complete the comm...</td>\n    </tr>\n    <tr>\n      <th>216</th>\n      <td>aks-nodepool1-35148010-vmss000000</td>\n      <td>arc</td>\n      <td>benportal3-2</td>\n      <td>arc-sqlmi</td>\n      <td>2021-08-03 15:39:12+00:00</td>\n      <td>Backup      BACKUP failed to complete the comm...</td>\n    </tr>\n    <tr>\n      <th>217</th>\n      <td>aks-nodepool1-35148010-vmss000000</td>\n      <td>arc</td>\n      <td>benportal3-2</td>\n      <td>arc-sqlmi</td>\n      <td>2021-08-03 15:39:08+00:00</td>\n      <td>Backup      Error: 3041, Severity: 16, State: 1.</td>\n    </tr>\n    <tr>\n      <th>218</th>\n      <td>aks-nodepool1-35148010-vmss000000</td>\n      <td>arc</td>\n      <td>benportal3-2</td>\n      <td>arc-sqlmi</td>\n      <td>2021-08-03 15:39:08+00:00</td>\n      <td>Backup      BACKUP failed to complete the comm...</td>\n    </tr>\n    <tr>\n      <th>219</th>\n      <td>aks-nodepool1-35148010-vmss000000</td>\n      <td>arc</td>\n      <td>benportal3-2</td>\n      <td>arc-sqlmi</td>\n      <td>2021-08-03 15:39:08+00:00</td>\n      <td>Backup      Error: 3041, Severity: 16, State: 1.</td>\n    </tr>\n    <tr>\n      <th>220</th>\n      <td>aks-nodepool1-35148010-vmss000001</td>\n      <td>arc</td>\n      <td>benportal3-1</td>\n      <td>arc-sqlmi</td>\n      <td>2021-08-03 15:39:01+00:00</td>\n      <td>Backup      BACKUP failed to complete the comm...</td>\n    </tr>\n    <tr>\n      <th>221</th>\n      <td>aks-nodepool1-35148010-vmss000001</td>\n      <td>arc</td>\n      <td>benportal3-1</td>\n      <td>arc-sqlmi</td>\n      <td>2021-08-03 15:38:55+00:00</td>\n      <td>Backup      Error: 3041, Severity: 16, State: 1.</td>\n    </tr>\n    <tr>\n      <th>222</th>\n      <td>aks-nodepool1-35148010-vmss000001</td>\n      <td>arc</td>\n      <td>benportal3-1</td>\n      <td>arc-sqlmi</td>\n      <td>2021-08-03 15:38:55+00:00</td>\n      <td>Backup      BACKUP failed to complete the comm...</td>\n    </tr>\n    <tr>\n      <th>223</th>\n      <td>aks-nodepool1-35148010-vmss000001</td>\n      <td>arc</td>\n      <td>benportal3-1</td>\n      <td>arc-sqlmi</td>\n      <td>2021-08-03 15:38:55+00:00</td>\n      <td>Backup      Error: 3041, Severity: 16, State: 1.</td>\n    </tr>\n    <tr>\n      <th>224</th>\n      <td>aks-nodepool1-35148010-vmss000000</td>\n      <td>arc</td>\n      <td>benportal3-2</td>\n      <td>arc-sqlmi</td>\n      <td>2021-08-03 15:38:44+00:00</td>\n      <td>Backup      BACKUP failed to complete the comm...</td>\n    </tr>\n    <tr>\n      <th>225</th>\n      <td>aks-nodepool1-35148010-vmss000000</td>\n      <td>arc</td>\n      <td>benportal3-2</td>\n      <td>arc-sqlmi</td>\n      <td>2021-08-03 15:38:38+00:00</td>\n      <td>Backup      BACKUP failed to complete the comm...</td>\n    </tr>\n    <tr>\n      <th>226</th>\n      <td>aks-nodepool1-35148010-vmss000000</td>\n      <td>arc</td>\n      <td>benportal3-2</td>\n      <td>arc-sqlmi</td>\n      <td>2021-08-03 15:38:38+00:00</td>\n      <td>Backup      Error: 3041, Severity: 16, State: 1.</td>\n    </tr>\n    <tr>\n      <th>227</th>\n      <td>aks-nodepool1-35148010-vmss000000</td>\n      <td>arc</td>\n      <td>benportal3-2</td>\n      <td>arc-sqlmi</td>\n      <td>2021-08-03 15:38:38+00:00</td>\n      <td>Backup      Error: 3041, Severity: 16, State: 1.</td>\n    </tr>\n    <tr>\n      <th>228</th>\n      <td>aks-nodepool1-35148010-vmss000001</td>\n      <td>arc</td>\n      <td>benportal3-1</td>\n      <td>arc-sqlmi</td>\n      <td>2021-08-03 15:38:29+00:00</td>\n      <td>Backup      BACKUP failed to complete the comm...</td>\n    </tr>\n    <tr>\n      <th>229</th>\n      <td>aks-nodepool1-35148010-vmss000001</td>\n      <td>arc</td>\n      <td>benportal3-1</td>\n      <td>arc-sqlmi</td>\n      <td>2021-08-03 15:38:25+00:00</td>\n      <td>Backup      BACKUP failed to complete the comm...</td>\n    </tr>\n    <tr>\n      <th>230</th>\n      <td>aks-nodepool1-35148010-vmss000001</td>\n      <td>arc</td>\n      <td>benportal3-1</td>\n      <td>arc-sqlmi</td>\n      <td>2021-08-03 15:38:25+00:00</td>\n      <td>Backup      Error: 3041, Severity: 16, State: 1.</td>\n    </tr>\n    <tr>\n      <th>231</th>\n      <td>aks-nodepool1-35148010-vmss000001</td>\n      <td>arc</td>\n      <td>benportal3-1</td>\n      <td>arc-sqlmi</td>\n      <td>2021-08-03 15:38:25+00:00</td>\n      <td>Backup      Error: 3041, Severity: 16, State: 1.</td>\n    </tr>\n    <tr>\n      <th>232</th>\n      <td>aks-nodepool1-35148010-vmss000000</td>\n      <td>arc</td>\n      <td>benportal3-2</td>\n      <td>arc-sqlmi</td>\n      <td>2021-08-03 15:38:12+00:00</td>\n      <td>Backup      BACKUP failed to complete the comm...</td>\n    </tr>\n    <tr>\n      <th>233</th>\n      <td>aks-nodepool1-35148010-vmss000000</td>\n      <td>arc</td>\n      <td>benportal3-2</td>\n      <td>arc-sqlmi</td>\n      <td>2021-08-03 15:38:08+00:00</td>\n      <td>Backup      Error: 3041, Severity: 16, State: 1.</td>\n    </tr>\n    <tr>\n      <th>234</th>\n      <td>aks-nodepool1-35148010-vmss000000</td>\n      <td>arc</td>\n      <td>benportal3-2</td>\n      <td>arc-sqlmi</td>\n      <td>2021-08-03 15:38:08+00:00</td>\n      <td>Backup      BACKUP failed to complete the comm...</td>\n    </tr>\n    <tr>\n      <th>235</th>\n      <td>aks-nodepool1-35148010-vmss000000</td>\n      <td>arc</td>\n      <td>benportal3-2</td>\n      <td>arc-sqlmi</td>\n      <td>2021-08-03 15:38:08+00:00</td>\n      <td>Backup      Error: 3041, Severity: 16, State: 1.</td>\n    </tr>\n    <tr>\n      <th>236</th>\n      <td>aks-nodepool1-35148010-vmss000001</td>\n      <td>arc</td>\n      <td>benportal3-1</td>\n      <td>arc-sqlmi</td>\n      <td>2021-08-03 15:38:01+00:00</td>\n      <td>Backup      BACKUP failed to complete the comm...</td>\n    </tr>\n    <tr>\n      <th>237</th>\n      <td>aks-nodepool1-35148010-vmss000001</td>\n      <td>arc</td>\n      <td>benportal3-1</td>\n      <td>arc-sqlmi</td>\n      <td>2021-08-03 15:37:55+00:00</td>\n      <td>Backup      Error: 3041, Severity: 16, State: 1.</td>\n    </tr>\n    <tr>\n      <th>238</th>\n      <td>aks-nodepool1-35148010-vmss000001</td>\n      <td>arc</td>\n      <td>benportal3-1</td>\n      <td>arc-sqlmi</td>\n      <td>2021-08-03 15:37:55+00:00</td>\n      <td>Backup      Error: 3041, Severity: 16, State: 1.</td>\n    </tr>\n    <tr>\n      <th>239</th>\n      <td>aks-nodepool1-35148010-vmss000001</td>\n      <td>arc</td>\n      <td>benportal3-1</td>\n      <td>arc-sqlmi</td>\n      <td>2021-08-03 15:37:55+00:00</td>\n      <td>Backup      BACKUP failed to complete the comm...</td>\n    </tr>\n    <tr>\n      <th>240</th>\n      <td>aks-nodepool1-35148010-vmss000000</td>\n      <td>arc</td>\n      <td>benportal3-2</td>\n      <td>arc-sqlmi</td>\n      <td>2021-08-03 15:37:44+00:00</td>\n      <td>Backup      BACKUP failed to complete the comm...</td>\n    </tr>\n    <tr>\n      <th>241</th>\n      <td>aks-nodepool1-35148010-vmss000000</td>\n      <td>arc</td>\n      <td>benportal3-2</td>\n      <td>arc-sqlmi</td>\n      <td>2021-08-03 15:37:38+00:00</td>\n      <td>Backup      Error: 3041, Severity: 16, State: 1.</td>\n    </tr>\n    <tr>\n      <th>242</th>\n      <td>aks-nodepool1-35148010-vmss000000</td>\n      <td>arc</td>\n      <td>benportal3-2</td>\n      <td>arc-sqlmi</td>\n      <td>2021-08-03 15:37:38+00:00</td>\n      <td>Backup      Error: 3041, Severity: 16, State: 1.</td>\n    </tr>\n    <tr>\n      <th>243</th>\n      <td>aks-nodepool1-35148010-vmss000000</td>\n      <td>arc</td>\n      <td>benportal3-2</td>\n      <td>arc-sqlmi</td>\n      <td>2021-08-03 15:37:38+00:00</td>\n      <td>Backup      BACKUP failed to complete the comm...</td>\n    </tr>\n    <tr>\n      <th>244</th>\n      <td>aks-nodepool1-35148010-vmss000001</td>\n      <td>arc</td>\n      <td>benportal3-1</td>\n      <td>arc-sqlmi</td>\n      <td>2021-08-03 15:37:29+00:00</td>\n      <td>Backup      BACKUP failed to complete the comm...</td>\n    </tr>\n    <tr>\n      <th>245</th>\n      <td>aks-nodepool1-35148010-vmss000001</td>\n      <td>arc</td>\n      <td>benportal3-1</td>\n      <td>arc-sqlmi</td>\n      <td>2021-08-03 15:37:25+00:00</td>\n      <td>Backup      Error: 3041, Severity: 16, State: 1.</td>\n    </tr>\n    <tr>\n      <th>246</th>\n      <td>aks-nodepool1-35148010-vmss000001</td>\n      <td>arc</td>\n      <td>benportal3-1</td>\n      <td>arc-sqlmi</td>\n      <td>2021-08-03 15:37:25+00:00</td>\n      <td>Backup      Error: 3041, Severity: 16, State: 1.</td>\n    </tr>\n    <tr>\n      <th>247</th>\n      <td>aks-nodepool1-35148010-vmss000001</td>\n      <td>arc</td>\n      <td>benportal3-1</td>\n      <td>arc-sqlmi</td>\n      <td>2021-08-03 15:37:25+00:00</td>\n      <td>Backup      BACKUP failed to complete the comm...</td>\n    </tr>\n    <tr>\n      <th>248</th>\n      <td>aks-nodepool1-35148010-vmss000000</td>\n      <td>arc</td>\n      <td>benportal3-2</td>\n      <td>arc-sqlmi</td>\n      <td>2021-08-03 15:37:12+00:00</td>\n      <td>Backup      BACKUP failed to complete the comm...</td>\n    </tr>\n    <tr>\n      <th>249</th>\n      <td>aks-nodepool1-35148010-vmss000000</td>\n      <td>arc</td>\n      <td>benportal3-2</td>\n      <td>arc-sqlmi</td>\n      <td>2021-08-03 15:37:08+00:00</td>\n      <td>Backup      Error: 3041, Severity: 16, State: 1.</td>\n    </tr>\n    <tr>\n      <th>250</th>\n      <td>aks-nodepool1-35148010-vmss000000</td>\n      <td>arc</td>\n      <td>benportal3-2</td>\n      <td>arc-sqlmi</td>\n      <td>2021-08-03 15:37:08+00:00</td>\n      <td>Backup      Error: 3041, Severity: 16, State: 1.</td>\n    </tr>\n    <tr>\n      <th>251</th>\n      <td>aks-nodepool1-35148010-vmss000000</td>\n      <td>arc</td>\n      <td>benportal3-2</td>\n      <td>arc-sqlmi</td>\n      <td>2021-08-03 15:37:08+00:00</td>\n      <td>Backup      BACKUP failed to complete the comm...</td>\n    </tr>\n    <tr>\n      <th>252</th>\n      <td>aks-nodepool1-35148010-vmss000001</td>\n      <td>arc</td>\n      <td>benportal3-1</td>\n      <td>arc-sqlmi</td>\n      <td>2021-08-03 15:37:01+00:00</td>\n      <td>Backup      BACKUP failed to complete the comm...</td>\n    </tr>\n    <tr>\n      <th>253</th>\n      <td>aks-nodepool1-35148010-vmss000001</td>\n      <td>arc</td>\n      <td>benportal3-1</td>\n      <td>arc-sqlmi</td>\n      <td>2021-08-03 15:36:55+00:00</td>\n      <td>Backup      BACKUP failed to complete the comm...</td>\n    </tr>\n    <tr>\n      <th>254</th>\n      <td>aks-nodepool1-35148010-vmss000001</td>\n      <td>arc</td>\n      <td>benportal3-1</td>\n      <td>arc-sqlmi</td>\n      <td>2021-08-03 15:36:55+00:00</td>\n      <td>Backup      Error: 3041, Severity: 16, State: 1.</td>\n    </tr>\n    <tr>\n      <th>255</th>\n      <td>aks-nodepool1-35148010-vmss000001</td>\n      <td>arc</td>\n      <td>benportal3-1</td>\n      <td>arc-sqlmi</td>\n      <td>2021-08-03 15:36:55+00:00</td>\n      <td>Backup      Error: 3041, Severity: 16, State: 1.</td>\n    </tr>\n    <tr>\n      <th>256</th>\n      <td>aks-nodepool1-35148010-vmss000000</td>\n      <td>arc</td>\n      <td>benportal3-2</td>\n      <td>arc-sqlmi</td>\n      <td>2021-08-03 15:36:44+00:00</td>\n      <td>Backup      BACKUP failed to complete the comm...</td>\n    </tr>\n    <tr>\n      <th>257</th>\n      <td>aks-nodepool1-35148010-vmss000000</td>\n      <td>arc</td>\n      <td>benportal3-2</td>\n      <td>arc-sqlmi</td>\n      <td>2021-08-03 15:36:38+00:00</td>\n      <td>Backup      Error: 3041, Severity: 16, State: 1.</td>\n    </tr>\n    <tr>\n      <th>258</th>\n      <td>aks-nodepool1-35148010-vmss000000</td>\n      <td>arc</td>\n      <td>benportal3-2</td>\n      <td>arc-sqlmi</td>\n      <td>2021-08-03 15:36:38+00:00</td>\n      <td>Backup      Error: 3041, Severity: 16, State: 1.</td>\n    </tr>\n    <tr>\n      <th>259</th>\n      <td>aks-nodepool1-35148010-vmss000000</td>\n      <td>arc</td>\n      <td>benportal3-2</td>\n      <td>arc-sqlmi</td>\n      <td>2021-08-03 15:36:38+00:00</td>\n      <td>Backup      BACKUP failed to complete the comm...</td>\n    </tr>\n    <tr>\n      <th>260</th>\n      <td>aks-nodepool1-35148010-vmss000001</td>\n      <td>arc</td>\n      <td>benportal3-1</td>\n      <td>arc-sqlmi</td>\n      <td>2021-08-03 15:36:29+00:00</td>\n      <td>Backup      BACKUP failed to complete the comm...</td>\n    </tr>\n    <tr>\n      <th>261</th>\n      <td>aks-nodepool1-35148010-vmss000001</td>\n      <td>arc</td>\n      <td>benportal3-1</td>\n      <td>arc-sqlmi</td>\n      <td>2021-08-03 15:36:25+00:00</td>\n      <td>Backup      Error: 3041, Severity: 16, State: 1.</td>\n    </tr>\n    <tr>\n      <th>262</th>\n      <td>aks-nodepool1-35148010-vmss000001</td>\n      <td>arc</td>\n      <td>benportal3-1</td>\n      <td>arc-sqlmi</td>\n      <td>2021-08-03 15:36:25+00:00</td>\n      <td>Backup      Error: 3041, Severity: 16, State: 1.</td>\n    </tr>\n    <tr>\n      <th>263</th>\n      <td>aks-nodepool1-35148010-vmss000001</td>\n      <td>arc</td>\n      <td>benportal3-1</td>\n      <td>arc-sqlmi</td>\n      <td>2021-08-03 15:36:25+00:00</td>\n      <td>Backup      BACKUP failed to complete the comm...</td>\n    </tr>\n    <tr>\n      <th>264</th>\n      <td>aks-nodepool1-35148010-vmss000000</td>\n      <td>arc</td>\n      <td>benportal3-2</td>\n      <td>arc-sqlmi</td>\n      <td>2021-08-03 15:36:12+00:00</td>\n      <td>Backup      BACKUP failed to complete the comm...</td>\n    </tr>\n    <tr>\n      <th>265</th>\n      <td>aks-nodepool1-35148010-vmss000000</td>\n      <td>arc</td>\n      <td>benportal3-2</td>\n      <td>arc-sqlmi</td>\n      <td>2021-08-03 15:36:08+00:00</td>\n      <td>Backup      Error: 3041, Severity: 16, State: 1.</td>\n    </tr>\n    <tr>\n      <th>266</th>\n      <td>aks-nodepool1-35148010-vmss000000</td>\n      <td>arc</td>\n      <td>benportal3-2</td>\n      <td>arc-sqlmi</td>\n      <td>2021-08-03 15:36:08+00:00</td>\n      <td>Backup      Error: 3041, Severity: 16, State: 1.</td>\n    </tr>\n    <tr>\n      <th>267</th>\n      <td>aks-nodepool1-35148010-vmss000000</td>\n      <td>arc</td>\n      <td>benportal3-2</td>\n      <td>arc-sqlmi</td>\n      <td>2021-08-03 15:36:08+00:00</td>\n      <td>Backup      BACKUP failed to complete the comm...</td>\n    </tr>\n    <tr>\n      <th>268</th>\n      <td>aks-nodepool1-35148010-vmss000001</td>\n      <td>arc</td>\n      <td>benportal3-1</td>\n      <td>arc-sqlmi</td>\n      <td>2021-08-03 15:36:01+00:00</td>\n      <td>Backup      BACKUP failed to complete the comm...</td>\n    </tr>\n    <tr>\n      <th>269</th>\n      <td>aks-nodepool1-35148010-vmss000001</td>\n      <td>arc</td>\n      <td>benportal3-1</td>\n      <td>arc-sqlmi</td>\n      <td>2021-08-03 15:35:55+00:00</td>\n      <td>Backup      Error: 3041, Severity: 16, State: 1.</td>\n    </tr>\n    <tr>\n      <th>270</th>\n      <td>aks-nodepool1-35148010-vmss000001</td>\n      <td>arc</td>\n      <td>benportal3-1</td>\n      <td>arc-sqlmi</td>\n      <td>2021-08-03 15:35:55+00:00</td>\n      <td>Backup      Error: 3041, Severity: 16, State: 1.</td>\n    </tr>\n    <tr>\n      <th>271</th>\n      <td>aks-nodepool1-35148010-vmss000001</td>\n      <td>arc</td>\n      <td>benportal3-1</td>\n      <td>arc-sqlmi</td>\n      <td>2021-08-03 15:35:55+00:00</td>\n      <td>Backup      BACKUP failed to complete the comm...</td>\n    </tr>\n    <tr>\n      <th>272</th>\n      <td>aks-nodepool1-35148010-vmss000000</td>\n      <td>arc</td>\n      <td>benportal3-2</td>\n      <td>arc-sqlmi</td>\n      <td>2021-08-03 15:35:44+00:00</td>\n      <td>Backup      BACKUP failed to complete the comm...</td>\n    </tr>\n    <tr>\n      <th>273</th>\n      <td>aks-nodepool1-35148010-vmss000000</td>\n      <td>arc</td>\n      <td>benportal3-2</td>\n      <td>arc-sqlmi</td>\n      <td>2021-08-03 15:35:38+00:00</td>\n      <td>Backup      Error: 3041, Severity: 16, State: 1.</td>\n    </tr>\n    <tr>\n      <th>274</th>\n      <td>aks-nodepool1-35148010-vmss000000</td>\n      <td>arc</td>\n      <td>benportal3-2</td>\n      <td>arc-sqlmi</td>\n      <td>2021-08-03 15:35:38+00:00</td>\n      <td>Backup      Error: 3041, Severity: 16, State: 1.</td>\n    </tr>\n    <tr>\n      <th>275</th>\n      <td>aks-nodepool1-35148010-vmss000000</td>\n      <td>arc</td>\n      <td>benportal3-2</td>\n      <td>arc-sqlmi</td>\n      <td>2021-08-03 15:35:38+00:00</td>\n      <td>Backup      BACKUP failed to complete the comm...</td>\n    </tr>\n    <tr>\n      <th>276</th>\n      <td>aks-nodepool1-35148010-vmss000001</td>\n      <td>arc</td>\n      <td>benportal3-1</td>\n      <td>arc-sqlmi</td>\n      <td>2021-08-03 15:35:29+00:00</td>\n      <td>Backup      BACKUP failed to complete the comm...</td>\n    </tr>\n    <tr>\n      <th>277</th>\n      <td>aks-nodepool1-35148010-vmss000001</td>\n      <td>arc</td>\n      <td>benportal3-1</td>\n      <td>arc-sqlmi</td>\n      <td>2021-08-03 15:35:25+00:00</td>\n      <td>Backup      BACKUP failed to complete the comm...</td>\n    </tr>\n    <tr>\n      <th>278</th>\n      <td>aks-nodepool1-35148010-vmss000001</td>\n      <td>arc</td>\n      <td>benportal3-1</td>\n      <td>arc-sqlmi</td>\n      <td>2021-08-03 15:35:25+00:00</td>\n      <td>Backup      Error: 3041, Severity: 16, State: 1.</td>\n    </tr>\n    <tr>\n      <th>279</th>\n      <td>aks-nodepool1-35148010-vmss000001</td>\n      <td>arc</td>\n      <td>benportal3-1</td>\n      <td>arc-sqlmi</td>\n      <td>2021-08-03 15:35:25+00:00</td>\n      <td>Backup      Error: 3041, Severity: 16, State: 1.</td>\n    </tr>\n    <tr>\n      <th>280</th>\n      <td>aks-nodepool1-35148010-vmss000000</td>\n      <td>arc</td>\n      <td>benportal3-2</td>\n      <td>arc-sqlmi</td>\n      <td>2021-08-03 15:35:12+00:00</td>\n      <td>Backup      BACKUP failed to complete the comm...</td>\n    </tr>\n    <tr>\n      <th>281</th>\n      <td>aks-nodepool1-35148010-vmss000000</td>\n      <td>arc</td>\n      <td>benportal3-2</td>\n      <td>arc-sqlmi</td>\n      <td>2021-08-03 15:35:08+00:00</td>\n      <td>Backup      Error: 3041, Severity: 16, State: 1.</td>\n    </tr>\n    <tr>\n      <th>282</th>\n      <td>aks-nodepool1-35148010-vmss000000</td>\n      <td>arc</td>\n      <td>benportal3-2</td>\n      <td>arc-sqlmi</td>\n      <td>2021-08-03 15:35:08+00:00</td>\n      <td>Backup      Error: 3041, Severity: 16, State: 1.</td>\n    </tr>\n    <tr>\n      <th>283</th>\n      <td>aks-nodepool1-35148010-vmss000000</td>\n      <td>arc</td>\n      <td>benportal3-2</td>\n      <td>arc-sqlmi</td>\n      <td>2021-08-03 15:35:08+00:00</td>\n      <td>Backup      BACKUP failed to complete the comm...</td>\n    </tr>\n    <tr>\n      <th>284</th>\n      <td>aks-nodepool1-35148010-vmss000001</td>\n      <td>arc</td>\n      <td>benportal3-1</td>\n      <td>arc-sqlmi</td>\n      <td>2021-08-03 15:35:01+00:00</td>\n      <td>Backup      BACKUP failed to complete the comm...</td>\n    </tr>\n    <tr>\n      <th>285</th>\n      <td>aks-nodepool1-35148010-vmss000001</td>\n      <td>arc</td>\n      <td>benportal3-1</td>\n      <td>arc-sqlmi</td>\n      <td>2021-08-03 15:34:55+00:00</td>\n      <td>Backup      BACKUP failed to complete the comm...</td>\n    </tr>\n    <tr>\n      <th>286</th>\n      <td>aks-nodepool1-35148010-vmss000001</td>\n      <td>arc</td>\n      <td>benportal3-1</td>\n      <td>arc-sqlmi</td>\n      <td>2021-08-03 15:34:55+00:00</td>\n      <td>Backup      Error: 3041, Severity: 16, State: 1.</td>\n    </tr>\n    <tr>\n      <th>287</th>\n      <td>aks-nodepool1-35148010-vmss000001</td>\n      <td>arc</td>\n      <td>benportal3-1</td>\n      <td>arc-sqlmi</td>\n      <td>2021-08-03 15:34:55+00:00</td>\n      <td>Backup      Error: 3041, Severity: 16, State: 1.</td>\n    </tr>\n    <tr>\n      <th>288</th>\n      <td>aks-nodepool1-35148010-vmss000000</td>\n      <td>arc</td>\n      <td>benportal3-2</td>\n      <td>arc-sqlmi</td>\n      <td>2021-08-03 15:34:44+00:00</td>\n      <td>Backup      BACKUP failed to complete the comm...</td>\n    </tr>\n    <tr>\n      <th>289</th>\n      <td>aks-nodepool1-35148010-vmss000000</td>\n      <td>arc</td>\n      <td>benportal3-2</td>\n      <td>arc-sqlmi</td>\n      <td>2021-08-03 15:34:38+00:00</td>\n      <td>Backup      Error: 3041, Severity: 16, State: 1.</td>\n    </tr>\n    <tr>\n      <th>290</th>\n      <td>aks-nodepool1-35148010-vmss000000</td>\n      <td>arc</td>\n      <td>benportal3-2</td>\n      <td>arc-sqlmi</td>\n      <td>2021-08-03 15:34:38+00:00</td>\n      <td>Backup      BACKUP failed to complete the comm...</td>\n    </tr>\n    <tr>\n      <th>291</th>\n      <td>aks-nodepool1-35148010-vmss000000</td>\n      <td>arc</td>\n      <td>benportal3-2</td>\n      <td>arc-sqlmi</td>\n      <td>2021-08-03 15:34:38+00:00</td>\n      <td>Backup      Error: 3041, Severity: 16, State: 1.</td>\n    </tr>\n    <tr>\n      <th>292</th>\n      <td>aks-nodepool1-35148010-vmss000001</td>\n      <td>arc</td>\n      <td>benportal3-1</td>\n      <td>arc-sqlmi</td>\n      <td>2021-08-03 15:34:29+00:00</td>\n      <td>Backup      BACKUP failed to complete the comm...</td>\n    </tr>\n    <tr>\n      <th>293</th>\n      <td>aks-nodepool1-35148010-vmss000001</td>\n      <td>arc</td>\n      <td>benportal3-1</td>\n      <td>arc-sqlmi</td>\n      <td>2021-08-03 15:34:25+00:00</td>\n      <td>Backup      BACKUP failed to complete the comm...</td>\n    </tr>\n    <tr>\n      <th>294</th>\n      <td>aks-nodepool1-35148010-vmss000001</td>\n      <td>arc</td>\n      <td>benportal3-1</td>\n      <td>arc-sqlmi</td>\n      <td>2021-08-03 15:34:25+00:00</td>\n      <td>Backup      Error: 3041, Severity: 16, State: 1.</td>\n    </tr>\n    <tr>\n      <th>295</th>\n      <td>aks-nodepool1-35148010-vmss000001</td>\n      <td>arc</td>\n      <td>benportal3-1</td>\n      <td>arc-sqlmi</td>\n      <td>2021-08-03 15:34:25+00:00</td>\n      <td>Backup      Error: 3041, Severity: 16, State: 1.</td>\n    </tr>\n    <tr>\n      <th>296</th>\n      <td>aks-nodepool1-35148010-vmss000000</td>\n      <td>arc</td>\n      <td>benportal3-2</td>\n      <td>arc-sqlmi</td>\n      <td>2021-08-03 15:33:52+00:00</td>\n      <td>Backup      Database was restored: Database: b...</td>\n    </tr>\n    <tr>\n      <th>297</th>\n      <td>aks-nodepool1-35148010-vmss000002</td>\n      <td>arc</td>\n      <td>benportal3-0</td>\n      <td>arc-sqlmi</td>\n      <td>2021-08-03 15:33:52+00:00</td>\n      <td>Backup      BACKUP DATABASE successfully proce...</td>\n    </tr>\n    <tr>\n      <th>298</th>\n      <td>aks-nodepool1-35148010-vmss000002</td>\n      <td>arc</td>\n      <td>benportal3-0</td>\n      <td>arc-sqlmi</td>\n      <td>2021-08-03 15:33:52+00:00</td>\n      <td>Backup      Database backed up. Database: benp...</td>\n    </tr>\n    <tr>\n      <th>299</th>\n      <td>aks-nodepool1-35148010-vmss000000</td>\n      <td>arc</td>\n      <td>benportal3-2</td>\n      <td>arc-sqlmi</td>\n      <td>2021-08-03 15:33:52+00:00</td>\n      <td>Backup      RESTORE DATABASE successfully proc...</td>\n    </tr>\n    <tr>\n      <th>300</th>\n      <td>aks-nodepool1-35148010-vmss000002</td>\n      <td>arc</td>\n      <td>benportal3-0</td>\n      <td>arc-sqlmi</td>\n      <td>2021-08-03 15:33:49+00:00</td>\n      <td>Backup      BACKUP DATABASE successfully proce...</td>\n    </tr>\n    <tr>\n      <th>301</th>\n      <td>aks-nodepool1-35148010-vmss000002</td>\n      <td>arc</td>\n      <td>benportal3-0</td>\n      <td>arc-sqlmi</td>\n      <td>2021-08-03 15:33:49+00:00</td>\n      <td>Backup      Database backed up. Database: mast...</td>\n    </tr>\n    <tr>\n      <th>302</th>\n      <td>aks-nodepool1-35148010-vmss000002</td>\n      <td>arc</td>\n      <td>benportal3-0</td>\n      <td>arc-sqlmi</td>\n      <td>2021-08-03 15:33:49+00:00</td>\n      <td>Backup      Database backed up. Database: msdb...</td>\n    </tr>\n    <tr>\n      <th>303</th>\n      <td>aks-nodepool1-35148010-vmss000002</td>\n      <td>arc</td>\n      <td>benportal3-0</td>\n      <td>arc-sqlmi</td>\n      <td>2021-08-03 15:33:49+00:00</td>\n      <td>Backup      BACKUP DATABASE successfully proce...</td>\n    </tr>\n    <tr>\n      <th>304</th>\n      <td>aks-nodepool1-35148010-vmss000000</td>\n      <td>arc</td>\n      <td>benportal3-2</td>\n      <td>arc-sqlmi</td>\n      <td>2021-08-03 15:33:47+00:00</td>\n      <td>Backup      Database was restored: Database: b...</td>\n    </tr>\n    <tr>\n      <th>305</th>\n      <td>aks-nodepool1-35148010-vmss000000</td>\n      <td>arc</td>\n      <td>benportal3-2</td>\n      <td>arc-sqlmi</td>\n      <td>2021-08-03 15:33:47+00:00</td>\n      <td>Backup      RESTORE DATABASE successfully proc...</td>\n    </tr>\n    <tr>\n      <th>306</th>\n      <td>aks-nodepool1-35148010-vmss000002</td>\n      <td>arc</td>\n      <td>benportal3-0</td>\n      <td>arc-sqlmi</td>\n      <td>2021-08-03 15:33:47+00:00</td>\n      <td>Backup      BACKUP DATABASE successfully proce...</td>\n    </tr>\n    <tr>\n      <th>307</th>\n      <td>aks-nodepool1-35148010-vmss000002</td>\n      <td>arc</td>\n      <td>benportal3-0</td>\n      <td>arc-sqlmi</td>\n      <td>2021-08-03 15:33:46+00:00</td>\n      <td>Backup      Database backed up. Database: benp...</td>\n    </tr>\n    <tr>\n      <th>308</th>\n      <td>aks-nodepool1-35148010-vmss000002</td>\n      <td>arc</td>\n      <td>benportal3-0</td>\n      <td>arc-sqlmi</td>\n      <td>2021-08-03 15:33:37+00:00</td>\n      <td>Backup      BACKUP DATABASE successfully proce...</td>\n    </tr>\n    <tr>\n      <th>309</th>\n      <td>aks-nodepool1-35148010-vmss000001</td>\n      <td>arc</td>\n      <td>benportal3-1</td>\n      <td>arc-sqlmi</td>\n      <td>2021-08-03 15:33:37+00:00</td>\n      <td>Backup      Database was restored: Database: b...</td>\n    </tr>\n    <tr>\n      <th>310</th>\n      <td>aks-nodepool1-35148010-vmss000002</td>\n      <td>arc</td>\n      <td>benportal3-0</td>\n      <td>arc-sqlmi</td>\n      <td>2021-08-03 15:33:37+00:00</td>\n      <td>Backup      Database backed up. Database: benp...</td>\n    </tr>\n    <tr>\n      <th>311</th>\n      <td>aks-nodepool1-35148010-vmss000001</td>\n      <td>arc</td>\n      <td>benportal3-1</td>\n      <td>arc-sqlmi</td>\n      <td>2021-08-03 15:33:37+00:00</td>\n      <td>Backup      RESTORE DATABASE successfully proc...</td>\n    </tr>\n    <tr>\n      <th>312</th>\n      <td>aks-nodepool1-35148010-vmss000002</td>\n      <td>arc</td>\n      <td>benportal3-0</td>\n      <td>arc-sqlmi</td>\n      <td>2021-08-03 15:33:34+00:00</td>\n      <td>Backup      BACKUP DATABASE successfully proce...</td>\n    </tr>\n    <tr>\n      <th>313</th>\n      <td>aks-nodepool1-35148010-vmss000001</td>\n      <td>arc</td>\n      <td>benportal3-1</td>\n      <td>arc-sqlmi</td>\n      <td>2021-08-03 15:33:34+00:00</td>\n      <td>Backup      RESTORE DATABASE successfully proc...</td>\n    </tr>\n    <tr>\n      <th>314</th>\n      <td>aks-nodepool1-35148010-vmss000001</td>\n      <td>arc</td>\n      <td>benportal3-1</td>\n      <td>arc-sqlmi</td>\n      <td>2021-08-03 15:33:34+00:00</td>\n      <td>Backup      Database was restored: Database: b...</td>\n    </tr>\n    <tr>\n      <th>315</th>\n      <td>aks-nodepool1-35148010-vmss000002</td>\n      <td>arc</td>\n      <td>benportal3-0</td>\n      <td>arc-sqlmi</td>\n      <td>2021-08-03 15:33:33+00:00</td>\n      <td>Backup      Database backed up. Database: benp...</td>\n    </tr>\n    <tr>\n      <th>316</th>\n      <td>aks-nodepool1-35148010-vmss000002</td>\n      <td>arc</td>\n      <td>benportal3-0</td>\n      <td>arc-sqlmi</td>\n      <td>2021-08-03 15:33:22+00:00</td>\n      <td>Backup      BACKUP DATABASE successfully proce...</td>\n    </tr>\n    <tr>\n      <th>317</th>\n      <td>aks-nodepool1-35148010-vmss000002</td>\n      <td>arc</td>\n      <td>benportal3-0</td>\n      <td>arc-sqlmi</td>\n      <td>2021-08-03 15:33:22+00:00</td>\n      <td>Backup      Database backed up. Database: benp...</td>\n    </tr>\n    <tr>\n      <th>318</th>\n      <td>aks-nodepool1-35148010-vmss000002</td>\n      <td>arc</td>\n      <td>benportal3-0</td>\n      <td>arc-sqlmi</td>\n      <td>2021-08-03 15:33:21+00:00</td>\n      <td>Backup      Database backed up. Database: benp...</td>\n    </tr>\n    <tr>\n      <th>319</th>\n      <td>aks-nodepool1-35148010-vmss000002</td>\n      <td>arc</td>\n      <td>benportal3-0</td>\n      <td>arc-sqlmi</td>\n      <td>2021-08-03 15:33:21+00:00</td>\n      <td>Backup      BACKUP DATABASE successfully proce...</td>\n    </tr>\n    <tr>\n      <th>320</th>\n      <td>singlebeard</td>\n      <td>arc</td>\n      <td>hyperben-0</td>\n      <td>arc-sqlmi</td>\n      <td>2021-07-29 08:50:09+00:00</td>\n      <td>Backup      Log was backed up. Database: BenBe...</td>\n    </tr>\n    <tr>\n      <th>321</th>\n      <td>singlebeard</td>\n      <td>arc</td>\n      <td>hyperben-0</td>\n      <td>arc-sqlmi</td>\n      <td>2021-07-29 08:44:41+00:00</td>\n      <td>Backup      Log was backed up. Database: BenBe...</td>\n    </tr>\n    <tr>\n      <th>322</th>\n      <td>singlebeard</td>\n      <td>arc</td>\n      <td>hyperben-0</td>\n      <td>arc-sqlmi</td>\n      <td>2021-07-29 08:39:09+00:00</td>\n      <td>Backup      Log was backed up. Database: BenBe...</td>\n    </tr>\n    <tr>\n      <th>323</th>\n      <td>singlebeard</td>\n      <td>arc</td>\n      <td>hyperben-0</td>\n      <td>arc-sqlmi</td>\n      <td>2021-07-29 08:33:41+00:00</td>\n      <td>Backup      Log was backed up. Database: BenBe...</td>\n    </tr>\n    <tr>\n      <th>324</th>\n      <td>singlebeard</td>\n      <td>arc</td>\n      <td>hyperben-0</td>\n      <td>arc-sqlmi</td>\n      <td>2021-07-29 08:28:09+00:00</td>\n      <td>Backup      Log was backed up. Database: BenBe...</td>\n    </tr>\n    <tr>\n      <th>325</th>\n      <td>singlebeard</td>\n      <td>arc</td>\n      <td>hyperben-0</td>\n      <td>arc-sqlmi</td>\n      <td>2021-07-29 08:22:41+00:00</td>\n      <td>Backup      Log was backed up. Database: BenBe...</td>\n    </tr>\n    <tr>\n      <th>326</th>\n      <td>singlebeard</td>\n      <td>arc</td>\n      <td>hyperben-0</td>\n      <td>arc-sqlmi</td>\n      <td>2021-07-29 08:17:09+00:00</td>\n      <td>Backup      Log was backed up. Database: BenBe...</td>\n    </tr>\n    <tr>\n      <th>327</th>\n      <td>singlebeard</td>\n      <td>arc</td>\n      <td>hyperben-0</td>\n      <td>arc-sqlmi</td>\n      <td>2021-07-29 08:11:41+00:00</td>\n      <td>Backup      Log was backed up. Database: BenBe...</td>\n    </tr>\n    <tr>\n      <th>328</th>\n      <td>singlebeard</td>\n      <td>arc</td>\n      <td>hyperben-0</td>\n      <td>arc-sqlmi</td>\n      <td>2021-07-29 08:06:09+00:00</td>\n      <td>Backup      Log was backed up. Database: BenBe...</td>\n    </tr>\n    <tr>\n      <th>329</th>\n      <td>singlebeard</td>\n      <td>arc</td>\n      <td>hyperben-0</td>\n      <td>arc-sqlmi</td>\n      <td>2021-07-29 08:00:41+00:00</td>\n      <td>Backup      BACKUP DATABASE WITH DIFFERENTIAL ...</td>\n    </tr>\n    <tr>\n      <th>330</th>\n      <td>singlebeard</td>\n      <td>arc</td>\n      <td>hyperben-0</td>\n      <td>arc-sqlmi</td>\n      <td>2021-07-29 08:00:36+00:00</td>\n      <td>Backup      Log was backed up. Database: BenBe...</td>\n    </tr>\n    <tr>\n      <th>331</th>\n      <td>singlebeard</td>\n      <td>arc</td>\n      <td>hyperben-0</td>\n      <td>arc-sqlmi</td>\n      <td>2021-07-29 08:00:36+00:00</td>\n      <td>Backup      Database differential changes were...</td>\n    </tr>\n    <tr>\n      <th>332</th>\n      <td>singlebeard</td>\n      <td>arc</td>\n      <td>hyperben-0</td>\n      <td>arc-sqlmi</td>\n      <td>2021-07-29 07:59:41+00:00</td>\n      <td>Backup      BACKUP DATABASE successfully proce...</td>\n    </tr>\n    <tr>\n      <th>333</th>\n      <td>singlebeard</td>\n      <td>arc</td>\n      <td>hyperben-0</td>\n      <td>arc-sqlmi</td>\n      <td>2021-07-29 07:59:36+00:00</td>\n      <td>Backup      Database backed up. Database: BenB...</td>\n    </tr>\n  </tbody>\n</table>\n</div>",
                        "application/vnd.dataresource+json": {
                            "schema": {
                                "fields": [
                                    {
                                        "name": "node",
                                        "type": "string"
                                    },
                                    {
                                        "name": "namespace",
                                        "type": "string"
                                    },
                                    {
                                        "name": "pod",
                                        "type": "string"
                                    },
                                    {
                                        "name": "container",
                                        "type": "string"
                                    },
                                    {
                                        "name": "message time",
                                        "type": "datetime",
                                        "tz": "UTC"
                                    },
                                    {
                                        "name": "Message",
                                        "type": "string"
                                    }
                                ],
                                "kqmagic_version": "0.1.114.post2"
                            },
                            "data": [
                                {
                                    "node": "aks-nodepool1-35148010-vmss000000",
                                    "namespace": "arc",
                                    "pod": "benportal3-2",
                                    "container": "arc-sqlmi",
                                    "message time": "2021-08-03T15:47:44.000Z",
                                    "Message": "Backup      BACKUP failed to complete the command BACKUP DATABASE BenBenjiBenBenBen. Check the backup application log for detailed messages."
                                },
                                {
                                    "node": "aks-nodepool1-35148010-vmss000000",
                                    "namespace": "arc",
                                    "pod": "benportal3-2",
                                    "container": "arc-sqlmi",
                                    "message time": "2021-08-03T15:47:38.000Z",
                                    "Message": "Backup      Error: 3041, Severity: 16, State: 1."
                                },
                                {
                                    "node": "aks-nodepool1-35148010-vmss000000",
                                    "namespace": "arc",
                                    "pod": "benportal3-2",
                                    "container": "arc-sqlmi",
                                    "message time": "2021-08-03T15:47:38.000Z",
                                    "Message": "Backup      Error: 3041, Severity: 16, State: 1."
                                },
                                {
                                    "node": "aks-nodepool1-35148010-vmss000000",
                                    "namespace": "arc",
                                    "pod": "benportal3-2",
                                    "container": "arc-sqlmi",
                                    "message time": "2021-08-03T15:47:38.000Z",
                                    "Message": "Backup      BACKUP failed to complete the command BACKUP DATABASE msdb. Check the backup application log for detailed messages."
                                },
                                {
                                    "node": "aks-nodepool1-35148010-vmss000000",
                                    "namespace": "arc",
                                    "pod": "benportal3-2",
                                    "container": "arc-sqlmi",
                                    "message time": "2021-08-03T15:47:38.000Z",
                                    "Message": "Backup      Error: 3041, Severity: 16, State: 1."
                                },
                                {
                                    "node": "aks-nodepool1-35148010-vmss000000",
                                    "namespace": "arc",
                                    "pod": "benportal3-2",
                                    "container": "arc-sqlmi",
                                    "message time": "2021-08-03T15:47:38.000Z",
                                    "Message": "Backup      BACKUP failed to complete the command BACKUP DATABASE master. Check the backup application log for detailed messages."
                                },
                                {
                                    "node": "aks-nodepool1-35148010-vmss000001",
                                    "namespace": "arc",
                                    "pod": "benportal3-1",
                                    "container": "arc-sqlmi",
                                    "message time": "2021-08-03T15:47:29.000Z",
                                    "Message": "Backup      BACKUP failed to complete the command BACKUP DATABASE master. Check the backup application log for detailed messages."
                                },
                                {
                                    "node": "aks-nodepool1-35148010-vmss000001",
                                    "namespace": "arc",
                                    "pod": "benportal3-1",
                                    "container": "arc-sqlmi",
                                    "message time": "2021-08-03T15:47:25.000Z",
                                    "Message": "Backup      BACKUP failed to complete the command BACKUP DATABASE BenBenjiBenBenBen. Check the backup application log for detailed messages."
                                },
                                {
                                    "node": "aks-nodepool1-35148010-vmss000001",
                                    "namespace": "arc",
                                    "pod": "benportal3-1",
                                    "container": "arc-sqlmi",
                                    "message time": "2021-08-03T15:47:25.000Z",
                                    "Message": "Backup      Error: 3041, Severity: 16, State: 1."
                                },
                                {
                                    "node": "aks-nodepool1-35148010-vmss000001",
                                    "namespace": "arc",
                                    "pod": "benportal3-1",
                                    "container": "arc-sqlmi",
                                    "message time": "2021-08-03T15:47:25.000Z",
                                    "Message": "Backup      Error: 3041, Severity: 16, State: 1."
                                },
                                {
                                    "node": "aks-nodepool1-35148010-vmss000001",
                                    "namespace": "arc",
                                    "pod": "benportal3-1",
                                    "container": "arc-sqlmi",
                                    "message time": "2021-08-03T15:47:25.000Z",
                                    "Message": "Backup      BACKUP failed to complete the command BACKUP DATABASE msdb. Check the backup application log for detailed messages."
                                },
                                {
                                    "node": "aks-nodepool1-35148010-vmss000001",
                                    "namespace": "arc",
                                    "pod": "benportal3-1",
                                    "container": "arc-sqlmi",
                                    "message time": "2021-08-03T15:47:25.000Z",
                                    "Message": "Backup      Error: 3041, Severity: 16, State: 1."
                                },
                                {
                                    "node": "aks-nodepool1-35148010-vmss000000",
                                    "namespace": "arc",
                                    "pod": "benportal3-2",
                                    "container": "arc-sqlmi",
                                    "message time": "2021-08-03T15:47:12.000Z",
                                    "Message": "Backup      BACKUP failed to complete the command BACKUP DATABASE BenBenjiBenBenBen. Check the backup application log for detailed messages."
                                },
                                {
                                    "node": "aks-nodepool1-35148010-vmss000000",
                                    "namespace": "arc",
                                    "pod": "benportal3-2",
                                    "container": "arc-sqlmi",
                                    "message time": "2021-08-03T15:47:08.000Z",
                                    "Message": "Backup      BACKUP failed to complete the command BACKUP DATABASE msdb. Check the backup application log for detailed messages."
                                },
                                {
                                    "node": "aks-nodepool1-35148010-vmss000000",
                                    "namespace": "arc",
                                    "pod": "benportal3-2",
                                    "container": "arc-sqlmi",
                                    "message time": "2021-08-03T15:47:08.000Z",
                                    "Message": "Backup      BACKUP failed to complete the command BACKUP DATABASE master. Check the backup application log for detailed messages."
                                },
                                {
                                    "node": "aks-nodepool1-35148010-vmss000000",
                                    "namespace": "arc",
                                    "pod": "benportal3-2",
                                    "container": "arc-sqlmi",
                                    "message time": "2021-08-03T15:47:08.000Z",
                                    "Message": "Backup      Error: 3041, Severity: 16, State: 1."
                                },
                                {
                                    "node": "aks-nodepool1-35148010-vmss000000",
                                    "namespace": "arc",
                                    "pod": "benportal3-2",
                                    "container": "arc-sqlmi",
                                    "message time": "2021-08-03T15:47:08.000Z",
                                    "Message": "Backup      Error: 3041, Severity: 16, State: 1."
                                },
                                {
                                    "node": "aks-nodepool1-35148010-vmss000000",
                                    "namespace": "arc",
                                    "pod": "benportal3-2",
                                    "container": "arc-sqlmi",
                                    "message time": "2021-08-03T15:47:08.000Z",
                                    "Message": "Backup      Error: 3041, Severity: 16, State: 1."
                                },
                                {
                                    "node": "aks-nodepool1-35148010-vmss000001",
                                    "namespace": "arc",
                                    "pod": "benportal3-1",
                                    "container": "arc-sqlmi",
                                    "message time": "2021-08-03T15:47:01.000Z",
                                    "Message": "Backup      BACKUP failed to complete the command BACKUP DATABASE master. Check the backup application log for detailed messages."
                                },
                                {
                                    "node": "aks-nodepool1-35148010-vmss000001",
                                    "namespace": "arc",
                                    "pod": "benportal3-1",
                                    "container": "arc-sqlmi",
                                    "message time": "2021-08-03T15:46:55.000Z",
                                    "Message": "Backup      BACKUP failed to complete the command BACKUP DATABASE BenBenjiBenBenBen. Check the backup application log for detailed messages."
                                },
                                {
                                    "node": "aks-nodepool1-35148010-vmss000001",
                                    "namespace": "arc",
                                    "pod": "benportal3-1",
                                    "container": "arc-sqlmi",
                                    "message time": "2021-08-03T15:46:55.000Z",
                                    "Message": "Backup      Error: 3041, Severity: 16, State: 1."
                                },
                                {
                                    "node": "aks-nodepool1-35148010-vmss000001",
                                    "namespace": "arc",
                                    "pod": "benportal3-1",
                                    "container": "arc-sqlmi",
                                    "message time": "2021-08-03T15:46:55.000Z",
                                    "Message": "Backup      Error: 3041, Severity: 16, State: 1."
                                },
                                {
                                    "node": "aks-nodepool1-35148010-vmss000001",
                                    "namespace": "arc",
                                    "pod": "benportal3-1",
                                    "container": "arc-sqlmi",
                                    "message time": "2021-08-03T15:46:55.000Z",
                                    "Message": "Backup      BACKUP failed to complete the command BACKUP DATABASE msdb. Check the backup application log for detailed messages."
                                },
                                {
                                    "node": "aks-nodepool1-35148010-vmss000001",
                                    "namespace": "arc",
                                    "pod": "benportal3-1",
                                    "container": "arc-sqlmi",
                                    "message time": "2021-08-03T15:46:55.000Z",
                                    "Message": "Backup      Error: 3041, Severity: 16, State: 1."
                                },
                                {
                                    "node": "aks-nodepool1-35148010-vmss000000",
                                    "namespace": "arc",
                                    "pod": "benportal3-2",
                                    "container": "arc-sqlmi",
                                    "message time": "2021-08-03T15:46:44.000Z",
                                    "Message": "Backup      BACKUP failed to complete the command BACKUP DATABASE master. Check the backup application log for detailed messages."
                                },
                                {
                                    "node": "aks-nodepool1-35148010-vmss000000",
                                    "namespace": "arc",
                                    "pod": "benportal3-2",
                                    "container": "arc-sqlmi",
                                    "message time": "2021-08-03T15:46:38.000Z",
                                    "Message": "Backup      Error: 3041, Severity: 16, State: 1."
                                },
                                {
                                    "node": "aks-nodepool1-35148010-vmss000000",
                                    "namespace": "arc",
                                    "pod": "benportal3-2",
                                    "container": "arc-sqlmi",
                                    "message time": "2021-08-03T15:46:38.000Z",
                                    "Message": "Backup      BACKUP failed to complete the command BACKUP DATABASE msdb. Check the backup application log for detailed messages."
                                },
                                {
                                    "node": "aks-nodepool1-35148010-vmss000000",
                                    "namespace": "arc",
                                    "pod": "benportal3-2",
                                    "container": "arc-sqlmi",
                                    "message time": "2021-08-03T15:46:38.000Z",
                                    "Message": "Backup      Error: 3041, Severity: 16, State: 1."
                                },
                                {
                                    "node": "aks-nodepool1-35148010-vmss000000",
                                    "namespace": "arc",
                                    "pod": "benportal3-2",
                                    "container": "arc-sqlmi",
                                    "message time": "2021-08-03T15:46:38.000Z",
                                    "Message": "Backup      BACKUP failed to complete the command BACKUP DATABASE BenBenjiBenBenBen. Check the backup application log for detailed messages."
                                },
                                {
                                    "node": "aks-nodepool1-35148010-vmss000000",
                                    "namespace": "arc",
                                    "pod": "benportal3-2",
                                    "container": "arc-sqlmi",
                                    "message time": "2021-08-03T15:46:38.000Z",
                                    "Message": "Backup      Error: 3041, Severity: 16, State: 1."
                                },
                                {
                                    "node": "aks-nodepool1-35148010-vmss000001",
                                    "namespace": "arc",
                                    "pod": "benportal3-1",
                                    "container": "arc-sqlmi",
                                    "message time": "2021-08-03T15:46:29.000Z",
                                    "Message": "Backup      BACKUP failed to complete the command BACKUP DATABASE master. Check the backup application log for detailed messages."
                                },
                                {
                                    "node": "aks-nodepool1-35148010-vmss000001",
                                    "namespace": "arc",
                                    "pod": "benportal3-1",
                                    "container": "arc-sqlmi",
                                    "message time": "2021-08-03T15:46:25.000Z",
                                    "Message": "Backup      BACKUP failed to complete the command BACKUP DATABASE msdb. Check the backup application log for detailed messages."
                                },
                                {
                                    "node": "aks-nodepool1-35148010-vmss000001",
                                    "namespace": "arc",
                                    "pod": "benportal3-1",
                                    "container": "arc-sqlmi",
                                    "message time": "2021-08-03T15:46:25.000Z",
                                    "Message": "Backup      Error: 3041, Severity: 16, State: 1."
                                },
                                {
                                    "node": "aks-nodepool1-35148010-vmss000001",
                                    "namespace": "arc",
                                    "pod": "benportal3-1",
                                    "container": "arc-sqlmi",
                                    "message time": "2021-08-03T15:46:25.000Z",
                                    "Message": "Backup      BACKUP failed to complete the command BACKUP DATABASE BenBenjiBenBenBen. Check the backup application log for detailed messages."
                                },
                                {
                                    "node": "aks-nodepool1-35148010-vmss000001",
                                    "namespace": "arc",
                                    "pod": "benportal3-1",
                                    "container": "arc-sqlmi",
                                    "message time": "2021-08-03T15:46:25.000Z",
                                    "Message": "Backup      Error: 3041, Severity: 16, State: 1."
                                },
                                {
                                    "node": "aks-nodepool1-35148010-vmss000001",
                                    "namespace": "arc",
                                    "pod": "benportal3-1",
                                    "container": "arc-sqlmi",
                                    "message time": "2021-08-03T15:46:25.000Z",
                                    "Message": "Backup      Error: 3041, Severity: 16, State: 1."
                                },
                                {
                                    "node": "aks-nodepool1-35148010-vmss000002",
                                    "namespace": "arc",
                                    "pod": "benportal3-0",
                                    "container": "arc-sqlmi",
                                    "message time": "2021-08-03T15:46:23.000Z",
                                    "Message": "Backup      Log was backed up. Database: BenBenjiBenBenBen, creation date(time): 2021/08/03(15:39:28), first LSN: 37:536:1, last LSN: 41:7440:1, number of dump devices: 1, device information: (FILE=1, TYPE=DISK: {'/var/opt/mssql/backups/current/22cc7cff-92b0-480d-93ac-c07a6ce6ed09/Log-20210803154617-0a9008d1-f0ea-4cbf-b19e-53857625727e.bak'}). This is an informational message only. No user action is required."
                                },
                                {
                                    "node": "aks-nodepool1-35148010-vmss000000",
                                    "namespace": "arc",
                                    "pod": "benportal3-2",
                                    "container": "arc-sqlmi",
                                    "message time": "2021-08-03T15:46:12.000Z",
                                    "Message": "Backup      BACKUP failed to complete the command BACKUP DATABASE BenBenjiBenBenBen. Check the backup application log for detailed messages."
                                },
                                {
                                    "node": "aks-nodepool1-35148010-vmss000000",
                                    "namespace": "arc",
                                    "pod": "benportal3-2",
                                    "container": "arc-sqlmi",
                                    "message time": "2021-08-03T15:46:08.000Z",
                                    "Message": "Backup      Error: 3041, Severity: 16, State: 1."
                                },
                                {
                                    "node": "aks-nodepool1-35148010-vmss000000",
                                    "namespace": "arc",
                                    "pod": "benportal3-2",
                                    "container": "arc-sqlmi",
                                    "message time": "2021-08-03T15:46:08.000Z",
                                    "Message": "Backup      BACKUP failed to complete the command BACKUP DATABASE msdb. Check the backup application log for detailed messages."
                                },
                                {
                                    "node": "aks-nodepool1-35148010-vmss000000",
                                    "namespace": "arc",
                                    "pod": "benportal3-2",
                                    "container": "arc-sqlmi",
                                    "message time": "2021-08-03T15:46:08.000Z",
                                    "Message": "Backup      Error: 3041, Severity: 16, State: 1."
                                },
                                {
                                    "node": "aks-nodepool1-35148010-vmss000000",
                                    "namespace": "arc",
                                    "pod": "benportal3-2",
                                    "container": "arc-sqlmi",
                                    "message time": "2021-08-03T15:46:08.000Z",
                                    "Message": "Backup      BACKUP failed to complete the command BACKUP DATABASE master. Check the backup application log for detailed messages."
                                },
                                {
                                    "node": "aks-nodepool1-35148010-vmss000000",
                                    "namespace": "arc",
                                    "pod": "benportal3-2",
                                    "container": "arc-sqlmi",
                                    "message time": "2021-08-03T15:46:08.000Z",
                                    "Message": "Backup      Error: 3041, Severity: 16, State: 1."
                                },
                                {
                                    "node": "aks-nodepool1-35148010-vmss000001",
                                    "namespace": "arc",
                                    "pod": "benportal3-1",
                                    "container": "arc-sqlmi",
                                    "message time": "2021-08-03T15:46:01.000Z",
                                    "Message": "Backup      BACKUP failed to complete the command BACKUP DATABASE master. Check the backup application log for detailed messages."
                                },
                                {
                                    "node": "aks-nodepool1-35148010-vmss000001",
                                    "namespace": "arc",
                                    "pod": "benportal3-1",
                                    "container": "arc-sqlmi",
                                    "message time": "2021-08-03T15:45:55.000Z",
                                    "Message": "Backup      Error: 3041, Severity: 16, State: 1."
                                },
                                {
                                    "node": "aks-nodepool1-35148010-vmss000001",
                                    "namespace": "arc",
                                    "pod": "benportal3-1",
                                    "container": "arc-sqlmi",
                                    "message time": "2021-08-03T15:45:55.000Z",
                                    "Message": "Backup      BACKUP failed to complete the command BACKUP DATABASE msdb. Check the backup application log for detailed messages."
                                },
                                {
                                    "node": "aks-nodepool1-35148010-vmss000001",
                                    "namespace": "arc",
                                    "pod": "benportal3-1",
                                    "container": "arc-sqlmi",
                                    "message time": "2021-08-03T15:45:55.000Z",
                                    "Message": "Backup      BACKUP failed to complete the command BACKUP DATABASE BenBenjiBenBenBen. Check the backup application log for detailed messages."
                                },
                                {
                                    "node": "aks-nodepool1-35148010-vmss000001",
                                    "namespace": "arc",
                                    "pod": "benportal3-1",
                                    "container": "arc-sqlmi",
                                    "message time": "2021-08-03T15:45:55.000Z",
                                    "Message": "Backup      Error: 3041, Severity: 16, State: 1."
                                },
                                {
                                    "node": "aks-nodepool1-35148010-vmss000001",
                                    "namespace": "arc",
                                    "pod": "benportal3-1",
                                    "container": "arc-sqlmi",
                                    "message time": "2021-08-03T15:45:55.000Z",
                                    "Message": "Backup      Error: 3041, Severity: 16, State: 1."
                                },
                                {
                                    "node": "aks-nodepool1-35148010-vmss000000",
                                    "namespace": "arc",
                                    "pod": "benportal3-2",
                                    "container": "arc-sqlmi",
                                    "message time": "2021-08-03T15:45:44.000Z",
                                    "Message": "Backup      BACKUP failed to complete the command BACKUP DATABASE BenBenjiBenBenBen. Check the backup application log for detailed messages."
                                },
                                {
                                    "node": "aks-nodepool1-35148010-vmss000000",
                                    "namespace": "arc",
                                    "pod": "benportal3-2",
                                    "container": "arc-sqlmi",
                                    "message time": "2021-08-03T15:45:38.000Z",
                                    "Message": "Backup      Error: 3041, Severity: 16, State: 1."
                                },
                                {
                                    "node": "aks-nodepool1-35148010-vmss000000",
                                    "namespace": "arc",
                                    "pod": "benportal3-2",
                                    "container": "arc-sqlmi",
                                    "message time": "2021-08-03T15:45:38.000Z",
                                    "Message": "Backup      BACKUP failed to complete the command BACKUP DATABASE master. Check the backup application log for detailed messages."
                                },
                                {
                                    "node": "aks-nodepool1-35148010-vmss000000",
                                    "namespace": "arc",
                                    "pod": "benportal3-2",
                                    "container": "arc-sqlmi",
                                    "message time": "2021-08-03T15:45:38.000Z",
                                    "Message": "Backup      BACKUP failed to complete the command BACKUP DATABASE msdb. Check the backup application log for detailed messages."
                                },
                                {
                                    "node": "aks-nodepool1-35148010-vmss000000",
                                    "namespace": "arc",
                                    "pod": "benportal3-2",
                                    "container": "arc-sqlmi",
                                    "message time": "2021-08-03T15:45:38.000Z",
                                    "Message": "Backup      Error: 3041, Severity: 16, State: 1."
                                },
                                {
                                    "node": "aks-nodepool1-35148010-vmss000000",
                                    "namespace": "arc",
                                    "pod": "benportal3-2",
                                    "container": "arc-sqlmi",
                                    "message time": "2021-08-03T15:45:38.000Z",
                                    "Message": "Backup      Error: 3041, Severity: 16, State: 1."
                                },
                                {
                                    "node": "aks-nodepool1-35148010-vmss000001",
                                    "namespace": "arc",
                                    "pod": "benportal3-1",
                                    "container": "arc-sqlmi",
                                    "message time": "2021-08-03T15:45:29.000Z",
                                    "Message": "Backup      BACKUP failed to complete the command BACKUP DATABASE master. Check the backup application log for detailed messages."
                                },
                                {
                                    "node": "aks-nodepool1-35148010-vmss000001",
                                    "namespace": "arc",
                                    "pod": "benportal3-1",
                                    "container": "arc-sqlmi",
                                    "message time": "2021-08-03T15:45:25.000Z",
                                    "Message": "Backup      Error: 3041, Severity: 16, State: 1."
                                },
                                {
                                    "node": "aks-nodepool1-35148010-vmss000001",
                                    "namespace": "arc",
                                    "pod": "benportal3-1",
                                    "container": "arc-sqlmi",
                                    "message time": "2021-08-03T15:45:25.000Z",
                                    "Message": "Backup      BACKUP failed to complete the command BACKUP DATABASE msdb. Check the backup application log for detailed messages."
                                },
                                {
                                    "node": "aks-nodepool1-35148010-vmss000001",
                                    "namespace": "arc",
                                    "pod": "benportal3-1",
                                    "container": "arc-sqlmi",
                                    "message time": "2021-08-03T15:45:25.000Z",
                                    "Message": "Backup      Error: 3041, Severity: 16, State: 1."
                                },
                                {
                                    "node": "aks-nodepool1-35148010-vmss000001",
                                    "namespace": "arc",
                                    "pod": "benportal3-1",
                                    "container": "arc-sqlmi",
                                    "message time": "2021-08-03T15:45:25.000Z",
                                    "Message": "Backup      Error: 3041, Severity: 16, State: 1."
                                },
                                {
                                    "node": "aks-nodepool1-35148010-vmss000001",
                                    "namespace": "arc",
                                    "pod": "benportal3-1",
                                    "container": "arc-sqlmi",
                                    "message time": "2021-08-03T15:45:25.000Z",
                                    "Message": "Backup      BACKUP failed to complete the command BACKUP DATABASE BenBenjiBenBenBen. Check the backup application log for detailed messages."
                                },
                                {
                                    "node": "aks-nodepool1-35148010-vmss000000",
                                    "namespace": "arc",
                                    "pod": "benportal3-2",
                                    "container": "arc-sqlmi",
                                    "message time": "2021-08-03T15:45:12.000Z",
                                    "Message": "Backup      BACKUP failed to complete the command BACKUP DATABASE BenBenjiBenBenBen. Check the backup application log for detailed messages."
                                },
                                {
                                    "node": "aks-nodepool1-35148010-vmss000000",
                                    "namespace": "arc",
                                    "pod": "benportal3-2",
                                    "container": "arc-sqlmi",
                                    "message time": "2021-08-03T15:45:08.000Z",
                                    "Message": "Backup      BACKUP failed to complete the command BACKUP DATABASE master. Check the backup application log for detailed messages."
                                },
                                {
                                    "node": "aks-nodepool1-35148010-vmss000000",
                                    "namespace": "arc",
                                    "pod": "benportal3-2",
                                    "container": "arc-sqlmi",
                                    "message time": "2021-08-03T15:45:08.000Z",
                                    "Message": "Backup      Error: 3041, Severity: 16, State: 1."
                                },
                                {
                                    "node": "aks-nodepool1-35148010-vmss000000",
                                    "namespace": "arc",
                                    "pod": "benportal3-2",
                                    "container": "arc-sqlmi",
                                    "message time": "2021-08-03T15:45:08.000Z",
                                    "Message": "Backup      Error: 3041, Severity: 16, State: 1."
                                },
                                {
                                    "node": "aks-nodepool1-35148010-vmss000000",
                                    "namespace": "arc",
                                    "pod": "benportal3-2",
                                    "container": "arc-sqlmi",
                                    "message time": "2021-08-03T15:45:08.000Z",
                                    "Message": "Backup      BACKUP failed to complete the command BACKUP DATABASE msdb. Check the backup application log for detailed messages."
                                },
                                {
                                    "node": "aks-nodepool1-35148010-vmss000000",
                                    "namespace": "arc",
                                    "pod": "benportal3-2",
                                    "container": "arc-sqlmi",
                                    "message time": "2021-08-03T15:45:08.000Z",
                                    "Message": "Backup      Error: 3041, Severity: 16, State: 1."
                                },
                                {
                                    "node": "aks-nodepool1-35148010-vmss000001",
                                    "namespace": "arc",
                                    "pod": "benportal3-1",
                                    "container": "arc-sqlmi",
                                    "message time": "2021-08-03T15:45:01.000Z",
                                    "Message": "Backup      BACKUP failed to complete the command BACKUP DATABASE msdb. Check the backup application log for detailed messages."
                                },
                                {
                                    "node": "aks-nodepool1-35148010-vmss000001",
                                    "namespace": "arc",
                                    "pod": "benportal3-1",
                                    "container": "arc-sqlmi",
                                    "message time": "2021-08-03T15:44:55.000Z",
                                    "Message": "Backup      BACKUP failed to complete the command BACKUP DATABASE master. Check the backup application log for detailed messages."
                                },
                                {
                                    "node": "aks-nodepool1-35148010-vmss000001",
                                    "namespace": "arc",
                                    "pod": "benportal3-1",
                                    "container": "arc-sqlmi",
                                    "message time": "2021-08-03T15:44:55.000Z",
                                    "Message": "Backup      Error: 3041, Severity: 16, State: 1."
                                },
                                {
                                    "node": "aks-nodepool1-35148010-vmss000001",
                                    "namespace": "arc",
                                    "pod": "benportal3-1",
                                    "container": "arc-sqlmi",
                                    "message time": "2021-08-03T15:44:55.000Z",
                                    "Message": "Backup      Error: 3041, Severity: 16, State: 1."
                                },
                                {
                                    "node": "aks-nodepool1-35148010-vmss000001",
                                    "namespace": "arc",
                                    "pod": "benportal3-1",
                                    "container": "arc-sqlmi",
                                    "message time": "2021-08-03T15:44:55.000Z",
                                    "Message": "Backup      BACKUP failed to complete the command BACKUP DATABASE BenBenjiBenBenBen. Check the backup application log for detailed messages."
                                },
                                {
                                    "node": "aks-nodepool1-35148010-vmss000001",
                                    "namespace": "arc",
                                    "pod": "benportal3-1",
                                    "container": "arc-sqlmi",
                                    "message time": "2021-08-03T15:44:55.000Z",
                                    "Message": "Backup      Error: 3041, Severity: 16, State: 1."
                                },
                                {
                                    "node": "aks-nodepool1-35148010-vmss000000",
                                    "namespace": "arc",
                                    "pod": "benportal3-2",
                                    "container": "arc-sqlmi",
                                    "message time": "2021-08-03T15:44:44.000Z",
                                    "Message": "Backup      BACKUP failed to complete the command BACKUP DATABASE BenBenjiBenBenBen. Check the backup application log for detailed messages."
                                },
                                {
                                    "node": "aks-nodepool1-35148010-vmss000000",
                                    "namespace": "arc",
                                    "pod": "benportal3-2",
                                    "container": "arc-sqlmi",
                                    "message time": "2021-08-03T15:44:38.000Z",
                                    "Message": "Backup      Error: 3041, Severity: 16, State: 1."
                                },
                                {
                                    "node": "aks-nodepool1-35148010-vmss000000",
                                    "namespace": "arc",
                                    "pod": "benportal3-2",
                                    "container": "arc-sqlmi",
                                    "message time": "2021-08-03T15:44:38.000Z",
                                    "Message": "Backup      Error: 3041, Severity: 16, State: 1."
                                },
                                {
                                    "node": "aks-nodepool1-35148010-vmss000000",
                                    "namespace": "arc",
                                    "pod": "benportal3-2",
                                    "container": "arc-sqlmi",
                                    "message time": "2021-08-03T15:44:38.000Z",
                                    "Message": "Backup      Error: 3041, Severity: 16, State: 1."
                                },
                                {
                                    "node": "aks-nodepool1-35148010-vmss000000",
                                    "namespace": "arc",
                                    "pod": "benportal3-2",
                                    "container": "arc-sqlmi",
                                    "message time": "2021-08-03T15:44:38.000Z",
                                    "Message": "Backup      BACKUP failed to complete the command BACKUP DATABASE master. Check the backup application log for detailed messages."
                                },
                                {
                                    "node": "aks-nodepool1-35148010-vmss000000",
                                    "namespace": "arc",
                                    "pod": "benportal3-2",
                                    "container": "arc-sqlmi",
                                    "message time": "2021-08-03T15:44:38.000Z",
                                    "Message": "Backup      BACKUP failed to complete the command BACKUP DATABASE msdb. Check the backup application log for detailed messages."
                                },
                                {
                                    "node": "aks-nodepool1-35148010-vmss000001",
                                    "namespace": "arc",
                                    "pod": "benportal3-1",
                                    "container": "arc-sqlmi",
                                    "message time": "2021-08-03T15:44:29.000Z",
                                    "Message": "Backup      BACKUP failed to complete the command BACKUP DATABASE BenBenjiBenBenBen. Check the backup application log for detailed messages."
                                },
                                {
                                    "node": "aks-nodepool1-35148010-vmss000001",
                                    "namespace": "arc",
                                    "pod": "benportal3-1",
                                    "container": "arc-sqlmi",
                                    "message time": "2021-08-03T15:44:25.000Z",
                                    "Message": "Backup      Error: 3041, Severity: 16, State: 1."
                                },
                                {
                                    "node": "aks-nodepool1-35148010-vmss000001",
                                    "namespace": "arc",
                                    "pod": "benportal3-1",
                                    "container": "arc-sqlmi",
                                    "message time": "2021-08-03T15:44:25.000Z",
                                    "Message": "Backup      Error: 3041, Severity: 16, State: 1."
                                },
                                {
                                    "node": "aks-nodepool1-35148010-vmss000001",
                                    "namespace": "arc",
                                    "pod": "benportal3-1",
                                    "container": "arc-sqlmi",
                                    "message time": "2021-08-03T15:44:25.000Z",
                                    "Message": "Backup      Error: 3041, Severity: 16, State: 1."
                                },
                                {
                                    "node": "aks-nodepool1-35148010-vmss000001",
                                    "namespace": "arc",
                                    "pod": "benportal3-1",
                                    "container": "arc-sqlmi",
                                    "message time": "2021-08-03T15:44:25.000Z",
                                    "Message": "Backup      BACKUP failed to complete the command BACKUP DATABASE master. Check the backup application log for detailed messages."
                                },
                                {
                                    "node": "aks-nodepool1-35148010-vmss000001",
                                    "namespace": "arc",
                                    "pod": "benportal3-1",
                                    "container": "arc-sqlmi",
                                    "message time": "2021-08-03T15:44:25.000Z",
                                    "Message": "Backup      BACKUP failed to complete the command BACKUP DATABASE msdb. Check the backup application log for detailed messages."
                                },
                                {
                                    "node": "aks-nodepool1-35148010-vmss000000",
                                    "namespace": "arc",
                                    "pod": "benportal3-2",
                                    "container": "arc-sqlmi",
                                    "message time": "2021-08-03T15:44:12.000Z",
                                    "Message": "Backup      BACKUP failed to complete the command BACKUP DATABASE master. Check the backup application log for detailed messages."
                                },
                                {
                                    "node": "aks-nodepool1-35148010-vmss000000",
                                    "namespace": "arc",
                                    "pod": "benportal3-2",
                                    "container": "arc-sqlmi",
                                    "message time": "2021-08-03T15:44:08.000Z",
                                    "Message": "Backup      BACKUP failed to complete the command BACKUP DATABASE msdb. Check the backup application log for detailed messages."
                                },
                                {
                                    "node": "aks-nodepool1-35148010-vmss000000",
                                    "namespace": "arc",
                                    "pod": "benportal3-2",
                                    "container": "arc-sqlmi",
                                    "message time": "2021-08-03T15:44:08.000Z",
                                    "Message": "Backup      BACKUP failed to complete the command BACKUP DATABASE BenBenjiBenBenBen. Check the backup application log for detailed messages."
                                },
                                {
                                    "node": "aks-nodepool1-35148010-vmss000000",
                                    "namespace": "arc",
                                    "pod": "benportal3-2",
                                    "container": "arc-sqlmi",
                                    "message time": "2021-08-03T15:44:08.000Z",
                                    "Message": "Backup      Error: 3041, Severity: 16, State: 1."
                                },
                                {
                                    "node": "aks-nodepool1-35148010-vmss000000",
                                    "namespace": "arc",
                                    "pod": "benportal3-2",
                                    "container": "arc-sqlmi",
                                    "message time": "2021-08-03T15:44:08.000Z",
                                    "Message": "Backup      Error: 3041, Severity: 16, State: 1."
                                },
                                {
                                    "node": "aks-nodepool1-35148010-vmss000000",
                                    "namespace": "arc",
                                    "pod": "benportal3-2",
                                    "container": "arc-sqlmi",
                                    "message time": "2021-08-03T15:44:08.000Z",
                                    "Message": "Backup      Error: 3041, Severity: 16, State: 1."
                                },
                                {
                                    "node": "aks-nodepool1-35148010-vmss000001",
                                    "namespace": "arc",
                                    "pod": "benportal3-1",
                                    "container": "arc-sqlmi",
                                    "message time": "2021-08-03T15:44:01.000Z",
                                    "Message": "Backup      BACKUP failed to complete the command BACKUP DATABASE master. Check the backup application log for detailed messages."
                                },
                                {
                                    "node": "aks-nodepool1-35148010-vmss000001",
                                    "namespace": "arc",
                                    "pod": "benportal3-1",
                                    "container": "arc-sqlmi",
                                    "message time": "2021-08-03T15:43:55.000Z",
                                    "Message": "Backup      BACKUP failed to complete the command BACKUP DATABASE msdb. Check the backup application log for detailed messages."
                                },
                                {
                                    "node": "aks-nodepool1-35148010-vmss000001",
                                    "namespace": "arc",
                                    "pod": "benportal3-1",
                                    "container": "arc-sqlmi",
                                    "message time": "2021-08-03T15:43:55.000Z",
                                    "Message": "Backup      Error: 3041, Severity: 16, State: 1."
                                },
                                {
                                    "node": "aks-nodepool1-35148010-vmss000001",
                                    "namespace": "arc",
                                    "pod": "benportal3-1",
                                    "container": "arc-sqlmi",
                                    "message time": "2021-08-03T15:43:55.000Z",
                                    "Message": "Backup      Error: 3041, Severity: 16, State: 1."
                                },
                                {
                                    "node": "aks-nodepool1-35148010-vmss000001",
                                    "namespace": "arc",
                                    "pod": "benportal3-1",
                                    "container": "arc-sqlmi",
                                    "message time": "2021-08-03T15:43:55.000Z",
                                    "Message": "Backup      Error: 3041, Severity: 16, State: 1."
                                },
                                {
                                    "node": "aks-nodepool1-35148010-vmss000001",
                                    "namespace": "arc",
                                    "pod": "benportal3-1",
                                    "container": "arc-sqlmi",
                                    "message time": "2021-08-03T15:43:55.000Z",
                                    "Message": "Backup      BACKUP failed to complete the command BACKUP DATABASE BenBenjiBenBenBen. Check the backup application log for detailed messages."
                                },
                                {
                                    "node": "aks-nodepool1-35148010-vmss000000",
                                    "namespace": "arc",
                                    "pod": "benportal3-2",
                                    "container": "arc-sqlmi",
                                    "message time": "2021-08-03T15:43:44.000Z",
                                    "Message": "Backup      BACKUP failed to complete the command BACKUP DATABASE BenBenjiBenBenBen. Check the backup application log for detailed messages."
                                },
                                {
                                    "node": "aks-nodepool1-35148010-vmss000000",
                                    "namespace": "arc",
                                    "pod": "benportal3-2",
                                    "container": "arc-sqlmi",
                                    "message time": "2021-08-03T15:43:38.000Z",
                                    "Message": "Backup      Error: 3041, Severity: 16, State: 1."
                                },
                                {
                                    "node": "aks-nodepool1-35148010-vmss000000",
                                    "namespace": "arc",
                                    "pod": "benportal3-2",
                                    "container": "arc-sqlmi",
                                    "message time": "2021-08-03T15:43:38.000Z",
                                    "Message": "Backup      BACKUP failed to complete the command BACKUP DATABASE master. Check the backup application log for detailed messages."
                                },
                                {
                                    "node": "aks-nodepool1-35148010-vmss000000",
                                    "namespace": "arc",
                                    "pod": "benportal3-2",
                                    "container": "arc-sqlmi",
                                    "message time": "2021-08-03T15:43:38.000Z",
                                    "Message": "Backup      BACKUP failed to complete the command BACKUP DATABASE msdb. Check the backup application log for detailed messages."
                                },
                                {
                                    "node": "aks-nodepool1-35148010-vmss000000",
                                    "namespace": "arc",
                                    "pod": "benportal3-2",
                                    "container": "arc-sqlmi",
                                    "message time": "2021-08-03T15:43:38.000Z",
                                    "Message": "Backup      Error: 3041, Severity: 16, State: 1."
                                },
                                {
                                    "node": "aks-nodepool1-35148010-vmss000000",
                                    "namespace": "arc",
                                    "pod": "benportal3-2",
                                    "container": "arc-sqlmi",
                                    "message time": "2021-08-03T15:43:38.000Z",
                                    "Message": "Backup      Error: 3041, Severity: 16, State: 1."
                                },
                                {
                                    "node": "aks-nodepool1-35148010-vmss000001",
                                    "namespace": "arc",
                                    "pod": "benportal3-1",
                                    "container": "arc-sqlmi",
                                    "message time": "2021-08-03T15:43:29.000Z",
                                    "Message": "Backup      BACKUP failed to complete the command BACKUP DATABASE BenBenjiBenBenBen. Check the backup application log for detailed messages."
                                },
                                {
                                    "node": "aks-nodepool1-35148010-vmss000001",
                                    "namespace": "arc",
                                    "pod": "benportal3-1",
                                    "container": "arc-sqlmi",
                                    "message time": "2021-08-03T15:43:25.000Z",
                                    "Message": "Backup      BACKUP failed to complete the command BACKUP DATABASE master. Check the backup application log for detailed messages."
                                },
                                {
                                    "node": "aks-nodepool1-35148010-vmss000001",
                                    "namespace": "arc",
                                    "pod": "benportal3-1",
                                    "container": "arc-sqlmi",
                                    "message time": "2021-08-03T15:43:25.000Z",
                                    "Message": "Backup      Error: 3041, Severity: 16, State: 1."
                                },
                                {
                                    "node": "aks-nodepool1-35148010-vmss000001",
                                    "namespace": "arc",
                                    "pod": "benportal3-1",
                                    "container": "arc-sqlmi",
                                    "message time": "2021-08-03T15:43:25.000Z",
                                    "Message": "Backup      BACKUP failed to complete the command BACKUP DATABASE msdb. Check the backup application log for detailed messages."
                                },
                                {
                                    "node": "aks-nodepool1-35148010-vmss000001",
                                    "namespace": "arc",
                                    "pod": "benportal3-1",
                                    "container": "arc-sqlmi",
                                    "message time": "2021-08-03T15:43:25.000Z",
                                    "Message": "Backup      Error: 3041, Severity: 16, State: 1."
                                },
                                {
                                    "node": "aks-nodepool1-35148010-vmss000001",
                                    "namespace": "arc",
                                    "pod": "benportal3-1",
                                    "container": "arc-sqlmi",
                                    "message time": "2021-08-03T15:43:25.000Z",
                                    "Message": "Backup      Error: 3041, Severity: 16, State: 1."
                                },
                                {
                                    "node": "aks-nodepool1-35148010-vmss000000",
                                    "namespace": "arc",
                                    "pod": "benportal3-2",
                                    "container": "arc-sqlmi",
                                    "message time": "2021-08-03T15:43:12.000Z",
                                    "Message": "Backup      BACKUP failed to complete the command BACKUP DATABASE msdb. Check the backup application log for detailed messages."
                                },
                                {
                                    "node": "aks-nodepool1-35148010-vmss000000",
                                    "namespace": "arc",
                                    "pod": "benportal3-2",
                                    "container": "arc-sqlmi",
                                    "message time": "2021-08-03T15:43:08.000Z",
                                    "Message": "Backup      Error: 3041, Severity: 16, State: 1."
                                },
                                {
                                    "node": "aks-nodepool1-35148010-vmss000000",
                                    "namespace": "arc",
                                    "pod": "benportal3-2",
                                    "container": "arc-sqlmi",
                                    "message time": "2021-08-03T15:43:08.000Z",
                                    "Message": "Backup      Error: 3041, Severity: 16, State: 1."
                                },
                                {
                                    "node": "aks-nodepool1-35148010-vmss000000",
                                    "namespace": "arc",
                                    "pod": "benportal3-2",
                                    "container": "arc-sqlmi",
                                    "message time": "2021-08-03T15:43:08.000Z",
                                    "Message": "Backup      BACKUP failed to complete the command BACKUP DATABASE master. Check the backup application log for detailed messages."
                                },
                                {
                                    "node": "aks-nodepool1-35148010-vmss000000",
                                    "namespace": "arc",
                                    "pod": "benportal3-2",
                                    "container": "arc-sqlmi",
                                    "message time": "2021-08-03T15:43:08.000Z",
                                    "Message": "Backup      Error: 3041, Severity: 16, State: 1."
                                },
                                {
                                    "node": "aks-nodepool1-35148010-vmss000000",
                                    "namespace": "arc",
                                    "pod": "benportal3-2",
                                    "container": "arc-sqlmi",
                                    "message time": "2021-08-03T15:43:08.000Z",
                                    "Message": "Backup      BACKUP failed to complete the command BACKUP DATABASE BenBenjiBenBenBen. Check the backup application log for detailed messages."
                                },
                                {
                                    "node": "aks-nodepool1-35148010-vmss000001",
                                    "namespace": "arc",
                                    "pod": "benportal3-1",
                                    "container": "arc-sqlmi",
                                    "message time": "2021-08-03T15:43:01.000Z",
                                    "Message": "Backup      BACKUP failed to complete the command BACKUP DATABASE BenBenjiBenBenBen. Check the backup application log for detailed messages."
                                },
                                {
                                    "node": "aks-nodepool1-35148010-vmss000001",
                                    "namespace": "arc",
                                    "pod": "benportal3-1",
                                    "container": "arc-sqlmi",
                                    "message time": "2021-08-03T15:42:55.000Z",
                                    "Message": "Backup      Error: 3041, Severity: 16, State: 1."
                                },
                                {
                                    "node": "aks-nodepool1-35148010-vmss000001",
                                    "namespace": "arc",
                                    "pod": "benportal3-1",
                                    "container": "arc-sqlmi",
                                    "message time": "2021-08-03T15:42:55.000Z",
                                    "Message": "Backup      Error: 3041, Severity: 16, State: 1."
                                },
                                {
                                    "node": "aks-nodepool1-35148010-vmss000001",
                                    "namespace": "arc",
                                    "pod": "benportal3-1",
                                    "container": "arc-sqlmi",
                                    "message time": "2021-08-03T15:42:55.000Z",
                                    "Message": "Backup      BACKUP failed to complete the command BACKUP DATABASE master. Check the backup application log for detailed messages."
                                },
                                {
                                    "node": "aks-nodepool1-35148010-vmss000001",
                                    "namespace": "arc",
                                    "pod": "benportal3-1",
                                    "container": "arc-sqlmi",
                                    "message time": "2021-08-03T15:42:55.000Z",
                                    "Message": "Backup      BACKUP failed to complete the command BACKUP DATABASE msdb. Check the backup application log for detailed messages."
                                },
                                {
                                    "node": "aks-nodepool1-35148010-vmss000001",
                                    "namespace": "arc",
                                    "pod": "benportal3-1",
                                    "container": "arc-sqlmi",
                                    "message time": "2021-08-03T15:42:55.000Z",
                                    "Message": "Backup      Error: 3041, Severity: 16, State: 1."
                                },
                                {
                                    "node": "aks-nodepool1-35148010-vmss000000",
                                    "namespace": "arc",
                                    "pod": "benportal3-2",
                                    "container": "arc-sqlmi",
                                    "message time": "2021-08-03T15:42:44.000Z",
                                    "Message": "Backup      BACKUP failed to complete the command BACKUP DATABASE master. Check the backup application log for detailed messages."
                                },
                                {
                                    "node": "aks-nodepool1-35148010-vmss000000",
                                    "namespace": "arc",
                                    "pod": "benportal3-2",
                                    "container": "arc-sqlmi",
                                    "message time": "2021-08-03T15:42:38.000Z",
                                    "Message": "Backup      Error: 3041, Severity: 16, State: 1."
                                },
                                {
                                    "node": "aks-nodepool1-35148010-vmss000000",
                                    "namespace": "arc",
                                    "pod": "benportal3-2",
                                    "container": "arc-sqlmi",
                                    "message time": "2021-08-03T15:42:38.000Z",
                                    "Message": "Backup      BACKUP failed to complete the command BACKUP DATABASE BenBenjiBenBenBen. Check the backup application log for detailed messages."
                                },
                                {
                                    "node": "aks-nodepool1-35148010-vmss000000",
                                    "namespace": "arc",
                                    "pod": "benportal3-2",
                                    "container": "arc-sqlmi",
                                    "message time": "2021-08-03T15:42:38.000Z",
                                    "Message": "Backup      Error: 3041, Severity: 16, State: 1."
                                },
                                {
                                    "node": "aks-nodepool1-35148010-vmss000000",
                                    "namespace": "arc",
                                    "pod": "benportal3-2",
                                    "container": "arc-sqlmi",
                                    "message time": "2021-08-03T15:42:38.000Z",
                                    "Message": "Backup      Error: 3041, Severity: 16, State: 1."
                                },
                                {
                                    "node": "aks-nodepool1-35148010-vmss000000",
                                    "namespace": "arc",
                                    "pod": "benportal3-2",
                                    "container": "arc-sqlmi",
                                    "message time": "2021-08-03T15:42:38.000Z",
                                    "Message": "Backup      BACKUP failed to complete the command BACKUP DATABASE msdb. Check the backup application log for detailed messages."
                                },
                                {
                                    "node": "aks-nodepool1-35148010-vmss000001",
                                    "namespace": "arc",
                                    "pod": "benportal3-1",
                                    "container": "arc-sqlmi",
                                    "message time": "2021-08-03T15:42:29.000Z",
                                    "Message": "Backup      BACKUP failed to complete the command BACKUP DATABASE BenBenjiBenBenBen. Check the backup application log for detailed messages."
                                },
                                {
                                    "node": "aks-nodepool1-35148010-vmss000001",
                                    "namespace": "arc",
                                    "pod": "benportal3-1",
                                    "container": "arc-sqlmi",
                                    "message time": "2021-08-03T15:42:25.000Z",
                                    "Message": "Backup      Error: 3041, Severity: 16, State: 1."
                                },
                                {
                                    "node": "aks-nodepool1-35148010-vmss000001",
                                    "namespace": "arc",
                                    "pod": "benportal3-1",
                                    "container": "arc-sqlmi",
                                    "message time": "2021-08-03T15:42:25.000Z",
                                    "Message": "Backup      Error: 3041, Severity: 16, State: 1."
                                },
                                {
                                    "node": "aks-nodepool1-35148010-vmss000001",
                                    "namespace": "arc",
                                    "pod": "benportal3-1",
                                    "container": "arc-sqlmi",
                                    "message time": "2021-08-03T15:42:25.000Z",
                                    "Message": "Backup      BACKUP failed to complete the command BACKUP DATABASE master. Check the backup application log for detailed messages."
                                },
                                {
                                    "node": "aks-nodepool1-35148010-vmss000001",
                                    "namespace": "arc",
                                    "pod": "benportal3-1",
                                    "container": "arc-sqlmi",
                                    "message time": "2021-08-03T15:42:25.000Z",
                                    "Message": "Backup      BACKUP failed to complete the command BACKUP DATABASE msdb. Check the backup application log for detailed messages."
                                },
                                {
                                    "node": "aks-nodepool1-35148010-vmss000001",
                                    "namespace": "arc",
                                    "pod": "benportal3-1",
                                    "container": "arc-sqlmi",
                                    "message time": "2021-08-03T15:42:25.000Z",
                                    "Message": "Backup      Error: 3041, Severity: 16, State: 1."
                                },
                                {
                                    "node": "aks-nodepool1-35148010-vmss000000",
                                    "namespace": "arc",
                                    "pod": "benportal3-2",
                                    "container": "arc-sqlmi",
                                    "message time": "2021-08-03T15:42:12.000Z",
                                    "Message": "Backup      BACKUP failed to complete the command BACKUP DATABASE master. Check the backup application log for detailed messages."
                                },
                                {
                                    "node": "aks-nodepool1-35148010-vmss000000",
                                    "namespace": "arc",
                                    "pod": "benportal3-2",
                                    "container": "arc-sqlmi",
                                    "message time": "2021-08-03T15:42:08.000Z",
                                    "Message": "Backup      BACKUP failed to complete the command BACKUP DATABASE msdb. Check the backup application log for detailed messages."
                                },
                                {
                                    "node": "aks-nodepool1-35148010-vmss000000",
                                    "namespace": "arc",
                                    "pod": "benportal3-2",
                                    "container": "arc-sqlmi",
                                    "message time": "2021-08-03T15:42:08.000Z",
                                    "Message": "Backup      Error: 3041, Severity: 16, State: 1."
                                },
                                {
                                    "node": "aks-nodepool1-35148010-vmss000000",
                                    "namespace": "arc",
                                    "pod": "benportal3-2",
                                    "container": "arc-sqlmi",
                                    "message time": "2021-08-03T15:42:08.000Z",
                                    "Message": "Backup      BACKUP failed to complete the command BACKUP DATABASE BenBenjiBenBenBen. Check the backup application log for detailed messages."
                                },
                                {
                                    "node": "aks-nodepool1-35148010-vmss000000",
                                    "namespace": "arc",
                                    "pod": "benportal3-2",
                                    "container": "arc-sqlmi",
                                    "message time": "2021-08-03T15:42:08.000Z",
                                    "Message": "Backup      Error: 3041, Severity: 16, State: 1."
                                },
                                {
                                    "node": "aks-nodepool1-35148010-vmss000000",
                                    "namespace": "arc",
                                    "pod": "benportal3-2",
                                    "container": "arc-sqlmi",
                                    "message time": "2021-08-03T15:42:08.000Z",
                                    "Message": "Backup      Error: 3041, Severity: 16, State: 1."
                                },
                                {
                                    "node": "aks-nodepool1-35148010-vmss000001",
                                    "namespace": "arc",
                                    "pod": "benportal3-1",
                                    "container": "arc-sqlmi",
                                    "message time": "2021-08-03T15:42:01.000Z",
                                    "Message": "Backup      BACKUP failed to complete the command BACKUP DATABASE BenBenjiBenBenBen. Check the backup application log for detailed messages."
                                },
                                {
                                    "node": "aks-nodepool1-35148010-vmss000001",
                                    "namespace": "arc",
                                    "pod": "benportal3-1",
                                    "container": "arc-sqlmi",
                                    "message time": "2021-08-03T15:41:55.000Z",
                                    "Message": "Backup      BACKUP failed to complete the command BACKUP DATABASE msdb. Check the backup application log for detailed messages."
                                },
                                {
                                    "node": "aks-nodepool1-35148010-vmss000001",
                                    "namespace": "arc",
                                    "pod": "benportal3-1",
                                    "container": "arc-sqlmi",
                                    "message time": "2021-08-03T15:41:55.000Z",
                                    "Message": "Backup      BACKUP failed to complete the command BACKUP DATABASE master. Check the backup application log for detailed messages."
                                },
                                {
                                    "node": "aks-nodepool1-35148010-vmss000001",
                                    "namespace": "arc",
                                    "pod": "benportal3-1",
                                    "container": "arc-sqlmi",
                                    "message time": "2021-08-03T15:41:55.000Z",
                                    "Message": "Backup      Error: 3041, Severity: 16, State: 1."
                                },
                                {
                                    "node": "aks-nodepool1-35148010-vmss000001",
                                    "namespace": "arc",
                                    "pod": "benportal3-1",
                                    "container": "arc-sqlmi",
                                    "message time": "2021-08-03T15:41:55.000Z",
                                    "Message": "Backup      Error: 3041, Severity: 16, State: 1."
                                },
                                {
                                    "node": "aks-nodepool1-35148010-vmss000001",
                                    "namespace": "arc",
                                    "pod": "benportal3-1",
                                    "container": "arc-sqlmi",
                                    "message time": "2021-08-03T15:41:55.000Z",
                                    "Message": "Backup      Error: 3041, Severity: 16, State: 1."
                                },
                                {
                                    "node": "aks-nodepool1-35148010-vmss000000",
                                    "namespace": "arc",
                                    "pod": "benportal3-2",
                                    "container": "arc-sqlmi",
                                    "message time": "2021-08-03T15:41:44.000Z",
                                    "Message": "Backup      BACKUP failed to complete the command BACKUP DATABASE master. Check the backup application log for detailed messages."
                                },
                                {
                                    "node": "aks-nodepool1-35148010-vmss000000",
                                    "namespace": "arc",
                                    "pod": "benportal3-2",
                                    "container": "arc-sqlmi",
                                    "message time": "2021-08-03T15:41:38.000Z",
                                    "Message": "Backup      BACKUP failed to complete the command BACKUP DATABASE BenBenjiBenBenBen. Check the backup application log for detailed messages."
                                },
                                {
                                    "node": "aks-nodepool1-35148010-vmss000000",
                                    "namespace": "arc",
                                    "pod": "benportal3-2",
                                    "container": "arc-sqlmi",
                                    "message time": "2021-08-03T15:41:38.000Z",
                                    "Message": "Backup      Error: 3041, Severity: 16, State: 1."
                                },
                                {
                                    "node": "aks-nodepool1-35148010-vmss000000",
                                    "namespace": "arc",
                                    "pod": "benportal3-2",
                                    "container": "arc-sqlmi",
                                    "message time": "2021-08-03T15:41:38.000Z",
                                    "Message": "Backup      Error: 3041, Severity: 16, State: 1."
                                },
                                {
                                    "node": "aks-nodepool1-35148010-vmss000000",
                                    "namespace": "arc",
                                    "pod": "benportal3-2",
                                    "container": "arc-sqlmi",
                                    "message time": "2021-08-03T15:41:38.000Z",
                                    "Message": "Backup      BACKUP failed to complete the command BACKUP DATABASE msdb. Check the backup application log for detailed messages."
                                },
                                {
                                    "node": "aks-nodepool1-35148010-vmss000000",
                                    "namespace": "arc",
                                    "pod": "benportal3-2",
                                    "container": "arc-sqlmi",
                                    "message time": "2021-08-03T15:41:38.000Z",
                                    "Message": "Backup      Error: 3041, Severity: 16, State: 1."
                                },
                                {
                                    "node": "aks-nodepool1-35148010-vmss000001",
                                    "namespace": "arc",
                                    "pod": "benportal3-1",
                                    "container": "arc-sqlmi",
                                    "message time": "2021-08-03T15:41:29.000Z",
                                    "Message": "Backup      BACKUP failed to complete the command BACKUP DATABASE master. Check the backup application log for detailed messages."
                                },
                                {
                                    "node": "aks-nodepool1-35148010-vmss000001",
                                    "namespace": "arc",
                                    "pod": "benportal3-1",
                                    "container": "arc-sqlmi",
                                    "message time": "2021-08-03T15:41:25.000Z",
                                    "Message": "Backup      Error: 3041, Severity: 16, State: 1."
                                },
                                {
                                    "node": "aks-nodepool1-35148010-vmss000001",
                                    "namespace": "arc",
                                    "pod": "benportal3-1",
                                    "container": "arc-sqlmi",
                                    "message time": "2021-08-03T15:41:25.000Z",
                                    "Message": "Backup      BACKUP failed to complete the command BACKUP DATABASE msdb. Check the backup application log for detailed messages."
                                },
                                {
                                    "node": "aks-nodepool1-35148010-vmss000001",
                                    "namespace": "arc",
                                    "pod": "benportal3-1",
                                    "container": "arc-sqlmi",
                                    "message time": "2021-08-03T15:41:25.000Z",
                                    "Message": "Backup      BACKUP failed to complete the command BACKUP DATABASE BenBenjiBenBenBen. Check the backup application log for detailed messages."
                                },
                                {
                                    "node": "aks-nodepool1-35148010-vmss000001",
                                    "namespace": "arc",
                                    "pod": "benportal3-1",
                                    "container": "arc-sqlmi",
                                    "message time": "2021-08-03T15:41:25.000Z",
                                    "Message": "Backup      Error: 3041, Severity: 16, State: 1."
                                },
                                {
                                    "node": "aks-nodepool1-35148010-vmss000001",
                                    "namespace": "arc",
                                    "pod": "benportal3-1",
                                    "container": "arc-sqlmi",
                                    "message time": "2021-08-03T15:41:25.000Z",
                                    "Message": "Backup      Error: 3041, Severity: 16, State: 1."
                                },
                                {
                                    "node": "aks-nodepool1-35148010-vmss000000",
                                    "namespace": "arc",
                                    "pod": "benportal3-2",
                                    "container": "arc-sqlmi",
                                    "message time": "2021-08-03T15:41:12.000Z",
                                    "Message": "Backup      BACKUP failed to complete the command BACKUP DATABASE BenBenjiBenBenBen. Check the backup application log for detailed messages."
                                },
                                {
                                    "node": "aks-nodepool1-35148010-vmss000000",
                                    "namespace": "arc",
                                    "pod": "benportal3-2",
                                    "container": "arc-sqlmi",
                                    "message time": "2021-08-03T15:41:08.000Z",
                                    "Message": "Backup      Error: 3041, Severity: 16, State: 1."
                                },
                                {
                                    "node": "aks-nodepool1-35148010-vmss000000",
                                    "namespace": "arc",
                                    "pod": "benportal3-2",
                                    "container": "arc-sqlmi",
                                    "message time": "2021-08-03T15:41:08.000Z",
                                    "Message": "Backup      Error: 3041, Severity: 16, State: 1."
                                },
                                {
                                    "node": "aks-nodepool1-35148010-vmss000000",
                                    "namespace": "arc",
                                    "pod": "benportal3-2",
                                    "container": "arc-sqlmi",
                                    "message time": "2021-08-03T15:41:08.000Z",
                                    "Message": "Backup      Error: 3041, Severity: 16, State: 1."
                                },
                                {
                                    "node": "aks-nodepool1-35148010-vmss000000",
                                    "namespace": "arc",
                                    "pod": "benportal3-2",
                                    "container": "arc-sqlmi",
                                    "message time": "2021-08-03T15:41:08.000Z",
                                    "Message": "Backup      BACKUP failed to complete the command BACKUP DATABASE master. Check the backup application log for detailed messages."
                                },
                                {
                                    "node": "aks-nodepool1-35148010-vmss000000",
                                    "namespace": "arc",
                                    "pod": "benportal3-2",
                                    "container": "arc-sqlmi",
                                    "message time": "2021-08-03T15:41:08.000Z",
                                    "Message": "Backup      BACKUP failed to complete the command BACKUP DATABASE msdb. Check the backup application log for detailed messages."
                                },
                                {
                                    "node": "aks-nodepool1-35148010-vmss000001",
                                    "namespace": "arc",
                                    "pod": "benportal3-1",
                                    "container": "arc-sqlmi",
                                    "message time": "2021-08-03T15:41:01.000Z",
                                    "Message": "Backup      BACKUP failed to complete the command BACKUP DATABASE BenBenjiBenBenBen. Check the backup application log for detailed messages."
                                },
                                {
                                    "node": "aks-nodepool1-35148010-vmss000001",
                                    "namespace": "arc",
                                    "pod": "benportal3-1",
                                    "container": "arc-sqlmi",
                                    "message time": "2021-08-03T15:40:55.000Z",
                                    "Message": "Backup      Error: 3041, Severity: 16, State: 1."
                                },
                                {
                                    "node": "aks-nodepool1-35148010-vmss000001",
                                    "namespace": "arc",
                                    "pod": "benportal3-1",
                                    "container": "arc-sqlmi",
                                    "message time": "2021-08-03T15:40:55.000Z",
                                    "Message": "Backup      BACKUP failed to complete the command BACKUP DATABASE master. Check the backup application log for detailed messages."
                                },
                                {
                                    "node": "aks-nodepool1-35148010-vmss000001",
                                    "namespace": "arc",
                                    "pod": "benportal3-1",
                                    "container": "arc-sqlmi",
                                    "message time": "2021-08-03T15:40:55.000Z",
                                    "Message": "Backup      Error: 3041, Severity: 16, State: 1."
                                },
                                {
                                    "node": "aks-nodepool1-35148010-vmss000001",
                                    "namespace": "arc",
                                    "pod": "benportal3-1",
                                    "container": "arc-sqlmi",
                                    "message time": "2021-08-03T15:40:55.000Z",
                                    "Message": "Backup      BACKUP failed to complete the command BACKUP DATABASE msdb. Check the backup application log for detailed messages."
                                },
                                {
                                    "node": "aks-nodepool1-35148010-vmss000001",
                                    "namespace": "arc",
                                    "pod": "benportal3-1",
                                    "container": "arc-sqlmi",
                                    "message time": "2021-08-03T15:40:55.000Z",
                                    "Message": "Backup      Error: 3041, Severity: 16, State: 1."
                                },
                                {
                                    "node": "aks-nodepool1-35148010-vmss000002",
                                    "namespace": "arc",
                                    "pod": "benportal3-0",
                                    "container": "arc-sqlmi",
                                    "message time": "2021-08-03T15:40:51.000Z",
                                    "Message": "Backup      Log was backed up. Database: BenBenjiBenBenBen, creation date(time): 2021/08/03(15:39:28), first LSN: 37:288:1, last LSN: 37:536:1, number of dump devices: 1, device information: (FILE=1, TYPE=DISK: {'/var/opt/mssql/backups/current/22cc7cff-92b0-480d-93ac-c07a6ce6ed09/Log-20210803154047-d0d681b5-2485-433c-83ba-6b3bbbcbdecc.bak'}). This is an informational message only. No user action is required."
                                },
                                {
                                    "node": "aks-nodepool1-35148010-vmss000000",
                                    "namespace": "arc",
                                    "pod": "benportal3-2",
                                    "container": "arc-sqlmi",
                                    "message time": "2021-08-03T15:40:44.000Z",
                                    "Message": "Backup      BACKUP failed to complete the command BACKUP DATABASE msdb. Check the backup application log for detailed messages."
                                },
                                {
                                    "node": "aks-nodepool1-35148010-vmss000000",
                                    "namespace": "arc",
                                    "pod": "benportal3-2",
                                    "container": "arc-sqlmi",
                                    "message time": "2021-08-03T15:40:38.000Z",
                                    "Message": "Backup      Error: 3041, Severity: 16, State: 1."
                                },
                                {
                                    "node": "aks-nodepool1-35148010-vmss000000",
                                    "namespace": "arc",
                                    "pod": "benportal3-2",
                                    "container": "arc-sqlmi",
                                    "message time": "2021-08-03T15:40:38.000Z",
                                    "Message": "Backup      Error: 3041, Severity: 16, State: 1."
                                },
                                {
                                    "node": "aks-nodepool1-35148010-vmss000000",
                                    "namespace": "arc",
                                    "pod": "benportal3-2",
                                    "container": "arc-sqlmi",
                                    "message time": "2021-08-03T15:40:38.000Z",
                                    "Message": "Backup      Error: 3041, Severity: 16, State: 1."
                                },
                                {
                                    "node": "aks-nodepool1-35148010-vmss000000",
                                    "namespace": "arc",
                                    "pod": "benportal3-2",
                                    "container": "arc-sqlmi",
                                    "message time": "2021-08-03T15:40:38.000Z",
                                    "Message": "Backup      BACKUP failed to complete the command BACKUP DATABASE master. Check the backup application log for detailed messages."
                                },
                                {
                                    "node": "aks-nodepool1-35148010-vmss000000",
                                    "namespace": "arc",
                                    "pod": "benportal3-2",
                                    "container": "arc-sqlmi",
                                    "message time": "2021-08-03T15:40:38.000Z",
                                    "Message": "Backup      BACKUP failed to complete the command BACKUP DATABASE BenBenjiBenBenBen. Check the backup application log for detailed messages."
                                },
                                {
                                    "node": "aks-nodepool1-35148010-vmss000001",
                                    "namespace": "arc",
                                    "pod": "benportal3-1",
                                    "container": "arc-sqlmi",
                                    "message time": "2021-08-03T15:40:29.000Z",
                                    "Message": "Backup      BACKUP failed to complete the command BACKUP DATABASE BenBenjiBenBenBen. Check the backup application log for detailed messages."
                                },
                                {
                                    "node": "aks-nodepool1-35148010-vmss000001",
                                    "namespace": "arc",
                                    "pod": "benportal3-1",
                                    "container": "arc-sqlmi",
                                    "message time": "2021-08-03T15:40:25.000Z",
                                    "Message": "Backup      BACKUP failed to complete the command BACKUP DATABASE master. Check the backup application log for detailed messages."
                                },
                                {
                                    "node": "aks-nodepool1-35148010-vmss000001",
                                    "namespace": "arc",
                                    "pod": "benportal3-1",
                                    "container": "arc-sqlmi",
                                    "message time": "2021-08-03T15:40:25.000Z",
                                    "Message": "Backup      Error: 3041, Severity: 16, State: 1."
                                },
                                {
                                    "node": "aks-nodepool1-35148010-vmss000001",
                                    "namespace": "arc",
                                    "pod": "benportal3-1",
                                    "container": "arc-sqlmi",
                                    "message time": "2021-08-03T15:40:25.000Z",
                                    "Message": "Backup      BACKUP failed to complete the command BACKUP DATABASE msdb. Check the backup application log for detailed messages."
                                },
                                {
                                    "node": "aks-nodepool1-35148010-vmss000001",
                                    "namespace": "arc",
                                    "pod": "benportal3-1",
                                    "container": "arc-sqlmi",
                                    "message time": "2021-08-03T15:40:25.000Z",
                                    "Message": "Backup      Error: 3041, Severity: 16, State: 1."
                                },
                                {
                                    "node": "aks-nodepool1-35148010-vmss000001",
                                    "namespace": "arc",
                                    "pod": "benportal3-1",
                                    "container": "arc-sqlmi",
                                    "message time": "2021-08-03T15:40:25.000Z",
                                    "Message": "Backup      Error: 3041, Severity: 16, State: 1."
                                },
                                {
                                    "node": "aks-nodepool1-35148010-vmss000000",
                                    "namespace": "arc",
                                    "pod": "benportal3-2",
                                    "container": "arc-sqlmi",
                                    "message time": "2021-08-03T15:40:12.000Z",
                                    "Message": "Backup      BACKUP failed to complete the command BACKUP DATABASE msdb. Check the backup application log for detailed messages."
                                },
                                {
                                    "node": "aks-nodepool1-35148010-vmss000000",
                                    "namespace": "arc",
                                    "pod": "benportal3-2",
                                    "container": "arc-sqlmi",
                                    "message time": "2021-08-03T15:40:08.000Z",
                                    "Message": "Backup      BACKUP failed to complete the command BACKUP DATABASE BenBenjiBenBenBen. Check the backup application log for detailed messages."
                                },
                                {
                                    "node": "aks-nodepool1-35148010-vmss000000",
                                    "namespace": "arc",
                                    "pod": "benportal3-2",
                                    "container": "arc-sqlmi",
                                    "message time": "2021-08-03T15:40:08.000Z",
                                    "Message": "Backup      BACKUP failed to complete the command BACKUP DATABASE master. Check the backup application log for detailed messages."
                                },
                                {
                                    "node": "aks-nodepool1-35148010-vmss000000",
                                    "namespace": "arc",
                                    "pod": "benportal3-2",
                                    "container": "arc-sqlmi",
                                    "message time": "2021-08-03T15:40:08.000Z",
                                    "Message": "Backup      Error: 3041, Severity: 16, State: 1."
                                },
                                {
                                    "node": "aks-nodepool1-35148010-vmss000000",
                                    "namespace": "arc",
                                    "pod": "benportal3-2",
                                    "container": "arc-sqlmi",
                                    "message time": "2021-08-03T15:40:08.000Z",
                                    "Message": "Backup      Error: 3041, Severity: 16, State: 1."
                                },
                                {
                                    "node": "aks-nodepool1-35148010-vmss000000",
                                    "namespace": "arc",
                                    "pod": "benportal3-2",
                                    "container": "arc-sqlmi",
                                    "message time": "2021-08-03T15:40:08.000Z",
                                    "Message": "Backup      Error: 3041, Severity: 16, State: 1."
                                },
                                {
                                    "node": "aks-nodepool1-35148010-vmss000001",
                                    "namespace": "arc",
                                    "pod": "benportal3-1",
                                    "container": "arc-sqlmi",
                                    "message time": "2021-08-03T15:40:01.000Z",
                                    "Message": "Backup      BACKUP failed to complete the command BACKUP DATABASE BenBenjiBenBenBen. Check the backup application log for detailed messages."
                                },
                                {
                                    "node": "aks-nodepool1-35148010-vmss000001",
                                    "namespace": "arc",
                                    "pod": "benportal3-1",
                                    "container": "arc-sqlmi",
                                    "message time": "2021-08-03T15:39:56.000Z",
                                    "Message": "Backup      Error: 3041, Severity: 16, State: 1."
                                },
                                {
                                    "node": "aks-nodepool1-35148010-vmss000001",
                                    "namespace": "arc",
                                    "pod": "benportal3-1",
                                    "container": "arc-sqlmi",
                                    "message time": "2021-08-03T15:39:56.000Z",
                                    "Message": "Backup      BACKUP failed to complete the command BACKUP DATABASE msdb. Check the backup application log for detailed messages."
                                },
                                {
                                    "node": "aks-nodepool1-35148010-vmss000001",
                                    "namespace": "arc",
                                    "pod": "benportal3-1",
                                    "container": "arc-sqlmi",
                                    "message time": "2021-08-03T15:39:55.000Z",
                                    "Message": "Backup      Error: 3041, Severity: 16, State: 1."
                                },
                                {
                                    "node": "aks-nodepool1-35148010-vmss000001",
                                    "namespace": "arc",
                                    "pod": "benportal3-1",
                                    "container": "arc-sqlmi",
                                    "message time": "2021-08-03T15:39:55.000Z",
                                    "Message": "Backup      Error: 3041, Severity: 16, State: 1."
                                },
                                {
                                    "node": "aks-nodepool1-35148010-vmss000001",
                                    "namespace": "arc",
                                    "pod": "benportal3-1",
                                    "container": "arc-sqlmi",
                                    "message time": "2021-08-03T15:39:55.000Z",
                                    "Message": "Backup      BACKUP failed to complete the command BACKUP DATABASE master. Check the backup application log for detailed messages."
                                },
                                {
                                    "node": "aks-nodepool1-35148010-vmss000002",
                                    "namespace": "arc",
                                    "pod": "benportal3-0",
                                    "container": "arc-sqlmi",
                                    "message time": "2021-08-03T15:39:51.000Z",
                                    "Message": "Backup      BACKUP DATABASE successfully processed 390 pages in 0.305 seconds (9.976 MB/sec)."
                                },
                                {
                                    "node": "aks-nodepool1-35148010-vmss000002",
                                    "namespace": "arc",
                                    "pod": "benportal3-0",
                                    "container": "arc-sqlmi",
                                    "message time": "2021-08-03T15:39:48.000Z",
                                    "Message": "Backup      Database backed up. Database: BenBenjiBenBenBen, creation date(time): 2021/08/03(15:39:28), pages dumped: 395, first LSN: 37:288:1, last LSN: 37:504:1, number of dump devices: 1, device information: (FILE=1, TYPE=DISK: {'/var/opt/mssql/backups/current-temp/22cc7cff-92b0-480d-93ac-c07a6ce6ed09/Full-20210803153947-4afcfcaf-1756-4320-86ef-e631a32635c2.bak'}). This is an informational message only. No user action is required."
                                },
                                {
                                    "node": "aks-nodepool1-35148010-vmss000000",
                                    "namespace": "arc",
                                    "pod": "benportal3-2",
                                    "container": "arc-sqlmi",
                                    "message time": "2021-08-03T15:39:44.000Z",
                                    "Message": "Backup      BACKUP failed to complete the command BACKUP DATABASE BenBenjiBenBenBen. Check the backup application log for detailed messages."
                                },
                                {
                                    "node": "aks-nodepool1-35148010-vmss000000",
                                    "namespace": "arc",
                                    "pod": "benportal3-2",
                                    "container": "arc-sqlmi",
                                    "message time": "2021-08-03T15:39:38.000Z",
                                    "Message": "Backup      BACKUP failed to complete the command BACKUP DATABASE master. Check the backup application log for detailed messages."
                                },
                                {
                                    "node": "aks-nodepool1-35148010-vmss000000",
                                    "namespace": "arc",
                                    "pod": "benportal3-2",
                                    "container": "arc-sqlmi",
                                    "message time": "2021-08-03T15:39:38.000Z",
                                    "Message": "Backup      Error: 3041, Severity: 16, State: 1."
                                },
                                {
                                    "node": "aks-nodepool1-35148010-vmss000000",
                                    "namespace": "arc",
                                    "pod": "benportal3-2",
                                    "container": "arc-sqlmi",
                                    "message time": "2021-08-03T15:39:38.000Z",
                                    "Message": "Backup      Error: 3041, Severity: 16, State: 1."
                                },
                                {
                                    "node": "aks-nodepool1-35148010-vmss000000",
                                    "namespace": "arc",
                                    "pod": "benportal3-2",
                                    "container": "arc-sqlmi",
                                    "message time": "2021-08-03T15:39:38.000Z",
                                    "Message": "Backup      Error: 3041, Severity: 16, State: 1."
                                },
                                {
                                    "node": "aks-nodepool1-35148010-vmss000000",
                                    "namespace": "arc",
                                    "pod": "benportal3-2",
                                    "container": "arc-sqlmi",
                                    "message time": "2021-08-03T15:39:38.000Z",
                                    "Message": "Backup      BACKUP failed to complete the command BACKUP DATABASE msdb. Check the backup application log for detailed messages."
                                },
                                {
                                    "node": "aks-nodepool1-35148010-vmss000000",
                                    "namespace": "arc",
                                    "pod": "benportal3-2",
                                    "container": "arc-sqlmi",
                                    "message time": "2021-08-03T15:39:33.000Z",
                                    "Message": "Backup      RESTORE DATABASE successfully processed 367 pages in 0.130 seconds (22.025 MB/sec)."
                                },
                                {
                                    "node": "aks-nodepool1-35148010-vmss000002",
                                    "namespace": "arc",
                                    "pod": "benportal3-0",
                                    "container": "arc-sqlmi",
                                    "message time": "2021-08-03T15:39:33.000Z",
                                    "Message": "Backup      BACKUP DATABASE successfully processed 367 pages in 0.187 seconds (15.311 MB/sec)."
                                },
                                {
                                    "node": "aks-nodepool1-35148010-vmss000000",
                                    "namespace": "arc",
                                    "pod": "benportal3-2",
                                    "container": "arc-sqlmi",
                                    "message time": "2021-08-03T15:39:33.000Z",
                                    "Message": "Backup      Database was restored: Database: BenBenjiBenBenBen, creation date(time): 2021/08/03(15:39:28), first LSN: 37:288:1, last LSN: 37:392:1, number of dump devices: 1, device information: (FILE=1, TYPE=VIRTUAL_DEVICE: {'{12933D51-EF5A-4F9F-BA43-269C903E21E1}'}). Informational message. No user action required."
                                },
                                {
                                    "node": "aks-nodepool1-35148010-vmss000001",
                                    "namespace": "arc",
                                    "pod": "benportal3-1",
                                    "container": "arc-sqlmi",
                                    "message time": "2021-08-03T15:39:33.000Z",
                                    "Message": "Backup      Database was restored: Database: BenBenjiBenBenBen, creation date(time): 2021/08/03(15:39:28), first LSN: 37:288:1, last LSN: 37:368:1, number of dump devices: 1, device information: (FILE=1, TYPE=VIRTUAL_DEVICE: {'{FD6F075D-0692-4B46-8AC7-059D8D94933A}'}). Informational message. No user action required."
                                },
                                {
                                    "node": "aks-nodepool1-35148010-vmss000001",
                                    "namespace": "arc",
                                    "pod": "benportal3-1",
                                    "container": "arc-sqlmi",
                                    "message time": "2021-08-03T15:39:33.000Z",
                                    "Message": "Backup      RESTORE DATABASE successfully processed 365 pages in 0.148 seconds (19.267 MB/sec)."
                                },
                                {
                                    "node": "aks-nodepool1-35148010-vmss000002",
                                    "namespace": "arc",
                                    "pod": "benportal3-0",
                                    "container": "arc-sqlmi",
                                    "message time": "2021-08-03T15:39:33.000Z",
                                    "Message": "Backup      Database backed up. Database: BenBenjiBenBenBen, creation date(time): 2021/08/03(15:39:28), pages dumped: 522, first LSN: 37:288:1, last LSN: 37:392:1, number of dump devices: 1, device information: (FILE=1, TYPE=VIRTUAL_DEVICE: {'{8A9E65BB-E267-4909-9E8A-8E847E281018}'}). This is an informational message only. No user action is required."
                                },
                                {
                                    "node": "aks-nodepool1-35148010-vmss000002",
                                    "namespace": "arc",
                                    "pod": "benportal3-0",
                                    "container": "arc-sqlmi",
                                    "message time": "2021-08-03T15:39:32.000Z",
                                    "Message": "Backup      Database backed up. Database: BenBenjiBenBenBen, creation date(time): 2021/08/03(15:39:28), pages dumped: 522, first LSN: 37:288:1, last LSN: 37:368:1, number of dump devices: 1, device information: (FILE=1, TYPE=VIRTUAL_DEVICE: {'{DDA94D51-E3D1-4B95-B858-2E461DD13276}'}). This is an informational message only. No user action is required."
                                },
                                {
                                    "node": "aks-nodepool1-35148010-vmss000002",
                                    "namespace": "arc",
                                    "pod": "benportal3-0",
                                    "container": "arc-sqlmi",
                                    "message time": "2021-08-03T15:39:32.000Z",
                                    "Message": "Backup      BACKUP DATABASE successfully processed 365 pages in 0.150 seconds (19.010 MB/sec)."
                                },
                                {
                                    "node": "aks-nodepool1-35148010-vmss000002",
                                    "namespace": "arc",
                                    "pod": "benportal3-0",
                                    "container": "arc-sqlmi",
                                    "message time": "2021-08-03T15:39:30.000Z",
                                    "Message": "Backup      BACKUP DATABASE successfully processed 378 pages in 0.122 seconds (24.173 MB/sec)."
                                },
                                {
                                    "node": "aks-nodepool1-35148010-vmss000002",
                                    "namespace": "arc",
                                    "pod": "benportal3-0",
                                    "container": "arc-sqlmi",
                                    "message time": "2021-08-03T15:39:30.000Z",
                                    "Message": "Backup      Database backed up. Database: BenBenjiBenBenBen, creation date(time): 2021/08/03(15:39:28), pages dumped: 387, first LSN: 37:288:1, last LSN: 37:312:1, number of dump devices: 1, device information: (FILE=1, TYPE=DISK: {'NUL'}). This is an informational message only. No user action is required."
                                },
                                {
                                    "node": "aks-nodepool1-35148010-vmss000001",
                                    "namespace": "arc",
                                    "pod": "benportal3-1",
                                    "container": "arc-sqlmi",
                                    "message time": "2021-08-03T15:39:29.000Z",
                                    "Message": "Backup      BACKUP failed to complete the command BACKUP DATABASE msdb. Check the backup application log for detailed messages."
                                },
                                {
                                    "node": "aks-nodepool1-35148010-vmss000001",
                                    "namespace": "arc",
                                    "pod": "benportal3-1",
                                    "container": "arc-sqlmi",
                                    "message time": "2021-08-03T15:39:25.000Z",
                                    "Message": "Backup      Error: 3041, Severity: 16, State: 1."
                                },
                                {
                                    "node": "aks-nodepool1-35148010-vmss000001",
                                    "namespace": "arc",
                                    "pod": "benportal3-1",
                                    "container": "arc-sqlmi",
                                    "message time": "2021-08-03T15:39:25.000Z",
                                    "Message": "Backup      Error: 3041, Severity: 16, State: 1."
                                },
                                {
                                    "node": "aks-nodepool1-35148010-vmss000001",
                                    "namespace": "arc",
                                    "pod": "benportal3-1",
                                    "container": "arc-sqlmi",
                                    "message time": "2021-08-03T15:39:25.000Z",
                                    "Message": "Backup      BACKUP failed to complete the command BACKUP DATABASE master. Check the backup application log for detailed messages."
                                },
                                {
                                    "node": "aks-nodepool1-35148010-vmss000000",
                                    "namespace": "arc",
                                    "pod": "benportal3-2",
                                    "container": "arc-sqlmi",
                                    "message time": "2021-08-03T15:39:12.000Z",
                                    "Message": "Backup      BACKUP failed to complete the command BACKUP DATABASE master. Check the backup application log for detailed messages."
                                },
                                {
                                    "node": "aks-nodepool1-35148010-vmss000000",
                                    "namespace": "arc",
                                    "pod": "benportal3-2",
                                    "container": "arc-sqlmi",
                                    "message time": "2021-08-03T15:39:08.000Z",
                                    "Message": "Backup      Error: 3041, Severity: 16, State: 1."
                                },
                                {
                                    "node": "aks-nodepool1-35148010-vmss000000",
                                    "namespace": "arc",
                                    "pod": "benportal3-2",
                                    "container": "arc-sqlmi",
                                    "message time": "2021-08-03T15:39:08.000Z",
                                    "Message": "Backup      BACKUP failed to complete the command BACKUP DATABASE msdb. Check the backup application log for detailed messages."
                                },
                                {
                                    "node": "aks-nodepool1-35148010-vmss000000",
                                    "namespace": "arc",
                                    "pod": "benportal3-2",
                                    "container": "arc-sqlmi",
                                    "message time": "2021-08-03T15:39:08.000Z",
                                    "Message": "Backup      Error: 3041, Severity: 16, State: 1."
                                },
                                {
                                    "node": "aks-nodepool1-35148010-vmss000001",
                                    "namespace": "arc",
                                    "pod": "benportal3-1",
                                    "container": "arc-sqlmi",
                                    "message time": "2021-08-03T15:39:01.000Z",
                                    "Message": "Backup      BACKUP failed to complete the command BACKUP DATABASE msdb. Check the backup application log for detailed messages."
                                },
                                {
                                    "node": "aks-nodepool1-35148010-vmss000001",
                                    "namespace": "arc",
                                    "pod": "benportal3-1",
                                    "container": "arc-sqlmi",
                                    "message time": "2021-08-03T15:38:55.000Z",
                                    "Message": "Backup      Error: 3041, Severity: 16, State: 1."
                                },
                                {
                                    "node": "aks-nodepool1-35148010-vmss000001",
                                    "namespace": "arc",
                                    "pod": "benportal3-1",
                                    "container": "arc-sqlmi",
                                    "message time": "2021-08-03T15:38:55.000Z",
                                    "Message": "Backup      BACKUP failed to complete the command BACKUP DATABASE master. Check the backup application log for detailed messages."
                                },
                                {
                                    "node": "aks-nodepool1-35148010-vmss000001",
                                    "namespace": "arc",
                                    "pod": "benportal3-1",
                                    "container": "arc-sqlmi",
                                    "message time": "2021-08-03T15:38:55.000Z",
                                    "Message": "Backup      Error: 3041, Severity: 16, State: 1."
                                },
                                {
                                    "node": "aks-nodepool1-35148010-vmss000000",
                                    "namespace": "arc",
                                    "pod": "benportal3-2",
                                    "container": "arc-sqlmi",
                                    "message time": "2021-08-03T15:38:44.000Z",
                                    "Message": "Backup      BACKUP failed to complete the command BACKUP DATABASE msdb. Check the backup application log for detailed messages."
                                },
                                {
                                    "node": "aks-nodepool1-35148010-vmss000000",
                                    "namespace": "arc",
                                    "pod": "benportal3-2",
                                    "container": "arc-sqlmi",
                                    "message time": "2021-08-03T15:38:38.000Z",
                                    "Message": "Backup      BACKUP failed to complete the command BACKUP DATABASE master. Check the backup application log for detailed messages."
                                },
                                {
                                    "node": "aks-nodepool1-35148010-vmss000000",
                                    "namespace": "arc",
                                    "pod": "benportal3-2",
                                    "container": "arc-sqlmi",
                                    "message time": "2021-08-03T15:38:38.000Z",
                                    "Message": "Backup      Error: 3041, Severity: 16, State: 1."
                                },
                                {
                                    "node": "aks-nodepool1-35148010-vmss000000",
                                    "namespace": "arc",
                                    "pod": "benportal3-2",
                                    "container": "arc-sqlmi",
                                    "message time": "2021-08-03T15:38:38.000Z",
                                    "Message": "Backup      Error: 3041, Severity: 16, State: 1."
                                },
                                {
                                    "node": "aks-nodepool1-35148010-vmss000001",
                                    "namespace": "arc",
                                    "pod": "benportal3-1",
                                    "container": "arc-sqlmi",
                                    "message time": "2021-08-03T15:38:29.000Z",
                                    "Message": "Backup      BACKUP failed to complete the command BACKUP DATABASE master. Check the backup application log for detailed messages."
                                },
                                {
                                    "node": "aks-nodepool1-35148010-vmss000001",
                                    "namespace": "arc",
                                    "pod": "benportal3-1",
                                    "container": "arc-sqlmi",
                                    "message time": "2021-08-03T15:38:25.000Z",
                                    "Message": "Backup      BACKUP failed to complete the command BACKUP DATABASE msdb. Check the backup application log for detailed messages."
                                },
                                {
                                    "node": "aks-nodepool1-35148010-vmss000001",
                                    "namespace": "arc",
                                    "pod": "benportal3-1",
                                    "container": "arc-sqlmi",
                                    "message time": "2021-08-03T15:38:25.000Z",
                                    "Message": "Backup      Error: 3041, Severity: 16, State: 1."
                                },
                                {
                                    "node": "aks-nodepool1-35148010-vmss000001",
                                    "namespace": "arc",
                                    "pod": "benportal3-1",
                                    "container": "arc-sqlmi",
                                    "message time": "2021-08-03T15:38:25.000Z",
                                    "Message": "Backup      Error: 3041, Severity: 16, State: 1."
                                },
                                {
                                    "node": "aks-nodepool1-35148010-vmss000000",
                                    "namespace": "arc",
                                    "pod": "benportal3-2",
                                    "container": "arc-sqlmi",
                                    "message time": "2021-08-03T15:38:12.000Z",
                                    "Message": "Backup      BACKUP failed to complete the command BACKUP DATABASE master. Check the backup application log for detailed messages."
                                },
                                {
                                    "node": "aks-nodepool1-35148010-vmss000000",
                                    "namespace": "arc",
                                    "pod": "benportal3-2",
                                    "container": "arc-sqlmi",
                                    "message time": "2021-08-03T15:38:08.000Z",
                                    "Message": "Backup      Error: 3041, Severity: 16, State: 1."
                                },
                                {
                                    "node": "aks-nodepool1-35148010-vmss000000",
                                    "namespace": "arc",
                                    "pod": "benportal3-2",
                                    "container": "arc-sqlmi",
                                    "message time": "2021-08-03T15:38:08.000Z",
                                    "Message": "Backup      BACKUP failed to complete the command BACKUP DATABASE msdb. Check the backup application log for detailed messages."
                                },
                                {
                                    "node": "aks-nodepool1-35148010-vmss000000",
                                    "namespace": "arc",
                                    "pod": "benportal3-2",
                                    "container": "arc-sqlmi",
                                    "message time": "2021-08-03T15:38:08.000Z",
                                    "Message": "Backup      Error: 3041, Severity: 16, State: 1."
                                },
                                {
                                    "node": "aks-nodepool1-35148010-vmss000001",
                                    "namespace": "arc",
                                    "pod": "benportal3-1",
                                    "container": "arc-sqlmi",
                                    "message time": "2021-08-03T15:38:01.000Z",
                                    "Message": "Backup      BACKUP failed to complete the command BACKUP DATABASE master. Check the backup application log for detailed messages."
                                },
                                {
                                    "node": "aks-nodepool1-35148010-vmss000001",
                                    "namespace": "arc",
                                    "pod": "benportal3-1",
                                    "container": "arc-sqlmi",
                                    "message time": "2021-08-03T15:37:55.000Z",
                                    "Message": "Backup      Error: 3041, Severity: 16, State: 1."
                                },
                                {
                                    "node": "aks-nodepool1-35148010-vmss000001",
                                    "namespace": "arc",
                                    "pod": "benportal3-1",
                                    "container": "arc-sqlmi",
                                    "message time": "2021-08-03T15:37:55.000Z",
                                    "Message": "Backup      Error: 3041, Severity: 16, State: 1."
                                },
                                {
                                    "node": "aks-nodepool1-35148010-vmss000001",
                                    "namespace": "arc",
                                    "pod": "benportal3-1",
                                    "container": "arc-sqlmi",
                                    "message time": "2021-08-03T15:37:55.000Z",
                                    "Message": "Backup      BACKUP failed to complete the command BACKUP DATABASE msdb. Check the backup application log for detailed messages."
                                },
                                {
                                    "node": "aks-nodepool1-35148010-vmss000000",
                                    "namespace": "arc",
                                    "pod": "benportal3-2",
                                    "container": "arc-sqlmi",
                                    "message time": "2021-08-03T15:37:44.000Z",
                                    "Message": "Backup      BACKUP failed to complete the command BACKUP DATABASE msdb. Check the backup application log for detailed messages."
                                },
                                {
                                    "node": "aks-nodepool1-35148010-vmss000000",
                                    "namespace": "arc",
                                    "pod": "benportal3-2",
                                    "container": "arc-sqlmi",
                                    "message time": "2021-08-03T15:37:38.000Z",
                                    "Message": "Backup      Error: 3041, Severity: 16, State: 1."
                                },
                                {
                                    "node": "aks-nodepool1-35148010-vmss000000",
                                    "namespace": "arc",
                                    "pod": "benportal3-2",
                                    "container": "arc-sqlmi",
                                    "message time": "2021-08-03T15:37:38.000Z",
                                    "Message": "Backup      Error: 3041, Severity: 16, State: 1."
                                },
                                {
                                    "node": "aks-nodepool1-35148010-vmss000000",
                                    "namespace": "arc",
                                    "pod": "benportal3-2",
                                    "container": "arc-sqlmi",
                                    "message time": "2021-08-03T15:37:38.000Z",
                                    "Message": "Backup      BACKUP failed to complete the command BACKUP DATABASE master. Check the backup application log for detailed messages."
                                },
                                {
                                    "node": "aks-nodepool1-35148010-vmss000001",
                                    "namespace": "arc",
                                    "pod": "benportal3-1",
                                    "container": "arc-sqlmi",
                                    "message time": "2021-08-03T15:37:29.000Z",
                                    "Message": "Backup      BACKUP failed to complete the command BACKUP DATABASE master. Check the backup application log for detailed messages."
                                },
                                {
                                    "node": "aks-nodepool1-35148010-vmss000001",
                                    "namespace": "arc",
                                    "pod": "benportal3-1",
                                    "container": "arc-sqlmi",
                                    "message time": "2021-08-03T15:37:25.000Z",
                                    "Message": "Backup      Error: 3041, Severity: 16, State: 1."
                                },
                                {
                                    "node": "aks-nodepool1-35148010-vmss000001",
                                    "namespace": "arc",
                                    "pod": "benportal3-1",
                                    "container": "arc-sqlmi",
                                    "message time": "2021-08-03T15:37:25.000Z",
                                    "Message": "Backup      Error: 3041, Severity: 16, State: 1."
                                },
                                {
                                    "node": "aks-nodepool1-35148010-vmss000001",
                                    "namespace": "arc",
                                    "pod": "benportal3-1",
                                    "container": "arc-sqlmi",
                                    "message time": "2021-08-03T15:37:25.000Z",
                                    "Message": "Backup      BACKUP failed to complete the command BACKUP DATABASE msdb. Check the backup application log for detailed messages."
                                },
                                {
                                    "node": "aks-nodepool1-35148010-vmss000000",
                                    "namespace": "arc",
                                    "pod": "benportal3-2",
                                    "container": "arc-sqlmi",
                                    "message time": "2021-08-03T15:37:12.000Z",
                                    "Message": "Backup      BACKUP failed to complete the command BACKUP DATABASE master. Check the backup application log for detailed messages."
                                },
                                {
                                    "node": "aks-nodepool1-35148010-vmss000000",
                                    "namespace": "arc",
                                    "pod": "benportal3-2",
                                    "container": "arc-sqlmi",
                                    "message time": "2021-08-03T15:37:08.000Z",
                                    "Message": "Backup      Error: 3041, Severity: 16, State: 1."
                                },
                                {
                                    "node": "aks-nodepool1-35148010-vmss000000",
                                    "namespace": "arc",
                                    "pod": "benportal3-2",
                                    "container": "arc-sqlmi",
                                    "message time": "2021-08-03T15:37:08.000Z",
                                    "Message": "Backup      Error: 3041, Severity: 16, State: 1."
                                },
                                {
                                    "node": "aks-nodepool1-35148010-vmss000000",
                                    "namespace": "arc",
                                    "pod": "benportal3-2",
                                    "container": "arc-sqlmi",
                                    "message time": "2021-08-03T15:37:08.000Z",
                                    "Message": "Backup      BACKUP failed to complete the command BACKUP DATABASE msdb. Check the backup application log for detailed messages."
                                },
                                {
                                    "node": "aks-nodepool1-35148010-vmss000001",
                                    "namespace": "arc",
                                    "pod": "benportal3-1",
                                    "container": "arc-sqlmi",
                                    "message time": "2021-08-03T15:37:01.000Z",
                                    "Message": "Backup      BACKUP failed to complete the command BACKUP DATABASE msdb. Check the backup application log for detailed messages."
                                },
                                {
                                    "node": "aks-nodepool1-35148010-vmss000001",
                                    "namespace": "arc",
                                    "pod": "benportal3-1",
                                    "container": "arc-sqlmi",
                                    "message time": "2021-08-03T15:36:55.000Z",
                                    "Message": "Backup      BACKUP failed to complete the command BACKUP DATABASE master. Check the backup application log for detailed messages."
                                },
                                {
                                    "node": "aks-nodepool1-35148010-vmss000001",
                                    "namespace": "arc",
                                    "pod": "benportal3-1",
                                    "container": "arc-sqlmi",
                                    "message time": "2021-08-03T15:36:55.000Z",
                                    "Message": "Backup      Error: 3041, Severity: 16, State: 1."
                                },
                                {
                                    "node": "aks-nodepool1-35148010-vmss000001",
                                    "namespace": "arc",
                                    "pod": "benportal3-1",
                                    "container": "arc-sqlmi",
                                    "message time": "2021-08-03T15:36:55.000Z",
                                    "Message": "Backup      Error: 3041, Severity: 16, State: 1."
                                },
                                {
                                    "node": "aks-nodepool1-35148010-vmss000000",
                                    "namespace": "arc",
                                    "pod": "benportal3-2",
                                    "container": "arc-sqlmi",
                                    "message time": "2021-08-03T15:36:44.000Z",
                                    "Message": "Backup      BACKUP failed to complete the command BACKUP DATABASE master. Check the backup application log for detailed messages."
                                },
                                {
                                    "node": "aks-nodepool1-35148010-vmss000000",
                                    "namespace": "arc",
                                    "pod": "benportal3-2",
                                    "container": "arc-sqlmi",
                                    "message time": "2021-08-03T15:36:38.000Z",
                                    "Message": "Backup      Error: 3041, Severity: 16, State: 1."
                                },
                                {
                                    "node": "aks-nodepool1-35148010-vmss000000",
                                    "namespace": "arc",
                                    "pod": "benportal3-2",
                                    "container": "arc-sqlmi",
                                    "message time": "2021-08-03T15:36:38.000Z",
                                    "Message": "Backup      Error: 3041, Severity: 16, State: 1."
                                },
                                {
                                    "node": "aks-nodepool1-35148010-vmss000000",
                                    "namespace": "arc",
                                    "pod": "benportal3-2",
                                    "container": "arc-sqlmi",
                                    "message time": "2021-08-03T15:36:38.000Z",
                                    "Message": "Backup      BACKUP failed to complete the command BACKUP DATABASE msdb. Check the backup application log for detailed messages."
                                },
                                {
                                    "node": "aks-nodepool1-35148010-vmss000001",
                                    "namespace": "arc",
                                    "pod": "benportal3-1",
                                    "container": "arc-sqlmi",
                                    "message time": "2021-08-03T15:36:29.000Z",
                                    "Message": "Backup      BACKUP failed to complete the command BACKUP DATABASE msdb. Check the backup application log for detailed messages."
                                },
                                {
                                    "node": "aks-nodepool1-35148010-vmss000001",
                                    "namespace": "arc",
                                    "pod": "benportal3-1",
                                    "container": "arc-sqlmi",
                                    "message time": "2021-08-03T15:36:25.000Z",
                                    "Message": "Backup      Error: 3041, Severity: 16, State: 1."
                                },
                                {
                                    "node": "aks-nodepool1-35148010-vmss000001",
                                    "namespace": "arc",
                                    "pod": "benportal3-1",
                                    "container": "arc-sqlmi",
                                    "message time": "2021-08-03T15:36:25.000Z",
                                    "Message": "Backup      Error: 3041, Severity: 16, State: 1."
                                },
                                {
                                    "node": "aks-nodepool1-35148010-vmss000001",
                                    "namespace": "arc",
                                    "pod": "benportal3-1",
                                    "container": "arc-sqlmi",
                                    "message time": "2021-08-03T15:36:25.000Z",
                                    "Message": "Backup      BACKUP failed to complete the command BACKUP DATABASE master. Check the backup application log for detailed messages."
                                },
                                {
                                    "node": "aks-nodepool1-35148010-vmss000000",
                                    "namespace": "arc",
                                    "pod": "benportal3-2",
                                    "container": "arc-sqlmi",
                                    "message time": "2021-08-03T15:36:12.000Z",
                                    "Message": "Backup      BACKUP failed to complete the command BACKUP DATABASE msdb. Check the backup application log for detailed messages."
                                },
                                {
                                    "node": "aks-nodepool1-35148010-vmss000000",
                                    "namespace": "arc",
                                    "pod": "benportal3-2",
                                    "container": "arc-sqlmi",
                                    "message time": "2021-08-03T15:36:08.000Z",
                                    "Message": "Backup      Error: 3041, Severity: 16, State: 1."
                                },
                                {
                                    "node": "aks-nodepool1-35148010-vmss000000",
                                    "namespace": "arc",
                                    "pod": "benportal3-2",
                                    "container": "arc-sqlmi",
                                    "message time": "2021-08-03T15:36:08.000Z",
                                    "Message": "Backup      Error: 3041, Severity: 16, State: 1."
                                },
                                {
                                    "node": "aks-nodepool1-35148010-vmss000000",
                                    "namespace": "arc",
                                    "pod": "benportal3-2",
                                    "container": "arc-sqlmi",
                                    "message time": "2021-08-03T15:36:08.000Z",
                                    "Message": "Backup      BACKUP failed to complete the command BACKUP DATABASE master. Check the backup application log for detailed messages."
                                },
                                {
                                    "node": "aks-nodepool1-35148010-vmss000001",
                                    "namespace": "arc",
                                    "pod": "benportal3-1",
                                    "container": "arc-sqlmi",
                                    "message time": "2021-08-03T15:36:01.000Z",
                                    "Message": "Backup      BACKUP failed to complete the command BACKUP DATABASE msdb. Check the backup application log for detailed messages."
                                },
                                {
                                    "node": "aks-nodepool1-35148010-vmss000001",
                                    "namespace": "arc",
                                    "pod": "benportal3-1",
                                    "container": "arc-sqlmi",
                                    "message time": "2021-08-03T15:35:55.000Z",
                                    "Message": "Backup      Error: 3041, Severity: 16, State: 1."
                                },
                                {
                                    "node": "aks-nodepool1-35148010-vmss000001",
                                    "namespace": "arc",
                                    "pod": "benportal3-1",
                                    "container": "arc-sqlmi",
                                    "message time": "2021-08-03T15:35:55.000Z",
                                    "Message": "Backup      Error: 3041, Severity: 16, State: 1."
                                },
                                {
                                    "node": "aks-nodepool1-35148010-vmss000001",
                                    "namespace": "arc",
                                    "pod": "benportal3-1",
                                    "container": "arc-sqlmi",
                                    "message time": "2021-08-03T15:35:55.000Z",
                                    "Message": "Backup      BACKUP failed to complete the command BACKUP DATABASE master. Check the backup application log for detailed messages."
                                },
                                {
                                    "node": "aks-nodepool1-35148010-vmss000000",
                                    "namespace": "arc",
                                    "pod": "benportal3-2",
                                    "container": "arc-sqlmi",
                                    "message time": "2021-08-03T15:35:44.000Z",
                                    "Message": "Backup      BACKUP failed to complete the command BACKUP DATABASE master. Check the backup application log for detailed messages."
                                },
                                {
                                    "node": "aks-nodepool1-35148010-vmss000000",
                                    "namespace": "arc",
                                    "pod": "benportal3-2",
                                    "container": "arc-sqlmi",
                                    "message time": "2021-08-03T15:35:38.000Z",
                                    "Message": "Backup      Error: 3041, Severity: 16, State: 1."
                                },
                                {
                                    "node": "aks-nodepool1-35148010-vmss000000",
                                    "namespace": "arc",
                                    "pod": "benportal3-2",
                                    "container": "arc-sqlmi",
                                    "message time": "2021-08-03T15:35:38.000Z",
                                    "Message": "Backup      Error: 3041, Severity: 16, State: 1."
                                },
                                {
                                    "node": "aks-nodepool1-35148010-vmss000000",
                                    "namespace": "arc",
                                    "pod": "benportal3-2",
                                    "container": "arc-sqlmi",
                                    "message time": "2021-08-03T15:35:38.000Z",
                                    "Message": "Backup      BACKUP failed to complete the command BACKUP DATABASE msdb. Check the backup application log for detailed messages."
                                },
                                {
                                    "node": "aks-nodepool1-35148010-vmss000001",
                                    "namespace": "arc",
                                    "pod": "benportal3-1",
                                    "container": "arc-sqlmi",
                                    "message time": "2021-08-03T15:35:29.000Z",
                                    "Message": "Backup      BACKUP failed to complete the command BACKUP DATABASE msdb. Check the backup application log for detailed messages."
                                },
                                {
                                    "node": "aks-nodepool1-35148010-vmss000001",
                                    "namespace": "arc",
                                    "pod": "benportal3-1",
                                    "container": "arc-sqlmi",
                                    "message time": "2021-08-03T15:35:25.000Z",
                                    "Message": "Backup      BACKUP failed to complete the command BACKUP DATABASE master. Check the backup application log for detailed messages."
                                },
                                {
                                    "node": "aks-nodepool1-35148010-vmss000001",
                                    "namespace": "arc",
                                    "pod": "benportal3-1",
                                    "container": "arc-sqlmi",
                                    "message time": "2021-08-03T15:35:25.000Z",
                                    "Message": "Backup      Error: 3041, Severity: 16, State: 1."
                                },
                                {
                                    "node": "aks-nodepool1-35148010-vmss000001",
                                    "namespace": "arc",
                                    "pod": "benportal3-1",
                                    "container": "arc-sqlmi",
                                    "message time": "2021-08-03T15:35:25.000Z",
                                    "Message": "Backup      Error: 3041, Severity: 16, State: 1."
                                },
                                {
                                    "node": "aks-nodepool1-35148010-vmss000000",
                                    "namespace": "arc",
                                    "pod": "benportal3-2",
                                    "container": "arc-sqlmi",
                                    "message time": "2021-08-03T15:35:12.000Z",
                                    "Message": "Backup      BACKUP failed to complete the command BACKUP DATABASE master. Check the backup application log for detailed messages."
                                },
                                {
                                    "node": "aks-nodepool1-35148010-vmss000000",
                                    "namespace": "arc",
                                    "pod": "benportal3-2",
                                    "container": "arc-sqlmi",
                                    "message time": "2021-08-03T15:35:08.000Z",
                                    "Message": "Backup      Error: 3041, Severity: 16, State: 1."
                                },
                                {
                                    "node": "aks-nodepool1-35148010-vmss000000",
                                    "namespace": "arc",
                                    "pod": "benportal3-2",
                                    "container": "arc-sqlmi",
                                    "message time": "2021-08-03T15:35:08.000Z",
                                    "Message": "Backup      Error: 3041, Severity: 16, State: 1."
                                },
                                {
                                    "node": "aks-nodepool1-35148010-vmss000000",
                                    "namespace": "arc",
                                    "pod": "benportal3-2",
                                    "container": "arc-sqlmi",
                                    "message time": "2021-08-03T15:35:08.000Z",
                                    "Message": "Backup      BACKUP failed to complete the command BACKUP DATABASE msdb. Check the backup application log for detailed messages."
                                },
                                {
                                    "node": "aks-nodepool1-35148010-vmss000001",
                                    "namespace": "arc",
                                    "pod": "benportal3-1",
                                    "container": "arc-sqlmi",
                                    "message time": "2021-08-03T15:35:01.000Z",
                                    "Message": "Backup      BACKUP failed to complete the command BACKUP DATABASE master. Check the backup application log for detailed messages."
                                },
                                {
                                    "node": "aks-nodepool1-35148010-vmss000001",
                                    "namespace": "arc",
                                    "pod": "benportal3-1",
                                    "container": "arc-sqlmi",
                                    "message time": "2021-08-03T15:34:55.000Z",
                                    "Message": "Backup      BACKUP failed to complete the command BACKUP DATABASE msdb. Check the backup application log for detailed messages."
                                },
                                {
                                    "node": "aks-nodepool1-35148010-vmss000001",
                                    "namespace": "arc",
                                    "pod": "benportal3-1",
                                    "container": "arc-sqlmi",
                                    "message time": "2021-08-03T15:34:55.000Z",
                                    "Message": "Backup      Error: 3041, Severity: 16, State: 1."
                                },
                                {
                                    "node": "aks-nodepool1-35148010-vmss000001",
                                    "namespace": "arc",
                                    "pod": "benportal3-1",
                                    "container": "arc-sqlmi",
                                    "message time": "2021-08-03T15:34:55.000Z",
                                    "Message": "Backup      Error: 3041, Severity: 16, State: 1."
                                },
                                {
                                    "node": "aks-nodepool1-35148010-vmss000000",
                                    "namespace": "arc",
                                    "pod": "benportal3-2",
                                    "container": "arc-sqlmi",
                                    "message time": "2021-08-03T15:34:44.000Z",
                                    "Message": "Backup      BACKUP failed to complete the command BACKUP DATABASE master. Check the backup application log for detailed messages."
                                },
                                {
                                    "node": "aks-nodepool1-35148010-vmss000000",
                                    "namespace": "arc",
                                    "pod": "benportal3-2",
                                    "container": "arc-sqlmi",
                                    "message time": "2021-08-03T15:34:38.000Z",
                                    "Message": "Backup      Error: 3041, Severity: 16, State: 1."
                                },
                                {
                                    "node": "aks-nodepool1-35148010-vmss000000",
                                    "namespace": "arc",
                                    "pod": "benportal3-2",
                                    "container": "arc-sqlmi",
                                    "message time": "2021-08-03T15:34:38.000Z",
                                    "Message": "Backup      BACKUP failed to complete the command BACKUP DATABASE msdb. Check the backup application log for detailed messages."
                                },
                                {
                                    "node": "aks-nodepool1-35148010-vmss000000",
                                    "namespace": "arc",
                                    "pod": "benportal3-2",
                                    "container": "arc-sqlmi",
                                    "message time": "2021-08-03T15:34:38.000Z",
                                    "Message": "Backup      Error: 3041, Severity: 16, State: 1."
                                },
                                {
                                    "node": "aks-nodepool1-35148010-vmss000001",
                                    "namespace": "arc",
                                    "pod": "benportal3-1",
                                    "container": "arc-sqlmi",
                                    "message time": "2021-08-03T15:34:29.000Z",
                                    "Message": "Backup      BACKUP failed to complete the command BACKUP DATABASE msdb. Check the backup application log for detailed messages."
                                },
                                {
                                    "node": "aks-nodepool1-35148010-vmss000001",
                                    "namespace": "arc",
                                    "pod": "benportal3-1",
                                    "container": "arc-sqlmi",
                                    "message time": "2021-08-03T15:34:25.000Z",
                                    "Message": "Backup      BACKUP failed to complete the command BACKUP DATABASE master. Check the backup application log for detailed messages."
                                },
                                {
                                    "node": "aks-nodepool1-35148010-vmss000001",
                                    "namespace": "arc",
                                    "pod": "benportal3-1",
                                    "container": "arc-sqlmi",
                                    "message time": "2021-08-03T15:34:25.000Z",
                                    "Message": "Backup      Error: 3041, Severity: 16, State: 1."
                                },
                                {
                                    "node": "aks-nodepool1-35148010-vmss000001",
                                    "namespace": "arc",
                                    "pod": "benportal3-1",
                                    "container": "arc-sqlmi",
                                    "message time": "2021-08-03T15:34:25.000Z",
                                    "Message": "Backup      Error: 3041, Severity: 16, State: 1."
                                },
                                {
                                    "node": "aks-nodepool1-35148010-vmss000000",
                                    "namespace": "arc",
                                    "pod": "benportal3-2",
                                    "container": "arc-sqlmi",
                                    "message time": "2021-08-03T15:33:52.000Z",
                                    "Message": "Backup      Database was restored: Database: benportal3_msdb, creation date(time): 2021/08/03(15:33:21), first LSN: 80:176:1, last LSN: 81:192:1, number of dump devices: 1, device information: (FILE=1, TYPE=VIRTUAL_DEVICE: {'{0FEA48FB-B15E-46DA-B628-85D43849A866}'}). Informational message. No user action required."
                                },
                                {
                                    "node": "aks-nodepool1-35148010-vmss000002",
                                    "namespace": "arc",
                                    "pod": "benportal3-0",
                                    "container": "arc-sqlmi",
                                    "message time": "2021-08-03T15:33:52.000Z",
                                    "Message": "Backup      BACKUP DATABASE successfully processed 1920 pages in 0.222 seconds (67.567 MB/sec)."
                                },
                                {
                                    "node": "aks-nodepool1-35148010-vmss000002",
                                    "namespace": "arc",
                                    "pod": "benportal3-0",
                                    "container": "arc-sqlmi",
                                    "message time": "2021-08-03T15:33:52.000Z",
                                    "Message": "Backup      Database backed up. Database: benportal3_msdb, creation date(time): 2021/08/03(15:33:21), pages dumped: 2090, first LSN: 80:176:1, last LSN: 81:192:1, number of dump devices: 1, device information: (FILE=1, TYPE=VIRTUAL_DEVICE: {'{B7CFC154-4F32-4447-A63E-C11344FC0B7E}'}). This is an informational message only. No user action is required."
                                },
                                {
                                    "node": "aks-nodepool1-35148010-vmss000000",
                                    "namespace": "arc",
                                    "pod": "benportal3-2",
                                    "container": "arc-sqlmi",
                                    "message time": "2021-08-03T15:33:52.000Z",
                                    "Message": "Backup      RESTORE DATABASE successfully processed 1920 pages in 0.177 seconds (84.745 MB/sec)."
                                },
                                {
                                    "node": "aks-nodepool1-35148010-vmss000002",
                                    "namespace": "arc",
                                    "pod": "benportal3-0",
                                    "container": "arc-sqlmi",
                                    "message time": "2021-08-03T15:33:49.000Z",
                                    "Message": "Backup      BACKUP DATABASE successfully processed 1925 pages in 0.480 seconds (31.323 MB/sec)."
                                },
                                {
                                    "node": "aks-nodepool1-35148010-vmss000002",
                                    "namespace": "arc",
                                    "pod": "benportal3-0",
                                    "container": "arc-sqlmi",
                                    "message time": "2021-08-03T15:33:49.000Z",
                                    "Message": "Backup      Database backed up. Database: master, creation date(time): 2021/08/03(15:33:20), pages dumped: 571, first LSN: 220:304:1, last LSN: 220:520:1, number of dump devices: 1, device information: (FILE=1, TYPE=DISK: {'/var/opt/mssql/backups/current-temp/1e2d7cb0-27ad-407b-88d1-ddca87ed6e3d/Full-20210803153348-e6dbb3d1-7f6d-41fa-8547-29e8c6297d40.bak'}). This is an informational message only. No user action is required."
                                },
                                {
                                    "node": "aks-nodepool1-35148010-vmss000002",
                                    "namespace": "arc",
                                    "pod": "benportal3-0",
                                    "container": "arc-sqlmi",
                                    "message time": "2021-08-03T15:33:49.000Z",
                                    "Message": "Backup      Database backed up. Database: msdb, creation date(time): 2021/08/03(15:33:21), pages dumped: 2075, first LSN: 80:176:1, last LSN: 80:504:1, number of dump devices: 1, device information: (FILE=1, TYPE=DISK: {'/var/opt/mssql/backups/current-temp/0e32c00e-d1bc-4e61-9868-877d4a51a27b/Full-20210803153348-429a1424-64f1-4ee1-8eb1-e158b0e9f4d7.bak'}). This is an informational message only. No user action is required."
                                },
                                {
                                    "node": "aks-nodepool1-35148010-vmss000002",
                                    "namespace": "arc",
                                    "pod": "benportal3-0",
                                    "container": "arc-sqlmi",
                                    "message time": "2021-08-03T15:33:49.000Z",
                                    "Message": "Backup      BACKUP DATABASE successfully processed 566 pages in 0.378 seconds (11.687 MB/sec)."
                                },
                                {
                                    "node": "aks-nodepool1-35148010-vmss000000",
                                    "namespace": "arc",
                                    "pod": "benportal3-2",
                                    "container": "arc-sqlmi",
                                    "message time": "2021-08-03T15:33:47.000Z",
                                    "Message": "Backup      Database was restored: Database: benportal3_master, creation date(time): 2021/08/03(15:33:20), first LSN: 220:304:1, last LSN: 220:424:1, number of dump devices: 1, device information: (FILE=1, TYPE=VIRTUAL_DEVICE: {'{78881A0B-1522-4F44-986C-D30921D1904F}'}). Informational message. No user action required."
                                },
                                {
                                    "node": "aks-nodepool1-35148010-vmss000000",
                                    "namespace": "arc",
                                    "pod": "benportal3-2",
                                    "container": "arc-sqlmi",
                                    "message time": "2021-08-03T15:33:47.000Z",
                                    "Message": "Backup      RESTORE DATABASE successfully processed 544 pages in 0.136 seconds (31.221 MB/sec)."
                                },
                                {
                                    "node": "aks-nodepool1-35148010-vmss000002",
                                    "namespace": "arc",
                                    "pod": "benportal3-0",
                                    "container": "arc-sqlmi",
                                    "message time": "2021-08-03T15:33:47.000Z",
                                    "Message": "Backup      BACKUP DATABASE successfully processed 544 pages in 0.172 seconds (24.686 MB/sec)."
                                },
                                {
                                    "node": "aks-nodepool1-35148010-vmss000002",
                                    "namespace": "arc",
                                    "pod": "benportal3-0",
                                    "container": "arc-sqlmi",
                                    "message time": "2021-08-03T15:33:46.000Z",
                                    "Message": "Backup      Database backed up. Database: benportal3_master, creation date(time): 2021/08/03(15:33:20), pages dumped: 778, first LSN: 220:304:1, last LSN: 220:424:1, number of dump devices: 1, device information: (FILE=1, TYPE=VIRTUAL_DEVICE: {'{807A6C9D-1CC5-4E04-9486-9A5F03841C78}'}). This is an informational message only. No user action is required."
                                },
                                {
                                    "node": "aks-nodepool1-35148010-vmss000002",
                                    "namespace": "arc",
                                    "pod": "benportal3-0",
                                    "container": "arc-sqlmi",
                                    "message time": "2021-08-03T15:33:37.000Z",
                                    "Message": "Backup      BACKUP DATABASE successfully processed 1790 pages in 0.237 seconds (58.989 MB/sec)."
                                },
                                {
                                    "node": "aks-nodepool1-35148010-vmss000001",
                                    "namespace": "arc",
                                    "pod": "benportal3-1",
                                    "container": "arc-sqlmi",
                                    "message time": "2021-08-03T15:33:37.000Z",
                                    "Message": "Backup      Database was restored: Database: benportal3_msdb, creation date(time): 2021/08/03(15:33:21), first LSN: 80:176:1, last LSN: 80:264:1, number of dump devices: 1, device information: (FILE=1, TYPE=VIRTUAL_DEVICE: {'{8DEC5707-C8A8-4703-ADE3-1DBC40762595}'}). Informational message. No user action required."
                                },
                                {
                                    "node": "aks-nodepool1-35148010-vmss000002",
                                    "namespace": "arc",
                                    "pod": "benportal3-0",
                                    "container": "arc-sqlmi",
                                    "message time": "2021-08-03T15:33:37.000Z",
                                    "Message": "Backup      Database backed up. Database: benportal3_msdb, creation date(time): 2021/08/03(15:33:21), pages dumped: 1802, first LSN: 80:176:1, last LSN: 80:264:1, number of dump devices: 1, device information: (FILE=1, TYPE=VIRTUAL_DEVICE: {'{D1C80430-8FD5-4686-B24F-7E6331A65D7B}'}). This is an informational message only. No user action is required."
                                },
                                {
                                    "node": "aks-nodepool1-35148010-vmss000001",
                                    "namespace": "arc",
                                    "pod": "benportal3-1",
                                    "container": "arc-sqlmi",
                                    "message time": "2021-08-03T15:33:37.000Z",
                                    "Message": "Backup      RESTORE DATABASE successfully processed 1790 pages in 0.181 seconds (77.240 MB/sec)."
                                },
                                {
                                    "node": "aks-nodepool1-35148010-vmss000002",
                                    "namespace": "arc",
                                    "pod": "benportal3-0",
                                    "container": "arc-sqlmi",
                                    "message time": "2021-08-03T15:33:34.000Z",
                                    "Message": "Backup      BACKUP DATABASE successfully processed 542 pages in 0.178 seconds (23.766 MB/sec)."
                                },
                                {
                                    "node": "aks-nodepool1-35148010-vmss000001",
                                    "namespace": "arc",
                                    "pod": "benportal3-1",
                                    "container": "arc-sqlmi",
                                    "message time": "2021-08-03T15:33:34.000Z",
                                    "Message": "Backup      RESTORE DATABASE successfully processed 542 pages in 0.123 seconds (34.394 MB/sec)."
                                },
                                {
                                    "node": "aks-nodepool1-35148010-vmss000001",
                                    "namespace": "arc",
                                    "pod": "benportal3-1",
                                    "container": "arc-sqlmi",
                                    "message time": "2021-08-03T15:33:34.000Z",
                                    "Message": "Backup      Database was restored: Database: benportal3_master, creation date(time): 2021/08/03(15:33:20), first LSN: 220:304:1, last LSN: 220:392:1, number of dump devices: 1, device information: (FILE=1, TYPE=VIRTUAL_DEVICE: {'{4625BB26-7C6F-46E2-8269-CEBB7EFB2608}'}). Informational message. No user action required."
                                },
                                {
                                    "node": "aks-nodepool1-35148010-vmss000002",
                                    "namespace": "arc",
                                    "pod": "benportal3-0",
                                    "container": "arc-sqlmi",
                                    "message time": "2021-08-03T15:33:33.000Z",
                                    "Message": "Backup      Database backed up. Database: benportal3_master, creation date(time): 2021/08/03(15:33:20), pages dumped: 778, first LSN: 220:304:1, last LSN: 220:392:1, number of dump devices: 1, device information: (FILE=1, TYPE=VIRTUAL_DEVICE: {'{C56D832D-D398-4653-865E-0E44FE03D54C}'}). This is an informational message only. No user action is required."
                                },
                                {
                                    "node": "aks-nodepool1-35148010-vmss000002",
                                    "namespace": "arc",
                                    "pod": "benportal3-0",
                                    "container": "arc-sqlmi",
                                    "message time": "2021-08-03T15:33:22.000Z",
                                    "Message": "Backup      BACKUP DATABASE successfully processed 1802 pages in 0.132 seconds (106.622 MB/sec)."
                                },
                                {
                                    "node": "aks-nodepool1-35148010-vmss000002",
                                    "namespace": "arc",
                                    "pod": "benportal3-0",
                                    "container": "arc-sqlmi",
                                    "message time": "2021-08-03T15:33:22.000Z",
                                    "Message": "Backup      Database backed up. Database: benportal3_msdb, creation date(time): 2021/08/03(15:33:21), pages dumped: 1931, first LSN: 80:176:1, last LSN: 80:200:1, number of dump devices: 1, device information: (FILE=1, TYPE=DISK: {'NUL'}). This is an informational message only. No user action is required."
                                },
                                {
                                    "node": "aks-nodepool1-35148010-vmss000002",
                                    "namespace": "arc",
                                    "pod": "benportal3-0",
                                    "container": "arc-sqlmi",
                                    "message time": "2021-08-03T15:33:21.000Z",
                                    "Message": "Backup      Database backed up. Database: benportal3_master, creation date(time): 2021/08/03(15:33:20), pages dumped: 563, first LSN: 220:304:1, last LSN: 220:328:1, number of dump devices: 1, device information: (FILE=1, TYPE=DISK: {'NUL'}). This is an informational message only. No user action is required."
                                },
                                {
                                    "node": "aks-nodepool1-35148010-vmss000002",
                                    "namespace": "arc",
                                    "pod": "benportal3-0",
                                    "container": "arc-sqlmi",
                                    "message time": "2021-08-03T15:33:21.000Z",
                                    "Message": "Backup      BACKUP DATABASE successfully processed 554 pages in 0.136 seconds (31.795 MB/sec)."
                                },
                                {
                                    "node": "singlebeard",
                                    "namespace": "arc",
                                    "pod": "hyperben-0",
                                    "container": "arc-sqlmi",
                                    "message time": "2021-07-29T08:50:09.000Z",
                                    "Message": "Backup      Log was backed up. Database: BenBenjiBenBenBen, creation date(time): 2021/07/29(07:59:07), first LSN: 44:3784:1, last LSN: 44:3808:1, number of dump devices: 1, device information: (FILE=1, TYPE=DISK: {'/var/opt/mssql/backups/current/BenBenjiBenBenBen/Log-20210729085006-522c67ff-a84a-4b96-95ea-c58b98e4847f.bak'}). This is an informational message only. No user action is required."
                                },
                                {
                                    "node": "singlebeard",
                                    "namespace": "arc",
                                    "pod": "hyperben-0",
                                    "container": "arc-sqlmi",
                                    "message time": "2021-07-29T08:44:41.000Z",
                                    "Message": "Backup      Log was backed up. Database: BenBenjiBenBenBen, creation date(time): 2021/07/29(07:59:07), first LSN: 44:3760:1, last LSN: 44:3784:1, number of dump devices: 1, device information: (FILE=1, TYPE=DISK: {'/var/opt/mssql/backups/current/BenBenjiBenBenBen/Log-20210729084436-6d6607ea-3ab7-4d70-b89f-f300a04e8ee8.bak'}). This is an informational message only. No user action is required."
                                },
                                {
                                    "node": "singlebeard",
                                    "namespace": "arc",
                                    "pod": "hyperben-0",
                                    "container": "arc-sqlmi",
                                    "message time": "2021-07-29T08:39:09.000Z",
                                    "Message": "Backup      Log was backed up. Database: BenBenjiBenBenBen, creation date(time): 2021/07/29(07:59:07), first LSN: 44:3736:1, last LSN: 44:3760:1, number of dump devices: 1, device information: (FILE=1, TYPE=DISK: {'/var/opt/mssql/backups/current/BenBenjiBenBenBen/Log-20210729083906-66e4e18a-52f3-4ff9-90f5-128630401e5e.bak'}). This is an informational message only. No user action is required."
                                },
                                {
                                    "node": "singlebeard",
                                    "namespace": "arc",
                                    "pod": "hyperben-0",
                                    "container": "arc-sqlmi",
                                    "message time": "2021-07-29T08:33:41.000Z",
                                    "Message": "Backup      Log was backed up. Database: BenBenjiBenBenBen, creation date(time): 2021/07/29(07:59:07), first LSN: 44:3712:1, last LSN: 44:3736:1, number of dump devices: 1, device information: (FILE=1, TYPE=DISK: {'/var/opt/mssql/backups/current/BenBenjiBenBenBen/Log-20210729083336-9d00823f-805a-41d2-a863-0edfb2d41377.bak'}). This is an informational message only. No user action is required."
                                },
                                {
                                    "node": "singlebeard",
                                    "namespace": "arc",
                                    "pod": "hyperben-0",
                                    "container": "arc-sqlmi",
                                    "message time": "2021-07-29T08:28:09.000Z",
                                    "Message": "Backup      Log was backed up. Database: BenBenjiBenBenBen, creation date(time): 2021/07/29(07:59:07), first LSN: 44:3688:1, last LSN: 44:3712:1, number of dump devices: 1, device information: (FILE=1, TYPE=DISK: {'/var/opt/mssql/backups/current/BenBenjiBenBenBen/Log-20210729082806-16e78b98-3e6a-473c-b2f5-7ff5781077b2.bak'}). This is an informational message only. No user action is required."
                                },
                                {
                                    "node": "singlebeard",
                                    "namespace": "arc",
                                    "pod": "hyperben-0",
                                    "container": "arc-sqlmi",
                                    "message time": "2021-07-29T08:22:41.000Z",
                                    "Message": "Backup      Log was backed up. Database: BenBenjiBenBenBen, creation date(time): 2021/07/29(07:59:07), first LSN: 44:3648:1, last LSN: 44:3688:1, number of dump devices: 1, device information: (FILE=1, TYPE=DISK: {'/var/opt/mssql/backups/current/BenBenjiBenBenBen/Log-20210729082236-8e0d96ef-4e4a-41ab-840b-d58c3e0ce288.bak'}). This is an informational message only. No user action is required."
                                },
                                {
                                    "node": "singlebeard",
                                    "namespace": "arc",
                                    "pod": "hyperben-0",
                                    "container": "arc-sqlmi",
                                    "message time": "2021-07-29T08:17:09.000Z",
                                    "Message": "Backup      Log was backed up. Database: BenBenjiBenBenBen, creation date(time): 2021/07/29(07:59:07), first LSN: 44:3560:1, last LSN: 44:3648:1, number of dump devices: 1, device information: (FILE=1, TYPE=DISK: {'/var/opt/mssql/backups/current/BenBenjiBenBenBen/Log-20210729081706-22589489-7ba6-47e5-9fce-ec075536a834.bak'}). This is an informational message only. No user action is required."
                                },
                                {
                                    "node": "singlebeard",
                                    "namespace": "arc",
                                    "pod": "hyperben-0",
                                    "container": "arc-sqlmi",
                                    "message time": "2021-07-29T08:11:41.000Z",
                                    "Message": "Backup      Log was backed up. Database: BenBenjiBenBenBen, creation date(time): 2021/07/29(07:59:07), first LSN: 37:416:1, last LSN: 44:3560:1, number of dump devices: 1, device information: (FILE=1, TYPE=DISK: {'/var/opt/mssql/backups/current/BenBenjiBenBenBen/Log-20210729081136-b49a2e7b-91e0-445c-afa2-06cccb51593f.bak'}). This is an informational message only. No user action is required."
                                },
                                {
                                    "node": "singlebeard",
                                    "namespace": "arc",
                                    "pod": "hyperben-0",
                                    "container": "arc-sqlmi",
                                    "message time": "2021-07-29T08:06:09.000Z",
                                    "Message": "Backup      Log was backed up. Database: BenBenjiBenBenBen, creation date(time): 2021/07/29(07:59:07), first LSN: 37:312:1, last LSN: 37:416:1, number of dump devices: 1, device information: (FILE=1, TYPE=DISK: {'/var/opt/mssql/backups/current/BenBenjiBenBenBen/Log-20210729080606-6d9f9e4f-3476-40a1-a31e-4d7253c62494.bak'}). This is an informational message only. No user action is required."
                                },
                                {
                                    "node": "singlebeard",
                                    "namespace": "arc",
                                    "pod": "hyperben-0",
                                    "container": "arc-sqlmi",
                                    "message time": "2021-07-29T08:00:41.000Z",
                                    "Message": "Backup      BACKUP DATABASE WITH DIFFERENTIAL successfully processed 66 pages in 0.027 seconds (18.952 MB/sec)."
                                },
                                {
                                    "node": "singlebeard",
                                    "namespace": "arc",
                                    "pod": "hyperben-0",
                                    "container": "arc-sqlmi",
                                    "message time": "2021-07-29T08:00:36.000Z",
                                    "Message": "Backup      Log was backed up. Database: BenBenjiBenBenBen, creation date(time): 2021/07/29(07:59:07), first LSN: 37:264:1, last LSN: 37:312:1, number of dump devices: 1, device information: (FILE=1, TYPE=DISK: {'/var/opt/mssql/backups/current/BenBenjiBenBenBen/Log-20210729080036-d8685603-bf9c-4daa-8a2c-9c083205b93d.bak'}). This is an informational message only. No user action is required."
                                },
                                {
                                    "node": "singlebeard",
                                    "namespace": "arc",
                                    "pod": "hyperben-0",
                                    "container": "arc-sqlmi",
                                    "message time": "2021-07-29T08:00:36.000Z",
                                    "Message": "Backup      Database differential changes were backed up. Database: BenBenjiBenBenBen, creation date(time): 2021/07/29(07:59:07), pages dumped: 75, first LSN: 37:392:1, last LSN: 37:416:1, full backup LSN: 37:264:1, number of dump devices: 1, device information: (FILE=1, TYPE=DISK: {'/var/opt/mssql/backups/current/BenBenjiBenBenBen/Differential-20210729080036-43a94b76-dd71-47bf-a633-e6a618e14f8d.bak'}). This is an informational message. No user action is required."
                                },
                                {
                                    "node": "singlebeard",
                                    "namespace": "arc",
                                    "pod": "hyperben-0",
                                    "container": "arc-sqlmi",
                                    "message time": "2021-07-29T07:59:41.000Z",
                                    "Message": "Backup      BACKUP DATABASE successfully processed 322 pages in 0.040 seconds (62.792 MB/sec)."
                                },
                                {
                                    "node": "singlebeard",
                                    "namespace": "arc",
                                    "pod": "hyperben-0",
                                    "container": "arc-sqlmi",
                                    "message time": "2021-07-29T07:59:36.000Z",
                                    "Message": "Backup      Database backed up. Database: BenBenjiBenBenBen, creation date(time): 2021/07/29(07:59:07), pages dumped: 331, first LSN: 37:264:1, last LSN: 37:288:1, number of dump devices: 1, device information: (FILE=1, TYPE=DISK: {'/var/opt/mssql/backups/current-temp/BenBenjiBenBenBen/Full-20210729075936-1a5f80d7-cf45-4388-a1b1-8531ed1a5ff4.bak'}). This is an informational message only. No user action is required."
                                }
                            ]
                        }
                    },
                    "metadata": {},
                    "output_type": "display_data"
                },
                {
                    "data": {
                        "text/plain": "<IPython.core.display.HTML object>",
                        "text/html": "<html>\n        <head>\n            \n            \n        </head>\n        <body>\n            <div><p style=' padding: 10px; color: #3a87ad; background-color: #d9edf7; border-color: #bce9f1'>Done&nbsp;(00:00.954):&nbsp;334&nbsp;records</p></div>\n        </body>\n        </html>"
                    },
                    "metadata": {},
                    "output_type": "display_data"
                },
                {
                    "data": {
                        "text/plain": "[{'node': 'aks-nodepool1-35148010-vmss000000', 'namespace': 'arc', 'pod': 'benportal3-2', 'container': 'arc-sqlmi', 'message time': datetime.datetime(2021, 8, 3, 15, 47, 44, tzinfo=tzutc()), 'Message': 'Backup      BACKUP failed to complete the command BACKUP DATABASE BenBenjiBenBenBen. Check the backup application log for detailed messages.'},\n {'node': 'aks-nodepool1-35148010-vmss000000', 'namespace': 'arc', 'pod': 'benportal3-2', 'container': 'arc-sqlmi', 'message time': datetime.datetime(2021, 8, 3, 15, 47, 38, tzinfo=tzutc()), 'Message': 'Backup      Error: 3041, Severity: 16, State: 1.'},\n {'node': 'aks-nodepool1-35148010-vmss000000', 'namespace': 'arc', 'pod': 'benportal3-2', 'container': 'arc-sqlmi', 'message time': datetime.datetime(2021, 8, 3, 15, 47, 38, tzinfo=tzutc()), 'Message': 'Backup      Error: 3041, Severity: 16, State: 1.'},\n {'node': 'aks-nodepool1-35148010-vmss000000', 'namespace': 'arc', 'pod': 'benportal3-2', 'container': 'arc-sqlmi', 'message time': datetime.datetime(2021, 8, 3, 15, 47, 38, tzinfo=tzutc()), 'Message': 'Backup      BACKUP failed to complete the command BACKUP DATABASE msdb. Check the backup application log for detailed messages.'},\n {'node': 'aks-nodepool1-35148010-vmss000000', 'namespace': 'arc', 'pod': 'benportal3-2', 'container': 'arc-sqlmi', 'message time': datetime.datetime(2021, 8, 3, 15, 47, 38, tzinfo=tzutc()), 'Message': 'Backup      Error: 3041, Severity: 16, State: 1.'},\n {'node': 'aks-nodepool1-35148010-vmss000000', 'namespace': 'arc', 'pod': 'benportal3-2', 'container': 'arc-sqlmi', 'message time': datetime.datetime(2021, 8, 3, 15, 47, 38, tzinfo=tzutc()), 'Message': 'Backup      BACKUP failed to complete the command BACKUP DATABASE master. Check the backup application log for detailed messages.'},\n {'node': 'aks-nodepool1-35148010-vmss000001', 'namespace': 'arc', 'pod': 'benportal3-1', 'container': 'arc-sqlmi', 'message time': datetime.datetime(2021, 8, 3, 15, 47, 29, tzinfo=tzutc()), 'Message': 'Backup      BACKUP failed to complete the command BACKUP DATABASE master. Check the backup application log for detailed messages.'},\n {'node': 'aks-nodepool1-35148010-vmss000001', 'namespace': 'arc', 'pod': 'benportal3-1', 'container': 'arc-sqlmi', 'message time': datetime.datetime(2021, 8, 3, 15, 47, 25, tzinfo=tzutc()), 'Message': 'Backup      BACKUP failed to complete the command BACKUP DATABASE BenBenjiBenBenBen. Check the backup application log for detailed messages.'},\n {'node': 'aks-nodepool1-35148010-vmss000001', 'namespace': 'arc', 'pod': 'benportal3-1', 'container': 'arc-sqlmi', 'message time': datetime.datetime(2021, 8, 3, 15, 47, 25, tzinfo=tzutc()), 'Message': 'Backup      Error: 3041, Severity: 16, State: 1.'},\n {'node': 'aks-nodepool1-35148010-vmss000001', 'namespace': 'arc', 'pod': 'benportal3-1', 'container': 'arc-sqlmi', 'message time': datetime.datetime(2021, 8, 3, 15, 47, 25, tzinfo=tzutc()), 'Message': 'Backup      Error: 3041, Severity: 16, State: 1.'},\n {'node': 'aks-nodepool1-35148010-vmss000001', 'namespace': 'arc', 'pod': 'benportal3-1', 'container': 'arc-sqlmi', 'message time': datetime.datetime(2021, 8, 3, 15, 47, 25, tzinfo=tzutc()), 'Message': 'Backup      BACKUP failed to complete the command BACKUP DATABASE msdb. Check the backup application log for detailed messages.'},\n {'node': 'aks-nodepool1-35148010-vmss000001', 'namespace': 'arc', 'pod': 'benportal3-1', 'container': 'arc-sqlmi', 'message time': datetime.datetime(2021, 8, 3, 15, 47, 25, tzinfo=tzutc()), 'Message': 'Backup      Error: 3041, Severity: 16, State: 1.'},\n {'node': 'aks-nodepool1-35148010-vmss000000', 'namespace': 'arc', 'pod': 'benportal3-2', 'container': 'arc-sqlmi', 'message time': datetime.datetime(2021, 8, 3, 15, 47, 12, tzinfo=tzutc()), 'Message': 'Backup      BACKUP failed to complete the command BACKUP DATABASE BenBenjiBenBenBen. Check the backup application log for detailed messages.'},\n {'node': 'aks-nodepool1-35148010-vmss000000', 'namespace': 'arc', 'pod': 'benportal3-2', 'container': 'arc-sqlmi', 'message time': datetime.datetime(2021, 8, 3, 15, 47, 8, tzinfo=tzutc()), 'Message': 'Backup      BACKUP failed to complete the command BACKUP DATABASE msdb. Check the backup application log for detailed messages.'},\n {'node': 'aks-nodepool1-35148010-vmss000000', 'namespace': 'arc', 'pod': 'benportal3-2', 'container': 'arc-sqlmi', 'message time': datetime.datetime(2021, 8, 3, 15, 47, 8, tzinfo=tzutc()), 'Message': 'Backup      BACKUP failed to complete the command BACKUP DATABASE master. Check the backup application log for detailed messages.'},\n {'node': 'aks-nodepool1-35148010-vmss000000', 'namespace': 'arc', 'pod': 'benportal3-2', 'container': 'arc-sqlmi', 'message time': datetime.datetime(2021, 8, 3, 15, 47, 8, tzinfo=tzutc()), 'Message': 'Backup      Error: 3041, Severity: 16, State: 1.'},\n {'node': 'aks-nodepool1-35148010-vmss000000', 'namespace': 'arc', 'pod': 'benportal3-2', 'container': 'arc-sqlmi', 'message time': datetime.datetime(2021, 8, 3, 15, 47, 8, tzinfo=tzutc()), 'Message': 'Backup      Error: 3041, Severity: 16, State: 1.'},\n {'node': 'aks-nodepool1-35148010-vmss000000', 'namespace': 'arc', 'pod': 'benportal3-2', 'container': 'arc-sqlmi', 'message time': datetime.datetime(2021, 8, 3, 15, 47, 8, tzinfo=tzutc()), 'Message': 'Backup      Error: 3041, Severity: 16, State: 1.'},\n {'node': 'aks-nodepool1-35148010-vmss000001', 'namespace': 'arc', 'pod': 'benportal3-1', 'container': 'arc-sqlmi', 'message time': datetime.datetime(2021, 8, 3, 15, 47, 1, tzinfo=tzutc()), 'Message': 'Backup      BACKUP failed to complete the command BACKUP DATABASE master. Check the backup application log for detailed messages.'},\n {'node': 'aks-nodepool1-35148010-vmss000001', 'namespace': 'arc', 'pod': 'benportal3-1', 'container': 'arc-sqlmi', 'message time': datetime.datetime(2021, 8, 3, 15, 46, 55, tzinfo=tzutc()), 'Message': 'Backup      BACKUP failed to complete the command BACKUP DATABASE BenBenjiBenBenBen. Check the backup application log for detailed messages.'},\n {'node': 'aks-nodepool1-35148010-vmss000001', 'namespace': 'arc', 'pod': 'benportal3-1', 'container': 'arc-sqlmi', 'message time': datetime.datetime(2021, 8, 3, 15, 46, 55, tzinfo=tzutc()), 'Message': 'Backup      Error: 3041, Severity: 16, State: 1.'},\n {'node': 'aks-nodepool1-35148010-vmss000001', 'namespace': 'arc', 'pod': 'benportal3-1', 'container': 'arc-sqlmi', 'message time': datetime.datetime(2021, 8, 3, 15, 46, 55, tzinfo=tzutc()), 'Message': 'Backup      Error: 3041, Severity: 16, State: 1.'},\n {'node': 'aks-nodepool1-35148010-vmss000001', 'namespace': 'arc', 'pod': 'benportal3-1', 'container': 'arc-sqlmi', 'message time': datetime.datetime(2021, 8, 3, 15, 46, 55, tzinfo=tzutc()), 'Message': 'Backup      BACKUP failed to complete the command BACKUP DATABASE msdb. Check the backup application log for detailed messages.'},\n {'node': 'aks-nodepool1-35148010-vmss000001', 'namespace': 'arc', 'pod': 'benportal3-1', 'container': 'arc-sqlmi', 'message time': datetime.datetime(2021, 8, 3, 15, 46, 55, tzinfo=tzutc()), 'Message': 'Backup      Error: 3041, Severity: 16, State: 1.'},\n {'node': 'aks-nodepool1-35148010-vmss000000', 'namespace': 'arc', 'pod': 'benportal3-2', 'container': 'arc-sqlmi', 'message time': datetime.datetime(2021, 8, 3, 15, 46, 44, tzinfo=tzutc()), 'Message': 'Backup      BACKUP failed to complete the command BACKUP DATABASE master. Check the backup application log for detailed messages.'},\n {'node': 'aks-nodepool1-35148010-vmss000000', 'namespace': 'arc', 'pod': 'benportal3-2', 'container': 'arc-sqlmi', 'message time': datetime.datetime(2021, 8, 3, 15, 46, 38, tzinfo=tzutc()), 'Message': 'Backup      Error: 3041, Severity: 16, State: 1.'},\n {'node': 'aks-nodepool1-35148010-vmss000000', 'namespace': 'arc', 'pod': 'benportal3-2', 'container': 'arc-sqlmi', 'message time': datetime.datetime(2021, 8, 3, 15, 46, 38, tzinfo=tzutc()), 'Message': 'Backup      BACKUP failed to complete the command BACKUP DATABASE msdb. Check the backup application log for detailed messages.'},\n {'node': 'aks-nodepool1-35148010-vmss000000', 'namespace': 'arc', 'pod': 'benportal3-2', 'container': 'arc-sqlmi', 'message time': datetime.datetime(2021, 8, 3, 15, 46, 38, tzinfo=tzutc()), 'Message': 'Backup      Error: 3041, Severity: 16, State: 1.'},\n {'node': 'aks-nodepool1-35148010-vmss000000', 'namespace': 'arc', 'pod': 'benportal3-2', 'container': 'arc-sqlmi', 'message time': datetime.datetime(2021, 8, 3, 15, 46, 38, tzinfo=tzutc()), 'Message': 'Backup      BACKUP failed to complete the command BACKUP DATABASE BenBenjiBenBenBen. Check the backup application log for detailed messages.'},\n {'node': 'aks-nodepool1-35148010-vmss000000', 'namespace': 'arc', 'pod': 'benportal3-2', 'container': 'arc-sqlmi', 'message time': datetime.datetime(2021, 8, 3, 15, 46, 38, tzinfo=tzutc()), 'Message': 'Backup      Error: 3041, Severity: 16, State: 1.'},\n {'node': 'aks-nodepool1-35148010-vmss000001', 'namespace': 'arc', 'pod': 'benportal3-1', 'container': 'arc-sqlmi', 'message time': datetime.datetime(2021, 8, 3, 15, 46, 29, tzinfo=tzutc()), 'Message': 'Backup      BACKUP failed to complete the command BACKUP DATABASE master. Check the backup application log for detailed messages.'},\n {'node': 'aks-nodepool1-35148010-vmss000001', 'namespace': 'arc', 'pod': 'benportal3-1', 'container': 'arc-sqlmi', 'message time': datetime.datetime(2021, 8, 3, 15, 46, 25, tzinfo=tzutc()), 'Message': 'Backup      BACKUP failed to complete the command BACKUP DATABASE msdb. Check the backup application log for detailed messages.'},\n {'node': 'aks-nodepool1-35148010-vmss000001', 'namespace': 'arc', 'pod': 'benportal3-1', 'container': 'arc-sqlmi', 'message time': datetime.datetime(2021, 8, 3, 15, 46, 25, tzinfo=tzutc()), 'Message': 'Backup      Error: 3041, Severity: 16, State: 1.'},\n {'node': 'aks-nodepool1-35148010-vmss000001', 'namespace': 'arc', 'pod': 'benportal3-1', 'container': 'arc-sqlmi', 'message time': datetime.datetime(2021, 8, 3, 15, 46, 25, tzinfo=tzutc()), 'Message': 'Backup      BACKUP failed to complete the command BACKUP DATABASE BenBenjiBenBenBen. Check the backup application log for detailed messages.'},\n {'node': 'aks-nodepool1-35148010-vmss000001', 'namespace': 'arc', 'pod': 'benportal3-1', 'container': 'arc-sqlmi', 'message time': datetime.datetime(2021, 8, 3, 15, 46, 25, tzinfo=tzutc()), 'Message': 'Backup      Error: 3041, Severity: 16, State: 1.'},\n {'node': 'aks-nodepool1-35148010-vmss000001', 'namespace': 'arc', 'pod': 'benportal3-1', 'container': 'arc-sqlmi', 'message time': datetime.datetime(2021, 8, 3, 15, 46, 25, tzinfo=tzutc()), 'Message': 'Backup      Error: 3041, Severity: 16, State: 1.'},\n {'node': 'aks-nodepool1-35148010-vmss000002', 'namespace': 'arc', 'pod': 'benportal3-0', 'container': 'arc-sqlmi', 'message time': datetime.datetime(2021, 8, 3, 15, 46, 23, tzinfo=tzutc()), 'Message': \"Backup      Log was backed up. Database: BenBenjiBenBenBen, creation date(time): 2021/08/03(15:39:28), first LSN: 37:536:1, last LSN: 41:7440:1, number of dump devices: 1, device information: (FILE=1, TYPE=DISK: {'/var/opt/mssql/backups/current/22cc7cff-92b0-480d-93ac-c07a6ce6ed09/Log-20210803154617-0a9008d1-f0ea-4cbf-b19e-53857625727e.bak'}). This is an informational message only. No user action is required.\"},\n {'node': 'aks-nodepool1-35148010-vmss000000', 'namespace': 'arc', 'pod': 'benportal3-2', 'container': 'arc-sqlmi', 'message time': datetime.datetime(2021, 8, 3, 15, 46, 12, tzinfo=tzutc()), 'Message': 'Backup      BACKUP failed to complete the command BACKUP DATABASE BenBenjiBenBenBen. Check the backup application log for detailed messages.'},\n {'node': 'aks-nodepool1-35148010-vmss000000', 'namespace': 'arc', 'pod': 'benportal3-2', 'container': 'arc-sqlmi', 'message time': datetime.datetime(2021, 8, 3, 15, 46, 8, tzinfo=tzutc()), 'Message': 'Backup      Error: 3041, Severity: 16, State: 1.'},\n {'node': 'aks-nodepool1-35148010-vmss000000', 'namespace': 'arc', 'pod': 'benportal3-2', 'container': 'arc-sqlmi', 'message time': datetime.datetime(2021, 8, 3, 15, 46, 8, tzinfo=tzutc()), 'Message': 'Backup      BACKUP failed to complete the command BACKUP DATABASE msdb. Check the backup application log for detailed messages.'},\n {'node': 'aks-nodepool1-35148010-vmss000000', 'namespace': 'arc', 'pod': 'benportal3-2', 'container': 'arc-sqlmi', 'message time': datetime.datetime(2021, 8, 3, 15, 46, 8, tzinfo=tzutc()), 'Message': 'Backup      Error: 3041, Severity: 16, State: 1.'},\n {'node': 'aks-nodepool1-35148010-vmss000000', 'namespace': 'arc', 'pod': 'benportal3-2', 'container': 'arc-sqlmi', 'message time': datetime.datetime(2021, 8, 3, 15, 46, 8, tzinfo=tzutc()), 'Message': 'Backup      BACKUP failed to complete the command BACKUP DATABASE master. Check the backup application log for detailed messages.'},\n {'node': 'aks-nodepool1-35148010-vmss000000', 'namespace': 'arc', 'pod': 'benportal3-2', 'container': 'arc-sqlmi', 'message time': datetime.datetime(2021, 8, 3, 15, 46, 8, tzinfo=tzutc()), 'Message': 'Backup      Error: 3041, Severity: 16, State: 1.'},\n {'node': 'aks-nodepool1-35148010-vmss000001', 'namespace': 'arc', 'pod': 'benportal3-1', 'container': 'arc-sqlmi', 'message time': datetime.datetime(2021, 8, 3, 15, 46, 1, tzinfo=tzutc()), 'Message': 'Backup      BACKUP failed to complete the command BACKUP DATABASE master. Check the backup application log for detailed messages.'},\n {'node': 'aks-nodepool1-35148010-vmss000001', 'namespace': 'arc', 'pod': 'benportal3-1', 'container': 'arc-sqlmi', 'message time': datetime.datetime(2021, 8, 3, 15, 45, 55, tzinfo=tzutc()), 'Message': 'Backup      Error: 3041, Severity: 16, State: 1.'},\n {'node': 'aks-nodepool1-35148010-vmss000001', 'namespace': 'arc', 'pod': 'benportal3-1', 'container': 'arc-sqlmi', 'message time': datetime.datetime(2021, 8, 3, 15, 45, 55, tzinfo=tzutc()), 'Message': 'Backup      BACKUP failed to complete the command BACKUP DATABASE msdb. Check the backup application log for detailed messages.'},\n {'node': 'aks-nodepool1-35148010-vmss000001', 'namespace': 'arc', 'pod': 'benportal3-1', 'container': 'arc-sqlmi', 'message time': datetime.datetime(2021, 8, 3, 15, 45, 55, tzinfo=tzutc()), 'Message': 'Backup      BACKUP failed to complete the command BACKUP DATABASE BenBenjiBenBenBen. Check the backup application log for detailed messages.'},\n {'node': 'aks-nodepool1-35148010-vmss000001', 'namespace': 'arc', 'pod': 'benportal3-1', 'container': 'arc-sqlmi', 'message time': datetime.datetime(2021, 8, 3, 15, 45, 55, tzinfo=tzutc()), 'Message': 'Backup      Error: 3041, Severity: 16, State: 1.'},\n {'node': 'aks-nodepool1-35148010-vmss000001', 'namespace': 'arc', 'pod': 'benportal3-1', 'container': 'arc-sqlmi', 'message time': datetime.datetime(2021, 8, 3, 15, 45, 55, tzinfo=tzutc()), 'Message': 'Backup      Error: 3041, Severity: 16, State: 1.'},\n {'node': 'aks-nodepool1-35148010-vmss000000', 'namespace': 'arc', 'pod': 'benportal3-2', 'container': 'arc-sqlmi', 'message time': datetime.datetime(2021, 8, 3, 15, 45, 44, tzinfo=tzutc()), 'Message': 'Backup      BACKUP failed to complete the command BACKUP DATABASE BenBenjiBenBenBen. Check the backup application log for detailed messages.'},\n {'node': 'aks-nodepool1-35148010-vmss000000', 'namespace': 'arc', 'pod': 'benportal3-2', 'container': 'arc-sqlmi', 'message time': datetime.datetime(2021, 8, 3, 15, 45, 38, tzinfo=tzutc()), 'Message': 'Backup      Error: 3041, Severity: 16, State: 1.'},\n {'node': 'aks-nodepool1-35148010-vmss000000', 'namespace': 'arc', 'pod': 'benportal3-2', 'container': 'arc-sqlmi', 'message time': datetime.datetime(2021, 8, 3, 15, 45, 38, tzinfo=tzutc()), 'Message': 'Backup      BACKUP failed to complete the command BACKUP DATABASE master. Check the backup application log for detailed messages.'},\n {'node': 'aks-nodepool1-35148010-vmss000000', 'namespace': 'arc', 'pod': 'benportal3-2', 'container': 'arc-sqlmi', 'message time': datetime.datetime(2021, 8, 3, 15, 45, 38, tzinfo=tzutc()), 'Message': 'Backup      BACKUP failed to complete the command BACKUP DATABASE msdb. Check the backup application log for detailed messages.'},\n {'node': 'aks-nodepool1-35148010-vmss000000', 'namespace': 'arc', 'pod': 'benportal3-2', 'container': 'arc-sqlmi', 'message time': datetime.datetime(2021, 8, 3, 15, 45, 38, tzinfo=tzutc()), 'Message': 'Backup      Error: 3041, Severity: 16, State: 1.'},\n {'node': 'aks-nodepool1-35148010-vmss000000', 'namespace': 'arc', 'pod': 'benportal3-2', 'container': 'arc-sqlmi', 'message time': datetime.datetime(2021, 8, 3, 15, 45, 38, tzinfo=tzutc()), 'Message': 'Backup      Error: 3041, Severity: 16, State: 1.'},\n {'node': 'aks-nodepool1-35148010-vmss000001', 'namespace': 'arc', 'pod': 'benportal3-1', 'container': 'arc-sqlmi', 'message time': datetime.datetime(2021, 8, 3, 15, 45, 29, tzinfo=tzutc()), 'Message': 'Backup      BACKUP failed to complete the command BACKUP DATABASE master. Check the backup application log for detailed messages.'},\n {'node': 'aks-nodepool1-35148010-vmss000001', 'namespace': 'arc', 'pod': 'benportal3-1', 'container': 'arc-sqlmi', 'message time': datetime.datetime(2021, 8, 3, 15, 45, 25, tzinfo=tzutc()), 'Message': 'Backup      Error: 3041, Severity: 16, State: 1.'},\n {'node': 'aks-nodepool1-35148010-vmss000001', 'namespace': 'arc', 'pod': 'benportal3-1', 'container': 'arc-sqlmi', 'message time': datetime.datetime(2021, 8, 3, 15, 45, 25, tzinfo=tzutc()), 'Message': 'Backup      BACKUP failed to complete the command BACKUP DATABASE msdb. Check the backup application log for detailed messages.'},\n {'node': 'aks-nodepool1-35148010-vmss000001', 'namespace': 'arc', 'pod': 'benportal3-1', 'container': 'arc-sqlmi', 'message time': datetime.datetime(2021, 8, 3, 15, 45, 25, tzinfo=tzutc()), 'Message': 'Backup      Error: 3041, Severity: 16, State: 1.'},\n {'node': 'aks-nodepool1-35148010-vmss000001', 'namespace': 'arc', 'pod': 'benportal3-1', 'container': 'arc-sqlmi', 'message time': datetime.datetime(2021, 8, 3, 15, 45, 25, tzinfo=tzutc()), 'Message': 'Backup      Error: 3041, Severity: 16, State: 1.'},\n {'node': 'aks-nodepool1-35148010-vmss000001', 'namespace': 'arc', 'pod': 'benportal3-1', 'container': 'arc-sqlmi', 'message time': datetime.datetime(2021, 8, 3, 15, 45, 25, tzinfo=tzutc()), 'Message': 'Backup      BACKUP failed to complete the command BACKUP DATABASE BenBenjiBenBenBen. Check the backup application log for detailed messages.'},\n {'node': 'aks-nodepool1-35148010-vmss000000', 'namespace': 'arc', 'pod': 'benportal3-2', 'container': 'arc-sqlmi', 'message time': datetime.datetime(2021, 8, 3, 15, 45, 12, tzinfo=tzutc()), 'Message': 'Backup      BACKUP failed to complete the command BACKUP DATABASE BenBenjiBenBenBen. Check the backup application log for detailed messages.'},\n {'node': 'aks-nodepool1-35148010-vmss000000', 'namespace': 'arc', 'pod': 'benportal3-2', 'container': 'arc-sqlmi', 'message time': datetime.datetime(2021, 8, 3, 15, 45, 8, tzinfo=tzutc()), 'Message': 'Backup      BACKUP failed to complete the command BACKUP DATABASE master. Check the backup application log for detailed messages.'},\n {'node': 'aks-nodepool1-35148010-vmss000000', 'namespace': 'arc', 'pod': 'benportal3-2', 'container': 'arc-sqlmi', 'message time': datetime.datetime(2021, 8, 3, 15, 45, 8, tzinfo=tzutc()), 'Message': 'Backup      Error: 3041, Severity: 16, State: 1.'},\n {'node': 'aks-nodepool1-35148010-vmss000000', 'namespace': 'arc', 'pod': 'benportal3-2', 'container': 'arc-sqlmi', 'message time': datetime.datetime(2021, 8, 3, 15, 45, 8, tzinfo=tzutc()), 'Message': 'Backup      Error: 3041, Severity: 16, State: 1.'},\n {'node': 'aks-nodepool1-35148010-vmss000000', 'namespace': 'arc', 'pod': 'benportal3-2', 'container': 'arc-sqlmi', 'message time': datetime.datetime(2021, 8, 3, 15, 45, 8, tzinfo=tzutc()), 'Message': 'Backup      BACKUP failed to complete the command BACKUP DATABASE msdb. Check the backup application log for detailed messages.'},\n {'node': 'aks-nodepool1-35148010-vmss000000', 'namespace': 'arc', 'pod': 'benportal3-2', 'container': 'arc-sqlmi', 'message time': datetime.datetime(2021, 8, 3, 15, 45, 8, tzinfo=tzutc()), 'Message': 'Backup      Error: 3041, Severity: 16, State: 1.'},\n {'node': 'aks-nodepool1-35148010-vmss000001', 'namespace': 'arc', 'pod': 'benportal3-1', 'container': 'arc-sqlmi', 'message time': datetime.datetime(2021, 8, 3, 15, 45, 1, tzinfo=tzutc()), 'Message': 'Backup      BACKUP failed to complete the command BACKUP DATABASE msdb. Check the backup application log for detailed messages.'},\n {'node': 'aks-nodepool1-35148010-vmss000001', 'namespace': 'arc', 'pod': 'benportal3-1', 'container': 'arc-sqlmi', 'message time': datetime.datetime(2021, 8, 3, 15, 44, 55, tzinfo=tzutc()), 'Message': 'Backup      BACKUP failed to complete the command BACKUP DATABASE master. Check the backup application log for detailed messages.'},\n {'node': 'aks-nodepool1-35148010-vmss000001', 'namespace': 'arc', 'pod': 'benportal3-1', 'container': 'arc-sqlmi', 'message time': datetime.datetime(2021, 8, 3, 15, 44, 55, tzinfo=tzutc()), 'Message': 'Backup      Error: 3041, Severity: 16, State: 1.'},\n {'node': 'aks-nodepool1-35148010-vmss000001', 'namespace': 'arc', 'pod': 'benportal3-1', 'container': 'arc-sqlmi', 'message time': datetime.datetime(2021, 8, 3, 15, 44, 55, tzinfo=tzutc()), 'Message': 'Backup      Error: 3041, Severity: 16, State: 1.'},\n {'node': 'aks-nodepool1-35148010-vmss000001', 'namespace': 'arc', 'pod': 'benportal3-1', 'container': 'arc-sqlmi', 'message time': datetime.datetime(2021, 8, 3, 15, 44, 55, tzinfo=tzutc()), 'Message': 'Backup      BACKUP failed to complete the command BACKUP DATABASE BenBenjiBenBenBen. Check the backup application log for detailed messages.'},\n {'node': 'aks-nodepool1-35148010-vmss000001', 'namespace': 'arc', 'pod': 'benportal3-1', 'container': 'arc-sqlmi', 'message time': datetime.datetime(2021, 8, 3, 15, 44, 55, tzinfo=tzutc()), 'Message': 'Backup      Error: 3041, Severity: 16, State: 1.'},\n {'node': 'aks-nodepool1-35148010-vmss000000', 'namespace': 'arc', 'pod': 'benportal3-2', 'container': 'arc-sqlmi', 'message time': datetime.datetime(2021, 8, 3, 15, 44, 44, tzinfo=tzutc()), 'Message': 'Backup      BACKUP failed to complete the command BACKUP DATABASE BenBenjiBenBenBen. Check the backup application log for detailed messages.'},\n {'node': 'aks-nodepool1-35148010-vmss000000', 'namespace': 'arc', 'pod': 'benportal3-2', 'container': 'arc-sqlmi', 'message time': datetime.datetime(2021, 8, 3, 15, 44, 38, tzinfo=tzutc()), 'Message': 'Backup      Error: 3041, Severity: 16, State: 1.'},\n {'node': 'aks-nodepool1-35148010-vmss000000', 'namespace': 'arc', 'pod': 'benportal3-2', 'container': 'arc-sqlmi', 'message time': datetime.datetime(2021, 8, 3, 15, 44, 38, tzinfo=tzutc()), 'Message': 'Backup      Error: 3041, Severity: 16, State: 1.'},\n {'node': 'aks-nodepool1-35148010-vmss000000', 'namespace': 'arc', 'pod': 'benportal3-2', 'container': 'arc-sqlmi', 'message time': datetime.datetime(2021, 8, 3, 15, 44, 38, tzinfo=tzutc()), 'Message': 'Backup      Error: 3041, Severity: 16, State: 1.'},\n {'node': 'aks-nodepool1-35148010-vmss000000', 'namespace': 'arc', 'pod': 'benportal3-2', 'container': 'arc-sqlmi', 'message time': datetime.datetime(2021, 8, 3, 15, 44, 38, tzinfo=tzutc()), 'Message': 'Backup      BACKUP failed to complete the command BACKUP DATABASE master. Check the backup application log for detailed messages.'},\n {'node': 'aks-nodepool1-35148010-vmss000000', 'namespace': 'arc', 'pod': 'benportal3-2', 'container': 'arc-sqlmi', 'message time': datetime.datetime(2021, 8, 3, 15, 44, 38, tzinfo=tzutc()), 'Message': 'Backup      BACKUP failed to complete the command BACKUP DATABASE msdb. Check the backup application log for detailed messages.'},\n {'node': 'aks-nodepool1-35148010-vmss000001', 'namespace': 'arc', 'pod': 'benportal3-1', 'container': 'arc-sqlmi', 'message time': datetime.datetime(2021, 8, 3, 15, 44, 29, tzinfo=tzutc()), 'Message': 'Backup      BACKUP failed to complete the command BACKUP DATABASE BenBenjiBenBenBen. Check the backup application log for detailed messages.'},\n {'node': 'aks-nodepool1-35148010-vmss000001', 'namespace': 'arc', 'pod': 'benportal3-1', 'container': 'arc-sqlmi', 'message time': datetime.datetime(2021, 8, 3, 15, 44, 25, tzinfo=tzutc()), 'Message': 'Backup      Error: 3041, Severity: 16, State: 1.'},\n {'node': 'aks-nodepool1-35148010-vmss000001', 'namespace': 'arc', 'pod': 'benportal3-1', 'container': 'arc-sqlmi', 'message time': datetime.datetime(2021, 8, 3, 15, 44, 25, tzinfo=tzutc()), 'Message': 'Backup      Error: 3041, Severity: 16, State: 1.'},\n {'node': 'aks-nodepool1-35148010-vmss000001', 'namespace': 'arc', 'pod': 'benportal3-1', 'container': 'arc-sqlmi', 'message time': datetime.datetime(2021, 8, 3, 15, 44, 25, tzinfo=tzutc()), 'Message': 'Backup      Error: 3041, Severity: 16, State: 1.'},\n {'node': 'aks-nodepool1-35148010-vmss000001', 'namespace': 'arc', 'pod': 'benportal3-1', 'container': 'arc-sqlmi', 'message time': datetime.datetime(2021, 8, 3, 15, 44, 25, tzinfo=tzutc()), 'Message': 'Backup      BACKUP failed to complete the command BACKUP DATABASE master. Check the backup application log for detailed messages.'},\n {'node': 'aks-nodepool1-35148010-vmss000001', 'namespace': 'arc', 'pod': 'benportal3-1', 'container': 'arc-sqlmi', 'message time': datetime.datetime(2021, 8, 3, 15, 44, 25, tzinfo=tzutc()), 'Message': 'Backup      BACKUP failed to complete the command BACKUP DATABASE msdb. Check the backup application log for detailed messages.'},\n {'node': 'aks-nodepool1-35148010-vmss000000', 'namespace': 'arc', 'pod': 'benportal3-2', 'container': 'arc-sqlmi', 'message time': datetime.datetime(2021, 8, 3, 15, 44, 12, tzinfo=tzutc()), 'Message': 'Backup      BACKUP failed to complete the command BACKUP DATABASE master. Check the backup application log for detailed messages.'},\n {'node': 'aks-nodepool1-35148010-vmss000000', 'namespace': 'arc', 'pod': 'benportal3-2', 'container': 'arc-sqlmi', 'message time': datetime.datetime(2021, 8, 3, 15, 44, 8, tzinfo=tzutc()), 'Message': 'Backup      BACKUP failed to complete the command BACKUP DATABASE msdb. Check the backup application log for detailed messages.'},\n {'node': 'aks-nodepool1-35148010-vmss000000', 'namespace': 'arc', 'pod': 'benportal3-2', 'container': 'arc-sqlmi', 'message time': datetime.datetime(2021, 8, 3, 15, 44, 8, tzinfo=tzutc()), 'Message': 'Backup      BACKUP failed to complete the command BACKUP DATABASE BenBenjiBenBenBen. Check the backup application log for detailed messages.'},\n {'node': 'aks-nodepool1-35148010-vmss000000', 'namespace': 'arc', 'pod': 'benportal3-2', 'container': 'arc-sqlmi', 'message time': datetime.datetime(2021, 8, 3, 15, 44, 8, tzinfo=tzutc()), 'Message': 'Backup      Error: 3041, Severity: 16, State: 1.'},\n {'node': 'aks-nodepool1-35148010-vmss000000', 'namespace': 'arc', 'pod': 'benportal3-2', 'container': 'arc-sqlmi', 'message time': datetime.datetime(2021, 8, 3, 15, 44, 8, tzinfo=tzutc()), 'Message': 'Backup      Error: 3041, Severity: 16, State: 1.'},\n {'node': 'aks-nodepool1-35148010-vmss000000', 'namespace': 'arc', 'pod': 'benportal3-2', 'container': 'arc-sqlmi', 'message time': datetime.datetime(2021, 8, 3, 15, 44, 8, tzinfo=tzutc()), 'Message': 'Backup      Error: 3041, Severity: 16, State: 1.'},\n {'node': 'aks-nodepool1-35148010-vmss000001', 'namespace': 'arc', 'pod': 'benportal3-1', 'container': 'arc-sqlmi', 'message time': datetime.datetime(2021, 8, 3, 15, 44, 1, tzinfo=tzutc()), 'Message': 'Backup      BACKUP failed to complete the command BACKUP DATABASE master. Check the backup application log for detailed messages.'},\n {'node': 'aks-nodepool1-35148010-vmss000001', 'namespace': 'arc', 'pod': 'benportal3-1', 'container': 'arc-sqlmi', 'message time': datetime.datetime(2021, 8, 3, 15, 43, 55, tzinfo=tzutc()), 'Message': 'Backup      BACKUP failed to complete the command BACKUP DATABASE msdb. Check the backup application log for detailed messages.'},\n {'node': 'aks-nodepool1-35148010-vmss000001', 'namespace': 'arc', 'pod': 'benportal3-1', 'container': 'arc-sqlmi', 'message time': datetime.datetime(2021, 8, 3, 15, 43, 55, tzinfo=tzutc()), 'Message': 'Backup      Error: 3041, Severity: 16, State: 1.'},\n {'node': 'aks-nodepool1-35148010-vmss000001', 'namespace': 'arc', 'pod': 'benportal3-1', 'container': 'arc-sqlmi', 'message time': datetime.datetime(2021, 8, 3, 15, 43, 55, tzinfo=tzutc()), 'Message': 'Backup      Error: 3041, Severity: 16, State: 1.'},\n {'node': 'aks-nodepool1-35148010-vmss000001', 'namespace': 'arc', 'pod': 'benportal3-1', 'container': 'arc-sqlmi', 'message time': datetime.datetime(2021, 8, 3, 15, 43, 55, tzinfo=tzutc()), 'Message': 'Backup      Error: 3041, Severity: 16, State: 1.'},\n {'node': 'aks-nodepool1-35148010-vmss000001', 'namespace': 'arc', 'pod': 'benportal3-1', 'container': 'arc-sqlmi', 'message time': datetime.datetime(2021, 8, 3, 15, 43, 55, tzinfo=tzutc()), 'Message': 'Backup      BACKUP failed to complete the command BACKUP DATABASE BenBenjiBenBenBen. Check the backup application log for detailed messages.'},\n {'node': 'aks-nodepool1-35148010-vmss000000', 'namespace': 'arc', 'pod': 'benportal3-2', 'container': 'arc-sqlmi', 'message time': datetime.datetime(2021, 8, 3, 15, 43, 44, tzinfo=tzutc()), 'Message': 'Backup      BACKUP failed to complete the command BACKUP DATABASE BenBenjiBenBenBen. Check the backup application log for detailed messages.'},\n {'node': 'aks-nodepool1-35148010-vmss000000', 'namespace': 'arc', 'pod': 'benportal3-2', 'container': 'arc-sqlmi', 'message time': datetime.datetime(2021, 8, 3, 15, 43, 38, tzinfo=tzutc()), 'Message': 'Backup      Error: 3041, Severity: 16, State: 1.'},\n {'node': 'aks-nodepool1-35148010-vmss000000', 'namespace': 'arc', 'pod': 'benportal3-2', 'container': 'arc-sqlmi', 'message time': datetime.datetime(2021, 8, 3, 15, 43, 38, tzinfo=tzutc()), 'Message': 'Backup      BACKUP failed to complete the command BACKUP DATABASE master. Check the backup application log for detailed messages.'},\n {'node': 'aks-nodepool1-35148010-vmss000000', 'namespace': 'arc', 'pod': 'benportal3-2', 'container': 'arc-sqlmi', 'message time': datetime.datetime(2021, 8, 3, 15, 43, 38, tzinfo=tzutc()), 'Message': 'Backup      BACKUP failed to complete the command BACKUP DATABASE msdb. Check the backup application log for detailed messages.'},\n {'node': 'aks-nodepool1-35148010-vmss000000', 'namespace': 'arc', 'pod': 'benportal3-2', 'container': 'arc-sqlmi', 'message time': datetime.datetime(2021, 8, 3, 15, 43, 38, tzinfo=tzutc()), 'Message': 'Backup      Error: 3041, Severity: 16, State: 1.'},\n {'node': 'aks-nodepool1-35148010-vmss000000', 'namespace': 'arc', 'pod': 'benportal3-2', 'container': 'arc-sqlmi', 'message time': datetime.datetime(2021, 8, 3, 15, 43, 38, tzinfo=tzutc()), 'Message': 'Backup      Error: 3041, Severity: 16, State: 1.'},\n {'node': 'aks-nodepool1-35148010-vmss000001', 'namespace': 'arc', 'pod': 'benportal3-1', 'container': 'arc-sqlmi', 'message time': datetime.datetime(2021, 8, 3, 15, 43, 29, tzinfo=tzutc()), 'Message': 'Backup      BACKUP failed to complete the command BACKUP DATABASE BenBenjiBenBenBen. Check the backup application log for detailed messages.'},\n {'node': 'aks-nodepool1-35148010-vmss000001', 'namespace': 'arc', 'pod': 'benportal3-1', 'container': 'arc-sqlmi', 'message time': datetime.datetime(2021, 8, 3, 15, 43, 25, tzinfo=tzutc()), 'Message': 'Backup      BACKUP failed to complete the command BACKUP DATABASE master. Check the backup application log for detailed messages.'},\n {'node': 'aks-nodepool1-35148010-vmss000001', 'namespace': 'arc', 'pod': 'benportal3-1', 'container': 'arc-sqlmi', 'message time': datetime.datetime(2021, 8, 3, 15, 43, 25, tzinfo=tzutc()), 'Message': 'Backup      Error: 3041, Severity: 16, State: 1.'},\n {'node': 'aks-nodepool1-35148010-vmss000001', 'namespace': 'arc', 'pod': 'benportal3-1', 'container': 'arc-sqlmi', 'message time': datetime.datetime(2021, 8, 3, 15, 43, 25, tzinfo=tzutc()), 'Message': 'Backup      BACKUP failed to complete the command BACKUP DATABASE msdb. Check the backup application log for detailed messages.'},\n {'node': 'aks-nodepool1-35148010-vmss000001', 'namespace': 'arc', 'pod': 'benportal3-1', 'container': 'arc-sqlmi', 'message time': datetime.datetime(2021, 8, 3, 15, 43, 25, tzinfo=tzutc()), 'Message': 'Backup      Error: 3041, Severity: 16, State: 1.'},\n {'node': 'aks-nodepool1-35148010-vmss000001', 'namespace': 'arc', 'pod': 'benportal3-1', 'container': 'arc-sqlmi', 'message time': datetime.datetime(2021, 8, 3, 15, 43, 25, tzinfo=tzutc()), 'Message': 'Backup      Error: 3041, Severity: 16, State: 1.'},\n {'node': 'aks-nodepool1-35148010-vmss000000', 'namespace': 'arc', 'pod': 'benportal3-2', 'container': 'arc-sqlmi', 'message time': datetime.datetime(2021, 8, 3, 15, 43, 12, tzinfo=tzutc()), 'Message': 'Backup      BACKUP failed to complete the command BACKUP DATABASE msdb. Check the backup application log for detailed messages.'},\n {'node': 'aks-nodepool1-35148010-vmss000000', 'namespace': 'arc', 'pod': 'benportal3-2', 'container': 'arc-sqlmi', 'message time': datetime.datetime(2021, 8, 3, 15, 43, 8, tzinfo=tzutc()), 'Message': 'Backup      Error: 3041, Severity: 16, State: 1.'},\n {'node': 'aks-nodepool1-35148010-vmss000000', 'namespace': 'arc', 'pod': 'benportal3-2', 'container': 'arc-sqlmi', 'message time': datetime.datetime(2021, 8, 3, 15, 43, 8, tzinfo=tzutc()), 'Message': 'Backup      Error: 3041, Severity: 16, State: 1.'},\n {'node': 'aks-nodepool1-35148010-vmss000000', 'namespace': 'arc', 'pod': 'benportal3-2', 'container': 'arc-sqlmi', 'message time': datetime.datetime(2021, 8, 3, 15, 43, 8, tzinfo=tzutc()), 'Message': 'Backup      BACKUP failed to complete the command BACKUP DATABASE master. Check the backup application log for detailed messages.'},\n {'node': 'aks-nodepool1-35148010-vmss000000', 'namespace': 'arc', 'pod': 'benportal3-2', 'container': 'arc-sqlmi', 'message time': datetime.datetime(2021, 8, 3, 15, 43, 8, tzinfo=tzutc()), 'Message': 'Backup      Error: 3041, Severity: 16, State: 1.'},\n {'node': 'aks-nodepool1-35148010-vmss000000', 'namespace': 'arc', 'pod': 'benportal3-2', 'container': 'arc-sqlmi', 'message time': datetime.datetime(2021, 8, 3, 15, 43, 8, tzinfo=tzutc()), 'Message': 'Backup      BACKUP failed to complete the command BACKUP DATABASE BenBenjiBenBenBen. Check the backup application log for detailed messages.'},\n {'node': 'aks-nodepool1-35148010-vmss000001', 'namespace': 'arc', 'pod': 'benportal3-1', 'container': 'arc-sqlmi', 'message time': datetime.datetime(2021, 8, 3, 15, 43, 1, tzinfo=tzutc()), 'Message': 'Backup      BACKUP failed to complete the command BACKUP DATABASE BenBenjiBenBenBen. Check the backup application log for detailed messages.'},\n {'node': 'aks-nodepool1-35148010-vmss000001', 'namespace': 'arc', 'pod': 'benportal3-1', 'container': 'arc-sqlmi', 'message time': datetime.datetime(2021, 8, 3, 15, 42, 55, tzinfo=tzutc()), 'Message': 'Backup      Error: 3041, Severity: 16, State: 1.'},\n {'node': 'aks-nodepool1-35148010-vmss000001', 'namespace': 'arc', 'pod': 'benportal3-1', 'container': 'arc-sqlmi', 'message time': datetime.datetime(2021, 8, 3, 15, 42, 55, tzinfo=tzutc()), 'Message': 'Backup      Error: 3041, Severity: 16, State: 1.'},\n {'node': 'aks-nodepool1-35148010-vmss000001', 'namespace': 'arc', 'pod': 'benportal3-1', 'container': 'arc-sqlmi', 'message time': datetime.datetime(2021, 8, 3, 15, 42, 55, tzinfo=tzutc()), 'Message': 'Backup      BACKUP failed to complete the command BACKUP DATABASE master. Check the backup application log for detailed messages.'},\n {'node': 'aks-nodepool1-35148010-vmss000001', 'namespace': 'arc', 'pod': 'benportal3-1', 'container': 'arc-sqlmi', 'message time': datetime.datetime(2021, 8, 3, 15, 42, 55, tzinfo=tzutc()), 'Message': 'Backup      BACKUP failed to complete the command BACKUP DATABASE msdb. Check the backup application log for detailed messages.'},\n {'node': 'aks-nodepool1-35148010-vmss000001', 'namespace': 'arc', 'pod': 'benportal3-1', 'container': 'arc-sqlmi', 'message time': datetime.datetime(2021, 8, 3, 15, 42, 55, tzinfo=tzutc()), 'Message': 'Backup      Error: 3041, Severity: 16, State: 1.'},\n {'node': 'aks-nodepool1-35148010-vmss000000', 'namespace': 'arc', 'pod': 'benportal3-2', 'container': 'arc-sqlmi', 'message time': datetime.datetime(2021, 8, 3, 15, 42, 44, tzinfo=tzutc()), 'Message': 'Backup      BACKUP failed to complete the command BACKUP DATABASE master. Check the backup application log for detailed messages.'},\n {'node': 'aks-nodepool1-35148010-vmss000000', 'namespace': 'arc', 'pod': 'benportal3-2', 'container': 'arc-sqlmi', 'message time': datetime.datetime(2021, 8, 3, 15, 42, 38, tzinfo=tzutc()), 'Message': 'Backup      Error: 3041, Severity: 16, State: 1.'},\n {'node': 'aks-nodepool1-35148010-vmss000000', 'namespace': 'arc', 'pod': 'benportal3-2', 'container': 'arc-sqlmi', 'message time': datetime.datetime(2021, 8, 3, 15, 42, 38, tzinfo=tzutc()), 'Message': 'Backup      BACKUP failed to complete the command BACKUP DATABASE BenBenjiBenBenBen. Check the backup application log for detailed messages.'},\n {'node': 'aks-nodepool1-35148010-vmss000000', 'namespace': 'arc', 'pod': 'benportal3-2', 'container': 'arc-sqlmi', 'message time': datetime.datetime(2021, 8, 3, 15, 42, 38, tzinfo=tzutc()), 'Message': 'Backup      Error: 3041, Severity: 16, State: 1.'},\n {'node': 'aks-nodepool1-35148010-vmss000000', 'namespace': 'arc', 'pod': 'benportal3-2', 'container': 'arc-sqlmi', 'message time': datetime.datetime(2021, 8, 3, 15, 42, 38, tzinfo=tzutc()), 'Message': 'Backup      Error: 3041, Severity: 16, State: 1.'},\n {'node': 'aks-nodepool1-35148010-vmss000000', 'namespace': 'arc', 'pod': 'benportal3-2', 'container': 'arc-sqlmi', 'message time': datetime.datetime(2021, 8, 3, 15, 42, 38, tzinfo=tzutc()), 'Message': 'Backup      BACKUP failed to complete the command BACKUP DATABASE msdb. Check the backup application log for detailed messages.'},\n {'node': 'aks-nodepool1-35148010-vmss000001', 'namespace': 'arc', 'pod': 'benportal3-1', 'container': 'arc-sqlmi', 'message time': datetime.datetime(2021, 8, 3, 15, 42, 29, tzinfo=tzutc()), 'Message': 'Backup      BACKUP failed to complete the command BACKUP DATABASE BenBenjiBenBenBen. Check the backup application log for detailed messages.'},\n {'node': 'aks-nodepool1-35148010-vmss000001', 'namespace': 'arc', 'pod': 'benportal3-1', 'container': 'arc-sqlmi', 'message time': datetime.datetime(2021, 8, 3, 15, 42, 25, tzinfo=tzutc()), 'Message': 'Backup      Error: 3041, Severity: 16, State: 1.'},\n {'node': 'aks-nodepool1-35148010-vmss000001', 'namespace': 'arc', 'pod': 'benportal3-1', 'container': 'arc-sqlmi', 'message time': datetime.datetime(2021, 8, 3, 15, 42, 25, tzinfo=tzutc()), 'Message': 'Backup      Error: 3041, Severity: 16, State: 1.'},\n {'node': 'aks-nodepool1-35148010-vmss000001', 'namespace': 'arc', 'pod': 'benportal3-1', 'container': 'arc-sqlmi', 'message time': datetime.datetime(2021, 8, 3, 15, 42, 25, tzinfo=tzutc()), 'Message': 'Backup      BACKUP failed to complete the command BACKUP DATABASE master. Check the backup application log for detailed messages.'},\n {'node': 'aks-nodepool1-35148010-vmss000001', 'namespace': 'arc', 'pod': 'benportal3-1', 'container': 'arc-sqlmi', 'message time': datetime.datetime(2021, 8, 3, 15, 42, 25, tzinfo=tzutc()), 'Message': 'Backup      BACKUP failed to complete the command BACKUP DATABASE msdb. Check the backup application log for detailed messages.'},\n {'node': 'aks-nodepool1-35148010-vmss000001', 'namespace': 'arc', 'pod': 'benportal3-1', 'container': 'arc-sqlmi', 'message time': datetime.datetime(2021, 8, 3, 15, 42, 25, tzinfo=tzutc()), 'Message': 'Backup      Error: 3041, Severity: 16, State: 1.'},\n {'node': 'aks-nodepool1-35148010-vmss000000', 'namespace': 'arc', 'pod': 'benportal3-2', 'container': 'arc-sqlmi', 'message time': datetime.datetime(2021, 8, 3, 15, 42, 12, tzinfo=tzutc()), 'Message': 'Backup      BACKUP failed to complete the command BACKUP DATABASE master. Check the backup application log for detailed messages.'},\n {'node': 'aks-nodepool1-35148010-vmss000000', 'namespace': 'arc', 'pod': 'benportal3-2', 'container': 'arc-sqlmi', 'message time': datetime.datetime(2021, 8, 3, 15, 42, 8, tzinfo=tzutc()), 'Message': 'Backup      BACKUP failed to complete the command BACKUP DATABASE msdb. Check the backup application log for detailed messages.'},\n {'node': 'aks-nodepool1-35148010-vmss000000', 'namespace': 'arc', 'pod': 'benportal3-2', 'container': 'arc-sqlmi', 'message time': datetime.datetime(2021, 8, 3, 15, 42, 8, tzinfo=tzutc()), 'Message': 'Backup      Error: 3041, Severity: 16, State: 1.'},\n {'node': 'aks-nodepool1-35148010-vmss000000', 'namespace': 'arc', 'pod': 'benportal3-2', 'container': 'arc-sqlmi', 'message time': datetime.datetime(2021, 8, 3, 15, 42, 8, tzinfo=tzutc()), 'Message': 'Backup      BACKUP failed to complete the command BACKUP DATABASE BenBenjiBenBenBen. Check the backup application log for detailed messages.'},\n {'node': 'aks-nodepool1-35148010-vmss000000', 'namespace': 'arc', 'pod': 'benportal3-2', 'container': 'arc-sqlmi', 'message time': datetime.datetime(2021, 8, 3, 15, 42, 8, tzinfo=tzutc()), 'Message': 'Backup      Error: 3041, Severity: 16, State: 1.'},\n {'node': 'aks-nodepool1-35148010-vmss000000', 'namespace': 'arc', 'pod': 'benportal3-2', 'container': 'arc-sqlmi', 'message time': datetime.datetime(2021, 8, 3, 15, 42, 8, tzinfo=tzutc()), 'Message': 'Backup      Error: 3041, Severity: 16, State: 1.'},\n {'node': 'aks-nodepool1-35148010-vmss000001', 'namespace': 'arc', 'pod': 'benportal3-1', 'container': 'arc-sqlmi', 'message time': datetime.datetime(2021, 8, 3, 15, 42, 1, tzinfo=tzutc()), 'Message': 'Backup      BACKUP failed to complete the command BACKUP DATABASE BenBenjiBenBenBen. Check the backup application log for detailed messages.'},\n {'node': 'aks-nodepool1-35148010-vmss000001', 'namespace': 'arc', 'pod': 'benportal3-1', 'container': 'arc-sqlmi', 'message time': datetime.datetime(2021, 8, 3, 15, 41, 55, tzinfo=tzutc()), 'Message': 'Backup      BACKUP failed to complete the command BACKUP DATABASE msdb. Check the backup application log for detailed messages.'},\n {'node': 'aks-nodepool1-35148010-vmss000001', 'namespace': 'arc', 'pod': 'benportal3-1', 'container': 'arc-sqlmi', 'message time': datetime.datetime(2021, 8, 3, 15, 41, 55, tzinfo=tzutc()), 'Message': 'Backup      BACKUP failed to complete the command BACKUP DATABASE master. Check the backup application log for detailed messages.'},\n {'node': 'aks-nodepool1-35148010-vmss000001', 'namespace': 'arc', 'pod': 'benportal3-1', 'container': 'arc-sqlmi', 'message time': datetime.datetime(2021, 8, 3, 15, 41, 55, tzinfo=tzutc()), 'Message': 'Backup      Error: 3041, Severity: 16, State: 1.'},\n {'node': 'aks-nodepool1-35148010-vmss000001', 'namespace': 'arc', 'pod': 'benportal3-1', 'container': 'arc-sqlmi', 'message time': datetime.datetime(2021, 8, 3, 15, 41, 55, tzinfo=tzutc()), 'Message': 'Backup      Error: 3041, Severity: 16, State: 1.'},\n {'node': 'aks-nodepool1-35148010-vmss000001', 'namespace': 'arc', 'pod': 'benportal3-1', 'container': 'arc-sqlmi', 'message time': datetime.datetime(2021, 8, 3, 15, 41, 55, tzinfo=tzutc()), 'Message': 'Backup      Error: 3041, Severity: 16, State: 1.'},\n {'node': 'aks-nodepool1-35148010-vmss000000', 'namespace': 'arc', 'pod': 'benportal3-2', 'container': 'arc-sqlmi', 'message time': datetime.datetime(2021, 8, 3, 15, 41, 44, tzinfo=tzutc()), 'Message': 'Backup      BACKUP failed to complete the command BACKUP DATABASE master. Check the backup application log for detailed messages.'},\n {'node': 'aks-nodepool1-35148010-vmss000000', 'namespace': 'arc', 'pod': 'benportal3-2', 'container': 'arc-sqlmi', 'message time': datetime.datetime(2021, 8, 3, 15, 41, 38, tzinfo=tzutc()), 'Message': 'Backup      BACKUP failed to complete the command BACKUP DATABASE BenBenjiBenBenBen. Check the backup application log for detailed messages.'},\n {'node': 'aks-nodepool1-35148010-vmss000000', 'namespace': 'arc', 'pod': 'benportal3-2', 'container': 'arc-sqlmi', 'message time': datetime.datetime(2021, 8, 3, 15, 41, 38, tzinfo=tzutc()), 'Message': 'Backup      Error: 3041, Severity: 16, State: 1.'},\n {'node': 'aks-nodepool1-35148010-vmss000000', 'namespace': 'arc', 'pod': 'benportal3-2', 'container': 'arc-sqlmi', 'message time': datetime.datetime(2021, 8, 3, 15, 41, 38, tzinfo=tzutc()), 'Message': 'Backup      Error: 3041, Severity: 16, State: 1.'},\n {'node': 'aks-nodepool1-35148010-vmss000000', 'namespace': 'arc', 'pod': 'benportal3-2', 'container': 'arc-sqlmi', 'message time': datetime.datetime(2021, 8, 3, 15, 41, 38, tzinfo=tzutc()), 'Message': 'Backup      BACKUP failed to complete the command BACKUP DATABASE msdb. Check the backup application log for detailed messages.'},\n {'node': 'aks-nodepool1-35148010-vmss000000', 'namespace': 'arc', 'pod': 'benportal3-2', 'container': 'arc-sqlmi', 'message time': datetime.datetime(2021, 8, 3, 15, 41, 38, tzinfo=tzutc()), 'Message': 'Backup      Error: 3041, Severity: 16, State: 1.'},\n {'node': 'aks-nodepool1-35148010-vmss000001', 'namespace': 'arc', 'pod': 'benportal3-1', 'container': 'arc-sqlmi', 'message time': datetime.datetime(2021, 8, 3, 15, 41, 29, tzinfo=tzutc()), 'Message': 'Backup      BACKUP failed to complete the command BACKUP DATABASE master. Check the backup application log for detailed messages.'},\n {'node': 'aks-nodepool1-35148010-vmss000001', 'namespace': 'arc', 'pod': 'benportal3-1', 'container': 'arc-sqlmi', 'message time': datetime.datetime(2021, 8, 3, 15, 41, 25, tzinfo=tzutc()), 'Message': 'Backup      Error: 3041, Severity: 16, State: 1.'},\n {'node': 'aks-nodepool1-35148010-vmss000001', 'namespace': 'arc', 'pod': 'benportal3-1', 'container': 'arc-sqlmi', 'message time': datetime.datetime(2021, 8, 3, 15, 41, 25, tzinfo=tzutc()), 'Message': 'Backup      BACKUP failed to complete the command BACKUP DATABASE msdb. Check the backup application log for detailed messages.'},\n {'node': 'aks-nodepool1-35148010-vmss000001', 'namespace': 'arc', 'pod': 'benportal3-1', 'container': 'arc-sqlmi', 'message time': datetime.datetime(2021, 8, 3, 15, 41, 25, tzinfo=tzutc()), 'Message': 'Backup      BACKUP failed to complete the command BACKUP DATABASE BenBenjiBenBenBen. Check the backup application log for detailed messages.'},\n {'node': 'aks-nodepool1-35148010-vmss000001', 'namespace': 'arc', 'pod': 'benportal3-1', 'container': 'arc-sqlmi', 'message time': datetime.datetime(2021, 8, 3, 15, 41, 25, tzinfo=tzutc()), 'Message': 'Backup      Error: 3041, Severity: 16, State: 1.'},\n {'node': 'aks-nodepool1-35148010-vmss000001', 'namespace': 'arc', 'pod': 'benportal3-1', 'container': 'arc-sqlmi', 'message time': datetime.datetime(2021, 8, 3, 15, 41, 25, tzinfo=tzutc()), 'Message': 'Backup      Error: 3041, Severity: 16, State: 1.'},\n {'node': 'aks-nodepool1-35148010-vmss000000', 'namespace': 'arc', 'pod': 'benportal3-2', 'container': 'arc-sqlmi', 'message time': datetime.datetime(2021, 8, 3, 15, 41, 12, tzinfo=tzutc()), 'Message': 'Backup      BACKUP failed to complete the command BACKUP DATABASE BenBenjiBenBenBen. Check the backup application log for detailed messages.'},\n {'node': 'aks-nodepool1-35148010-vmss000000', 'namespace': 'arc', 'pod': 'benportal3-2', 'container': 'arc-sqlmi', 'message time': datetime.datetime(2021, 8, 3, 15, 41, 8, tzinfo=tzutc()), 'Message': 'Backup      Error: 3041, Severity: 16, State: 1.'},\n {'node': 'aks-nodepool1-35148010-vmss000000', 'namespace': 'arc', 'pod': 'benportal3-2', 'container': 'arc-sqlmi', 'message time': datetime.datetime(2021, 8, 3, 15, 41, 8, tzinfo=tzutc()), 'Message': 'Backup      Error: 3041, Severity: 16, State: 1.'},\n {'node': 'aks-nodepool1-35148010-vmss000000', 'namespace': 'arc', 'pod': 'benportal3-2', 'container': 'arc-sqlmi', 'message time': datetime.datetime(2021, 8, 3, 15, 41, 8, tzinfo=tzutc()), 'Message': 'Backup      Error: 3041, Severity: 16, State: 1.'},\n {'node': 'aks-nodepool1-35148010-vmss000000', 'namespace': 'arc', 'pod': 'benportal3-2', 'container': 'arc-sqlmi', 'message time': datetime.datetime(2021, 8, 3, 15, 41, 8, tzinfo=tzutc()), 'Message': 'Backup      BACKUP failed to complete the command BACKUP DATABASE master. Check the backup application log for detailed messages.'},\n {'node': 'aks-nodepool1-35148010-vmss000000', 'namespace': 'arc', 'pod': 'benportal3-2', 'container': 'arc-sqlmi', 'message time': datetime.datetime(2021, 8, 3, 15, 41, 8, tzinfo=tzutc()), 'Message': 'Backup      BACKUP failed to complete the command BACKUP DATABASE msdb. Check the backup application log for detailed messages.'},\n {'node': 'aks-nodepool1-35148010-vmss000001', 'namespace': 'arc', 'pod': 'benportal3-1', 'container': 'arc-sqlmi', 'message time': datetime.datetime(2021, 8, 3, 15, 41, 1, tzinfo=tzutc()), 'Message': 'Backup      BACKUP failed to complete the command BACKUP DATABASE BenBenjiBenBenBen. Check the backup application log for detailed messages.'},\n {'node': 'aks-nodepool1-35148010-vmss000001', 'namespace': 'arc', 'pod': 'benportal3-1', 'container': 'arc-sqlmi', 'message time': datetime.datetime(2021, 8, 3, 15, 40, 55, tzinfo=tzutc()), 'Message': 'Backup      Error: 3041, Severity: 16, State: 1.'},\n {'node': 'aks-nodepool1-35148010-vmss000001', 'namespace': 'arc', 'pod': 'benportal3-1', 'container': 'arc-sqlmi', 'message time': datetime.datetime(2021, 8, 3, 15, 40, 55, tzinfo=tzutc()), 'Message': 'Backup      BACKUP failed to complete the command BACKUP DATABASE master. Check the backup application log for detailed messages.'},\n {'node': 'aks-nodepool1-35148010-vmss000001', 'namespace': 'arc', 'pod': 'benportal3-1', 'container': 'arc-sqlmi', 'message time': datetime.datetime(2021, 8, 3, 15, 40, 55, tzinfo=tzutc()), 'Message': 'Backup      Error: 3041, Severity: 16, State: 1.'},\n {'node': 'aks-nodepool1-35148010-vmss000001', 'namespace': 'arc', 'pod': 'benportal3-1', 'container': 'arc-sqlmi', 'message time': datetime.datetime(2021, 8, 3, 15, 40, 55, tzinfo=tzutc()), 'Message': 'Backup      BACKUP failed to complete the command BACKUP DATABASE msdb. Check the backup application log for detailed messages.'},\n {'node': 'aks-nodepool1-35148010-vmss000001', 'namespace': 'arc', 'pod': 'benportal3-1', 'container': 'arc-sqlmi', 'message time': datetime.datetime(2021, 8, 3, 15, 40, 55, tzinfo=tzutc()), 'Message': 'Backup      Error: 3041, Severity: 16, State: 1.'},\n {'node': 'aks-nodepool1-35148010-vmss000002', 'namespace': 'arc', 'pod': 'benportal3-0', 'container': 'arc-sqlmi', 'message time': datetime.datetime(2021, 8, 3, 15, 40, 51, tzinfo=tzutc()), 'Message': \"Backup      Log was backed up. Database: BenBenjiBenBenBen, creation date(time): 2021/08/03(15:39:28), first LSN: 37:288:1, last LSN: 37:536:1, number of dump devices: 1, device information: (FILE=1, TYPE=DISK: {'/var/opt/mssql/backups/current/22cc7cff-92b0-480d-93ac-c07a6ce6ed09/Log-20210803154047-d0d681b5-2485-433c-83ba-6b3bbbcbdecc.bak'}). This is an informational message only. No user action is required.\"},\n {'node': 'aks-nodepool1-35148010-vmss000000', 'namespace': 'arc', 'pod': 'benportal3-2', 'container': 'arc-sqlmi', 'message time': datetime.datetime(2021, 8, 3, 15, 40, 44, tzinfo=tzutc()), 'Message': 'Backup      BACKUP failed to complete the command BACKUP DATABASE msdb. Check the backup application log for detailed messages.'},\n {'node': 'aks-nodepool1-35148010-vmss000000', 'namespace': 'arc', 'pod': 'benportal3-2', 'container': 'arc-sqlmi', 'message time': datetime.datetime(2021, 8, 3, 15, 40, 38, tzinfo=tzutc()), 'Message': 'Backup      Error: 3041, Severity: 16, State: 1.'},\n {'node': 'aks-nodepool1-35148010-vmss000000', 'namespace': 'arc', 'pod': 'benportal3-2', 'container': 'arc-sqlmi', 'message time': datetime.datetime(2021, 8, 3, 15, 40, 38, tzinfo=tzutc()), 'Message': 'Backup      Error: 3041, Severity: 16, State: 1.'},\n {'node': 'aks-nodepool1-35148010-vmss000000', 'namespace': 'arc', 'pod': 'benportal3-2', 'container': 'arc-sqlmi', 'message time': datetime.datetime(2021, 8, 3, 15, 40, 38, tzinfo=tzutc()), 'Message': 'Backup      Error: 3041, Severity: 16, State: 1.'},\n {'node': 'aks-nodepool1-35148010-vmss000000', 'namespace': 'arc', 'pod': 'benportal3-2', 'container': 'arc-sqlmi', 'message time': datetime.datetime(2021, 8, 3, 15, 40, 38, tzinfo=tzutc()), 'Message': 'Backup      BACKUP failed to complete the command BACKUP DATABASE master. Check the backup application log for detailed messages.'},\n {'node': 'aks-nodepool1-35148010-vmss000000', 'namespace': 'arc', 'pod': 'benportal3-2', 'container': 'arc-sqlmi', 'message time': datetime.datetime(2021, 8, 3, 15, 40, 38, tzinfo=tzutc()), 'Message': 'Backup      BACKUP failed to complete the command BACKUP DATABASE BenBenjiBenBenBen. Check the backup application log for detailed messages.'},\n {'node': 'aks-nodepool1-35148010-vmss000001', 'namespace': 'arc', 'pod': 'benportal3-1', 'container': 'arc-sqlmi', 'message time': datetime.datetime(2021, 8, 3, 15, 40, 29, tzinfo=tzutc()), 'Message': 'Backup      BACKUP failed to complete the command BACKUP DATABASE BenBenjiBenBenBen. Check the backup application log for detailed messages.'},\n {'node': 'aks-nodepool1-35148010-vmss000001', 'namespace': 'arc', 'pod': 'benportal3-1', 'container': 'arc-sqlmi', 'message time': datetime.datetime(2021, 8, 3, 15, 40, 25, tzinfo=tzutc()), 'Message': 'Backup      BACKUP failed to complete the command BACKUP DATABASE master. Check the backup application log for detailed messages.'},\n {'node': 'aks-nodepool1-35148010-vmss000001', 'namespace': 'arc', 'pod': 'benportal3-1', 'container': 'arc-sqlmi', 'message time': datetime.datetime(2021, 8, 3, 15, 40, 25, tzinfo=tzutc()), 'Message': 'Backup      Error: 3041, Severity: 16, State: 1.'},\n {'node': 'aks-nodepool1-35148010-vmss000001', 'namespace': 'arc', 'pod': 'benportal3-1', 'container': 'arc-sqlmi', 'message time': datetime.datetime(2021, 8, 3, 15, 40, 25, tzinfo=tzutc()), 'Message': 'Backup      BACKUP failed to complete the command BACKUP DATABASE msdb. Check the backup application log for detailed messages.'},\n {'node': 'aks-nodepool1-35148010-vmss000001', 'namespace': 'arc', 'pod': 'benportal3-1', 'container': 'arc-sqlmi', 'message time': datetime.datetime(2021, 8, 3, 15, 40, 25, tzinfo=tzutc()), 'Message': 'Backup      Error: 3041, Severity: 16, State: 1.'},\n {'node': 'aks-nodepool1-35148010-vmss000001', 'namespace': 'arc', 'pod': 'benportal3-1', 'container': 'arc-sqlmi', 'message time': datetime.datetime(2021, 8, 3, 15, 40, 25, tzinfo=tzutc()), 'Message': 'Backup      Error: 3041, Severity: 16, State: 1.'},\n {'node': 'aks-nodepool1-35148010-vmss000000', 'namespace': 'arc', 'pod': 'benportal3-2', 'container': 'arc-sqlmi', 'message time': datetime.datetime(2021, 8, 3, 15, 40, 12, tzinfo=tzutc()), 'Message': 'Backup      BACKUP failed to complete the command BACKUP DATABASE msdb. Check the backup application log for detailed messages.'},\n {'node': 'aks-nodepool1-35148010-vmss000000', 'namespace': 'arc', 'pod': 'benportal3-2', 'container': 'arc-sqlmi', 'message time': datetime.datetime(2021, 8, 3, 15, 40, 8, tzinfo=tzutc()), 'Message': 'Backup      BACKUP failed to complete the command BACKUP DATABASE BenBenjiBenBenBen. Check the backup application log for detailed messages.'},\n {'node': 'aks-nodepool1-35148010-vmss000000', 'namespace': 'arc', 'pod': 'benportal3-2', 'container': 'arc-sqlmi', 'message time': datetime.datetime(2021, 8, 3, 15, 40, 8, tzinfo=tzutc()), 'Message': 'Backup      BACKUP failed to complete the command BACKUP DATABASE master. Check the backup application log for detailed messages.'},\n {'node': 'aks-nodepool1-35148010-vmss000000', 'namespace': 'arc', 'pod': 'benportal3-2', 'container': 'arc-sqlmi', 'message time': datetime.datetime(2021, 8, 3, 15, 40, 8, tzinfo=tzutc()), 'Message': 'Backup      Error: 3041, Severity: 16, State: 1.'},\n {'node': 'aks-nodepool1-35148010-vmss000000', 'namespace': 'arc', 'pod': 'benportal3-2', 'container': 'arc-sqlmi', 'message time': datetime.datetime(2021, 8, 3, 15, 40, 8, tzinfo=tzutc()), 'Message': 'Backup      Error: 3041, Severity: 16, State: 1.'},\n {'node': 'aks-nodepool1-35148010-vmss000000', 'namespace': 'arc', 'pod': 'benportal3-2', 'container': 'arc-sqlmi', 'message time': datetime.datetime(2021, 8, 3, 15, 40, 8, tzinfo=tzutc()), 'Message': 'Backup      Error: 3041, Severity: 16, State: 1.'},\n {'node': 'aks-nodepool1-35148010-vmss000001', 'namespace': 'arc', 'pod': 'benportal3-1', 'container': 'arc-sqlmi', 'message time': datetime.datetime(2021, 8, 3, 15, 40, 1, tzinfo=tzutc()), 'Message': 'Backup      BACKUP failed to complete the command BACKUP DATABASE BenBenjiBenBenBen. Check the backup application log for detailed messages.'},\n {'node': 'aks-nodepool1-35148010-vmss000001', 'namespace': 'arc', 'pod': 'benportal3-1', 'container': 'arc-sqlmi', 'message time': datetime.datetime(2021, 8, 3, 15, 39, 56, tzinfo=tzutc()), 'Message': 'Backup      Error: 3041, Severity: 16, State: 1.'},\n {'node': 'aks-nodepool1-35148010-vmss000001', 'namespace': 'arc', 'pod': 'benportal3-1', 'container': 'arc-sqlmi', 'message time': datetime.datetime(2021, 8, 3, 15, 39, 56, tzinfo=tzutc()), 'Message': 'Backup      BACKUP failed to complete the command BACKUP DATABASE msdb. Check the backup application log for detailed messages.'},\n {'node': 'aks-nodepool1-35148010-vmss000001', 'namespace': 'arc', 'pod': 'benportal3-1', 'container': 'arc-sqlmi', 'message time': datetime.datetime(2021, 8, 3, 15, 39, 55, tzinfo=tzutc()), 'Message': 'Backup      Error: 3041, Severity: 16, State: 1.'},\n {'node': 'aks-nodepool1-35148010-vmss000001', 'namespace': 'arc', 'pod': 'benportal3-1', 'container': 'arc-sqlmi', 'message time': datetime.datetime(2021, 8, 3, 15, 39, 55, tzinfo=tzutc()), 'Message': 'Backup      Error: 3041, Severity: 16, State: 1.'},\n {'node': 'aks-nodepool1-35148010-vmss000001', 'namespace': 'arc', 'pod': 'benportal3-1', 'container': 'arc-sqlmi', 'message time': datetime.datetime(2021, 8, 3, 15, 39, 55, tzinfo=tzutc()), 'Message': 'Backup      BACKUP failed to complete the command BACKUP DATABASE master. Check the backup application log for detailed messages.'},\n {'node': 'aks-nodepool1-35148010-vmss000002', 'namespace': 'arc', 'pod': 'benportal3-0', 'container': 'arc-sqlmi', 'message time': datetime.datetime(2021, 8, 3, 15, 39, 51, tzinfo=tzutc()), 'Message': 'Backup      BACKUP DATABASE successfully processed 390 pages in 0.305 seconds (9.976 MB/sec).'},\n {'node': 'aks-nodepool1-35148010-vmss000002', 'namespace': 'arc', 'pod': 'benportal3-0', 'container': 'arc-sqlmi', 'message time': datetime.datetime(2021, 8, 3, 15, 39, 48, tzinfo=tzutc()), 'Message': \"Backup      Database backed up. Database: BenBenjiBenBenBen, creation date(time): 2021/08/03(15:39:28), pages dumped: 395, first LSN: 37:288:1, last LSN: 37:504:1, number of dump devices: 1, device information: (FILE=1, TYPE=DISK: {'/var/opt/mssql/backups/current-temp/22cc7cff-92b0-480d-93ac-c07a6ce6ed09/Full-20210803153947-4afcfcaf-1756-4320-86ef-e631a32635c2.bak'}). This is an informational message only. No user action is required.\"},\n {'node': 'aks-nodepool1-35148010-vmss000000', 'namespace': 'arc', 'pod': 'benportal3-2', 'container': 'arc-sqlmi', 'message time': datetime.datetime(2021, 8, 3, 15, 39, 44, tzinfo=tzutc()), 'Message': 'Backup      BACKUP failed to complete the command BACKUP DATABASE BenBenjiBenBenBen. Check the backup application log for detailed messages.'},\n {'node': 'aks-nodepool1-35148010-vmss000000', 'namespace': 'arc', 'pod': 'benportal3-2', 'container': 'arc-sqlmi', 'message time': datetime.datetime(2021, 8, 3, 15, 39, 38, tzinfo=tzutc()), 'Message': 'Backup      BACKUP failed to complete the command BACKUP DATABASE master. Check the backup application log for detailed messages.'},\n {'node': 'aks-nodepool1-35148010-vmss000000', 'namespace': 'arc', 'pod': 'benportal3-2', 'container': 'arc-sqlmi', 'message time': datetime.datetime(2021, 8, 3, 15, 39, 38, tzinfo=tzutc()), 'Message': 'Backup      Error: 3041, Severity: 16, State: 1.'},\n {'node': 'aks-nodepool1-35148010-vmss000000', 'namespace': 'arc', 'pod': 'benportal3-2', 'container': 'arc-sqlmi', 'message time': datetime.datetime(2021, 8, 3, 15, 39, 38, tzinfo=tzutc()), 'Message': 'Backup      Error: 3041, Severity: 16, State: 1.'},\n {'node': 'aks-nodepool1-35148010-vmss000000', 'namespace': 'arc', 'pod': 'benportal3-2', 'container': 'arc-sqlmi', 'message time': datetime.datetime(2021, 8, 3, 15, 39, 38, tzinfo=tzutc()), 'Message': 'Backup      Error: 3041, Severity: 16, State: 1.'},\n {'node': 'aks-nodepool1-35148010-vmss000000', 'namespace': 'arc', 'pod': 'benportal3-2', 'container': 'arc-sqlmi', 'message time': datetime.datetime(2021, 8, 3, 15, 39, 38, tzinfo=tzutc()), 'Message': 'Backup      BACKUP failed to complete the command BACKUP DATABASE msdb. Check the backup application log for detailed messages.'},\n {'node': 'aks-nodepool1-35148010-vmss000000', 'namespace': 'arc', 'pod': 'benportal3-2', 'container': 'arc-sqlmi', 'message time': datetime.datetime(2021, 8, 3, 15, 39, 33, tzinfo=tzutc()), 'Message': 'Backup      RESTORE DATABASE successfully processed 367 pages in 0.130 seconds (22.025 MB/sec).'},\n {'node': 'aks-nodepool1-35148010-vmss000002', 'namespace': 'arc', 'pod': 'benportal3-0', 'container': 'arc-sqlmi', 'message time': datetime.datetime(2021, 8, 3, 15, 39, 33, tzinfo=tzutc()), 'Message': 'Backup      BACKUP DATABASE successfully processed 367 pages in 0.187 seconds (15.311 MB/sec).'},\n {'node': 'aks-nodepool1-35148010-vmss000000', 'namespace': 'arc', 'pod': 'benportal3-2', 'container': 'arc-sqlmi', 'message time': datetime.datetime(2021, 8, 3, 15, 39, 33, tzinfo=tzutc()), 'Message': \"Backup      Database was restored: Database: BenBenjiBenBenBen, creation date(time): 2021/08/03(15:39:28), first LSN: 37:288:1, last LSN: 37:392:1, number of dump devices: 1, device information: (FILE=1, TYPE=VIRTUAL_DEVICE: {'{12933D51-EF5A-4F9F-BA43-269C903E21E1}'}). Informational message. No user action required.\"},\n {'node': 'aks-nodepool1-35148010-vmss000001', 'namespace': 'arc', 'pod': 'benportal3-1', 'container': 'arc-sqlmi', 'message time': datetime.datetime(2021, 8, 3, 15, 39, 33, tzinfo=tzutc()), 'Message': \"Backup      Database was restored: Database: BenBenjiBenBenBen, creation date(time): 2021/08/03(15:39:28), first LSN: 37:288:1, last LSN: 37:368:1, number of dump devices: 1, device information: (FILE=1, TYPE=VIRTUAL_DEVICE: {'{FD6F075D-0692-4B46-8AC7-059D8D94933A}'}). Informational message. No user action required.\"},\n {'node': 'aks-nodepool1-35148010-vmss000001', 'namespace': 'arc', 'pod': 'benportal3-1', 'container': 'arc-sqlmi', 'message time': datetime.datetime(2021, 8, 3, 15, 39, 33, tzinfo=tzutc()), 'Message': 'Backup      RESTORE DATABASE successfully processed 365 pages in 0.148 seconds (19.267 MB/sec).'},\n {'node': 'aks-nodepool1-35148010-vmss000002', 'namespace': 'arc', 'pod': 'benportal3-0', 'container': 'arc-sqlmi', 'message time': datetime.datetime(2021, 8, 3, 15, 39, 33, tzinfo=tzutc()), 'Message': \"Backup      Database backed up. Database: BenBenjiBenBenBen, creation date(time): 2021/08/03(15:39:28), pages dumped: 522, first LSN: 37:288:1, last LSN: 37:392:1, number of dump devices: 1, device information: (FILE=1, TYPE=VIRTUAL_DEVICE: {'{8A9E65BB-E267-4909-9E8A-8E847E281018}'}). This is an informational message only. No user action is required.\"},\n {'node': 'aks-nodepool1-35148010-vmss000002', 'namespace': 'arc', 'pod': 'benportal3-0', 'container': 'arc-sqlmi', 'message time': datetime.datetime(2021, 8, 3, 15, 39, 32, tzinfo=tzutc()), 'Message': \"Backup      Database backed up. Database: BenBenjiBenBenBen, creation date(time): 2021/08/03(15:39:28), pages dumped: 522, first LSN: 37:288:1, last LSN: 37:368:1, number of dump devices: 1, device information: (FILE=1, TYPE=VIRTUAL_DEVICE: {'{DDA94D51-E3D1-4B95-B858-2E461DD13276}'}). This is an informational message only. No user action is required.\"},\n {'node': 'aks-nodepool1-35148010-vmss000002', 'namespace': 'arc', 'pod': 'benportal3-0', 'container': 'arc-sqlmi', 'message time': datetime.datetime(2021, 8, 3, 15, 39, 32, tzinfo=tzutc()), 'Message': 'Backup      BACKUP DATABASE successfully processed 365 pages in 0.150 seconds (19.010 MB/sec).'},\n {'node': 'aks-nodepool1-35148010-vmss000002', 'namespace': 'arc', 'pod': 'benportal3-0', 'container': 'arc-sqlmi', 'message time': datetime.datetime(2021, 8, 3, 15, 39, 30, tzinfo=tzutc()), 'Message': 'Backup      BACKUP DATABASE successfully processed 378 pages in 0.122 seconds (24.173 MB/sec).'},\n {'node': 'aks-nodepool1-35148010-vmss000002', 'namespace': 'arc', 'pod': 'benportal3-0', 'container': 'arc-sqlmi', 'message time': datetime.datetime(2021, 8, 3, 15, 39, 30, tzinfo=tzutc()), 'Message': \"Backup      Database backed up. Database: BenBenjiBenBenBen, creation date(time): 2021/08/03(15:39:28), pages dumped: 387, first LSN: 37:288:1, last LSN: 37:312:1, number of dump devices: 1, device information: (FILE=1, TYPE=DISK: {'NUL'}). This is an informational message only. No user action is required.\"},\n {'node': 'aks-nodepool1-35148010-vmss000001', 'namespace': 'arc', 'pod': 'benportal3-1', 'container': 'arc-sqlmi', 'message time': datetime.datetime(2021, 8, 3, 15, 39, 29, tzinfo=tzutc()), 'Message': 'Backup      BACKUP failed to complete the command BACKUP DATABASE msdb. Check the backup application log for detailed messages.'},\n {'node': 'aks-nodepool1-35148010-vmss000001', 'namespace': 'arc', 'pod': 'benportal3-1', 'container': 'arc-sqlmi', 'message time': datetime.datetime(2021, 8, 3, 15, 39, 25, tzinfo=tzutc()), 'Message': 'Backup      Error: 3041, Severity: 16, State: 1.'},\n {'node': 'aks-nodepool1-35148010-vmss000001', 'namespace': 'arc', 'pod': 'benportal3-1', 'container': 'arc-sqlmi', 'message time': datetime.datetime(2021, 8, 3, 15, 39, 25, tzinfo=tzutc()), 'Message': 'Backup      Error: 3041, Severity: 16, State: 1.'},\n {'node': 'aks-nodepool1-35148010-vmss000001', 'namespace': 'arc', 'pod': 'benportal3-1', 'container': 'arc-sqlmi', 'message time': datetime.datetime(2021, 8, 3, 15, 39, 25, tzinfo=tzutc()), 'Message': 'Backup      BACKUP failed to complete the command BACKUP DATABASE master. Check the backup application log for detailed messages.'},\n {'node': 'aks-nodepool1-35148010-vmss000000', 'namespace': 'arc', 'pod': 'benportal3-2', 'container': 'arc-sqlmi', 'message time': datetime.datetime(2021, 8, 3, 15, 39, 12, tzinfo=tzutc()), 'Message': 'Backup      BACKUP failed to complete the command BACKUP DATABASE master. Check the backup application log for detailed messages.'},\n {'node': 'aks-nodepool1-35148010-vmss000000', 'namespace': 'arc', 'pod': 'benportal3-2', 'container': 'arc-sqlmi', 'message time': datetime.datetime(2021, 8, 3, 15, 39, 8, tzinfo=tzutc()), 'Message': 'Backup      Error: 3041, Severity: 16, State: 1.'},\n {'node': 'aks-nodepool1-35148010-vmss000000', 'namespace': 'arc', 'pod': 'benportal3-2', 'container': 'arc-sqlmi', 'message time': datetime.datetime(2021, 8, 3, 15, 39, 8, tzinfo=tzutc()), 'Message': 'Backup      BACKUP failed to complete the command BACKUP DATABASE msdb. Check the backup application log for detailed messages.'},\n {'node': 'aks-nodepool1-35148010-vmss000000', 'namespace': 'arc', 'pod': 'benportal3-2', 'container': 'arc-sqlmi', 'message time': datetime.datetime(2021, 8, 3, 15, 39, 8, tzinfo=tzutc()), 'Message': 'Backup      Error: 3041, Severity: 16, State: 1.'},\n {'node': 'aks-nodepool1-35148010-vmss000001', 'namespace': 'arc', 'pod': 'benportal3-1', 'container': 'arc-sqlmi', 'message time': datetime.datetime(2021, 8, 3, 15, 39, 1, tzinfo=tzutc()), 'Message': 'Backup      BACKUP failed to complete the command BACKUP DATABASE msdb. Check the backup application log for detailed messages.'},\n {'node': 'aks-nodepool1-35148010-vmss000001', 'namespace': 'arc', 'pod': 'benportal3-1', 'container': 'arc-sqlmi', 'message time': datetime.datetime(2021, 8, 3, 15, 38, 55, tzinfo=tzutc()), 'Message': 'Backup      Error: 3041, Severity: 16, State: 1.'},\n {'node': 'aks-nodepool1-35148010-vmss000001', 'namespace': 'arc', 'pod': 'benportal3-1', 'container': 'arc-sqlmi', 'message time': datetime.datetime(2021, 8, 3, 15, 38, 55, tzinfo=tzutc()), 'Message': 'Backup      BACKUP failed to complete the command BACKUP DATABASE master. Check the backup application log for detailed messages.'},\n {'node': 'aks-nodepool1-35148010-vmss000001', 'namespace': 'arc', 'pod': 'benportal3-1', 'container': 'arc-sqlmi', 'message time': datetime.datetime(2021, 8, 3, 15, 38, 55, tzinfo=tzutc()), 'Message': 'Backup      Error: 3041, Severity: 16, State: 1.'},\n {'node': 'aks-nodepool1-35148010-vmss000000', 'namespace': 'arc', 'pod': 'benportal3-2', 'container': 'arc-sqlmi', 'message time': datetime.datetime(2021, 8, 3, 15, 38, 44, tzinfo=tzutc()), 'Message': 'Backup      BACKUP failed to complete the command BACKUP DATABASE msdb. Check the backup application log for detailed messages.'},\n {'node': 'aks-nodepool1-35148010-vmss000000', 'namespace': 'arc', 'pod': 'benportal3-2', 'container': 'arc-sqlmi', 'message time': datetime.datetime(2021, 8, 3, 15, 38, 38, tzinfo=tzutc()), 'Message': 'Backup      BACKUP failed to complete the command BACKUP DATABASE master. Check the backup application log for detailed messages.'},\n {'node': 'aks-nodepool1-35148010-vmss000000', 'namespace': 'arc', 'pod': 'benportal3-2', 'container': 'arc-sqlmi', 'message time': datetime.datetime(2021, 8, 3, 15, 38, 38, tzinfo=tzutc()), 'Message': 'Backup      Error: 3041, Severity: 16, State: 1.'},\n {'node': 'aks-nodepool1-35148010-vmss000000', 'namespace': 'arc', 'pod': 'benportal3-2', 'container': 'arc-sqlmi', 'message time': datetime.datetime(2021, 8, 3, 15, 38, 38, tzinfo=tzutc()), 'Message': 'Backup      Error: 3041, Severity: 16, State: 1.'},\n {'node': 'aks-nodepool1-35148010-vmss000001', 'namespace': 'arc', 'pod': 'benportal3-1', 'container': 'arc-sqlmi', 'message time': datetime.datetime(2021, 8, 3, 15, 38, 29, tzinfo=tzutc()), 'Message': 'Backup      BACKUP failed to complete the command BACKUP DATABASE master. Check the backup application log for detailed messages.'},\n {'node': 'aks-nodepool1-35148010-vmss000001', 'namespace': 'arc', 'pod': 'benportal3-1', 'container': 'arc-sqlmi', 'message time': datetime.datetime(2021, 8, 3, 15, 38, 25, tzinfo=tzutc()), 'Message': 'Backup      BACKUP failed to complete the command BACKUP DATABASE msdb. Check the backup application log for detailed messages.'},\n {'node': 'aks-nodepool1-35148010-vmss000001', 'namespace': 'arc', 'pod': 'benportal3-1', 'container': 'arc-sqlmi', 'message time': datetime.datetime(2021, 8, 3, 15, 38, 25, tzinfo=tzutc()), 'Message': 'Backup      Error: 3041, Severity: 16, State: 1.'},\n {'node': 'aks-nodepool1-35148010-vmss000001', 'namespace': 'arc', 'pod': 'benportal3-1', 'container': 'arc-sqlmi', 'message time': datetime.datetime(2021, 8, 3, 15, 38, 25, tzinfo=tzutc()), 'Message': 'Backup      Error: 3041, Severity: 16, State: 1.'},\n {'node': 'aks-nodepool1-35148010-vmss000000', 'namespace': 'arc', 'pod': 'benportal3-2', 'container': 'arc-sqlmi', 'message time': datetime.datetime(2021, 8, 3, 15, 38, 12, tzinfo=tzutc()), 'Message': 'Backup      BACKUP failed to complete the command BACKUP DATABASE master. Check the backup application log for detailed messages.'},\n {'node': 'aks-nodepool1-35148010-vmss000000', 'namespace': 'arc', 'pod': 'benportal3-2', 'container': 'arc-sqlmi', 'message time': datetime.datetime(2021, 8, 3, 15, 38, 8, tzinfo=tzutc()), 'Message': 'Backup      Error: 3041, Severity: 16, State: 1.'},\n {'node': 'aks-nodepool1-35148010-vmss000000', 'namespace': 'arc', 'pod': 'benportal3-2', 'container': 'arc-sqlmi', 'message time': datetime.datetime(2021, 8, 3, 15, 38, 8, tzinfo=tzutc()), 'Message': 'Backup      BACKUP failed to complete the command BACKUP DATABASE msdb. Check the backup application log for detailed messages.'},\n {'node': 'aks-nodepool1-35148010-vmss000000', 'namespace': 'arc', 'pod': 'benportal3-2', 'container': 'arc-sqlmi', 'message time': datetime.datetime(2021, 8, 3, 15, 38, 8, tzinfo=tzutc()), 'Message': 'Backup      Error: 3041, Severity: 16, State: 1.'},\n {'node': 'aks-nodepool1-35148010-vmss000001', 'namespace': 'arc', 'pod': 'benportal3-1', 'container': 'arc-sqlmi', 'message time': datetime.datetime(2021, 8, 3, 15, 38, 1, tzinfo=tzutc()), 'Message': 'Backup      BACKUP failed to complete the command BACKUP DATABASE master. Check the backup application log for detailed messages.'},\n {'node': 'aks-nodepool1-35148010-vmss000001', 'namespace': 'arc', 'pod': 'benportal3-1', 'container': 'arc-sqlmi', 'message time': datetime.datetime(2021, 8, 3, 15, 37, 55, tzinfo=tzutc()), 'Message': 'Backup      Error: 3041, Severity: 16, State: 1.'},\n {'node': 'aks-nodepool1-35148010-vmss000001', 'namespace': 'arc', 'pod': 'benportal3-1', 'container': 'arc-sqlmi', 'message time': datetime.datetime(2021, 8, 3, 15, 37, 55, tzinfo=tzutc()), 'Message': 'Backup      Error: 3041, Severity: 16, State: 1.'},\n {'node': 'aks-nodepool1-35148010-vmss000001', 'namespace': 'arc', 'pod': 'benportal3-1', 'container': 'arc-sqlmi', 'message time': datetime.datetime(2021, 8, 3, 15, 37, 55, tzinfo=tzutc()), 'Message': 'Backup      BACKUP failed to complete the command BACKUP DATABASE msdb. Check the backup application log for detailed messages.'},\n {'node': 'aks-nodepool1-35148010-vmss000000', 'namespace': 'arc', 'pod': 'benportal3-2', 'container': 'arc-sqlmi', 'message time': datetime.datetime(2021, 8, 3, 15, 37, 44, tzinfo=tzutc()), 'Message': 'Backup      BACKUP failed to complete the command BACKUP DATABASE msdb. Check the backup application log for detailed messages.'},\n {'node': 'aks-nodepool1-35148010-vmss000000', 'namespace': 'arc', 'pod': 'benportal3-2', 'container': 'arc-sqlmi', 'message time': datetime.datetime(2021, 8, 3, 15, 37, 38, tzinfo=tzutc()), 'Message': 'Backup      Error: 3041, Severity: 16, State: 1.'},\n {'node': 'aks-nodepool1-35148010-vmss000000', 'namespace': 'arc', 'pod': 'benportal3-2', 'container': 'arc-sqlmi', 'message time': datetime.datetime(2021, 8, 3, 15, 37, 38, tzinfo=tzutc()), 'Message': 'Backup      Error: 3041, Severity: 16, State: 1.'},\n {'node': 'aks-nodepool1-35148010-vmss000000', 'namespace': 'arc', 'pod': 'benportal3-2', 'container': 'arc-sqlmi', 'message time': datetime.datetime(2021, 8, 3, 15, 37, 38, tzinfo=tzutc()), 'Message': 'Backup      BACKUP failed to complete the command BACKUP DATABASE master. Check the backup application log for detailed messages.'},\n {'node': 'aks-nodepool1-35148010-vmss000001', 'namespace': 'arc', 'pod': 'benportal3-1', 'container': 'arc-sqlmi', 'message time': datetime.datetime(2021, 8, 3, 15, 37, 29, tzinfo=tzutc()), 'Message': 'Backup      BACKUP failed to complete the command BACKUP DATABASE master. Check the backup application log for detailed messages.'},\n {'node': 'aks-nodepool1-35148010-vmss000001', 'namespace': 'arc', 'pod': 'benportal3-1', 'container': 'arc-sqlmi', 'message time': datetime.datetime(2021, 8, 3, 15, 37, 25, tzinfo=tzutc()), 'Message': 'Backup      Error: 3041, Severity: 16, State: 1.'},\n {'node': 'aks-nodepool1-35148010-vmss000001', 'namespace': 'arc', 'pod': 'benportal3-1', 'container': 'arc-sqlmi', 'message time': datetime.datetime(2021, 8, 3, 15, 37, 25, tzinfo=tzutc()), 'Message': 'Backup      Error: 3041, Severity: 16, State: 1.'},\n {'node': 'aks-nodepool1-35148010-vmss000001', 'namespace': 'arc', 'pod': 'benportal3-1', 'container': 'arc-sqlmi', 'message time': datetime.datetime(2021, 8, 3, 15, 37, 25, tzinfo=tzutc()), 'Message': 'Backup      BACKUP failed to complete the command BACKUP DATABASE msdb. Check the backup application log for detailed messages.'},\n {'node': 'aks-nodepool1-35148010-vmss000000', 'namespace': 'arc', 'pod': 'benportal3-2', 'container': 'arc-sqlmi', 'message time': datetime.datetime(2021, 8, 3, 15, 37, 12, tzinfo=tzutc()), 'Message': 'Backup      BACKUP failed to complete the command BACKUP DATABASE master. Check the backup application log for detailed messages.'},\n {'node': 'aks-nodepool1-35148010-vmss000000', 'namespace': 'arc', 'pod': 'benportal3-2', 'container': 'arc-sqlmi', 'message time': datetime.datetime(2021, 8, 3, 15, 37, 8, tzinfo=tzutc()), 'Message': 'Backup      Error: 3041, Severity: 16, State: 1.'},\n {'node': 'aks-nodepool1-35148010-vmss000000', 'namespace': 'arc', 'pod': 'benportal3-2', 'container': 'arc-sqlmi', 'message time': datetime.datetime(2021, 8, 3, 15, 37, 8, tzinfo=tzutc()), 'Message': 'Backup      Error: 3041, Severity: 16, State: 1.'},\n {'node': 'aks-nodepool1-35148010-vmss000000', 'namespace': 'arc', 'pod': 'benportal3-2', 'container': 'arc-sqlmi', 'message time': datetime.datetime(2021, 8, 3, 15, 37, 8, tzinfo=tzutc()), 'Message': 'Backup      BACKUP failed to complete the command BACKUP DATABASE msdb. Check the backup application log for detailed messages.'},\n {'node': 'aks-nodepool1-35148010-vmss000001', 'namespace': 'arc', 'pod': 'benportal3-1', 'container': 'arc-sqlmi', 'message time': datetime.datetime(2021, 8, 3, 15, 37, 1, tzinfo=tzutc()), 'Message': 'Backup      BACKUP failed to complete the command BACKUP DATABASE msdb. Check the backup application log for detailed messages.'},\n {'node': 'aks-nodepool1-35148010-vmss000001', 'namespace': 'arc', 'pod': 'benportal3-1', 'container': 'arc-sqlmi', 'message time': datetime.datetime(2021, 8, 3, 15, 36, 55, tzinfo=tzutc()), 'Message': 'Backup      BACKUP failed to complete the command BACKUP DATABASE master. Check the backup application log for detailed messages.'},\n {'node': 'aks-nodepool1-35148010-vmss000001', 'namespace': 'arc', 'pod': 'benportal3-1', 'container': 'arc-sqlmi', 'message time': datetime.datetime(2021, 8, 3, 15, 36, 55, tzinfo=tzutc()), 'Message': 'Backup      Error: 3041, Severity: 16, State: 1.'},\n {'node': 'aks-nodepool1-35148010-vmss000001', 'namespace': 'arc', 'pod': 'benportal3-1', 'container': 'arc-sqlmi', 'message time': datetime.datetime(2021, 8, 3, 15, 36, 55, tzinfo=tzutc()), 'Message': 'Backup      Error: 3041, Severity: 16, State: 1.'},\n {'node': 'aks-nodepool1-35148010-vmss000000', 'namespace': 'arc', 'pod': 'benportal3-2', 'container': 'arc-sqlmi', 'message time': datetime.datetime(2021, 8, 3, 15, 36, 44, tzinfo=tzutc()), 'Message': 'Backup      BACKUP failed to complete the command BACKUP DATABASE master. Check the backup application log for detailed messages.'},\n {'node': 'aks-nodepool1-35148010-vmss000000', 'namespace': 'arc', 'pod': 'benportal3-2', 'container': 'arc-sqlmi', 'message time': datetime.datetime(2021, 8, 3, 15, 36, 38, tzinfo=tzutc()), 'Message': 'Backup      Error: 3041, Severity: 16, State: 1.'},\n {'node': 'aks-nodepool1-35148010-vmss000000', 'namespace': 'arc', 'pod': 'benportal3-2', 'container': 'arc-sqlmi', 'message time': datetime.datetime(2021, 8, 3, 15, 36, 38, tzinfo=tzutc()), 'Message': 'Backup      Error: 3041, Severity: 16, State: 1.'},\n {'node': 'aks-nodepool1-35148010-vmss000000', 'namespace': 'arc', 'pod': 'benportal3-2', 'container': 'arc-sqlmi', 'message time': datetime.datetime(2021, 8, 3, 15, 36, 38, tzinfo=tzutc()), 'Message': 'Backup      BACKUP failed to complete the command BACKUP DATABASE msdb. Check the backup application log for detailed messages.'},\n {'node': 'aks-nodepool1-35148010-vmss000001', 'namespace': 'arc', 'pod': 'benportal3-1', 'container': 'arc-sqlmi', 'message time': datetime.datetime(2021, 8, 3, 15, 36, 29, tzinfo=tzutc()), 'Message': 'Backup      BACKUP failed to complete the command BACKUP DATABASE msdb. Check the backup application log for detailed messages.'},\n {'node': 'aks-nodepool1-35148010-vmss000001', 'namespace': 'arc', 'pod': 'benportal3-1', 'container': 'arc-sqlmi', 'message time': datetime.datetime(2021, 8, 3, 15, 36, 25, tzinfo=tzutc()), 'Message': 'Backup      Error: 3041, Severity: 16, State: 1.'},\n {'node': 'aks-nodepool1-35148010-vmss000001', 'namespace': 'arc', 'pod': 'benportal3-1', 'container': 'arc-sqlmi', 'message time': datetime.datetime(2021, 8, 3, 15, 36, 25, tzinfo=tzutc()), 'Message': 'Backup      Error: 3041, Severity: 16, State: 1.'},\n {'node': 'aks-nodepool1-35148010-vmss000001', 'namespace': 'arc', 'pod': 'benportal3-1', 'container': 'arc-sqlmi', 'message time': datetime.datetime(2021, 8, 3, 15, 36, 25, tzinfo=tzutc()), 'Message': 'Backup      BACKUP failed to complete the command BACKUP DATABASE master. Check the backup application log for detailed messages.'},\n {'node': 'aks-nodepool1-35148010-vmss000000', 'namespace': 'arc', 'pod': 'benportal3-2', 'container': 'arc-sqlmi', 'message time': datetime.datetime(2021, 8, 3, 15, 36, 12, tzinfo=tzutc()), 'Message': 'Backup      BACKUP failed to complete the command BACKUP DATABASE msdb. Check the backup application log for detailed messages.'},\n {'node': 'aks-nodepool1-35148010-vmss000000', 'namespace': 'arc', 'pod': 'benportal3-2', 'container': 'arc-sqlmi', 'message time': datetime.datetime(2021, 8, 3, 15, 36, 8, tzinfo=tzutc()), 'Message': 'Backup      Error: 3041, Severity: 16, State: 1.'},\n {'node': 'aks-nodepool1-35148010-vmss000000', 'namespace': 'arc', 'pod': 'benportal3-2', 'container': 'arc-sqlmi', 'message time': datetime.datetime(2021, 8, 3, 15, 36, 8, tzinfo=tzutc()), 'Message': 'Backup      Error: 3041, Severity: 16, State: 1.'},\n {'node': 'aks-nodepool1-35148010-vmss000000', 'namespace': 'arc', 'pod': 'benportal3-2', 'container': 'arc-sqlmi', 'message time': datetime.datetime(2021, 8, 3, 15, 36, 8, tzinfo=tzutc()), 'Message': 'Backup      BACKUP failed to complete the command BACKUP DATABASE master. Check the backup application log for detailed messages.'},\n {'node': 'aks-nodepool1-35148010-vmss000001', 'namespace': 'arc', 'pod': 'benportal3-1', 'container': 'arc-sqlmi', 'message time': datetime.datetime(2021, 8, 3, 15, 36, 1, tzinfo=tzutc()), 'Message': 'Backup      BACKUP failed to complete the command BACKUP DATABASE msdb. Check the backup application log for detailed messages.'},\n {'node': 'aks-nodepool1-35148010-vmss000001', 'namespace': 'arc', 'pod': 'benportal3-1', 'container': 'arc-sqlmi', 'message time': datetime.datetime(2021, 8, 3, 15, 35, 55, tzinfo=tzutc()), 'Message': 'Backup      Error: 3041, Severity: 16, State: 1.'},\n {'node': 'aks-nodepool1-35148010-vmss000001', 'namespace': 'arc', 'pod': 'benportal3-1', 'container': 'arc-sqlmi', 'message time': datetime.datetime(2021, 8, 3, 15, 35, 55, tzinfo=tzutc()), 'Message': 'Backup      Error: 3041, Severity: 16, State: 1.'},\n {'node': 'aks-nodepool1-35148010-vmss000001', 'namespace': 'arc', 'pod': 'benportal3-1', 'container': 'arc-sqlmi', 'message time': datetime.datetime(2021, 8, 3, 15, 35, 55, tzinfo=tzutc()), 'Message': 'Backup      BACKUP failed to complete the command BACKUP DATABASE master. Check the backup application log for detailed messages.'},\n {'node': 'aks-nodepool1-35148010-vmss000000', 'namespace': 'arc', 'pod': 'benportal3-2', 'container': 'arc-sqlmi', 'message time': datetime.datetime(2021, 8, 3, 15, 35, 44, tzinfo=tzutc()), 'Message': 'Backup      BACKUP failed to complete the command BACKUP DATABASE master. Check the backup application log for detailed messages.'},\n {'node': 'aks-nodepool1-35148010-vmss000000', 'namespace': 'arc', 'pod': 'benportal3-2', 'container': 'arc-sqlmi', 'message time': datetime.datetime(2021, 8, 3, 15, 35, 38, tzinfo=tzutc()), 'Message': 'Backup      Error: 3041, Severity: 16, State: 1.'},\n {'node': 'aks-nodepool1-35148010-vmss000000', 'namespace': 'arc', 'pod': 'benportal3-2', 'container': 'arc-sqlmi', 'message time': datetime.datetime(2021, 8, 3, 15, 35, 38, tzinfo=tzutc()), 'Message': 'Backup      Error: 3041, Severity: 16, State: 1.'},\n {'node': 'aks-nodepool1-35148010-vmss000000', 'namespace': 'arc', 'pod': 'benportal3-2', 'container': 'arc-sqlmi', 'message time': datetime.datetime(2021, 8, 3, 15, 35, 38, tzinfo=tzutc()), 'Message': 'Backup      BACKUP failed to complete the command BACKUP DATABASE msdb. Check the backup application log for detailed messages.'},\n {'node': 'aks-nodepool1-35148010-vmss000001', 'namespace': 'arc', 'pod': 'benportal3-1', 'container': 'arc-sqlmi', 'message time': datetime.datetime(2021, 8, 3, 15, 35, 29, tzinfo=tzutc()), 'Message': 'Backup      BACKUP failed to complete the command BACKUP DATABASE msdb. Check the backup application log for detailed messages.'},\n {'node': 'aks-nodepool1-35148010-vmss000001', 'namespace': 'arc', 'pod': 'benportal3-1', 'container': 'arc-sqlmi', 'message time': datetime.datetime(2021, 8, 3, 15, 35, 25, tzinfo=tzutc()), 'Message': 'Backup      BACKUP failed to complete the command BACKUP DATABASE master. Check the backup application log for detailed messages.'},\n {'node': 'aks-nodepool1-35148010-vmss000001', 'namespace': 'arc', 'pod': 'benportal3-1', 'container': 'arc-sqlmi', 'message time': datetime.datetime(2021, 8, 3, 15, 35, 25, tzinfo=tzutc()), 'Message': 'Backup      Error: 3041, Severity: 16, State: 1.'},\n {'node': 'aks-nodepool1-35148010-vmss000001', 'namespace': 'arc', 'pod': 'benportal3-1', 'container': 'arc-sqlmi', 'message time': datetime.datetime(2021, 8, 3, 15, 35, 25, tzinfo=tzutc()), 'Message': 'Backup      Error: 3041, Severity: 16, State: 1.'},\n {'node': 'aks-nodepool1-35148010-vmss000000', 'namespace': 'arc', 'pod': 'benportal3-2', 'container': 'arc-sqlmi', 'message time': datetime.datetime(2021, 8, 3, 15, 35, 12, tzinfo=tzutc()), 'Message': 'Backup      BACKUP failed to complete the command BACKUP DATABASE master. Check the backup application log for detailed messages.'},\n {'node': 'aks-nodepool1-35148010-vmss000000', 'namespace': 'arc', 'pod': 'benportal3-2', 'container': 'arc-sqlmi', 'message time': datetime.datetime(2021, 8, 3, 15, 35, 8, tzinfo=tzutc()), 'Message': 'Backup      Error: 3041, Severity: 16, State: 1.'},\n {'node': 'aks-nodepool1-35148010-vmss000000', 'namespace': 'arc', 'pod': 'benportal3-2', 'container': 'arc-sqlmi', 'message time': datetime.datetime(2021, 8, 3, 15, 35, 8, tzinfo=tzutc()), 'Message': 'Backup      Error: 3041, Severity: 16, State: 1.'},\n {'node': 'aks-nodepool1-35148010-vmss000000', 'namespace': 'arc', 'pod': 'benportal3-2', 'container': 'arc-sqlmi', 'message time': datetime.datetime(2021, 8, 3, 15, 35, 8, tzinfo=tzutc()), 'Message': 'Backup      BACKUP failed to complete the command BACKUP DATABASE msdb. Check the backup application log for detailed messages.'},\n {'node': 'aks-nodepool1-35148010-vmss000001', 'namespace': 'arc', 'pod': 'benportal3-1', 'container': 'arc-sqlmi', 'message time': datetime.datetime(2021, 8, 3, 15, 35, 1, tzinfo=tzutc()), 'Message': 'Backup      BACKUP failed to complete the command BACKUP DATABASE master. Check the backup application log for detailed messages.'},\n {'node': 'aks-nodepool1-35148010-vmss000001', 'namespace': 'arc', 'pod': 'benportal3-1', 'container': 'arc-sqlmi', 'message time': datetime.datetime(2021, 8, 3, 15, 34, 55, tzinfo=tzutc()), 'Message': 'Backup      BACKUP failed to complete the command BACKUP DATABASE msdb. Check the backup application log for detailed messages.'},\n {'node': 'aks-nodepool1-35148010-vmss000001', 'namespace': 'arc', 'pod': 'benportal3-1', 'container': 'arc-sqlmi', 'message time': datetime.datetime(2021, 8, 3, 15, 34, 55, tzinfo=tzutc()), 'Message': 'Backup      Error: 3041, Severity: 16, State: 1.'},\n {'node': 'aks-nodepool1-35148010-vmss000001', 'namespace': 'arc', 'pod': 'benportal3-1', 'container': 'arc-sqlmi', 'message time': datetime.datetime(2021, 8, 3, 15, 34, 55, tzinfo=tzutc()), 'Message': 'Backup      Error: 3041, Severity: 16, State: 1.'},\n {'node': 'aks-nodepool1-35148010-vmss000000', 'namespace': 'arc', 'pod': 'benportal3-2', 'container': 'arc-sqlmi', 'message time': datetime.datetime(2021, 8, 3, 15, 34, 44, tzinfo=tzutc()), 'Message': 'Backup      BACKUP failed to complete the command BACKUP DATABASE master. Check the backup application log for detailed messages.'},\n {'node': 'aks-nodepool1-35148010-vmss000000', 'namespace': 'arc', 'pod': 'benportal3-2', 'container': 'arc-sqlmi', 'message time': datetime.datetime(2021, 8, 3, 15, 34, 38, tzinfo=tzutc()), 'Message': 'Backup      Error: 3041, Severity: 16, State: 1.'},\n {'node': 'aks-nodepool1-35148010-vmss000000', 'namespace': 'arc', 'pod': 'benportal3-2', 'container': 'arc-sqlmi', 'message time': datetime.datetime(2021, 8, 3, 15, 34, 38, tzinfo=tzutc()), 'Message': 'Backup      BACKUP failed to complete the command BACKUP DATABASE msdb. Check the backup application log for detailed messages.'},\n {'node': 'aks-nodepool1-35148010-vmss000000', 'namespace': 'arc', 'pod': 'benportal3-2', 'container': 'arc-sqlmi', 'message time': datetime.datetime(2021, 8, 3, 15, 34, 38, tzinfo=tzutc()), 'Message': 'Backup      Error: 3041, Severity: 16, State: 1.'},\n {'node': 'aks-nodepool1-35148010-vmss000001', 'namespace': 'arc', 'pod': 'benportal3-1', 'container': 'arc-sqlmi', 'message time': datetime.datetime(2021, 8, 3, 15, 34, 29, tzinfo=tzutc()), 'Message': 'Backup      BACKUP failed to complete the command BACKUP DATABASE msdb. Check the backup application log for detailed messages.'},\n {'node': 'aks-nodepool1-35148010-vmss000001', 'namespace': 'arc', 'pod': 'benportal3-1', 'container': 'arc-sqlmi', 'message time': datetime.datetime(2021, 8, 3, 15, 34, 25, tzinfo=tzutc()), 'Message': 'Backup      BACKUP failed to complete the command BACKUP DATABASE master. Check the backup application log for detailed messages.'},\n {'node': 'aks-nodepool1-35148010-vmss000001', 'namespace': 'arc', 'pod': 'benportal3-1', 'container': 'arc-sqlmi', 'message time': datetime.datetime(2021, 8, 3, 15, 34, 25, tzinfo=tzutc()), 'Message': 'Backup      Error: 3041, Severity: 16, State: 1.'},\n {'node': 'aks-nodepool1-35148010-vmss000001', 'namespace': 'arc', 'pod': 'benportal3-1', 'container': 'arc-sqlmi', 'message time': datetime.datetime(2021, 8, 3, 15, 34, 25, tzinfo=tzutc()), 'Message': 'Backup      Error: 3041, Severity: 16, State: 1.'},\n {'node': 'aks-nodepool1-35148010-vmss000000', 'namespace': 'arc', 'pod': 'benportal3-2', 'container': 'arc-sqlmi', 'message time': datetime.datetime(2021, 8, 3, 15, 33, 52, tzinfo=tzutc()), 'Message': \"Backup      Database was restored: Database: benportal3_msdb, creation date(time): 2021/08/03(15:33:21), first LSN: 80:176:1, last LSN: 81:192:1, number of dump devices: 1, device information: (FILE=1, TYPE=VIRTUAL_DEVICE: {'{0FEA48FB-B15E-46DA-B628-85D43849A866}'}). Informational message. No user action required.\"},\n {'node': 'aks-nodepool1-35148010-vmss000002', 'namespace': 'arc', 'pod': 'benportal3-0', 'container': 'arc-sqlmi', 'message time': datetime.datetime(2021, 8, 3, 15, 33, 52, tzinfo=tzutc()), 'Message': 'Backup      BACKUP DATABASE successfully processed 1920 pages in 0.222 seconds (67.567 MB/sec).'},\n {'node': 'aks-nodepool1-35148010-vmss000002', 'namespace': 'arc', 'pod': 'benportal3-0', 'container': 'arc-sqlmi', 'message time': datetime.datetime(2021, 8, 3, 15, 33, 52, tzinfo=tzutc()), 'Message': \"Backup      Database backed up. Database: benportal3_msdb, creation date(time): 2021/08/03(15:33:21), pages dumped: 2090, first LSN: 80:176:1, last LSN: 81:192:1, number of dump devices: 1, device information: (FILE=1, TYPE=VIRTUAL_DEVICE: {'{B7CFC154-4F32-4447-A63E-C11344FC0B7E}'}). This is an informational message only. No user action is required.\"},\n {'node': 'aks-nodepool1-35148010-vmss000000', 'namespace': 'arc', 'pod': 'benportal3-2', 'container': 'arc-sqlmi', 'message time': datetime.datetime(2021, 8, 3, 15, 33, 52, tzinfo=tzutc()), 'Message': 'Backup      RESTORE DATABASE successfully processed 1920 pages in 0.177 seconds (84.745 MB/sec).'},\n {'node': 'aks-nodepool1-35148010-vmss000002', 'namespace': 'arc', 'pod': 'benportal3-0', 'container': 'arc-sqlmi', 'message time': datetime.datetime(2021, 8, 3, 15, 33, 49, tzinfo=tzutc()), 'Message': 'Backup      BACKUP DATABASE successfully processed 1925 pages in 0.480 seconds (31.323 MB/sec).'},\n {'node': 'aks-nodepool1-35148010-vmss000002', 'namespace': 'arc', 'pod': 'benportal3-0', 'container': 'arc-sqlmi', 'message time': datetime.datetime(2021, 8, 3, 15, 33, 49, tzinfo=tzutc()), 'Message': \"Backup      Database backed up. Database: master, creation date(time): 2021/08/03(15:33:20), pages dumped: 571, first LSN: 220:304:1, last LSN: 220:520:1, number of dump devices: 1, device information: (FILE=1, TYPE=DISK: {'/var/opt/mssql/backups/current-temp/1e2d7cb0-27ad-407b-88d1-ddca87ed6e3d/Full-20210803153348-e6dbb3d1-7f6d-41fa-8547-29e8c6297d40.bak'}). This is an informational message only. No user action is required.\"},\n {'node': 'aks-nodepool1-35148010-vmss000002', 'namespace': 'arc', 'pod': 'benportal3-0', 'container': 'arc-sqlmi', 'message time': datetime.datetime(2021, 8, 3, 15, 33, 49, tzinfo=tzutc()), 'Message': \"Backup      Database backed up. Database: msdb, creation date(time): 2021/08/03(15:33:21), pages dumped: 2075, first LSN: 80:176:1, last LSN: 80:504:1, number of dump devices: 1, device information: (FILE=1, TYPE=DISK: {'/var/opt/mssql/backups/current-temp/0e32c00e-d1bc-4e61-9868-877d4a51a27b/Full-20210803153348-429a1424-64f1-4ee1-8eb1-e158b0e9f4d7.bak'}). This is an informational message only. No user action is required.\"},\n {'node': 'aks-nodepool1-35148010-vmss000002', 'namespace': 'arc', 'pod': 'benportal3-0', 'container': 'arc-sqlmi', 'message time': datetime.datetime(2021, 8, 3, 15, 33, 49, tzinfo=tzutc()), 'Message': 'Backup      BACKUP DATABASE successfully processed 566 pages in 0.378 seconds (11.687 MB/sec).'},\n {'node': 'aks-nodepool1-35148010-vmss000000', 'namespace': 'arc', 'pod': 'benportal3-2', 'container': 'arc-sqlmi', 'message time': datetime.datetime(2021, 8, 3, 15, 33, 47, tzinfo=tzutc()), 'Message': \"Backup      Database was restored: Database: benportal3_master, creation date(time): 2021/08/03(15:33:20), first LSN: 220:304:1, last LSN: 220:424:1, number of dump devices: 1, device information: (FILE=1, TYPE=VIRTUAL_DEVICE: {'{78881A0B-1522-4F44-986C-D30921D1904F}'}). Informational message. No user action required.\"},\n {'node': 'aks-nodepool1-35148010-vmss000000', 'namespace': 'arc', 'pod': 'benportal3-2', 'container': 'arc-sqlmi', 'message time': datetime.datetime(2021, 8, 3, 15, 33, 47, tzinfo=tzutc()), 'Message': 'Backup      RESTORE DATABASE successfully processed 544 pages in 0.136 seconds (31.221 MB/sec).'},\n {'node': 'aks-nodepool1-35148010-vmss000002', 'namespace': 'arc', 'pod': 'benportal3-0', 'container': 'arc-sqlmi', 'message time': datetime.datetime(2021, 8, 3, 15, 33, 47, tzinfo=tzutc()), 'Message': 'Backup      BACKUP DATABASE successfully processed 544 pages in 0.172 seconds (24.686 MB/sec).'},\n {'node': 'aks-nodepool1-35148010-vmss000002', 'namespace': 'arc', 'pod': 'benportal3-0', 'container': 'arc-sqlmi', 'message time': datetime.datetime(2021, 8, 3, 15, 33, 46, tzinfo=tzutc()), 'Message': \"Backup      Database backed up. Database: benportal3_master, creation date(time): 2021/08/03(15:33:20), pages dumped: 778, first LSN: 220:304:1, last LSN: 220:424:1, number of dump devices: 1, device information: (FILE=1, TYPE=VIRTUAL_DEVICE: {'{807A6C9D-1CC5-4E04-9486-9A5F03841C78}'}). This is an informational message only. No user action is required.\"},\n {'node': 'aks-nodepool1-35148010-vmss000002', 'namespace': 'arc', 'pod': 'benportal3-0', 'container': 'arc-sqlmi', 'message time': datetime.datetime(2021, 8, 3, 15, 33, 37, tzinfo=tzutc()), 'Message': 'Backup      BACKUP DATABASE successfully processed 1790 pages in 0.237 seconds (58.989 MB/sec).'},\n {'node': 'aks-nodepool1-35148010-vmss000001', 'namespace': 'arc', 'pod': 'benportal3-1', 'container': 'arc-sqlmi', 'message time': datetime.datetime(2021, 8, 3, 15, 33, 37, tzinfo=tzutc()), 'Message': \"Backup      Database was restored: Database: benportal3_msdb, creation date(time): 2021/08/03(15:33:21), first LSN: 80:176:1, last LSN: 80:264:1, number of dump devices: 1, device information: (FILE=1, TYPE=VIRTUAL_DEVICE: {'{8DEC5707-C8A8-4703-ADE3-1DBC40762595}'}). Informational message. No user action required.\"},\n {'node': 'aks-nodepool1-35148010-vmss000002', 'namespace': 'arc', 'pod': 'benportal3-0', 'container': 'arc-sqlmi', 'message time': datetime.datetime(2021, 8, 3, 15, 33, 37, tzinfo=tzutc()), 'Message': \"Backup      Database backed up. Database: benportal3_msdb, creation date(time): 2021/08/03(15:33:21), pages dumped: 1802, first LSN: 80:176:1, last LSN: 80:264:1, number of dump devices: 1, device information: (FILE=1, TYPE=VIRTUAL_DEVICE: {'{D1C80430-8FD5-4686-B24F-7E6331A65D7B}'}). This is an informational message only. No user action is required.\"},\n {'node': 'aks-nodepool1-35148010-vmss000001', 'namespace': 'arc', 'pod': 'benportal3-1', 'container': 'arc-sqlmi', 'message time': datetime.datetime(2021, 8, 3, 15, 33, 37, tzinfo=tzutc()), 'Message': 'Backup      RESTORE DATABASE successfully processed 1790 pages in 0.181 seconds (77.240 MB/sec).'},\n {'node': 'aks-nodepool1-35148010-vmss000002', 'namespace': 'arc', 'pod': 'benportal3-0', 'container': 'arc-sqlmi', 'message time': datetime.datetime(2021, 8, 3, 15, 33, 34, tzinfo=tzutc()), 'Message': 'Backup      BACKUP DATABASE successfully processed 542 pages in 0.178 seconds (23.766 MB/sec).'},\n {'node': 'aks-nodepool1-35148010-vmss000001', 'namespace': 'arc', 'pod': 'benportal3-1', 'container': 'arc-sqlmi', 'message time': datetime.datetime(2021, 8, 3, 15, 33, 34, tzinfo=tzutc()), 'Message': 'Backup      RESTORE DATABASE successfully processed 542 pages in 0.123 seconds (34.394 MB/sec).'},\n {'node': 'aks-nodepool1-35148010-vmss000001', 'namespace': 'arc', 'pod': 'benportal3-1', 'container': 'arc-sqlmi', 'message time': datetime.datetime(2021, 8, 3, 15, 33, 34, tzinfo=tzutc()), 'Message': \"Backup      Database was restored: Database: benportal3_master, creation date(time): 2021/08/03(15:33:20), first LSN: 220:304:1, last LSN: 220:392:1, number of dump devices: 1, device information: (FILE=1, TYPE=VIRTUAL_DEVICE: {'{4625BB26-7C6F-46E2-8269-CEBB7EFB2608}'}). Informational message. No user action required.\"},\n {'node': 'aks-nodepool1-35148010-vmss000002', 'namespace': 'arc', 'pod': 'benportal3-0', 'container': 'arc-sqlmi', 'message time': datetime.datetime(2021, 8, 3, 15, 33, 33, tzinfo=tzutc()), 'Message': \"Backup      Database backed up. Database: benportal3_master, creation date(time): 2021/08/03(15:33:20), pages dumped: 778, first LSN: 220:304:1, last LSN: 220:392:1, number of dump devices: 1, device information: (FILE=1, TYPE=VIRTUAL_DEVICE: {'{C56D832D-D398-4653-865E-0E44FE03D54C}'}). This is an informational message only. No user action is required.\"},\n {'node': 'aks-nodepool1-35148010-vmss000002', 'namespace': 'arc', 'pod': 'benportal3-0', 'container': 'arc-sqlmi', 'message time': datetime.datetime(2021, 8, 3, 15, 33, 22, tzinfo=tzutc()), 'Message': 'Backup      BACKUP DATABASE successfully processed 1802 pages in 0.132 seconds (106.622 MB/sec).'},\n {'node': 'aks-nodepool1-35148010-vmss000002', 'namespace': 'arc', 'pod': 'benportal3-0', 'container': 'arc-sqlmi', 'message time': datetime.datetime(2021, 8, 3, 15, 33, 22, tzinfo=tzutc()), 'Message': \"Backup      Database backed up. Database: benportal3_msdb, creation date(time): 2021/08/03(15:33:21), pages dumped: 1931, first LSN: 80:176:1, last LSN: 80:200:1, number of dump devices: 1, device information: (FILE=1, TYPE=DISK: {'NUL'}). This is an informational message only. No user action is required.\"},\n {'node': 'aks-nodepool1-35148010-vmss000002', 'namespace': 'arc', 'pod': 'benportal3-0', 'container': 'arc-sqlmi', 'message time': datetime.datetime(2021, 8, 3, 15, 33, 21, tzinfo=tzutc()), 'Message': \"Backup      Database backed up. Database: benportal3_master, creation date(time): 2021/08/03(15:33:20), pages dumped: 563, first LSN: 220:304:1, last LSN: 220:328:1, number of dump devices: 1, device information: (FILE=1, TYPE=DISK: {'NUL'}). This is an informational message only. No user action is required.\"},\n {'node': 'aks-nodepool1-35148010-vmss000002', 'namespace': 'arc', 'pod': 'benportal3-0', 'container': 'arc-sqlmi', 'message time': datetime.datetime(2021, 8, 3, 15, 33, 21, tzinfo=tzutc()), 'Message': 'Backup      BACKUP DATABASE successfully processed 554 pages in 0.136 seconds (31.795 MB/sec).'},\n {'node': 'singlebeard', 'namespace': 'arc', 'pod': 'hyperben-0', 'container': 'arc-sqlmi', 'message time': datetime.datetime(2021, 7, 29, 8, 50, 9, tzinfo=tzutc()), 'Message': \"Backup      Log was backed up. Database: BenBenjiBenBenBen, creation date(time): 2021/07/29(07:59:07), first LSN: 44:3784:1, last LSN: 44:3808:1, number of dump devices: 1, device information: (FILE=1, TYPE=DISK: {'/var/opt/mssql/backups/current/BenBenjiBenBenBen/Log-20210729085006-522c67ff-a84a-4b96-95ea-c58b98e4847f.bak'}). This is an informational message only. No user action is required.\"},\n {'node': 'singlebeard', 'namespace': 'arc', 'pod': 'hyperben-0', 'container': 'arc-sqlmi', 'message time': datetime.datetime(2021, 7, 29, 8, 44, 41, tzinfo=tzutc()), 'Message': \"Backup      Log was backed up. Database: BenBenjiBenBenBen, creation date(time): 2021/07/29(07:59:07), first LSN: 44:3760:1, last LSN: 44:3784:1, number of dump devices: 1, device information: (FILE=1, TYPE=DISK: {'/var/opt/mssql/backups/current/BenBenjiBenBenBen/Log-20210729084436-6d6607ea-3ab7-4d70-b89f-f300a04e8ee8.bak'}). This is an informational message only. No user action is required.\"},\n {'node': 'singlebeard', 'namespace': 'arc', 'pod': 'hyperben-0', 'container': 'arc-sqlmi', 'message time': datetime.datetime(2021, 7, 29, 8, 39, 9, tzinfo=tzutc()), 'Message': \"Backup      Log was backed up. Database: BenBenjiBenBenBen, creation date(time): 2021/07/29(07:59:07), first LSN: 44:3736:1, last LSN: 44:3760:1, number of dump devices: 1, device information: (FILE=1, TYPE=DISK: {'/var/opt/mssql/backups/current/BenBenjiBenBenBen/Log-20210729083906-66e4e18a-52f3-4ff9-90f5-128630401e5e.bak'}). This is an informational message only. No user action is required.\"},\n {'node': 'singlebeard', 'namespace': 'arc', 'pod': 'hyperben-0', 'container': 'arc-sqlmi', 'message time': datetime.datetime(2021, 7, 29, 8, 33, 41, tzinfo=tzutc()), 'Message': \"Backup      Log was backed up. Database: BenBenjiBenBenBen, creation date(time): 2021/07/29(07:59:07), first LSN: 44:3712:1, last LSN: 44:3736:1, number of dump devices: 1, device information: (FILE=1, TYPE=DISK: {'/var/opt/mssql/backups/current/BenBenjiBenBenBen/Log-20210729083336-9d00823f-805a-41d2-a863-0edfb2d41377.bak'}). This is an informational message only. No user action is required.\"},\n {'node': 'singlebeard', 'namespace': 'arc', 'pod': 'hyperben-0', 'container': 'arc-sqlmi', 'message time': datetime.datetime(2021, 7, 29, 8, 28, 9, tzinfo=tzutc()), 'Message': \"Backup      Log was backed up. Database: BenBenjiBenBenBen, creation date(time): 2021/07/29(07:59:07), first LSN: 44:3688:1, last LSN: 44:3712:1, number of dump devices: 1, device information: (FILE=1, TYPE=DISK: {'/var/opt/mssql/backups/current/BenBenjiBenBenBen/Log-20210729082806-16e78b98-3e6a-473c-b2f5-7ff5781077b2.bak'}). This is an informational message only. No user action is required.\"},\n {'node': 'singlebeard', 'namespace': 'arc', 'pod': 'hyperben-0', 'container': 'arc-sqlmi', 'message time': datetime.datetime(2021, 7, 29, 8, 22, 41, tzinfo=tzutc()), 'Message': \"Backup      Log was backed up. Database: BenBenjiBenBenBen, creation date(time): 2021/07/29(07:59:07), first LSN: 44:3648:1, last LSN: 44:3688:1, number of dump devices: 1, device information: (FILE=1, TYPE=DISK: {'/var/opt/mssql/backups/current/BenBenjiBenBenBen/Log-20210729082236-8e0d96ef-4e4a-41ab-840b-d58c3e0ce288.bak'}). This is an informational message only. No user action is required.\"},\n {'node': 'singlebeard', 'namespace': 'arc', 'pod': 'hyperben-0', 'container': 'arc-sqlmi', 'message time': datetime.datetime(2021, 7, 29, 8, 17, 9, tzinfo=tzutc()), 'Message': \"Backup      Log was backed up. Database: BenBenjiBenBenBen, creation date(time): 2021/07/29(07:59:07), first LSN: 44:3560:1, last LSN: 44:3648:1, number of dump devices: 1, device information: (FILE=1, TYPE=DISK: {'/var/opt/mssql/backups/current/BenBenjiBenBenBen/Log-20210729081706-22589489-7ba6-47e5-9fce-ec075536a834.bak'}). This is an informational message only. No user action is required.\"},\n {'node': 'singlebeard', 'namespace': 'arc', 'pod': 'hyperben-0', 'container': 'arc-sqlmi', 'message time': datetime.datetime(2021, 7, 29, 8, 11, 41, tzinfo=tzutc()), 'Message': \"Backup      Log was backed up. Database: BenBenjiBenBenBen, creation date(time): 2021/07/29(07:59:07), first LSN: 37:416:1, last LSN: 44:3560:1, number of dump devices: 1, device information: (FILE=1, TYPE=DISK: {'/var/opt/mssql/backups/current/BenBenjiBenBenBen/Log-20210729081136-b49a2e7b-91e0-445c-afa2-06cccb51593f.bak'}). This is an informational message only. No user action is required.\"},\n {'node': 'singlebeard', 'namespace': 'arc', 'pod': 'hyperben-0', 'container': 'arc-sqlmi', 'message time': datetime.datetime(2021, 7, 29, 8, 6, 9, tzinfo=tzutc()), 'Message': \"Backup      Log was backed up. Database: BenBenjiBenBenBen, creation date(time): 2021/07/29(07:59:07), first LSN: 37:312:1, last LSN: 37:416:1, number of dump devices: 1, device information: (FILE=1, TYPE=DISK: {'/var/opt/mssql/backups/current/BenBenjiBenBenBen/Log-20210729080606-6d9f9e4f-3476-40a1-a31e-4d7253c62494.bak'}). This is an informational message only. No user action is required.\"},\n {'node': 'singlebeard', 'namespace': 'arc', 'pod': 'hyperben-0', 'container': 'arc-sqlmi', 'message time': datetime.datetime(2021, 7, 29, 8, 0, 41, tzinfo=tzutc()), 'Message': 'Backup      BACKUP DATABASE WITH DIFFERENTIAL successfully processed 66 pages in 0.027 seconds (18.952 MB/sec).'},\n {'node': 'singlebeard', 'namespace': 'arc', 'pod': 'hyperben-0', 'container': 'arc-sqlmi', 'message time': datetime.datetime(2021, 7, 29, 8, 0, 36, tzinfo=tzutc()), 'Message': \"Backup      Log was backed up. Database: BenBenjiBenBenBen, creation date(time): 2021/07/29(07:59:07), first LSN: 37:264:1, last LSN: 37:312:1, number of dump devices: 1, device information: (FILE=1, TYPE=DISK: {'/var/opt/mssql/backups/current/BenBenjiBenBenBen/Log-20210729080036-d8685603-bf9c-4daa-8a2c-9c083205b93d.bak'}). This is an informational message only. No user action is required.\"},\n {'node': 'singlebeard', 'namespace': 'arc', 'pod': 'hyperben-0', 'container': 'arc-sqlmi', 'message time': datetime.datetime(2021, 7, 29, 8, 0, 36, tzinfo=tzutc()), 'Message': \"Backup      Database differential changes were backed up. Database: BenBenjiBenBenBen, creation date(time): 2021/07/29(07:59:07), pages dumped: 75, first LSN: 37:392:1, last LSN: 37:416:1, full backup LSN: 37:264:1, number of dump devices: 1, device information: (FILE=1, TYPE=DISK: {'/var/opt/mssql/backups/current/BenBenjiBenBenBen/Differential-20210729080036-43a94b76-dd71-47bf-a633-e6a618e14f8d.bak'}). This is an informational message. No user action is required.\"},\n {'node': 'singlebeard', 'namespace': 'arc', 'pod': 'hyperben-0', 'container': 'arc-sqlmi', 'message time': datetime.datetime(2021, 7, 29, 7, 59, 41, tzinfo=tzutc()), 'Message': 'Backup      BACKUP DATABASE successfully processed 322 pages in 0.040 seconds (62.792 MB/sec).'},\n {'node': 'singlebeard', 'namespace': 'arc', 'pod': 'hyperben-0', 'container': 'arc-sqlmi', 'message time': datetime.datetime(2021, 7, 29, 7, 59, 36, tzinfo=tzutc()), 'Message': \"Backup      Database backed up. Database: BenBenjiBenBenBen, creation date(time): 2021/07/29(07:59:07), pages dumped: 331, first LSN: 37:264:1, last LSN: 37:288:1, number of dump devices: 1, device information: (FILE=1, TYPE=DISK: {'/var/opt/mssql/backups/current-temp/BenBenjiBenBenBen/Full-20210729075936-1a5f80d7-cf45-4388-a1b1-8531ed1a5ff4.bak'}). This is an informational message only. No user action is required.\"}]",
                        "text/html": ""
                    },
                    "metadata": {},
                    "execution_count": 12,
                    "output_type": "execute_result"
                }
            ],
            "execution_count": 12
        },
        {
            "cell_type": "markdown",
            "source": [
                "### Show Me"
            ],
            "metadata": {
                "azdata_cell_guid": "501e7500-8817-497b-83a3-c6c9bac1e8c4"
            }
        },
        {
            "cell_type": "code",
            "source": [
                "%kql sqlManagedInstances_logs_CL | where Message startswith \"Logon       Login \"| sort by es_process_timestamp_t desc | summarize NoOfFailedLogins=count() by Hour=bin(es_process_timestamp_t,1h) | render columnchart "
            ],
            "metadata": {
                "azdata_cell_guid": "5c7ee984-1b6b-46fb-8882-7fb02898c42f"
            },
            "outputs": [
                {
                    "data": {
                        "text/plain": "<IPython.core.display.HTML object>",
                        "text/html": "<html>\n        <head>\n            \n            \n        </head>\n        <body>\n            <div><p style=' padding: 10px; color: #3a87ad; background-color: #d9edf7; border-color: #bce9f1'>&nbsp;*&nbsp;benlogs@loganalytics</p></div>\n        </body>\n        </html>"
                    },
                    "metadata": {},
                    "output_type": "display_data"
                },
                {
                    "data": {
                        "application/vnd.plotly.v1+json": {
                            "config": {
                                "plotlyServerURL": "https://plot.ly"
                            },
                            "data": [
                                {
                                    "marker": {
                                        "color": "rgb(31, 118, 179)"
                                    },
                                    "name": "NoOfFailedLogins",
                                    "orientation": "v",
                                    "type": "bar",
                                    "x": [
                                        "2021-07-28T11:00:00+00:00",
                                        "2021-07-28T12:00:00+00:00",
                                        "2021-07-28T13:00:00+00:00",
                                        "2021-07-29T07:00:00+00:00",
                                        "2021-07-29T08:00:00+00:00",
                                        "2021-08-03T15:00:00+00:00"
                                    ],
                                    "y": [
                                        23,
                                        1,
                                        1,
                                        4,
                                        4,
                                        30
                                    ]
                                }
                            ],
                            "layout": {
                                "showlegend": true,
                                "template": {
                                    "data": {
                                        "bar": [
                                            {
                                                "error_x": {
                                                    "color": "#2a3f5f"
                                                },
                                                "error_y": {
                                                    "color": "#2a3f5f"
                                                },
                                                "marker": {
                                                    "line": {
                                                        "color": "#E5ECF6",
                                                        "width": 0.5
                                                    }
                                                },
                                                "type": "bar"
                                            }
                                        ],
                                        "barpolar": [
                                            {
                                                "marker": {
                                                    "line": {
                                                        "color": "#E5ECF6",
                                                        "width": 0.5
                                                    }
                                                },
                                                "type": "barpolar"
                                            }
                                        ],
                                        "carpet": [
                                            {
                                                "aaxis": {
                                                    "endlinecolor": "#2a3f5f",
                                                    "gridcolor": "white",
                                                    "linecolor": "white",
                                                    "minorgridcolor": "white",
                                                    "startlinecolor": "#2a3f5f"
                                                },
                                                "baxis": {
                                                    "endlinecolor": "#2a3f5f",
                                                    "gridcolor": "white",
                                                    "linecolor": "white",
                                                    "minorgridcolor": "white",
                                                    "startlinecolor": "#2a3f5f"
                                                },
                                                "type": "carpet"
                                            }
                                        ],
                                        "choropleth": [
                                            {
                                                "colorbar": {
                                                    "outlinewidth": 0,
                                                    "ticks": ""
                                                },
                                                "type": "choropleth"
                                            }
                                        ],
                                        "contour": [
                                            {
                                                "colorbar": {
                                                    "outlinewidth": 0,
                                                    "ticks": ""
                                                },
                                                "colorscale": [
                                                    [
                                                        0,
                                                        "#0d0887"
                                                    ],
                                                    [
                                                        0.1111111111111111,
                                                        "#46039f"
                                                    ],
                                                    [
                                                        0.2222222222222222,
                                                        "#7201a8"
                                                    ],
                                                    [
                                                        0.3333333333333333,
                                                        "#9c179e"
                                                    ],
                                                    [
                                                        0.4444444444444444,
                                                        "#bd3786"
                                                    ],
                                                    [
                                                        0.5555555555555556,
                                                        "#d8576b"
                                                    ],
                                                    [
                                                        0.6666666666666666,
                                                        "#ed7953"
                                                    ],
                                                    [
                                                        0.7777777777777778,
                                                        "#fb9f3a"
                                                    ],
                                                    [
                                                        0.8888888888888888,
                                                        "#fdca26"
                                                    ],
                                                    [
                                                        1,
                                                        "#f0f921"
                                                    ]
                                                ],
                                                "type": "contour"
                                            }
                                        ],
                                        "contourcarpet": [
                                            {
                                                "colorbar": {
                                                    "outlinewidth": 0,
                                                    "ticks": ""
                                                },
                                                "type": "contourcarpet"
                                            }
                                        ],
                                        "heatmap": [
                                            {
                                                "colorbar": {
                                                    "outlinewidth": 0,
                                                    "ticks": ""
                                                },
                                                "colorscale": [
                                                    [
                                                        0,
                                                        "#0d0887"
                                                    ],
                                                    [
                                                        0.1111111111111111,
                                                        "#46039f"
                                                    ],
                                                    [
                                                        0.2222222222222222,
                                                        "#7201a8"
                                                    ],
                                                    [
                                                        0.3333333333333333,
                                                        "#9c179e"
                                                    ],
                                                    [
                                                        0.4444444444444444,
                                                        "#bd3786"
                                                    ],
                                                    [
                                                        0.5555555555555556,
                                                        "#d8576b"
                                                    ],
                                                    [
                                                        0.6666666666666666,
                                                        "#ed7953"
                                                    ],
                                                    [
                                                        0.7777777777777778,
                                                        "#fb9f3a"
                                                    ],
                                                    [
                                                        0.8888888888888888,
                                                        "#fdca26"
                                                    ],
                                                    [
                                                        1,
                                                        "#f0f921"
                                                    ]
                                                ],
                                                "type": "heatmap"
                                            }
                                        ],
                                        "heatmapgl": [
                                            {
                                                "colorbar": {
                                                    "outlinewidth": 0,
                                                    "ticks": ""
                                                },
                                                "colorscale": [
                                                    [
                                                        0,
                                                        "#0d0887"
                                                    ],
                                                    [
                                                        0.1111111111111111,
                                                        "#46039f"
                                                    ],
                                                    [
                                                        0.2222222222222222,
                                                        "#7201a8"
                                                    ],
                                                    [
                                                        0.3333333333333333,
                                                        "#9c179e"
                                                    ],
                                                    [
                                                        0.4444444444444444,
                                                        "#bd3786"
                                                    ],
                                                    [
                                                        0.5555555555555556,
                                                        "#d8576b"
                                                    ],
                                                    [
                                                        0.6666666666666666,
                                                        "#ed7953"
                                                    ],
                                                    [
                                                        0.7777777777777778,
                                                        "#fb9f3a"
                                                    ],
                                                    [
                                                        0.8888888888888888,
                                                        "#fdca26"
                                                    ],
                                                    [
                                                        1,
                                                        "#f0f921"
                                                    ]
                                                ],
                                                "type": "heatmapgl"
                                            }
                                        ],
                                        "histogram": [
                                            {
                                                "marker": {
                                                    "colorbar": {
                                                        "outlinewidth": 0,
                                                        "ticks": ""
                                                    }
                                                },
                                                "type": "histogram"
                                            }
                                        ],
                                        "histogram2d": [
                                            {
                                                "colorbar": {
                                                    "outlinewidth": 0,
                                                    "ticks": ""
                                                },
                                                "colorscale": [
                                                    [
                                                        0,
                                                        "#0d0887"
                                                    ],
                                                    [
                                                        0.1111111111111111,
                                                        "#46039f"
                                                    ],
                                                    [
                                                        0.2222222222222222,
                                                        "#7201a8"
                                                    ],
                                                    [
                                                        0.3333333333333333,
                                                        "#9c179e"
                                                    ],
                                                    [
                                                        0.4444444444444444,
                                                        "#bd3786"
                                                    ],
                                                    [
                                                        0.5555555555555556,
                                                        "#d8576b"
                                                    ],
                                                    [
                                                        0.6666666666666666,
                                                        "#ed7953"
                                                    ],
                                                    [
                                                        0.7777777777777778,
                                                        "#fb9f3a"
                                                    ],
                                                    [
                                                        0.8888888888888888,
                                                        "#fdca26"
                                                    ],
                                                    [
                                                        1,
                                                        "#f0f921"
                                                    ]
                                                ],
                                                "type": "histogram2d"
                                            }
                                        ],
                                        "histogram2dcontour": [
                                            {
                                                "colorbar": {
                                                    "outlinewidth": 0,
                                                    "ticks": ""
                                                },
                                                "colorscale": [
                                                    [
                                                        0,
                                                        "#0d0887"
                                                    ],
                                                    [
                                                        0.1111111111111111,
                                                        "#46039f"
                                                    ],
                                                    [
                                                        0.2222222222222222,
                                                        "#7201a8"
                                                    ],
                                                    [
                                                        0.3333333333333333,
                                                        "#9c179e"
                                                    ],
                                                    [
                                                        0.4444444444444444,
                                                        "#bd3786"
                                                    ],
                                                    [
                                                        0.5555555555555556,
                                                        "#d8576b"
                                                    ],
                                                    [
                                                        0.6666666666666666,
                                                        "#ed7953"
                                                    ],
                                                    [
                                                        0.7777777777777778,
                                                        "#fb9f3a"
                                                    ],
                                                    [
                                                        0.8888888888888888,
                                                        "#fdca26"
                                                    ],
                                                    [
                                                        1,
                                                        "#f0f921"
                                                    ]
                                                ],
                                                "type": "histogram2dcontour"
                                            }
                                        ],
                                        "mesh3d": [
                                            {
                                                "colorbar": {
                                                    "outlinewidth": 0,
                                                    "ticks": ""
                                                },
                                                "type": "mesh3d"
                                            }
                                        ],
                                        "parcoords": [
                                            {
                                                "line": {
                                                    "colorbar": {
                                                        "outlinewidth": 0,
                                                        "ticks": ""
                                                    }
                                                },
                                                "type": "parcoords"
                                            }
                                        ],
                                        "pie": [
                                            {
                                                "automargin": true,
                                                "type": "pie"
                                            }
                                        ],
                                        "scatter": [
                                            {
                                                "marker": {
                                                    "colorbar": {
                                                        "outlinewidth": 0,
                                                        "ticks": ""
                                                    }
                                                },
                                                "type": "scatter"
                                            }
                                        ],
                                        "scatter3d": [
                                            {
                                                "line": {
                                                    "colorbar": {
                                                        "outlinewidth": 0,
                                                        "ticks": ""
                                                    }
                                                },
                                                "marker": {
                                                    "colorbar": {
                                                        "outlinewidth": 0,
                                                        "ticks": ""
                                                    }
                                                },
                                                "type": "scatter3d"
                                            }
                                        ],
                                        "scattercarpet": [
                                            {
                                                "marker": {
                                                    "colorbar": {
                                                        "outlinewidth": 0,
                                                        "ticks": ""
                                                    }
                                                },
                                                "type": "scattercarpet"
                                            }
                                        ],
                                        "scattergeo": [
                                            {
                                                "marker": {
                                                    "colorbar": {
                                                        "outlinewidth": 0,
                                                        "ticks": ""
                                                    }
                                                },
                                                "type": "scattergeo"
                                            }
                                        ],
                                        "scattergl": [
                                            {
                                                "marker": {
                                                    "colorbar": {
                                                        "outlinewidth": 0,
                                                        "ticks": ""
                                                    }
                                                },
                                                "type": "scattergl"
                                            }
                                        ],
                                        "scattermapbox": [
                                            {
                                                "marker": {
                                                    "colorbar": {
                                                        "outlinewidth": 0,
                                                        "ticks": ""
                                                    }
                                                },
                                                "type": "scattermapbox"
                                            }
                                        ],
                                        "scatterpolar": [
                                            {
                                                "marker": {
                                                    "colorbar": {
                                                        "outlinewidth": 0,
                                                        "ticks": ""
                                                    }
                                                },
                                                "type": "scatterpolar"
                                            }
                                        ],
                                        "scatterpolargl": [
                                            {
                                                "marker": {
                                                    "colorbar": {
                                                        "outlinewidth": 0,
                                                        "ticks": ""
                                                    }
                                                },
                                                "type": "scatterpolargl"
                                            }
                                        ],
                                        "scatterternary": [
                                            {
                                                "marker": {
                                                    "colorbar": {
                                                        "outlinewidth": 0,
                                                        "ticks": ""
                                                    }
                                                },
                                                "type": "scatterternary"
                                            }
                                        ],
                                        "surface": [
                                            {
                                                "colorbar": {
                                                    "outlinewidth": 0,
                                                    "ticks": ""
                                                },
                                                "colorscale": [
                                                    [
                                                        0,
                                                        "#0d0887"
                                                    ],
                                                    [
                                                        0.1111111111111111,
                                                        "#46039f"
                                                    ],
                                                    [
                                                        0.2222222222222222,
                                                        "#7201a8"
                                                    ],
                                                    [
                                                        0.3333333333333333,
                                                        "#9c179e"
                                                    ],
                                                    [
                                                        0.4444444444444444,
                                                        "#bd3786"
                                                    ],
                                                    [
                                                        0.5555555555555556,
                                                        "#d8576b"
                                                    ],
                                                    [
                                                        0.6666666666666666,
                                                        "#ed7953"
                                                    ],
                                                    [
                                                        0.7777777777777778,
                                                        "#fb9f3a"
                                                    ],
                                                    [
                                                        0.8888888888888888,
                                                        "#fdca26"
                                                    ],
                                                    [
                                                        1,
                                                        "#f0f921"
                                                    ]
                                                ],
                                                "type": "surface"
                                            }
                                        ],
                                        "table": [
                                            {
                                                "cells": {
                                                    "fill": {
                                                        "color": "#EBF0F8"
                                                    },
                                                    "line": {
                                                        "color": "white"
                                                    }
                                                },
                                                "header": {
                                                    "fill": {
                                                        "color": "#C8D4E3"
                                                    },
                                                    "line": {
                                                        "color": "white"
                                                    }
                                                },
                                                "type": "table"
                                            }
                                        ]
                                    },
                                    "layout": {
                                        "annotationdefaults": {
                                            "arrowcolor": "#2a3f5f",
                                            "arrowhead": 0,
                                            "arrowwidth": 1
                                        },
                                        "coloraxis": {
                                            "colorbar": {
                                                "outlinewidth": 0,
                                                "ticks": ""
                                            }
                                        },
                                        "colorscale": {
                                            "diverging": [
                                                [
                                                    0,
                                                    "#8e0152"
                                                ],
                                                [
                                                    0.1,
                                                    "#c51b7d"
                                                ],
                                                [
                                                    0.2,
                                                    "#de77ae"
                                                ],
                                                [
                                                    0.3,
                                                    "#f1b6da"
                                                ],
                                                [
                                                    0.4,
                                                    "#fde0ef"
                                                ],
                                                [
                                                    0.5,
                                                    "#f7f7f7"
                                                ],
                                                [
                                                    0.6,
                                                    "#e6f5d0"
                                                ],
                                                [
                                                    0.7,
                                                    "#b8e186"
                                                ],
                                                [
                                                    0.8,
                                                    "#7fbc41"
                                                ],
                                                [
                                                    0.9,
                                                    "#4d9221"
                                                ],
                                                [
                                                    1,
                                                    "#276419"
                                                ]
                                            ],
                                            "sequential": [
                                                [
                                                    0,
                                                    "#0d0887"
                                                ],
                                                [
                                                    0.1111111111111111,
                                                    "#46039f"
                                                ],
                                                [
                                                    0.2222222222222222,
                                                    "#7201a8"
                                                ],
                                                [
                                                    0.3333333333333333,
                                                    "#9c179e"
                                                ],
                                                [
                                                    0.4444444444444444,
                                                    "#bd3786"
                                                ],
                                                [
                                                    0.5555555555555556,
                                                    "#d8576b"
                                                ],
                                                [
                                                    0.6666666666666666,
                                                    "#ed7953"
                                                ],
                                                [
                                                    0.7777777777777778,
                                                    "#fb9f3a"
                                                ],
                                                [
                                                    0.8888888888888888,
                                                    "#fdca26"
                                                ],
                                                [
                                                    1,
                                                    "#f0f921"
                                                ]
                                            ],
                                            "sequentialminus": [
                                                [
                                                    0,
                                                    "#0d0887"
                                                ],
                                                [
                                                    0.1111111111111111,
                                                    "#46039f"
                                                ],
                                                [
                                                    0.2222222222222222,
                                                    "#7201a8"
                                                ],
                                                [
                                                    0.3333333333333333,
                                                    "#9c179e"
                                                ],
                                                [
                                                    0.4444444444444444,
                                                    "#bd3786"
                                                ],
                                                [
                                                    0.5555555555555556,
                                                    "#d8576b"
                                                ],
                                                [
                                                    0.6666666666666666,
                                                    "#ed7953"
                                                ],
                                                [
                                                    0.7777777777777778,
                                                    "#fb9f3a"
                                                ],
                                                [
                                                    0.8888888888888888,
                                                    "#fdca26"
                                                ],
                                                [
                                                    1,
                                                    "#f0f921"
                                                ]
                                            ]
                                        },
                                        "colorway": [
                                            "#636efa",
                                            "#EF553B",
                                            "#00cc96",
                                            "#ab63fa",
                                            "#FFA15A",
                                            "#19d3f3",
                                            "#FF6692",
                                            "#B6E880",
                                            "#FF97FF",
                                            "#FECB52"
                                        ],
                                        "font": {
                                            "color": "#2a3f5f"
                                        },
                                        "geo": {
                                            "bgcolor": "white",
                                            "lakecolor": "white",
                                            "landcolor": "#E5ECF6",
                                            "showlakes": true,
                                            "showland": true,
                                            "subunitcolor": "white"
                                        },
                                        "hoverlabel": {
                                            "align": "left"
                                        },
                                        "hovermode": "closest",
                                        "mapbox": {
                                            "style": "light"
                                        },
                                        "paper_bgcolor": "white",
                                        "plot_bgcolor": "#E5ECF6",
                                        "polar": {
                                            "angularaxis": {
                                                "gridcolor": "white",
                                                "linecolor": "white",
                                                "ticks": ""
                                            },
                                            "bgcolor": "#E5ECF6",
                                            "radialaxis": {
                                                "gridcolor": "white",
                                                "linecolor": "white",
                                                "ticks": ""
                                            }
                                        },
                                        "scene": {
                                            "xaxis": {
                                                "backgroundcolor": "#E5ECF6",
                                                "gridcolor": "white",
                                                "gridwidth": 2,
                                                "linecolor": "white",
                                                "showbackground": true,
                                                "ticks": "",
                                                "zerolinecolor": "white"
                                            },
                                            "yaxis": {
                                                "backgroundcolor": "#E5ECF6",
                                                "gridcolor": "white",
                                                "gridwidth": 2,
                                                "linecolor": "white",
                                                "showbackground": true,
                                                "ticks": "",
                                                "zerolinecolor": "white"
                                            },
                                            "zaxis": {
                                                "backgroundcolor": "#E5ECF6",
                                                "gridcolor": "white",
                                                "gridwidth": 2,
                                                "linecolor": "white",
                                                "showbackground": true,
                                                "ticks": "",
                                                "zerolinecolor": "white"
                                            }
                                        },
                                        "shapedefaults": {
                                            "line": {
                                                "color": "#2a3f5f"
                                            }
                                        },
                                        "ternary": {
                                            "aaxis": {
                                                "gridcolor": "white",
                                                "linecolor": "white",
                                                "ticks": ""
                                            },
                                            "baxis": {
                                                "gridcolor": "white",
                                                "linecolor": "white",
                                                "ticks": ""
                                            },
                                            "bgcolor": "#E5ECF6",
                                            "caxis": {
                                                "gridcolor": "white",
                                                "linecolor": "white",
                                                "ticks": ""
                                            }
                                        },
                                        "title": {
                                            "x": 0.05
                                        },
                                        "xaxis": {
                                            "automargin": true,
                                            "gridcolor": "white",
                                            "linecolor": "white",
                                            "ticks": "",
                                            "title": {
                                                "standoff": 15
                                            },
                                            "zerolinecolor": "white",
                                            "zerolinewidth": 2
                                        },
                                        "yaxis": {
                                            "automargin": true,
                                            "gridcolor": "white",
                                            "linecolor": "white",
                                            "ticks": "",
                                            "title": {
                                                "standoff": 15
                                            },
                                            "zerolinecolor": "white",
                                            "zerolinewidth": 2
                                        }
                                    }
                                },
                                "title": {
                                    "text": "columnchart"
                                },
                                "xaxis": {
                                    "ticksuffix": "",
                                    "title": {
                                        "text": "Hour"
                                    },
                                    "type": "date"
                                },
                                "yaxis": {
                                    "title": {
                                        "text": "NoOfFailedLogins"
                                    },
                                    "type": "linear"
                                }
                            }
                        }
                    },
                    "metadata": {},
                    "output_type": "display_data"
                },
                {
                    "data": {
                        "text/plain": "<IPython.core.display.HTML object>",
                        "text/html": "<html>\n        <head>\n            \n            \n        </head>\n        <body>\n            <div><p style=' padding: 10px; color: #3a87ad; background-color: #d9edf7; border-color: #bce9f1'>Done&nbsp;(00:00.739):&nbsp;6&nbsp;records</p></div>\n        </body>\n        </html>"
                    },
                    "metadata": {},
                    "output_type": "display_data"
                },
                {
                    "data": {
                        "text/plain": "[{'Hour': datetime.datetime(2021, 7, 28, 11, 0, tzinfo=tzutc()), 'NoOfFailedLogins': 23},\n {'Hour': datetime.datetime(2021, 7, 28, 12, 0, tzinfo=tzutc()), 'NoOfFailedLogins': 1},\n {'Hour': datetime.datetime(2021, 7, 29, 7, 0, tzinfo=tzutc()), 'NoOfFailedLogins': 4},\n {'Hour': datetime.datetime(2021, 7, 29, 8, 0, tzinfo=tzutc()), 'NoOfFailedLogins': 4},\n {'Hour': datetime.datetime(2021, 7, 28, 13, 0, tzinfo=tzutc()), 'NoOfFailedLogins': 1},\n {'Hour': datetime.datetime(2021, 8, 3, 15, 0, tzinfo=tzutc()), 'NoOfFailedLogins': 30}]",
                        "text/html": ""
                    },
                    "metadata": {},
                    "execution_count": 13,
                    "output_type": "execute_result"
                }
            ],
            "execution_count": 13
        }
    ]
}