{
    "metadata": {
        "kernelspec": {
            "name": "python3",
            "display_name": "Python 3",
            "language": "python"
        },
        "language_info": {
            "name": "python",
            "version": "3.6.6",
            "mimetype": "text/x-python",
            "codemirror_mode": {
                "name": "ipython",
                "version": 3
            },
            "pygments_lexer": "ipython3",
            "nbconvert_exporter": "python",
            "file_extension": ".py"
        }
    },
    "nbformat_minor": 2,
    "nbformat": 4,
    "cells": [
        {
            "cell_type": "markdown",
            "source": [
                "# Set up Log Analytics\n",
                "\n",
                "You will need to set up the Notebook to use the KqlMagic package to connect to LogAnalytics. I click on the Add Packages button top right and search and install or you can"
            ],
            "metadata": {
                "azdata_cell_guid": "584c0d19-947f-4f78-adae-33fc83de0426"
            },
            "attachments": {}
        },
        {
            "cell_type": "code",
            "source": [
                "import sys\r\n",
                "!{sys.executable} -m pip install Kqlmagic --no-cache-dir --upgrade"
            ],
            "metadata": {
                "azdata_cell_guid": "c86567a6-ab58-47a9-9cbf-adad29917b96"
            },
            "outputs": [],
            "execution_count": null
        },
        {
            "cell_type": "markdown",
            "source": [
                "and check it is installed"
            ],
            "metadata": {
                "azdata_cell_guid": "cbec740d-921f-4af2-b4e8-c3990b3d83bf"
            },
            "attachments": {}
        },
        {
            "cell_type": "code",
            "source": [
                "import sys\r\n",
                "!{sys.executable} -m pip list"
            ],
            "metadata": {
                "azdata_cell_guid": "d111ae3c-d39b-4e92-a8f1-b48c2d755c75"
            },
            "outputs": [],
            "execution_count": null
        },
        {
            "cell_type": "markdown",
            "source": [
                "Then set the extension to open the web browser"
            ],
            "metadata": {
                "azdata_cell_guid": "bed77d2b-d00d-4181-8a82-6ecb895bc474"
            },
            "attachments": {}
        },
        {
            "cell_type": "code",
            "source": [
                "%config Kqlmagic.popup_interaction='webbrowser_open_at_kernel'"
            ],
            "metadata": {
                "azdata_cell_guid": "d7c17d1e-9d1a-4e74-a314-9c7442414a9b"
            },
            "outputs": [],
            "execution_count": 16
        },
        {
            "cell_type": "markdown",
            "source": [
                "Then load the extension into the Notebook"
            ],
            "metadata": {
                "azdata_cell_guid": "6f26fd62-ba65-42ab-8dcc-a53345f7282e"
            },
            "attachments": {}
        },
        {
            "cell_type": "code",
            "source": [
                "%reload_ext Kqlmagic"
            ],
            "metadata": {
                "azdata_cell_guid": "83e64780-1c96-4113-8bdf-f40daa184f23"
            },
            "outputs": [
                {
                    "output_type": "display_data",
                    "data": {
                        "text/plain": "<IPython.core.display.Javascript object>",
                        "application/javascript": "try {IPython.notebook.kernel.execute(\"NOTEBOOK_URL = '\" + window.location + \"'\");} catch(err) {;}"
                    },
                    "metadata": {}
                },
                {
                    "output_type": "stream",
                    "name": "stdout",
                    "text": "object() takes no parameters\n"
                }
            ],
            "execution_count": 17
        },
        {
            "cell_type": "markdown",
            "source": [
                "You can find help"
            ],
            "metadata": {
                "azdata_cell_guid": "e14cf1eb-9466-45d4-92ec-cde6eeb98078"
            },
            "attachments": {}
        },
        {
            "cell_type": "code",
            "source": [
                "%kql --help \"help\" -popup_window"
            ],
            "metadata": {
                "azdata_cell_guid": "cc114fe8-88ab-46e4-ac4e-c7b8a289fdbf"
            },
            "outputs": [],
            "execution_count": null
        },
        {
            "cell_type": "code",
            "source": [
                "%kql --help \"LogAnalytics\""
            ],
            "metadata": {
                "azdata_cell_guid": "c3cc8989-cd33-4de1-9411-0939d418bde2"
            },
            "outputs": [],
            "execution_count": null
        },
        {
            "cell_type": "markdown",
            "source": [
                "## Make a connection to Log Analytics\n",
                "\n",
                "You will need your\n",
                "\n",
                "- tenantid - place in `<tenantid>`\n",
                "- clientid of the App with permissions - place in `<clientid>`\n",
                "- Client secret for above - place in `<clientsecret>`\n",
                "- Log Analytics WorkSpace ID- place in `<workspaceid>`\n",
                "- custom name - place in `<alias>`\n",
                "\n",
                "`%kql loganalytics://tenant='<tenantid>';clientid='<clientid>';clientsecret='<clientsecret>';workspace='<workspaceid>';alias='<alias>'`"
            ],
            "metadata": {
                "azdata_cell_guid": "b63c1c4d-60ec-407b-b1bc-c631bb6b8b10"
            },
            "attachments": {}
        },
        {
            "cell_type": "code",
            "source": [
                "%kql loganalytics://tenant='<tenantid>';clientid='<clientid>';clientsecret='<clientsecret>';workspace='<workspaceid>';alias='<alias>'\r\n",
                ""
            ],
            "metadata": {
                "azdata_cell_guid": "509ae246-1988-4dbe-9232-c91c9346a61a"
            },
            "outputs": [
                {
                    "output_type": "display_data",
                    "data": {
                        "text/plain": "<IPython.core.display.Javascript object>",
                        "application/javascript": "try {IPython.notebook.kernel.execute(\"NOTEBOOK_URL = '\" + window.location + \"'\");} catch(err) {;}"
                    },
                    "metadata": {}
                },
                {
                    "output_type": "display_data",
                    "data": {
                        "text/plain": "<IPython.core.display.HTML object>",
                        "text/html": "<html>\n        <head>\n            \n            \n        </head>\n        <body>\n            <div><p style=' padding: 10px; color: #3a87ad; background-color: #d9edf7; border-color: #bce9f1'>opened&nbsp;popup&nbsp;window:&nbsp;&apos;_loggyben_at_loganalytics_schema&apos;,&nbsp;see&nbsp;it&nbsp;in&nbsp;your&nbsp;browser</p></div>\n        </body>\n        </html>"
                    },
                    "metadata": {}
                }
            ],
            "execution_count": 19
        },
        {
            "cell_type": "markdown",
            "source": [
                "## Query the logs\r\n",
                "\r\n",
                "Now you can run Kusto Queries against the logs\r\n",
                "\r\n",
                "### Show me Failed Logins\r\n",
                "\r\n",
                ""
            ],
            "metadata": {
                "azdata_cell_guid": "5ef13fae-0367-4cbd-9f46-740f9c8c4fd5"
            }
        },
        {
            "cell_type": "code",
            "source": [
                "%kql sqlManagedInstances_logs_CL | where Message startswith \"Logon       Login \"| sort by es_process_timestamp_t desc |project node=kubernetes_node_name_s,namespace=kubernetes_namespace_s,pod=kubernetes_pod_name_s,container=kubernetes_container_name_s,[\"message time\"]=es_process_timestamp_t,Message"
            ],
            "metadata": {
                "azdata_cell_guid": "06f2d1d2-ab60-43de-8aaf-d21bf99fd09b"
            },
            "outputs": [
                {
                    "output_type": "display_data",
                    "data": {
                        "text/plain": "<IPython.core.display.Javascript object>",
                        "application/javascript": "try {IPython.notebook.kernel.execute(\"NOTEBOOK_URL = '\" + window.location + \"'\");} catch(err) {;}"
                    },
                    "metadata": {}
                },
                {
                    "output_type": "display_data",
                    "data": {
                        "text/plain": "<IPython.core.display.HTML object>",
                        "text/html": "<html>\n        <head>\n            \n            \n        </head>\n        <body>\n            <div><p style=' padding: 10px; color: #3a87ad; background-color: #d9edf7; border-color: #bce9f1'>&nbsp;*&nbsp;loggyben@loganalytics</p></div>\n        </body>\n        </html>"
                    },
                    "metadata": {}
                },
                {
                    "output_type": "display_data",
                    "data": {
                        "text/plain": "<IPython.core.display.HTML object>",
                        "text/html": "<html>\n        <head>\n            \n            <title>Kqlmagic - table</title>\n        </head>\n        <body>\n            <table>\n    <thead>\n        <tr>\n            <th>node</th>\n            <th>namespace</th>\n            <th>pod</th>\n            <th>container</th>\n            <th>message time</th>\n            <th>Message</th>\n        </tr>\n    </thead>\n    <tbody>\n        <tr>\n            <td>singlebeard</td>\n            <td>arc</td>\n            <td>hyperben-0</td>\n            <td>arc-sqlmi</td>\n            <td>2021-07-29 08:05:05+00:00</td>\n            <td>Logon       Login failed for user &#x27;TryingToStealYourData-1478&#x27;. Reason: Could not find a login matching the name provided. [CLIENT: 10.244.0.161]</td>\n        </tr>\n        <tr>\n            <td>singlebeard</td>\n            <td>arc</td>\n            <td>hyperben-0</td>\n            <td>arc-sqlmi</td>\n            <td>2021-07-29 08:05:01+00:00</td>\n            <td>Logon       Login failed for user &#x27;TryingToStealYourData-2189&#x27;. Reason: Could not find a login matching the name provided. [CLIENT: 10.244.0.160]</td>\n        </tr>\n        <tr>\n            <td>singlebeard</td>\n            <td>arc</td>\n            <td>hyperben-0</td>\n            <td>arc-sqlmi</td>\n            <td>2021-07-29 08:04:58+00:00</td>\n            <td>Logon       Login failed for user &#x27;TryingToStealYourData-4168&#x27;. Reason: Could not find a login matching the name provided. [CLIENT: 10.244.0.159]</td>\n        </tr>\n        <tr>\n            <td>singlebeard</td>\n            <td>arc</td>\n            <td>hyperben-0</td>\n            <td>arc-sqlmi</td>\n            <td>2021-07-29 08:04:56+00:00</td>\n            <td>Logon       Login failed for user &#x27;TryingToStealYourData-6403&#x27;. Reason: Could not find a login matching the name provided. [CLIENT: 10.244.0.158]</td>\n        </tr>\n        <tr>\n            <td>singlebeard</td>\n            <td>arc</td>\n            <td>hyperben-0</td>\n            <td>arc-sqlmi</td>\n            <td>2021-07-29 07:55:21+00:00</td>\n            <td>Logon       Login failed for user &#x27;system&#x27;. Reason: Could not find a login matching the name provided. [CLIENT: ::1]</td>\n        </tr>\n        <tr>\n            <td>singlebeard</td>\n            <td>arc</td>\n            <td>hyperben-0</td>\n            <td>arc-sqlmi</td>\n            <td>2021-07-29 07:55:17+00:00</td>\n            <td>Logon       Login failed for user &#x27;##monitoring-login##&#x27;. Reason: Could not find a login matching the name provided. [CLIENT: 10.244.0.157]</td>\n        </tr>\n        <tr>\n            <td>singlebeard</td>\n            <td>arc</td>\n            <td>hyperben-0</td>\n            <td>arc-sqlmi</td>\n            <td>2021-07-29 07:55:15+00:00</td>\n            <td>Logon       Login failed for user &#x27;sa&#x27;. Reason: An error occurred while evaluating the password. [CLIENT: ::1]</td>\n        </tr>\n        <tr>\n            <td>singlebeard</td>\n            <td>arc</td>\n            <td>hyperben-0</td>\n            <td>arc-sqlmi</td>\n            <td>2021-07-29 07:55:15+00:00</td>\n            <td>Logon       Login failed for user &#x27;##miaa-agent-login##&#x27;. Reason: Could not find a login matching the name provided. [CLIENT: 127.0.0.1]</td>\n        </tr>\n        <tr>\n            <td>singlebeard</td>\n            <td>arc</td>\n            <td>hyperben-0</td>\n            <td>arc-sqlmi</td>\n            <td>2021-07-28 13:00:09+00:00</td>\n            <td>Logon       Login failed for user &#x27;TryingToStealYourData-2910&#x27;. Reason: Could not find a login matching the name provided. [CLIENT: 10.244.0.58]</td>\n        </tr>\n        <tr>\n            <td>singlebeard</td>\n            <td>arc</td>\n            <td>hyperben-0</td>\n            <td>arc-sqlmi</td>\n            <td>2021-07-28 12:00:09+00:00</td>\n            <td>Logon       Login failed for user &#x27;TryingToStealYourData-3271&#x27;. Reason: Could not find a login matching the name provided. [CLIENT: 10.244.0.56]</td>\n        </tr>\n        <tr>\n            <td>singlebeard</td>\n            <td>arc</td>\n            <td>hyperben-0</td>\n            <td>arc-sqlmi</td>\n            <td>2021-07-28 11:58:21+00:00</td>\n            <td>Logon       Login failed for user &#x27;TryingToStealYourData-1630&#x27;. Reason: Could not find a login matching the name provided. [CLIENT: 10.244.0.54]</td>\n        </tr>\n        <tr>\n            <td>singlebeard</td>\n            <td>arc</td>\n            <td>hyperben-0</td>\n            <td>arc-sqlmi</td>\n            <td>2021-07-28 11:58:17+00:00</td>\n            <td>Logon       Login failed for user &#x27;TryingToStealYourData-6144&#x27;. Reason: Could not find a login matching the name provided. [CLIENT: 10.244.0.53]</td>\n        </tr>\n        <tr>\n            <td>singlebeard</td>\n            <td>arc</td>\n            <td>hyperben-0</td>\n            <td>arc-sqlmi</td>\n            <td>2021-07-28 11:58:14+00:00</td>\n            <td>Logon       Login failed for user &#x27;TryingToStealYourData-2261&#x27;. Reason: Could not find a login matching the name provided. [CLIENT: 10.244.0.52]</td>\n        </tr>\n        <tr>\n            <td>singlebeard</td>\n            <td>arc</td>\n            <td>hyperben-0</td>\n            <td>arc-sqlmi</td>\n            <td>2021-07-28 11:58:13+00:00</td>\n            <td>Logon       Login failed for user &#x27;TryingToStealYourData-2245&#x27;. Reason: Could not find a login matching the name provided. [CLIENT: 10.244.0.51]</td>\n        </tr>\n        <tr>\n            <td>singlebeard</td>\n            <td>arc</td>\n            <td>hyperben-0</td>\n            <td>arc-sqlmi</td>\n            <td>2021-07-28 11:58:10+00:00</td>\n            <td>Logon       Login failed for user &#x27;TryingToStealYourData-4757&#x27;. Reason: Could not find a login matching the name provided. [CLIENT: 10.244.0.50]</td>\n        </tr>\n        <tr>\n            <td>singlebeard</td>\n            <td>arc</td>\n            <td>hyperben-0</td>\n            <td>arc-sqlmi</td>\n            <td>2021-07-28 11:58:08+00:00</td>\n            <td>Logon       Login failed for user &#x27;TryingToStealYourData-3398&#x27;. Reason: Could not find a login matching the name provided. [CLIENT: 10.244.0.49]</td>\n        </tr>\n        <tr>\n            <td>singlebeard</td>\n            <td>arc</td>\n            <td>hyperben-0</td>\n            <td>arc-sqlmi</td>\n            <td>2021-07-28 11:58:06+00:00</td>\n            <td>Logon       Login failed for user &#x27;TryingToStealYourData-5549&#x27;. Reason: Could not find a login matching the name provided. [CLIENT: 10.244.0.48]</td>\n        </tr>\n        <tr>\n            <td>singlebeard</td>\n            <td>arc</td>\n            <td>hyperben-0</td>\n            <td>arc-sqlmi</td>\n            <td>2021-07-28 11:58:04+00:00</td>\n            <td>Logon       Login failed for user &#x27;TryingToStealYourData-5188&#x27;. Reason: Could not find a login matching the name provided. [CLIENT: 10.244.0.47]</td>\n        </tr>\n        <tr>\n            <td>singlebeard</td>\n            <td>arc</td>\n            <td>hyperben-0</td>\n            <td>arc-sqlmi</td>\n            <td>2021-07-28 11:58:02+00:00</td>\n            <td>Logon       Login failed for user &#x27;TryingToStealYourData-9486&#x27;. Reason: Could not find a login matching the name provided. [CLIENT: 10.244.0.46]</td>\n        </tr>\n        <tr>\n            <td>singlebeard</td>\n            <td>arc</td>\n            <td>hyperben-0</td>\n            <td>arc-sqlmi</td>\n            <td>2021-07-28 11:58:00+00:00</td>\n            <td>Logon       Login failed for user &#x27;TryingToStealYourData-1027&#x27;. Reason: Could not find a login matching the name provided. [CLIENT: 10.244.0.45]</td>\n        </tr>\n        <tr>\n            <td>singlebeard</td>\n            <td>arc</td>\n            <td>hyperben-0</td>\n            <td>arc-sqlmi</td>\n            <td>2021-07-28 11:57:58+00:00</td>\n            <td>Logon       Login failed for user &#x27;TryingToStealYourData-1828&#x27;. Reason: Could not find a login matching the name provided. [CLIENT: 10.244.0.44]</td>\n        </tr>\n        <tr>\n            <td>singlebeard</td>\n            <td>arc</td>\n            <td>hyperben-0</td>\n            <td>arc-sqlmi</td>\n            <td>2021-07-28 11:52:09+00:00</td>\n            <td>Logon       Login failed for user &#x27;TryingToStealYourData-9661&#x27;. Reason: Could not find a login matching the name provided. [CLIENT: 10.244.0.43]</td>\n        </tr>\n        <tr>\n            <td>singlebeard</td>\n            <td>arc</td>\n            <td>hyperben-0</td>\n            <td>arc-sqlmi</td>\n            <td>2021-07-28 11:52:03+00:00</td>\n            <td>Logon       Login failed for user &#x27;TryingToStealYourData-2869&#x27;. Reason: Could not find a login matching the name provided. [CLIENT: 10.244.0.42]</td>\n        </tr>\n        <tr>\n            <td>singlebeard</td>\n            <td>arc</td>\n            <td>hyperben-0</td>\n            <td>arc-sqlmi</td>\n            <td>2021-07-28 11:46:49+00:00</td>\n            <td>Logon       Login failed for user &#x27;TryingToStealYourData&#x27;. Reason: Could not find a login matching the name provided. [CLIENT: 10.244.0.38]</td>\n        </tr>\n        <tr>\n            <td>singlebeard</td>\n            <td>arc</td>\n            <td>hyperben-0</td>\n            <td>arc-sqlmi</td>\n            <td>2021-07-28 11:46:44+00:00</td>\n            <td>Logon       Login failed for user &#x27;TryingToStealYourData&#x27;. Reason: Could not find a login matching the name provided. [CLIENT: 10.244.0.37]</td>\n        </tr>\n        <tr>\n            <td>singlebeard</td>\n            <td>arc</td>\n            <td>hyperben-0</td>\n            <td>arc-sqlmi</td>\n            <td>2021-07-28 11:46:42+00:00</td>\n            <td>Logon       Login failed for user &#x27;TryingToStealYourData&#x27;. Reason: Could not find a login matching the name provided. [CLIENT: 10.244.0.36]</td>\n        </tr>\n        <tr>\n            <td>singlebeard</td>\n            <td>arc</td>\n            <td>hyperben-0</td>\n            <td>arc-sqlmi</td>\n            <td>2021-07-28 11:46:39+00:00</td>\n            <td>Logon       Login failed for user &#x27;TryingToStealYourData&#x27;. Reason: Could not find a login matching the name provided. [CLIENT: 10.244.0.35]</td>\n        </tr>\n        <tr>\n            <td>singlebeard</td>\n            <td>arc</td>\n            <td>hyperben-0</td>\n            <td>arc-sqlmi</td>\n            <td>2021-07-28 11:46:38+00:00</td>\n            <td>Logon       Login failed for user &#x27;TryingToStealYourData&#x27;. Reason: Could not find a login matching the name provided. [CLIENT: 10.244.0.34]</td>\n        </tr>\n        <tr>\n            <td>singlebeard</td>\n            <td>arc</td>\n            <td>hyperben-0</td>\n            <td>arc-sqlmi</td>\n            <td>2021-07-28 11:34:57+00:00</td>\n            <td>Logon       Login failed for user &#x27;TryingToStealYourData&#x27;. Reason: Could not find a login matching the name provided. [CLIENT: 10.244.0.26]</td>\n        </tr>\n        <tr>\n            <td>singlebeard</td>\n            <td>arc</td>\n            <td>hyperben-0</td>\n            <td>arc-sqlmi</td>\n            <td>2021-07-28 11:30:21+00:00</td>\n            <td>Logon       Login failed for user &#x27;##monitoring-login##&#x27;. Reason: Could not find a login matching the name provided. [CLIENT: 10.244.0.24]</td>\n        </tr>\n        <tr>\n            <td>singlebeard</td>\n            <td>arc</td>\n            <td>hyperben-0</td>\n            <td>arc-sqlmi</td>\n            <td>2021-07-28 11:30:15+00:00</td>\n            <td>Logon       Login failed for user &#x27;system&#x27;. Reason: Could not find a login matching the name provided. [CLIENT: ::1]</td>\n        </tr>\n        <tr>\n            <td>singlebeard</td>\n            <td>arc</td>\n            <td>hyperben-0</td>\n            <td>arc-sqlmi</td>\n            <td>2021-07-28 11:30:15+00:00</td>\n            <td>Logon       Login failed for user &#x27;##miaa-agent-login##&#x27;. Reason: Could not find a login matching the name provided. [CLIENT: 127.0.0.1]</td>\n        </tr>\n        <tr>\n            <td>singlebeard</td>\n            <td>arc</td>\n            <td>hyperben-0</td>\n            <td>arc-sqlmi</td>\n            <td>2021-07-28 11:30:15+00:00</td>\n            <td>Logon       Login failed for user &#x27;sa&#x27;. Reason: An error occurred while evaluating the password. [CLIENT: ::1]</td>\n        </tr>\n    </tbody>\n</table>\n        </body>\n        </html>"
                    },
                    "metadata": {}
                },
                {
                    "output_type": "execute_result",
                    "execution_count": 20,
                    "data": {
                        "text/plain": "[{'node': 'singlebeard', 'namespace': 'arc', 'pod': 'hyperben-0', 'container': 'arc-sqlmi', 'message time': datetime.datetime(2021, 7, 29, 8, 5, 5, tzinfo=tzutc()), 'Message': \"Logon       Login failed for user 'TryingToStealYourData-1478'. Reason: Could not find a login matching the name provided. [CLIENT: 10.244.0.161]\"},\n {'node': 'singlebeard', 'namespace': 'arc', 'pod': 'hyperben-0', 'container': 'arc-sqlmi', 'message time': datetime.datetime(2021, 7, 29, 8, 5, 1, tzinfo=tzutc()), 'Message': \"Logon       Login failed for user 'TryingToStealYourData-2189'. Reason: Could not find a login matching the name provided. [CLIENT: 10.244.0.160]\"},\n {'node': 'singlebeard', 'namespace': 'arc', 'pod': 'hyperben-0', 'container': 'arc-sqlmi', 'message time': datetime.datetime(2021, 7, 29, 8, 4, 58, tzinfo=tzutc()), 'Message': \"Logon       Login failed for user 'TryingToStealYourData-4168'. Reason: Could not find a login matching the name provided. [CLIENT: 10.244.0.159]\"},\n {'node': 'singlebeard', 'namespace': 'arc', 'pod': 'hyperben-0', 'container': 'arc-sqlmi', 'message time': datetime.datetime(2021, 7, 29, 8, 4, 56, tzinfo=tzutc()), 'Message': \"Logon       Login failed for user 'TryingToStealYourData-6403'. Reason: Could not find a login matching the name provided. [CLIENT: 10.244.0.158]\"},\n {'node': 'singlebeard', 'namespace': 'arc', 'pod': 'hyperben-0', 'container': 'arc-sqlmi', 'message time': datetime.datetime(2021, 7, 29, 7, 55, 21, tzinfo=tzutc()), 'Message': \"Logon       Login failed for user 'system'. Reason: Could not find a login matching the name provided. [CLIENT: ::1]\"},\n {'node': 'singlebeard', 'namespace': 'arc', 'pod': 'hyperben-0', 'container': 'arc-sqlmi', 'message time': datetime.datetime(2021, 7, 29, 7, 55, 17, tzinfo=tzutc()), 'Message': \"Logon       Login failed for user '##monitoring-login##'. Reason: Could not find a login matching the name provided. [CLIENT: 10.244.0.157]\"},\n {'node': 'singlebeard', 'namespace': 'arc', 'pod': 'hyperben-0', 'container': 'arc-sqlmi', 'message time': datetime.datetime(2021, 7, 29, 7, 55, 15, tzinfo=tzutc()), 'Message': \"Logon       Login failed for user 'sa'. Reason: An error occurred while evaluating the password. [CLIENT: ::1]\"},\n {'node': 'singlebeard', 'namespace': 'arc', 'pod': 'hyperben-0', 'container': 'arc-sqlmi', 'message time': datetime.datetime(2021, 7, 29, 7, 55, 15, tzinfo=tzutc()), 'Message': \"Logon       Login failed for user '##miaa-agent-login##'. Reason: Could not find a login matching the name provided. [CLIENT: 127.0.0.1]\"},\n {'node': 'singlebeard', 'namespace': 'arc', 'pod': 'hyperben-0', 'container': 'arc-sqlmi', 'message time': datetime.datetime(2021, 7, 28, 13, 0, 9, tzinfo=tzutc()), 'Message': \"Logon       Login failed for user 'TryingToStealYourData-2910'. Reason: Could not find a login matching the name provided. [CLIENT: 10.244.0.58]\"},\n {'node': 'singlebeard', 'namespace': 'arc', 'pod': 'hyperben-0', 'container': 'arc-sqlmi', 'message time': datetime.datetime(2021, 7, 28, 12, 0, 9, tzinfo=tzutc()), 'Message': \"Logon       Login failed for user 'TryingToStealYourData-3271'. Reason: Could not find a login matching the name provided. [CLIENT: 10.244.0.56]\"},\n {'node': 'singlebeard', 'namespace': 'arc', 'pod': 'hyperben-0', 'container': 'arc-sqlmi', 'message time': datetime.datetime(2021, 7, 28, 11, 58, 21, tzinfo=tzutc()), 'Message': \"Logon       Login failed for user 'TryingToStealYourData-1630'. Reason: Could not find a login matching the name provided. [CLIENT: 10.244.0.54]\"},\n {'node': 'singlebeard', 'namespace': 'arc', 'pod': 'hyperben-0', 'container': 'arc-sqlmi', 'message time': datetime.datetime(2021, 7, 28, 11, 58, 17, tzinfo=tzutc()), 'Message': \"Logon       Login failed for user 'TryingToStealYourData-6144'. Reason: Could not find a login matching the name provided. [CLIENT: 10.244.0.53]\"},\n {'node': 'singlebeard', 'namespace': 'arc', 'pod': 'hyperben-0', 'container': 'arc-sqlmi', 'message time': datetime.datetime(2021, 7, 28, 11, 58, 14, tzinfo=tzutc()), 'Message': \"Logon       Login failed for user 'TryingToStealYourData-2261'. Reason: Could not find a login matching the name provided. [CLIENT: 10.244.0.52]\"},\n {'node': 'singlebeard', 'namespace': 'arc', 'pod': 'hyperben-0', 'container': 'arc-sqlmi', 'message time': datetime.datetime(2021, 7, 28, 11, 58, 13, tzinfo=tzutc()), 'Message': \"Logon       Login failed for user 'TryingToStealYourData-2245'. Reason: Could not find a login matching the name provided. [CLIENT: 10.244.0.51]\"},\n {'node': 'singlebeard', 'namespace': 'arc', 'pod': 'hyperben-0', 'container': 'arc-sqlmi', 'message time': datetime.datetime(2021, 7, 28, 11, 58, 10, tzinfo=tzutc()), 'Message': \"Logon       Login failed for user 'TryingToStealYourData-4757'. Reason: Could not find a login matching the name provided. [CLIENT: 10.244.0.50]\"},\n {'node': 'singlebeard', 'namespace': 'arc', 'pod': 'hyperben-0', 'container': 'arc-sqlmi', 'message time': datetime.datetime(2021, 7, 28, 11, 58, 8, tzinfo=tzutc()), 'Message': \"Logon       Login failed for user 'TryingToStealYourData-3398'. Reason: Could not find a login matching the name provided. [CLIENT: 10.244.0.49]\"},\n {'node': 'singlebeard', 'namespace': 'arc', 'pod': 'hyperben-0', 'container': 'arc-sqlmi', 'message time': datetime.datetime(2021, 7, 28, 11, 58, 6, tzinfo=tzutc()), 'Message': \"Logon       Login failed for user 'TryingToStealYourData-5549'. Reason: Could not find a login matching the name provided. [CLIENT: 10.244.0.48]\"},\n {'node': 'singlebeard', 'namespace': 'arc', 'pod': 'hyperben-0', 'container': 'arc-sqlmi', 'message time': datetime.datetime(2021, 7, 28, 11, 58, 4, tzinfo=tzutc()), 'Message': \"Logon       Login failed for user 'TryingToStealYourData-5188'. Reason: Could not find a login matching the name provided. [CLIENT: 10.244.0.47]\"},\n {'node': 'singlebeard', 'namespace': 'arc', 'pod': 'hyperben-0', 'container': 'arc-sqlmi', 'message time': datetime.datetime(2021, 7, 28, 11, 58, 2, tzinfo=tzutc()), 'Message': \"Logon       Login failed for user 'TryingToStealYourData-9486'. Reason: Could not find a login matching the name provided. [CLIENT: 10.244.0.46]\"},\n {'node': 'singlebeard', 'namespace': 'arc', 'pod': 'hyperben-0', 'container': 'arc-sqlmi', 'message time': datetime.datetime(2021, 7, 28, 11, 58, tzinfo=tzutc()), 'Message': \"Logon       Login failed for user 'TryingToStealYourData-1027'. Reason: Could not find a login matching the name provided. [CLIENT: 10.244.0.45]\"},\n {'node': 'singlebeard', 'namespace': 'arc', 'pod': 'hyperben-0', 'container': 'arc-sqlmi', 'message time': datetime.datetime(2021, 7, 28, 11, 57, 58, tzinfo=tzutc()), 'Message': \"Logon       Login failed for user 'TryingToStealYourData-1828'. Reason: Could not find a login matching the name provided. [CLIENT: 10.244.0.44]\"},\n {'node': 'singlebeard', 'namespace': 'arc', 'pod': 'hyperben-0', 'container': 'arc-sqlmi', 'message time': datetime.datetime(2021, 7, 28, 11, 52, 9, tzinfo=tzutc()), 'Message': \"Logon       Login failed for user 'TryingToStealYourData-9661'. Reason: Could not find a login matching the name provided. [CLIENT: 10.244.0.43]\"},\n {'node': 'singlebeard', 'namespace': 'arc', 'pod': 'hyperben-0', 'container': 'arc-sqlmi', 'message time': datetime.datetime(2021, 7, 28, 11, 52, 3, tzinfo=tzutc()), 'Message': \"Logon       Login failed for user 'TryingToStealYourData-2869'. Reason: Could not find a login matching the name provided. [CLIENT: 10.244.0.42]\"},\n {'node': 'singlebeard', 'namespace': 'arc', 'pod': 'hyperben-0', 'container': 'arc-sqlmi', 'message time': datetime.datetime(2021, 7, 28, 11, 46, 49, tzinfo=tzutc()), 'Message': \"Logon       Login failed for user 'TryingToStealYourData'. Reason: Could not find a login matching the name provided. [CLIENT: 10.244.0.38]\"},\n {'node': 'singlebeard', 'namespace': 'arc', 'pod': 'hyperben-0', 'container': 'arc-sqlmi', 'message time': datetime.datetime(2021, 7, 28, 11, 46, 44, tzinfo=tzutc()), 'Message': \"Logon       Login failed for user 'TryingToStealYourData'. Reason: Could not find a login matching the name provided. [CLIENT: 10.244.0.37]\"},\n {'node': 'singlebeard', 'namespace': 'arc', 'pod': 'hyperben-0', 'container': 'arc-sqlmi', 'message time': datetime.datetime(2021, 7, 28, 11, 46, 42, tzinfo=tzutc()), 'Message': \"Logon       Login failed for user 'TryingToStealYourData'. Reason: Could not find a login matching the name provided. [CLIENT: 10.244.0.36]\"},\n {'node': 'singlebeard', 'namespace': 'arc', 'pod': 'hyperben-0', 'container': 'arc-sqlmi', 'message time': datetime.datetime(2021, 7, 28, 11, 46, 39, tzinfo=tzutc()), 'Message': \"Logon       Login failed for user 'TryingToStealYourData'. Reason: Could not find a login matching the name provided. [CLIENT: 10.244.0.35]\"},\n {'node': 'singlebeard', 'namespace': 'arc', 'pod': 'hyperben-0', 'container': 'arc-sqlmi', 'message time': datetime.datetime(2021, 7, 28, 11, 46, 38, tzinfo=tzutc()), 'Message': \"Logon       Login failed for user 'TryingToStealYourData'. Reason: Could not find a login matching the name provided. [CLIENT: 10.244.0.34]\"},\n {'node': 'singlebeard', 'namespace': 'arc', 'pod': 'hyperben-0', 'container': 'arc-sqlmi', 'message time': datetime.datetime(2021, 7, 28, 11, 34, 57, tzinfo=tzutc()), 'Message': \"Logon       Login failed for user 'TryingToStealYourData'. Reason: Could not find a login matching the name provided. [CLIENT: 10.244.0.26]\"},\n {'node': 'singlebeard', 'namespace': 'arc', 'pod': 'hyperben-0', 'container': 'arc-sqlmi', 'message time': datetime.datetime(2021, 7, 28, 11, 30, 21, tzinfo=tzutc()), 'Message': \"Logon       Login failed for user '##monitoring-login##'. Reason: Could not find a login matching the name provided. [CLIENT: 10.244.0.24]\"},\n {'node': 'singlebeard', 'namespace': 'arc', 'pod': 'hyperben-0', 'container': 'arc-sqlmi', 'message time': datetime.datetime(2021, 7, 28, 11, 30, 15, tzinfo=tzutc()), 'Message': \"Logon       Login failed for user 'system'. Reason: Could not find a login matching the name provided. [CLIENT: ::1]\"},\n {'node': 'singlebeard', 'namespace': 'arc', 'pod': 'hyperben-0', 'container': 'arc-sqlmi', 'message time': datetime.datetime(2021, 7, 28, 11, 30, 15, tzinfo=tzutc()), 'Message': \"Logon       Login failed for user '##miaa-agent-login##'. Reason: Could not find a login matching the name provided. [CLIENT: 127.0.0.1]\"},\n {'node': 'singlebeard', 'namespace': 'arc', 'pod': 'hyperben-0', 'container': 'arc-sqlmi', 'message time': datetime.datetime(2021, 7, 28, 11, 30, 15, tzinfo=tzutc()), 'Message': \"Logon       Login failed for user 'sa'. Reason: An error occurred while evaluating the password. [CLIENT: ::1]\"}]",
                        "text/html": ""
                    },
                    "metadata": {}
                }
            ],
            "execution_count": 20
        },
        {
            "cell_type": "markdown",
            "source": [
                "### Show me Backups"
            ],
            "metadata": {
                "azdata_cell_guid": "b955da27-0893-4b92-a23f-f3b9116e50c3"
            },
            "attachments": {}
        },
        {
            "cell_type": "code",
            "source": [
                "%kql sqlManagedInstances_logs_CL | where Message startswith \"Backup\"| sort by es_process_timestamp_t desc |project node=kubernetes_node_name_s,namespace=kubernetes_namespace_s,pod=kubernetes_pod_name_s,container=kubernetes_container_name_s,[\"message time\"]=es_process_timestamp_t,Message"
            ],
            "metadata": {
                "azdata_cell_guid": "f5057dbf-fe5c-4609-8838-5a7b0db33d2c"
            },
            "outputs": [
                {
                    "output_type": "display_data",
                    "data": {
                        "text/plain": "<IPython.core.display.Javascript object>",
                        "application/javascript": "try {IPython.notebook.kernel.execute(\"NOTEBOOK_URL = '\" + window.location + \"'\");} catch(err) {;}"
                    },
                    "metadata": {}
                },
                {
                    "output_type": "display_data",
                    "data": {
                        "text/plain": "<IPython.core.display.HTML object>",
                        "text/html": "<html>\n        <head>\n            \n            \n        </head>\n        <body>\n            <div><p style=' padding: 10px; color: #3a87ad; background-color: #d9edf7; border-color: #bce9f1'>&nbsp;*&nbsp;loggyben@loganalytics</p></div>\n        </body>\n        </html>"
                    },
                    "metadata": {}
                },
                {
                    "output_type": "display_data",
                    "data": {
                        "text/plain": "<IPython.core.display.HTML object>",
                        "text/html": "<html>\n        <head>\n            \n            <title>Kqlmagic - table</title>\n        </head>\n        <body>\n            <table>\n    <thead>\n        <tr>\n            <th>node</th>\n            <th>namespace</th>\n            <th>pod</th>\n            <th>container</th>\n            <th>message time</th>\n            <th>Message</th>\n        </tr>\n    </thead>\n    <tbody>\n        <tr>\n            <td>singlebeard</td>\n            <td>arc</td>\n            <td>hyperben-0</td>\n            <td>arc-sqlmi</td>\n            <td>2021-07-29 08:33:41+00:00</td>\n            <td>Backup      Log was backed up. Database: BenBenjiBenBenBen, creation date(time): 2021/07/29(07:59:07), first LSN: 44:3712:1, last LSN: 44:3736:1, number of dump devices: 1, device information: (FILE=1, TYPE=DISK: {&#x27;/var/opt/mssql/backups/current/BenBenjiBenBenBen/Log-20210729083336-9d00823f-805a-41d2-a863-0edfb2d41377.bak&#x27;}). This is an informational message only. No user action is required.</td>\n        </tr>\n        <tr>\n            <td>singlebeard</td>\n            <td>arc</td>\n            <td>hyperben-0</td>\n            <td>arc-sqlmi</td>\n            <td>2021-07-29 08:28:09+00:00</td>\n            <td>Backup      Log was backed up. Database: BenBenjiBenBenBen, creation date(time): 2021/07/29(07:59:07), first LSN: 44:3688:1, last LSN: 44:3712:1, number of dump devices: 1, device information: (FILE=1, TYPE=DISK: {&#x27;/var/opt/mssql/backups/current/BenBenjiBenBenBen/Log-20210729082806-16e78b98-3e6a-473c-b2f5-7ff5781077b2.bak&#x27;}). This is an informational message only. No user action is required.</td>\n        </tr>\n        <tr>\n            <td>singlebeard</td>\n            <td>arc</td>\n            <td>hyperben-0</td>\n            <td>arc-sqlmi</td>\n            <td>2021-07-29 08:22:41+00:00</td>\n            <td>Backup      Log was backed up. Database: BenBenjiBenBenBen, creation date(time): 2021/07/29(07:59:07), first LSN: 44:3648:1, last LSN: 44:3688:1, number of dump devices: 1, device information: (FILE=1, TYPE=DISK: {&#x27;/var/opt/mssql/backups/current/BenBenjiBenBenBen/Log-20210729082236-8e0d96ef-4e4a-41ab-840b-d58c3e0ce288.bak&#x27;}). This is an informational message only. No user action is required.</td>\n        </tr>\n        <tr>\n            <td>singlebeard</td>\n            <td>arc</td>\n            <td>hyperben-0</td>\n            <td>arc-sqlmi</td>\n            <td>2021-07-29 08:17:09+00:00</td>\n            <td>Backup      Log was backed up. Database: BenBenjiBenBenBen, creation date(time): 2021/07/29(07:59:07), first LSN: 44:3560:1, last LSN: 44:3648:1, number of dump devices: 1, device information: (FILE=1, TYPE=DISK: {&#x27;/var/opt/mssql/backups/current/BenBenjiBenBenBen/Log-20210729081706-22589489-7ba6-47e5-9fce-ec075536a834.bak&#x27;}). This is an informational message only. No user action is required.</td>\n        </tr>\n        <tr>\n            <td>singlebeard</td>\n            <td>arc</td>\n            <td>hyperben-0</td>\n            <td>arc-sqlmi</td>\n            <td>2021-07-29 08:11:41+00:00</td>\n            <td>Backup      Log was backed up. Database: BenBenjiBenBenBen, creation date(time): 2021/07/29(07:59:07), first LSN: 37:416:1, last LSN: 44:3560:1, number of dump devices: 1, device information: (FILE=1, TYPE=DISK: {&#x27;/var/opt/mssql/backups/current/BenBenjiBenBenBen/Log-20210729081136-b49a2e7b-91e0-445c-afa2-06cccb51593f.bak&#x27;}). This is an informational message only. No user action is required.</td>\n        </tr>\n        <tr>\n            <td>singlebeard</td>\n            <td>arc</td>\n            <td>hyperben-0</td>\n            <td>arc-sqlmi</td>\n            <td>2021-07-29 08:06:09+00:00</td>\n            <td>Backup      Log was backed up. Database: BenBenjiBenBenBen, creation date(time): 2021/07/29(07:59:07), first LSN: 37:312:1, last LSN: 37:416:1, number of dump devices: 1, device information: (FILE=1, TYPE=DISK: {&#x27;/var/opt/mssql/backups/current/BenBenjiBenBenBen/Log-20210729080606-6d9f9e4f-3476-40a1-a31e-4d7253c62494.bak&#x27;}). This is an informational message only. No user action is required.</td>\n        </tr>\n        <tr>\n            <td>singlebeard</td>\n            <td>arc</td>\n            <td>hyperben-0</td>\n            <td>arc-sqlmi</td>\n            <td>2021-07-29 08:00:41+00:00</td>\n            <td>Backup      BACKUP DATABASE WITH DIFFERENTIAL successfully processed 66 pages in 0.027 seconds (18.952 MB/sec).</td>\n        </tr>\n        <tr>\n            <td>singlebeard</td>\n            <td>arc</td>\n            <td>hyperben-0</td>\n            <td>arc-sqlmi</td>\n            <td>2021-07-29 08:00:36+00:00</td>\n            <td>Backup      Log was backed up. Database: BenBenjiBenBenBen, creation date(time): 2021/07/29(07:59:07), first LSN: 37:264:1, last LSN: 37:312:1, number of dump devices: 1, device information: (FILE=1, TYPE=DISK: {&#x27;/var/opt/mssql/backups/current/BenBenjiBenBenBen/Log-20210729080036-d8685603-bf9c-4daa-8a2c-9c083205b93d.bak&#x27;}). This is an informational message only. No user action is required.</td>\n        </tr>\n        <tr>\n            <td>singlebeard</td>\n            <td>arc</td>\n            <td>hyperben-0</td>\n            <td>arc-sqlmi</td>\n            <td>2021-07-29 08:00:36+00:00</td>\n            <td>Backup      Database differential changes were backed up. Database: BenBenjiBenBenBen, creation date(time): 2021/07/29(07:59:07), pages dumped: 75, first LSN: 37:392:1, last LSN: 37:416:1, full backup LSN: 37:264:1, number of dump devices: 1, device information: (FILE=1, TYPE=DISK: {&#x27;/var/opt/mssql/backups/current/BenBenjiBenBenBen/Differential-20210729080036-43a94b76-dd71-47bf-a633-e6a618e14f8d.bak&#x27;}). This is an informational message. No user action is required.</td>\n        </tr>\n        <tr>\n            <td>singlebeard</td>\n            <td>arc</td>\n            <td>hyperben-0</td>\n            <td>arc-sqlmi</td>\n            <td>2021-07-29 07:59:41+00:00</td>\n            <td>Backup      BACKUP DATABASE successfully processed 322 pages in 0.040 seconds (62.792 MB/sec).</td>\n        </tr>\n        <tr>\n            <td>singlebeard</td>\n            <td>arc</td>\n            <td>hyperben-0</td>\n            <td>arc-sqlmi</td>\n            <td>2021-07-29 07:59:36+00:00</td>\n            <td>Backup      Database backed up. Database: BenBenjiBenBenBen, creation date(time): 2021/07/29(07:59:07), pages dumped: 331, first LSN: 37:264:1, last LSN: 37:288:1, number of dump devices: 1, device information: (FILE=1, TYPE=DISK: {&#x27;/var/opt/mssql/backups/current-temp/BenBenjiBenBenBen/Full-20210729075936-1a5f80d7-cf45-4388-a1b1-8531ed1a5ff4.bak&#x27;}). This is an informational message only. No user action is required.</td>\n        </tr>\n    </tbody>\n</table>\n        </body>\n        </html>"
                    },
                    "metadata": {}
                },
                {
                    "output_type": "execute_result",
                    "execution_count": 21,
                    "data": {
                        "text/plain": "[{'node': 'singlebeard', 'namespace': 'arc', 'pod': 'hyperben-0', 'container': 'arc-sqlmi', 'message time': datetime.datetime(2021, 7, 29, 8, 33, 41, tzinfo=tzutc()), 'Message': \"Backup      Log was backed up. Database: BenBenjiBenBenBen, creation date(time): 2021/07/29(07:59:07), first LSN: 44:3712:1, last LSN: 44:3736:1, number of dump devices: 1, device information: (FILE=1, TYPE=DISK: {'/var/opt/mssql/backups/current/BenBenjiBenBenBen/Log-20210729083336-9d00823f-805a-41d2-a863-0edfb2d41377.bak'}). This is an informational message only. No user action is required.\"},\n {'node': 'singlebeard', 'namespace': 'arc', 'pod': 'hyperben-0', 'container': 'arc-sqlmi', 'message time': datetime.datetime(2021, 7, 29, 8, 28, 9, tzinfo=tzutc()), 'Message': \"Backup      Log was backed up. Database: BenBenjiBenBenBen, creation date(time): 2021/07/29(07:59:07), first LSN: 44:3688:1, last LSN: 44:3712:1, number of dump devices: 1, device information: (FILE=1, TYPE=DISK: {'/var/opt/mssql/backups/current/BenBenjiBenBenBen/Log-20210729082806-16e78b98-3e6a-473c-b2f5-7ff5781077b2.bak'}). This is an informational message only. No user action is required.\"},\n {'node': 'singlebeard', 'namespace': 'arc', 'pod': 'hyperben-0', 'container': 'arc-sqlmi', 'message time': datetime.datetime(2021, 7, 29, 8, 22, 41, tzinfo=tzutc()), 'Message': \"Backup      Log was backed up. Database: BenBenjiBenBenBen, creation date(time): 2021/07/29(07:59:07), first LSN: 44:3648:1, last LSN: 44:3688:1, number of dump devices: 1, device information: (FILE=1, TYPE=DISK: {'/var/opt/mssql/backups/current/BenBenjiBenBenBen/Log-20210729082236-8e0d96ef-4e4a-41ab-840b-d58c3e0ce288.bak'}). This is an informational message only. No user action is required.\"},\n {'node': 'singlebeard', 'namespace': 'arc', 'pod': 'hyperben-0', 'container': 'arc-sqlmi', 'message time': datetime.datetime(2021, 7, 29, 8, 17, 9, tzinfo=tzutc()), 'Message': \"Backup      Log was backed up. Database: BenBenjiBenBenBen, creation date(time): 2021/07/29(07:59:07), first LSN: 44:3560:1, last LSN: 44:3648:1, number of dump devices: 1, device information: (FILE=1, TYPE=DISK: {'/var/opt/mssql/backups/current/BenBenjiBenBenBen/Log-20210729081706-22589489-7ba6-47e5-9fce-ec075536a834.bak'}). This is an informational message only. No user action is required.\"},\n {'node': 'singlebeard', 'namespace': 'arc', 'pod': 'hyperben-0', 'container': 'arc-sqlmi', 'message time': datetime.datetime(2021, 7, 29, 8, 11, 41, tzinfo=tzutc()), 'Message': \"Backup      Log was backed up. Database: BenBenjiBenBenBen, creation date(time): 2021/07/29(07:59:07), first LSN: 37:416:1, last LSN: 44:3560:1, number of dump devices: 1, device information: (FILE=1, TYPE=DISK: {'/var/opt/mssql/backups/current/BenBenjiBenBenBen/Log-20210729081136-b49a2e7b-91e0-445c-afa2-06cccb51593f.bak'}). This is an informational message only. No user action is required.\"},\n {'node': 'singlebeard', 'namespace': 'arc', 'pod': 'hyperben-0', 'container': 'arc-sqlmi', 'message time': datetime.datetime(2021, 7, 29, 8, 6, 9, tzinfo=tzutc()), 'Message': \"Backup      Log was backed up. Database: BenBenjiBenBenBen, creation date(time): 2021/07/29(07:59:07), first LSN: 37:312:1, last LSN: 37:416:1, number of dump devices: 1, device information: (FILE=1, TYPE=DISK: {'/var/opt/mssql/backups/current/BenBenjiBenBenBen/Log-20210729080606-6d9f9e4f-3476-40a1-a31e-4d7253c62494.bak'}). This is an informational message only. No user action is required.\"},\n {'node': 'singlebeard', 'namespace': 'arc', 'pod': 'hyperben-0', 'container': 'arc-sqlmi', 'message time': datetime.datetime(2021, 7, 29, 8, 0, 41, tzinfo=tzutc()), 'Message': 'Backup      BACKUP DATABASE WITH DIFFERENTIAL successfully processed 66 pages in 0.027 seconds (18.952 MB/sec).'},\n {'node': 'singlebeard', 'namespace': 'arc', 'pod': 'hyperben-0', 'container': 'arc-sqlmi', 'message time': datetime.datetime(2021, 7, 29, 8, 0, 36, tzinfo=tzutc()), 'Message': \"Backup      Log was backed up. Database: BenBenjiBenBenBen, creation date(time): 2021/07/29(07:59:07), first LSN: 37:264:1, last LSN: 37:312:1, number of dump devices: 1, device information: (FILE=1, TYPE=DISK: {'/var/opt/mssql/backups/current/BenBenjiBenBenBen/Log-20210729080036-d8685603-bf9c-4daa-8a2c-9c083205b93d.bak'}). This is an informational message only. No user action is required.\"},\n {'node': 'singlebeard', 'namespace': 'arc', 'pod': 'hyperben-0', 'container': 'arc-sqlmi', 'message time': datetime.datetime(2021, 7, 29, 8, 0, 36, tzinfo=tzutc()), 'Message': \"Backup      Database differential changes were backed up. Database: BenBenjiBenBenBen, creation date(time): 2021/07/29(07:59:07), pages dumped: 75, first LSN: 37:392:1, last LSN: 37:416:1, full backup LSN: 37:264:1, number of dump devices: 1, device information: (FILE=1, TYPE=DISK: {'/var/opt/mssql/backups/current/BenBenjiBenBenBen/Differential-20210729080036-43a94b76-dd71-47bf-a633-e6a618e14f8d.bak'}). This is an informational message. No user action is required.\"},\n {'node': 'singlebeard', 'namespace': 'arc', 'pod': 'hyperben-0', 'container': 'arc-sqlmi', 'message time': datetime.datetime(2021, 7, 29, 7, 59, 41, tzinfo=tzutc()), 'Message': 'Backup      BACKUP DATABASE successfully processed 322 pages in 0.040 seconds (62.792 MB/sec).'},\n {'node': 'singlebeard', 'namespace': 'arc', 'pod': 'hyperben-0', 'container': 'arc-sqlmi', 'message time': datetime.datetime(2021, 7, 29, 7, 59, 36, tzinfo=tzutc()), 'Message': \"Backup      Database backed up. Database: BenBenjiBenBenBen, creation date(time): 2021/07/29(07:59:07), pages dumped: 331, first LSN: 37:264:1, last LSN: 37:288:1, number of dump devices: 1, device information: (FILE=1, TYPE=DISK: {'/var/opt/mssql/backups/current-temp/BenBenjiBenBenBen/Full-20210729075936-1a5f80d7-cf45-4388-a1b1-8531ed1a5ff4.bak'}). This is an informational message only. No user action is required.\"}]",
                        "text/html": ""
                    },
                    "metadata": {}
                }
            ],
            "execution_count": 21
        }
    ]
}